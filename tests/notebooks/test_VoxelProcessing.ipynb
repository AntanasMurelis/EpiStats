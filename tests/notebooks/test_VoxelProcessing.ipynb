{
 "cells": [
  {
   "attachments": {},
   "cell_type": "markdown",
   "metadata": {},
   "source": [
    "# Test on VoxelProcessing.py functions\n",
    "\n",
    "This notebook is intended to test if the functions implemented for voxel preprocessing are robust to pathological cases."
   ]
  },
  {
   "cell_type": "code",
   "execution_count": null,
   "metadata": {},
   "outputs": [],
   "source": [
    "import numpy as np\n",
    "import pandas as pad\n",
    "from skimage.io import imread, imsave\n",
    "import napari\n",
    "import importlib\n",
    "import os\n",
    "from tqdm import tqdm\n",
    "from scipy import ndimage\n",
    "import warnings\n",
    "import sys\n",
    "from skimage.measure import regionprops"
   ]
  },
  {
   "cell_type": "code",
   "execution_count": null,
   "metadata": {},
   "outputs": [],
   "source": [
    "# os.chdir('src')\n",
    "os.getcwd()"
   ]
  },
  {
   "attachments": {},
   "cell_type": "markdown",
   "metadata": {},
   "source": [
    "## 1. Remove Unconnected regions"
   ]
  },
  {
   "attachments": {},
   "cell_type": "markdown",
   "metadata": {},
   "source": [
    "Introduce 2 warnings:\n",
    "\n",
    "1. In case a region which is larger than some % of the largest one is there.\n",
    "2. In case a region of any size which is very close to the largest one is removed."
   ]
  },
  {
   "cell_type": "code",
   "execution_count": null,
   "metadata": {},
   "outputs": [],
   "source": [
    "def custom_showwarning(message, category, filename, lineno, file=None, line=None):\n",
    "    # Only print the warning message and category\n",
    "    print(f\"{category.__name__}: {message}\")"
   ]
  },
  {
   "cell_type": "code",
   "execution_count": null,
   "metadata": {},
   "outputs": [],
   "source": [
    "def remove_unconnected_regions(labeled_img, pad_width=10, warning_size_threshold=0.25):\n",
    "    \"\"\"\n",
    "    Removes regions of labels that are not connected to the main cell body.\n",
    "\n",
    "    Parameters:\n",
    "    -----------\n",
    "    labeled_img: (np.array, 3D)\n",
    "        A 3D labeled image where the background has a label of 0 and cells are labeled with \n",
    "        consecutive integers starting from 1.\n",
    "\n",
    "    padding: (int, optional, default=1)\n",
    "        The number of pixels to pad the labeled image a# Create a test image on napari\n",
    "test_labels = np.zeros((100, 100, 100), dtype=np.int8)\n",
    "viewer.add_labels(test_labels)\n",
    "    --------\n",
    "    filtered_labeled_img: (np.array, 3D)\n",
    "        A 3D labeled image with unconnected regions removed.\n",
    "    \"\"\"\n",
    "    warnings.showwarning = custom_showwarning\n",
    "\n",
    "    unique_labels = np.unique(labeled_img)\n",
    "    filtered_labeled_img = labeled_img.copy()\n",
    "\n",
    "    for label in tqdm(unique_labels, desc='Removing unconnected regions'):\n",
    "        if label == 0:\n",
    "            continue\n",
    "        binary_mask = (filtered_labeled_img == label).astype(np.uint8)\n",
    "\n",
    "        # Label connected regions\n",
    "        labeled_mask, num_features = ndimage.label(binary_mask)\n",
    "\n",
    "        # Remove unconnected regions\n",
    "        if num_features > 1:\n",
    "            region_sizes = ndimage.sum(binary_mask, labeled_mask, range(num_features + 1))\n",
    "            relative_region_sizes = region_sizes / np.max(region_sizes)\n",
    "            num_regions_over_threshold = np.sum(relative_region_sizes > warning_size_threshold) - 1\n",
    "            if num_regions_over_threshold: \n",
    "                warnings.warn(f'Removing {num_regions_over_threshold} large regions with label {label} with threshold set at {warning_size_threshold}.')\n",
    "            largest_region_label = np.argmax(region_sizes[1:]) + 1\n",
    "            filtered_region = (labeled_mask == largest_region_label).astype(np.int8) * largest_region_label\n",
    "            filtered_labeled_img[labeled_mask != filtered_region] = 0\n",
    "\n",
    "\n",
    "    return filtered_labeled_img"
   ]
  },
  {
   "cell_type": "code",
   "execution_count": null,
   "metadata": {},
   "outputs": [],
   "source": [
    "viewer = napari.Viewer()"
   ]
  },
  {
   "cell_type": "code",
   "execution_count": null,
   "metadata": {},
   "outputs": [],
   "source": [
    "# Create a test image on napari\n",
    "test_labels = np.zeros((100, 100, 100), dtype=np.int8)\n",
    "viewer.add_labels(test_labels)"
   ]
  },
  {
   "cell_type": "code",
   "execution_count": null,
   "metadata": {},
   "outputs": [],
   "source": [
    "clean_test_labels = remove_unconnected_regions(test_labels)\n",
    "viewer.add_labels(clean_test_labels)"
   ]
  },
  {
   "attachments": {},
   "cell_type": "markdown",
   "metadata": {},
   "source": [
    "Try on a real sample"
   ]
  },
  {
   "cell_type": "code",
   "execution_count": null,
   "metadata": {},
   "outputs": [],
   "source": [
    "real_labels = imread('/nas/groups/iber/Users/Federico_Carrara/3d_tissues_preprocessing_and_segmentation/lung_segmentation/results/new_sample/central_crop/lung_new_sample_b_curated_segmentation_central_crop_relabel_seq.tif')\n",
    "viewer.add_labels(real_labels)\n",
    "\n",
    "clean_real_labels = remove_unconnected_regions(real_labels)\n",
    "viewer.add_labels(clean_real_labels)"
   ]
  },
  {
   "attachments": {},
   "cell_type": "markdown",
   "metadata": {},
   "source": [
    "## 2. Check filtering function"
   ]
  },
  {
   "cell_type": "code",
   "execution_count": null,
   "metadata": {},
   "outputs": [],
   "source": [
    "def remove_labels_touching_edges(labeled_img):\n",
    "    \"\"\"\n",
    "    Remove all labels that touch the edge of the image.\n",
    "\n",
    "    Parameters:\n",
    "    -----------\n",
    "    labeled_img: (np.array, 3D)\n",
    "        The input 3D labeled image, where the background has a label of 0 and other objects have \n",
    "        positive integer labels.\n",
    "\n",
    "    Returns:\n",
    "    --------\n",
    "    filtered_labeled_img: (np.array, 3D)\n",
    "        The filtered 3D labeled image, where labels touching the edges have been removed.\n",
    "    \"\"\"\n",
    "    # Create a copy of the labeled image to store the filtered output\n",
    "    filtered_labeled_img = labeled_img.copy()\n",
    "\n",
    "    # Get the dimensions of the image\n",
    "    image_shape = np.array(labeled_img.shape)\n",
    "\n",
    "    # Calculate the regions and their properties\n",
    "    regions = regionprops(labeled_img)\n",
    "\n",
    "    # Iterate through the regions\n",
    "    for region in regions:\n",
    "        # Get the bounding box of the region\n",
    "\n",
    "        min_slice, minr, minc, max_slice, maxr, maxc = region.bbox\n",
    "\n",
    "        # Check if the bounding box touches the edge of the image\n",
    "        if (min_slice == 0 or minr == 0 or minc == 0 or max_slice == image_shape[0] or maxr == image_shape[1] or maxc == image_shape[2]):\n",
    "            # If so, remove the label from the filtered labeled image\n",
    "            filtered_labeled_img[labeled_img == region.label] = 0\n",
    "\n",
    "    return filtered_labeled_img"
   ]
  },
  {
   "cell_type": "code",
   "execution_count": null,
   "metadata": {},
   "outputs": [],
   "source": [
    "viewer = napari.Viewer()"
   ]
  },
  {
   "cell_type": "code",
   "execution_count": null,
   "metadata": {},
   "outputs": [],
   "source": [
    "real_labels = imread('/nas/groups/iber/Users/Federico_Carrara/3d_tissues_preprocessing_and_segmentation/lung_segmentation/results/new_sample/central_crop/lung_new_sample_b_curated_segmentation_central_crop_relabel_seq.tif')\n",
    "viewer.add_labels(real_labels)\n",
    "\n",
    "filtered_labels = remove_labels_touching_edges(real_labels)\n",
    "viewer.add_labels(filtered_labels)"
   ]
  },
  {
   "attachments": {},
   "cell_type": "markdown",
   "metadata": {},
   "source": [
    "## 3. Filter cells without complete neighborhood"
   ]
  },
  {
   "cell_type": "code",
   "execution_count": null,
   "metadata": {},
   "outputs": [],
   "source": [
    "def get_cell_neighbors(labeled_img: np.array, cell_id: int):\n",
    "    \"\"\"\n",
    "    Get all the neighbors of a given cell. Two cells are considered neighborhs if \n",
    "    a subset of their surfaces are directly touching.\n",
    "    \n",
    "    Parameters:\n",
    "    -----------\n",
    "\n",
    "    labeled_img: (np.array, 3D)\n",
    "        The tirangular meshes of the cell in the standard trimesh format\n",
    "\n",
    "    cell_id: (int)\n",
    "        The id of the cell for which we want to find the neighbors\n",
    "\n",
    "    Returns\n",
    "    -------\n",
    "    neighbors_lst: (list of int)\n",
    "        Return the ids of the neighbors in a list\n",
    "    \"\"\"\n",
    "\n",
    "    #Get the voxels of the cell\n",
    "    binary_img = labeled_img == cell_id\n",
    "\n",
    "    #Expand the volume of the cell by 2 voxels in each direction\n",
    "    expanded_cell_voxels = ndimage.binary_dilation(binary_img, iterations=2)\n",
    "\n",
    "    #Find the voxels that are directly in contact with the surface of the cell\n",
    "    cell_surface_voxels = expanded_cell_voxels ^ binary_img\n",
    "\n",
    "    #Get the labels of the neighbors\n",
    "    neighbors_lst, neighbors_counts = np.unique(labeled_img[cell_surface_voxels], return_counts=True)\n",
    "\n",
    "    #Remove the label of the cell itself, and the label of the background from the neighbors list\n",
    "    neighbors_lst = neighbors_lst[(neighbors_lst != cell_id) & (neighbors_lst != 0)]\n",
    "\n",
    "    #Compute average neighbors counts of non zero labels\n",
    "    complete_neighborhood = False\n",
    "    max_neighbors_count = np.max(neighbors_counts[1:])\n",
    "    if neighbors_counts[0] <= max_neighbors_count:\n",
    "        complete_neighborhood = True\n",
    "\n",
    "    return neighbors_lst.tolist(), complete_neighborhood"
   ]
  },
  {
   "cell_type": "code",
   "execution_count": null,
   "metadata": {},
   "outputs": [],
   "source": [
    "viewer = napari.Viewer()"
   ]
  },
  {
   "cell_type": "code",
   "execution_count": null,
   "metadata": {},
   "outputs": [],
   "source": [
    "real_labels = imread('/nas/groups/iber/Users/Federico_Carrara/3d_tissues_preprocessing_and_segmentation/lung_segmentation/results/new_sample/central_crop/lung_new_sample_b_curated_segmentation_central_crop_relabel_seq.tif')\n",
    "viewer.add_labels(real_labels)"
   ]
  },
  {
   "cell_type": "code",
   "execution_count": null,
   "metadata": {},
   "outputs": [],
   "source": [
    "complete_cells = []\n",
    "for label in tqdm(np.unique(real_labels)):\n",
    "    if label == 0: continue\n",
    "    _, is_complete = get_cell_neighbors(real_labels, label)\n",
    "    if is_complete: complete_cells.append(label)"
   ]
  },
  {
   "cell_type": "code",
   "execution_count": null,
   "metadata": {},
   "outputs": [],
   "source": [
    "filtered_labels = real_labels.copy() \n",
    "for cell_id in np.unique(filtered_labels):\n",
    "    if cell_id not in complete_cells:\n",
    "        filtered_labels[filtered_labels == cell_id] = 0\n",
    "\n",
    "viewer.add_labels(filtered_labels)"
   ]
  },
  {
   "cell_type": "code",
   "execution_count": null,
   "metadata": {},
   "outputs": [],
   "source": []
  },
  {
   "attachments": {},
   "cell_type": "markdown",
   "metadata": {},
   "source": [
    "## 4. Visualize images to undertstand what  is needed for filtering"
   ]
  },
  {
   "cell_type": "code",
   "execution_count": null,
   "metadata": {},
   "outputs": [],
   "source": [
    "PATH_TO_IMGS = '/nas/groups/iber/Users/Federico_Carrara/create_meshes/data/curated_labels/'\n",
    "file_names = os.listdir(PATH_TO_IMGS)\n",
    "\n",
    "viewer = napari.Viewer()\n",
    "\n",
    "for file in file_names:\n",
    "    curr_img = imread(os.path.join(PATH_TO_IMGS, file))\n",
    "    viewer.add_labels(curr_img, name=file.replace('.tif', ''))"
   ]
  },
  {
   "cell_type": "code",
   "execution_count": null,
   "metadata": {},
   "outputs": [],
   "source": []
  }
 ],
 "metadata": {
  "kernelspec": {
   "display_name": "3d-seg-fcarrara",
   "language": "python",
   "name": "python3"
  },
  "language_info": {
   "codemirror_mode": {
    "name": "ipython",
    "version": 3
   },
   "file_extension": ".py",
   "mimetype": "text/x-python",
   "name": "python",
   "nbconvert_exporter": "python",
   "pygments_lexer": "ipython3",
   "version": "3.10.10"
  },
  "orig_nbformat": 4
 },
 "nbformat": 4,
 "nbformat_minor": 2
}
