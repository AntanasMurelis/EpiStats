{
 "cells": [
  {
   "cell_type": "code",
   "execution_count": null,
   "metadata": {},
   "outputs": [],
   "source": [
    "import os\n",
    "import sys\n",
    "import pandas as pd\n",
    "import numpy as np\n",
    "import napari\n",
    "from skimage.io import imread, imsave\n",
    "import pickle"
   ]
  },
  {
   "cell_type": "code",
   "execution_count": null,
   "metadata": {},
   "outputs": [],
   "source": [
    "# Append the path of the scripts directory to sys.path\n",
    "sys.path.append('./src/statistics_collection/')"
   ]
  },
  {
   "cell_type": "code",
   "execution_count": null,
   "metadata": {},
   "outputs": [],
   "source": [
    "from misc import *\n",
    "from StatsCollector import StatsCollector\n",
    "from LabelPreprocessing import process_labels, get_labels_touching_edges\n",
    "from GenMeshes import convert_labels_to_meshes"
   ]
  },
  {
   "cell_type": "code",
   "execution_count": null,
   "metadata": {},
   "outputs": [],
   "source": [
    "os.getcwd()"
   ]
  },
  {
   "cell_type": "code",
   "execution_count": null,
   "metadata": {},
   "outputs": [],
   "source": [
    "from src.tests.CubeLatticeTest import *\n",
    "\n",
    "labeled_img = generate_cube_lattice_image(\n",
    "    nb_x_voxels=10,\n",
    "    nb_y_voxels=10,\n",
    "    nb_z_voxels=10,\n",
    "    cube_side_length=3,\n",
    "    nb_cubes_x=3,\n",
    "    nb_cubes_y=3,\n",
    "    nb_cubes_z=3,\n",
    "    interstitial_space=-1,\n",
    ")"
   ]
  },
  {
   "cell_type": "code",
   "execution_count": null,
   "metadata": {},
   "outputs": [],
   "source": [
    "viewer = napari.Viewer()\n",
    "viewer.add_labels(labeled_img)"
   ]
  },
  {
   "cell_type": "code",
   "execution_count": null,
   "metadata": {},
   "outputs": [],
   "source": [
    "smoothing_iters = 10\n",
    "erosion_iters = 6\n",
    "dilation_iters = 8\n",
    "\n",
    "PATH_TO_OUTPUT = 'src/tests/cube_output'\n",
    "output_dir = create_output_directory(\n",
    "    output_folder=PATH_TO_OUTPUT,\n",
    "    smoothing_iterations=smoothing_iters, \n",
    "    erosion_iterations=erosion_iters, \n",
    "    dilation_iterations=8\n",
    ")\n",
    "\n",
    "preprocessed_labeled_img = process_labels(\n",
    "    labeled_img=labeled_img, \n",
    "    erosion_iterations=erosion_iters,\n",
    "    dilation_iterations=dilation_iters,\n",
    "    output_directory=output_dir,\n",
    "    overwrite=False\n",
    ")\n",
    "\n",
    "meshes = convert_labels_to_meshes(\n",
    "    preprocessed_labeled_img,\n",
    "    [1, 1, 1],\n",
    "    10,\n",
    "    output_dir,\n",
    "    False,\n",
    "    10,\n",
    "    'stl'\n",
    ")"
   ]
  },
  {
   "cell_type": "code",
   "execution_count": null,
   "metadata": {},
   "outputs": [],
   "source": [
    "stats_collector = StatsCollector(\n",
    "    meshes=meshes,\n",
    "    labels=preprocessed_labeled_img,\n",
    "    features=['area', 'volume', 'elongation_and_axes', 'neighbors', 'contact_area'],\n",
    "    output_directory=output_dir,\n",
    "    path_to_img=os.path.join(output_dir, 'processed_labels.tif'),\n",
    "    tissue='lung_bronchiole',\n",
    "    num_workers=2\n",
    ")"
   ]
  },
  {
   "cell_type": "code",
   "execution_count": null,
   "metadata": {},
   "outputs": [],
   "source": [
    "stats_collector.collect_statistics()"
   ]
  },
  {
   "attachments": {},
   "cell_type": "markdown",
   "metadata": {},
   "source": [
    "## Test filtering"
   ]
  },
  {
   "cell_type": "code",
   "execution_count": null,
   "metadata": {},
   "outputs": [],
   "source": [
    "img = imread('output_intestine_sample2_b_curated_segmentation_relabel_seq_s_10_e_6_d_8/processed_labels.tif')\n",
    "idxs = get_labels_touching_edges(labeled_img=img)"
   ]
  },
  {
   "cell_type": "code",
   "execution_count": null,
   "metadata": {},
   "outputs": [],
   "source": [
    "v = napari.Viewer()\n",
    "v.add_labels(img)\n",
    "for id in idxs:\n",
    "    single_cell = img.copy()\n",
    "    single_cell[single_cell != id] = 0\n",
    "    v.add_labels(single_cell, name=f'cell_{id}')"
   ]
  },
  {
   "attachments": {},
   "cell_type": "markdown",
   "metadata": {},
   "source": [
    "## Test 2D stats collection"
   ]
  },
  {
   "cell_type": "code",
   "execution_count": null,
   "metadata": {},
   "outputs": [],
   "source": [
    "v = napari.Viewer()"
   ]
  },
  {
   "cell_type": "code",
   "execution_count": null,
   "metadata": {},
   "outputs": [],
   "source": [
    "from src.tests.CubeLatticeTest import generate_cube_lattice_image\n",
    "\n",
    "test_cubes = generate_cube_lattice_image(20, 20, 20, 5, 2, 2, 2, 0)\n",
    "v.add_labels(test_cubes)\n",
    "test_cubes.shape"
   ]
  },
  {
   "cell_type": "code",
   "execution_count": null,
   "metadata": {},
   "outputs": [],
   "source": [
    "from StatsUtils import compute_2D_statistics\n",
    "\n",
    "feat_dicts = compute_2D_statistics(labeled_img=test_cubes, slicing_dim=0, exclude_labels=[], pixel_size=[1, 1])"
   ]
  },
  {
   "cell_type": "code",
   "execution_count": null,
   "metadata": {},
   "outputs": [],
   "source": [
    "import pickle\n",
    "\n",
    "save_name = f'try_save.pickle'\n",
    "with open(os.path.join('./images/', save_name), 'wb') as file:\n",
    "    pickle.dump(feat_dicts, file)"
   ]
  },
  {
   "cell_type": "code",
   "execution_count": null,
   "metadata": {},
   "outputs": [],
   "source": [
    "img = imread('output_lung_new_sample_b_curated_segmentation_central_crop_relabel_seq_s_10_e_6_d_8/processed_labels.tif')\n",
    "neighbors, areas = compute_2D_statistics(labeled_img=img, slicing_dim=0, exclude_labels=[], pixel_size=[0.1625, 0.1625])"
   ]
  },
  {
   "cell_type": "code",
   "execution_count": null,
   "metadata": {},
   "outputs": [],
   "source": [
    "from StatsCollector import StatsCollector\n",
    "\n",
    "neigh = StatsCollector._unpack_feature_dict(neighbors)\n",
    "ar = StatsCollector._unpack_feature_dict(areas)"
   ]
  },
  {
   "attachments": {},
   "cell_type": "markdown",
   "metadata": {},
   "source": [
    "## Test StatsCollector on cubes"
   ]
  },
  {
   "cell_type": "code",
   "execution_count": null,
   "metadata": {},
   "outputs": [],
   "source": [
    "from src.tests.CubeLatticeTest import generate_cube_lattice_image\n",
    "\n",
    "test_cubes = generate_cube_lattice_image(20, 20, 20, 5, 3, 3, 3, 0)\n",
    "imsave('./src/tests/cube_lattice1.tif', test_cubes)"
   ]
  },
  {
   "cell_type": "code",
   "execution_count": null,
   "metadata": {},
   "outputs": [],
   "source": [
    "from run import main\n",
    "\n",
    "main('./config_test.json')"
   ]
  },
  {
   "cell_type": "code",
   "execution_count": null,
   "metadata": {},
   "outputs": [],
   "source": [
    "cube_df = pd.read_csv('output_cube_lattice1_s_10_e_6_d_8/cell_stats/stats_dataset_embryo.csv', index_col=0)\n",
    "cube_df"
   ]
  },
  {
   "attachments": {},
   "cell_type": "markdown",
   "metadata": {},
   "source": [
    "### Test on Embrios data"
   ]
  },
  {
   "cell_type": "code",
   "execution_count": null,
   "metadata": {},
   "outputs": [],
   "source": [
    "# labeled_img = imread('/nas/groups/iber/Projects/Early_Embryo/maoxia/movie_4/curation/cell_boundary_time_1.tif')\n",
    "\n",
    "# viewer = napari.Viewer()\n",
    "# viewer.add_labels(labeled_img)"
   ]
  },
  {
   "cell_type": "code",
   "execution_count": null,
   "metadata": {},
   "outputs": [],
   "source": [
    "from run import main\n",
    "\n",
    "main('./src/statistics_collection/config_test.json')"
   ]
  },
  {
   "cell_type": "code",
   "execution_count": null,
   "metadata": {},
   "outputs": [],
   "source": [
    "embryo_df = pd.read_csv('outputs/output_cell_boundary_time_1_s_10_e_6_d_8/cell_stats/stats_dataset_embryo.csv', index_col=0)\n",
    "embryo_df"
   ]
  },
  {
   "cell_type": "code",
   "execution_count": null,
   "metadata": {},
   "outputs": [],
   "source": [
    "def chiama_mamma(name):\n",
    "    print(f'Ciao mamma {name}.')\n",
    "\n",
    "def auguri_mamma(age):\n",
    "    print(f'Auguri mamma per i tuoi {age} anni.')\n",
    "\n",
    "def saluta(methods, *args, **kwargs):\n",
    "    if 'chiama' in methods:\n",
    "        chiama_mamma(kwargs.pop('name'))\n",
    "    if 'auguri' in methods:\n",
    "        auguri_mamma(kwargs.pop('age'))"
   ]
  },
  {
   "cell_type": "code",
   "execution_count": null,
   "metadata": {},
   "outputs": [],
   "source": [
    "saluta(['chiama', 'auguri'], name='marina', age=57)"
   ]
  },
  {
   "attachments": {},
   "cell_type": "markdown",
   "metadata": {},
   "source": [
    "## Test contact area computation"
   ]
  },
  {
   "cell_type": "code",
   "execution_count": null,
   "metadata": {},
   "outputs": [],
   "source": [
    "import napari\n",
    "\n",
    "viewer = napari.Viewer()\n",
    "img = imread('output_lung_new_sample_b_curated_segmentation_central_crop_relabel_seq_s_10_e_6_d_8/processed_labels.tif')\n",
    "viewer.add_labels(img, name='Original image')"
   ]
  },
  {
   "cell_type": "code",
   "execution_count": null,
   "metadata": {},
   "outputs": [],
   "source": [
    "from StatsUtils import _compute_contact_area\n",
    "import trimesh as tm\n",
    "\n",
    "# Upload required data\n",
    "path_to_meshes = 'output_intestine_sample2_b_curated_segmentation_relabel_seq_s_10_e_6_d_8/cell_meshes'\n",
    "mesh_files = sorted(os.listdir(path_to_meshes), key=lambda x: int(x.split('_')[1].split('.')[0]))\n",
    "mesh_files\n",
    "\n",
    "meshes_dict = {}\n",
    "for i, mesh_file in enumerate(mesh_files):\n",
    "    meshes_dict[i+1] = tm.load_mesh(os.path.join(path_to_meshes, mesh_file))\n",
    "\n",
    "with open(os.path.join('output_intestine_sample2_b_curated_segmentation_relabel_seq_s_10_e_6_d_8/cell_stats/cached_stats/cell_neighbors.pickle'), 'rb') as file:\n",
    "    neighbors_dict = pickle.load(file)"
   ]
  },
  {
   "cell_type": "code",
   "execution_count": null,
   "metadata": {},
   "outputs": [],
   "source": [
    "cell_id = 5\n",
    "neighbors_list = neighbors_dict[cell_id]\n",
    "neighbors_list"
   ]
  },
  {
   "cell_type": "code",
   "execution_count": null,
   "metadata": {},
   "outputs": [],
   "source": [
    "results = _compute_contact_area(meshes_dict, cell_id, neighbors_list, 0.65, show_napari=True)"
   ]
  },
  {
   "cell_type": "code",
   "execution_count": null,
   "metadata": {},
   "outputs": [],
   "source": [
    "results[0], np.sum(results[1]), meshes_dict[cell_id].area"
   ]
  },
  {
   "cell_type": "code",
   "execution_count": null,
   "metadata": {},
   "outputs": [],
   "source": [
    "viewer = napari.Viewer()\n",
    "img = imread('output_cell_boundary_time_1_s_10_e_6_d_8/processed_labels.tif')\n",
    "viewer.add_labels(img, name='Original image')\n",
    "for id, mesh in meshes_dict.items():\n",
    "    viewer.add_surface((mesh.vertices, mesh.faces), name=f'Mesh_{id}', blending='additive', opacity=0.6)"
   ]
  }
 ],
 "metadata": {
  "kernelspec": {
   "display_name": "3d-seg-fcarrara",
   "language": "python",
   "name": "python3"
  },
  "language_info": {
   "codemirror_mode": {
    "name": "ipython",
    "version": 3
   },
   "file_extension": ".py",
   "mimetype": "text/x-python",
   "name": "python",
   "nbconvert_exporter": "python",
   "pygments_lexer": "ipython3",
   "version": "3.10.10"
  },
  "orig_nbformat": 4
 },
 "nbformat": 4,
 "nbformat_minor": 2
}
