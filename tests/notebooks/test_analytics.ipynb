{
 "cells": [
  {
   "cell_type": "code",
   "execution_count": null,
   "metadata": {},
   "outputs": [],
   "source": [
    "import os \n",
    "import sys\n",
    "import pandas as pd\n",
    "import numpy as np"
   ]
  },
  {
   "cell_type": "code",
   "execution_count": null,
   "metadata": {},
   "outputs": [],
   "source": [
    "sys.path.append('/nas/groups/iber/Users/Federico_Carrara/Statistics_Collection/EpiStats/src/statistics_collection/')\n",
    "import StatsAnalytics as sa"
   ]
  },
  {
   "cell_type": "code",
   "execution_count": null,
   "metadata": {},
   "outputs": [],
   "source": [
    "paths = [\n",
    "    '../outputs/outputs_v2/output_bladder_control_curated_segmentation_s_10_e_6_d_8/cell_stats/stats_dataset_bladder.csv',\n",
    "    '../outputs/outputs_v2/output_esophagus_Z2_curated_crop_s_10_e_6_d_8/cell_stats/stats_dataset_esophagus.csv',\n",
    "    '../outputs/outputs_v2/output_intestine_sample2_b_curated_segmentation_relabel_seq_s_10_e_6_d_8/cell_stats/stats_dataset_intestine_villus.csv',\n",
    "    '../outputs/outputs_v2/output_lung_new_sample_b_curated_segmentation_central_crop_relabel_seq_s_10_e_6_d_8/cell_stats/stats_dataset_lung_bronchiole.csv',\n",
    "    '../outputs/outputs_v2/output_lung_pseudostratified_from_harold_s_10_e_6_d_8/cell_stats/stats_dataset_lung.csv'\n",
    "]\n",
    "cell_stats_df = sa.prepare_df(paths)\n",
    "cell_stats_df"
   ]
  },
  {
   "cell_type": "code",
   "execution_count": null,
   "metadata": {},
   "outputs": [],
   "source": [
    "sa.detect_outliers(\n",
    "    cell_stats_df,\n",
    "    inplace=True,\n",
    "    quantile_level=0.01\n",
    ")"
   ]
  },
  {
   "cell_type": "code",
   "execution_count": null,
   "metadata": {},
   "outputs": [],
   "source": [
    "cell_stats_df[['tissue', 'volume', 'is_outlier']]"
   ]
  },
  {
   "cell_type": "code",
   "execution_count": null,
   "metadata": {},
   "outputs": [],
   "source": [
    "numerical_cell_stats_df = sa.extract_numerical(cell_stats_df)\n",
    "numerical_cell_stats_df"
   ]
  },
  {
   "cell_type": "code",
   "execution_count": null,
   "metadata": {},
   "outputs": [],
   "source": [
    "std_cell_stats_df = sa.standardize(numerical_cell_stats_df)\n",
    "std_cell_stats_df"
   ]
  },
  {
   "cell_type": "code",
   "execution_count": null,
   "metadata": {},
   "outputs": [],
   "source": [
    "numerical_features = [\n",
    "    'area', 'volume',\n",
    "    'isoperimetric_ratio', 'num_neighbors', \n",
    "    'elongation'\n",
    "]\n",
    "_ , aaa, _ = sa.apply_PCA(std_cell_stats_df, numerical_features, 4, False)\n",
    "aaa[0]"
   ]
  },
  {
   "attachments": {},
   "cell_type": "markdown",
   "metadata": {},
   "source": [
    "## Test Aboav-Weaire law"
   ]
  },
  {
   "cell_type": "code",
   "execution_count": null,
   "metadata": {},
   "outputs": [],
   "source": [
    "tissues = ['bladder']*3 + ['esophagus']*2\n",
    "ids = [1,2,3,1,2]\n",
    "exclude_cells = [False, True, False, False, False]\n",
    "slices = [[0,1,2], [0,1,2], [1,2], [0,1,2], [0,1]]\n",
    "neighs = [[[2], [2,3], [3]], [[1], [1], [3]], [[1], [1,2]], [[2], [2], []], [[1], [1]]]\n",
    "num_neighs = [[len(n) for n in neigh] for neigh in neighs]\n",
    "\n",
    "test_df = pd.DataFrame({\n",
    "    'cell_ID': ids,  \n",
    "    'tissue': tissues,\n",
    "    'exclude_cell': exclude_cells,\n",
    "    'slices': slices,\n",
    "    'num_neighbors_2D': num_neighs,\n",
    "    'neighbors_2D': neighs,\n",
    "})\n",
    "print(test_df)\n",
    "sa._get_aboav_law_2D_stats(test_df, 1, show_logs=True)"
   ]
  },
  {
   "cell_type": "markdown",
   "metadata": {},
   "source": [
    "## Test exclude neighbors"
   ]
  },
  {
   "cell_type": "code",
   "execution_count": null,
   "metadata": {},
   "outputs": [],
   "source": [
    "tissues = ['bladder']*3 + ['esophagus']*2\n",
    "ids = [1,2,3,1,2]\n",
    "exclude_cells = [False, False, False, False, False]\n",
    "outliers = [False, False, True, False, False]\n",
    "slices = [[0,1,2], [0,1,2], [1,2], [0,1,2], [0,1]]\n",
    "neighs = [[[2], [2,3], [3]], [[1], [1], [3]], [[1], [1,2]], [[2], [2], []], [[1], [1]]]\n",
    "num_neighs = [[len(n) for n in neigh] for neigh in neighs]\n",
    "neighbors_3D = [[2,3], [1,3], [1,2], [2], [1]]\n",
    "num_neighbors_3D = [2, 2, 2, 1, 1]\n",
    "\n",
    "test_df = pd.DataFrame({\n",
    "    'cell_ID': ids,  \n",
    "    'tissue': tissues,\n",
    "    'exclude_cell': exclude_cells,\n",
    "    'slices': slices,\n",
    "    'num_neighbors_2D': num_neighs,\n",
    "    'neighbors_2D': neighs,\n",
    "    'num_neighbors': num_neighbors_3D,\n",
    "    'neighbors': neighbors_3D,\n",
    "    'is_outlier': outliers\n",
    "})\n",
    "print(test_df)\n",
    "\n",
    "out_test_df = sa._exclude_outliers(test_df)\n",
    "out_test_df"
   ]
  },
  {
   "attachments": {},
   "cell_type": "markdown",
   "metadata": {},
   "source": [
    "## Test confidence intervals on fitted parameters"
   ]
  },
  {
   "cell_type": "code",
   "execution_count": null,
   "metadata": {},
   "outputs": [],
   "source": [
    "from scipy import stats\n",
    "\n",
    "np.random.seed(1234)\n",
    "x = np.random.randint(1, 10, 10)\n",
    "y = np.random.randint(1, 10, 10)\n",
    "n = len(x)\n",
    "fits = [np.polyfit(x, y, degree, cov=True) for degree in [1,2]]\n",
    "coeff_sets = [fit[0] for fit in fits]\n",
    "std_err_sets = [np.sqrt(np.diag(fit[1])) for fit in fits] \n",
    "print(coeff_sets)\n",
    "print(std_err_sets)\n",
    "print(stats.t(df=n-2).ppf((0.025, 0.975)))\n",
    "conf_ints = [\n",
    "    [\n",
    "        (coeff - stats.t(df=n-len(coeff_set)).ppf(0.975)*std_err,\n",
    "            coeff,\n",
    "            coeff + stats.t(df=n-len(coeff_set)).ppf(0.975)*std_err)\n",
    "            for coeff, std_err in zip(coeff_set, std_errs)\n",
    "    ]\n",
    "    for coeff_set, std_errs in zip(coeff_sets, std_err_sets)\n",
    "]\n",
    "confint_width_sets = [\n",
    "    [\n",
    "        stats.t(df=n-len(coeff_set)).ppf(0.975)*std_err\n",
    "        for coeff, std_err in zip(coeff_set, std_errs)\n",
    "    ]\n",
    "    for coeff_set, std_errs in zip(coeff_sets, std_err_sets)\n",
    "]\n",
    "[round(ci_width, 2) for ci_width in confint_width_sets[1]]"
   ]
  },
  {
   "attachments": {},
   "cell_type": "markdown",
   "metadata": {},
   "source": [
    "## Check Outliers"
   ]
  },
  {
   "cell_type": "code",
   "execution_count": null,
   "metadata": {},
   "outputs": [],
   "source": [
    "bladder_df = cell_stats_df[cell_stats_df['tissue'] == 'bladder']\n",
    "out_idxs = np.where(bladder_df['is_outlier'].values)[0]"
   ]
  },
  {
   "cell_type": "code",
   "execution_count": null,
   "metadata": {},
   "outputs": [],
   "source": [
    "import napari\n",
    "from skimage.io import imread\n",
    "\n",
    "img = imread('../outputs/outputs_v2/output_bladder_control_curated_segmentation_s_10_e_6_d_8/processed_labels.tif')\n",
    "\n",
    "viewer = napari.Viewer()\n",
    "viewer.add_labels(img)\n",
    "\n",
    "for idx in out_idxs:\n",
    "    cell = img[img == idx]\n",
    "    viewer.add_labels(cell, name=f'cell_{idx}')"
   ]
  },
  {
   "attachments": {},
   "cell_type": "markdown",
   "metadata": {},
   "source": [
    "## Exclude cells tousching background in lung sample"
   ]
  },
  {
   "cell_type": "code",
   "execution_count": null,
   "metadata": {},
   "outputs": [],
   "source": [
    "import napari\n",
    "from skimage.io import imread\n",
    "from scipy import ndimage\n",
    "from LabelPreprocessing import get_labels_touching_background\n",
    "import json\n",
    "from tqdm import tqdm"
   ]
  },
  {
   "cell_type": "code",
   "execution_count": null,
   "metadata": {},
   "outputs": [],
   "source": [
    "lung_img = imread('../outputs/outputs_v2/output_lung_pseudostratified_from_harold_s_10_e_6_d_8/processed_labels.tif')\n",
    "\n",
    "viewer = napari.Viewer()\n",
    "viewer.add_labels(lung_img)"
   ]
  },
  {
   "cell_type": "code",
   "execution_count": null,
   "metadata": {},
   "outputs": [],
   "source": [
    "labels, counts = get_labels_touching_background(lung_img, 1, './notebooks/')"
   ]
  },
  {
   "cell_type": "code",
   "execution_count": null,
   "metadata": {},
   "outputs": [],
   "source": [
    "all_labels = np.unique(lung_img)\n",
    "print(len(labels))\n",
    "print(len(all_labels))"
   ]
  },
  {
   "cell_type": "code",
   "execution_count": null,
   "metadata": {},
   "outputs": [],
   "source": [
    "# Crop image\n",
    "crop_lung_img = lung_img[:, 150:360, :]\n",
    "viewer = napari.Viewer()\n",
    "viewer.add_labels(crop_lung_img)"
   ]
  },
  {
   "cell_type": "code",
   "execution_count": null,
   "metadata": {},
   "outputs": [],
   "source": [
    "labels_crop, counts_crop = get_labels_touching_background(crop_lung_img, 1, None, 0.1, None)"
   ]
  },
  {
   "cell_type": "code",
   "execution_count": null,
   "metadata": {},
   "outputs": [],
   "source": [
    "labels_crop"
   ]
  },
  {
   "cell_type": "code",
   "execution_count": null,
   "metadata": {},
   "outputs": [],
   "source": [
    "# Remove labels touching background\n",
    "clean_lung_img = lung_img.copy()\n",
    "for label in tqdm(labels_crop):\n",
    "    clean_lung_img[lung_img == label] = 0"
   ]
  },
  {
   "cell_type": "code",
   "execution_count": null,
   "metadata": {},
   "outputs": [],
   "source": [
    "viewer = napari.Viewer()\n",
    "viewer.add_labels(lung_img)\n",
    "viewer.add_labels(clean_lung_img)"
   ]
  },
  {
   "cell_type": "code",
   "execution_count": null,
   "metadata": {},
   "outputs": [],
   "source": [
    "slice_lung_img = crop_lung_img[:, :, 1]\n",
    "viewer.add_labels(slice_lung_img)\n",
    "\n",
    "# for z in range(crop_lung_img.shape[2]):\n"
   ]
  },
  {
   "cell_type": "code",
   "execution_count": null,
   "metadata": {},
   "outputs": [],
   "source": [
    "threshold = 0.05\n",
    "\n",
    "# Find the unique labels in the labeled image\n",
    "unique_labels = np.unique(slice_lung_img)\n",
    "\n",
    "# Pad the input labeled image with a layer of background pixels (label 0)\n",
    "padded_labeled_img = np.pad(slice_lung_img, pad_width=10, mode='constant', constant_values=0)\n",
    "\n",
    "# Initialize lists to store labels touching background and counts of background touching voxels\n",
    "labels_touching_background = []\n",
    "background_touch_counts = {} \n",
    "\n",
    "# Iterate through the unique labels, excluding the background label (0)\n",
    "for label in tqdm(unique_labels[1:], desc=\"Checking labels touching background: \"):\n",
    "    # Create a binary image for the current label\n",
    "    binary_img = padded_labeled_img == label\n",
    "\n",
    "    # Dilate the binary image by one voxel to find the border of the label\n",
    "    dilated_binary_img = ndimage.binary_dilation(binary_img)\n",
    "\n",
    "    # Find the border by XOR operation between the dilated and original binary images\n",
    "    border_binary_img = dilated_binary_img ^ binary_img\n",
    "\n",
    "    # Count the number of background pixels (label 0) touching the border\n",
    "    border_labeled_img = padded_labeled_img[border_binary_img]\n",
    "    background_touch_count = np.sum(border_labeled_img == 0) / len(border_labeled_img)\n",
    "    background_touch_counts[label] = background_touch_count\n",
    "\n",
    "    # Check if the background touch count is greater than the threshold\n",
    "    if background_touch_count > threshold:\n",
    "        # Add label to the list of labels touching background\n",
    "        labels_touching_background.append(label)\n",
    "\n",
    "# Convert labels list into numpy array\n",
    "labels_touching_background = np.asarray(labels_touching_background, dtype=np.uint16)"
   ]
  },
  {
   "cell_type": "code",
   "execution_count": null,
   "metadata": {},
   "outputs": [],
   "source": [
    "labels_touching = set()\n",
    "for z in tqdm(range(crop_lung_img.shape[2])):\n",
    "    slice_lung_img = crop_lung_img[:, :, z]\n",
    "    slice_labels_touching, _ = get_labels_touching_background(slice_lung_img, None, 0.05)\n",
    "    labels_touching.update(list(slice_labels_touching))"
   ]
  },
  {
   "cell_type": "code",
   "execution_count": null,
   "metadata": {},
   "outputs": [],
   "source": [
    "labels_touching, counts = get_labels_touching_background(crop_lung_img, 2, None, 0.05)"
   ]
  },
  {
   "cell_type": "code",
   "execution_count": null,
   "metadata": {},
   "outputs": [],
   "source": [
    "# Remove labels touching background\n",
    "clean_lung_img = lung_img.copy()\n",
    "for label in tqdm(labels_touching):\n",
    "    clean_lung_img[lung_img == label] = 0"
   ]
  },
  {
   "cell_type": "code",
   "execution_count": null,
   "metadata": {},
   "outputs": [],
   "source": [
    "viewer = napari.Viewer()\n",
    "viewer.add_labels(lung_img)\n",
    "viewer.add_labels(clean_lung_img)"
   ]
  },
  {
   "cell_type": "code",
   "execution_count": null,
   "metadata": {},
   "outputs": [],
   "source": [
    "clean_lung_img = lung_img.copy()\n",
    "for label in labels:\n",
    "    clean_lung_img[lung_img == label] == 0\n",
    "\n",
    "viewer.add_labels(clean_lung_img)"
   ]
  },
  {
   "cell_type": "code",
   "execution_count": null,
   "metadata": {},
   "outputs": [],
   "source": []
  }
 ],
 "metadata": {
  "kernelspec": {
   "display_name": "3d-seg-fcarrara",
   "language": "python",
   "name": "python3"
  },
  "language_info": {
   "codemirror_mode": {
    "name": "ipython",
    "version": 3
   },
   "file_extension": ".py",
   "mimetype": "text/x-python",
   "name": "python",
   "nbconvert_exporter": "python",
   "pygments_lexer": "ipython3",
   "version": "3.10.10"
  },
  "orig_nbformat": 4
 },
 "nbformat": 4,
 "nbformat_minor": 2
}
