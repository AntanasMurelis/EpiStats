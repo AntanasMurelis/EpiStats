{
 "cells": [
  {
   "attachments": {},
   "cell_type": "markdown",
   "metadata": {},
   "source": [
    "## Test OuterShell"
   ]
  },
  {
   "cell_type": "code",
   "execution_count": null,
   "metadata": {},
   "outputs": [],
   "source": [
    "import os\n",
    "import napari\n",
    "import numpy as np\n",
    "from scipy.spatial import Delaunay\n",
    "from scipy.interpolate import LinearNDInterpolator, NearestNDInterpolator\n",
    "import trimesh\n",
    "import math\n",
    "import open3d as o3d\n",
    "from copy import deepcopy\n",
    "from trimesh.creation import icosphere\n",
    "from typing import List"
   ]
  },
  {
   "cell_type": "code",
   "execution_count": null,
   "metadata": {},
   "outputs": [],
   "source": [
    "### UTIL FUNCTION TO MAKE TEST SAMPLE OF SPHERICAL MESHES ###\n",
    "def create_aligned_spheres(\n",
    "        n: int,\n",
    "        radius: float\n",
    ") -> List[trimesh.Trimesh]:\n",
    "    \"\"\"\n",
    "    Create n spherical meshes displaced one next to the other and with centers aligned.\n",
    "\n",
    "    Parameters:\n",
    "    -----------\n",
    "    n: (int)\n",
    "        The number of spheres to create\n",
    "    radius: (float)\n",
    "        The radius of the spheres\n",
    "\n",
    "    Returns:\n",
    "    --------\n",
    "    spheres: (List[trimesh.Trimesh])\n",
    "        A list of meshes of spheres\n",
    "    \"\"\"\n",
    "    spheres = []\n",
    "    displacement = np.array([0.0, 0.0, 0.0])\n",
    "    for _ in range(n):\n",
    "        curr_sphere = icosphere(radius=radius)\n",
    "        curr_sphere.vertices += displacement\n",
    "        displacement[0] += 2 * radius\n",
    "        spheres.append(curr_sphere)\n",
    "\n",
    "    return spheres"
   ]
  },
  {
   "cell_type": "markdown",
   "metadata": {},
   "source": [
    "#### Get outer shell from single meshes"
   ]
  },
  {
   "cell_type": "code",
   "execution_count": null,
   "metadata": {},
   "outputs": [],
   "source": [
    "from OuterShell import ExtendedTrimesh, OuterShell"
   ]
  },
  {
   "cell_type": "code",
   "execution_count": null,
   "metadata": {},
   "outputs": [],
   "source": [
    "# ### SPHERES ###\n",
    "\n",
    "# # Initialize synthtic input\n",
    "# spheres = create_sample_spheres(3, [1, 1, 1])\n",
    "# neighbors_lst = [[1], [0, 2], [1]]\n",
    "\n",
    "# # Calculate the length of each edge\n",
    "# edges = spheres[0].edges\n",
    "# edge_lengths = spheres[0].vertices[edges[:, 0]] - spheres[0].vertices[edges[:, 1]]\n",
    "# edge_lengths = trimesh.util.row_norm(edge_lengths)\n",
    "\n",
    "# # Get the shortest edge length\n",
    "# shortest_edge_length = min(edge_lengths)\n",
    "\n",
    "# # Transform in ExtendedTrimesh format\n",
    "# extended_meshes = []\n",
    "# for i, sphere in enumerate(spheres):\n",
    "#     extended_meshes.append(ExtendedTrimesh(neighbors=neighbors_lst[i], vertices=sphere.vertices, faces=sphere.faces))"
   ]
  },
  {
   "cell_type": "code",
   "execution_count": null,
   "metadata": {},
   "outputs": [],
   "source": [
    "### CELL MESHES ###\n",
    "root_dir = r\"N:\\Users\\Federico_Carrara\\Meshes_for_Simulation\\examples\\cell_clump_intestine\\cell_clumps\\clean_clump_16_cells\\clean_meshes\"\n",
    "# root_dir = \"/nas/groups/iber/Users/Federico_Carrara/Meshes_for_Simulation/examples/cell_clump_intestine/cell_clumps/clean_clump_16_cells/clean_meshes\"\n",
    "mesh1 = trimesh.load_mesh(os.path.join(root_dir, \"cell_193.stl\"))\n",
    "mesh2 = trimesh.load_mesh(os.path.join(root_dir, \"cell_228.stl\"))\n",
    "mesh3 = trimesh.load_mesh(os.path.join(root_dir, \"cell_171.stl\"))\n",
    "\n",
    "mesh_lst = [mesh1, mesh2, mesh3]\n",
    "neighbors_lst = [[1, 2], [0, 2], [0, 1]]\n",
    "\n",
    "# # Calculate the length of each edge\n",
    "# edges = mesh1.edges\n",
    "# edge_lengths = mesh1.vertices[edges[:, 0]] - mesh1.vertices[edges[:, 1]]\n",
    "# edge_lengths = trimesh.util.row_norm(edge_lengths)\n",
    "\n",
    "# # Get the shortest edge length\n",
    "# shortest_edge_length = min(edge_lengths)\n",
    "# print(shortest_edge_length)\n",
    "\n",
    "# Transform in ExtendedTrimesh format\n",
    "extended_meshes = []\n",
    "for i, mesh in enumerate(mesh_lst):\n",
    "    extended_meshes.append(ExtendedTrimesh(neighbors=neighbors_lst[i], vertices=mesh.vertices, faces=mesh.faces))"
   ]
  },
  {
   "cell_type": "code",
   "execution_count": null,
   "metadata": {},
   "outputs": [],
   "source": [
    "outer_shell = OuterShell(\n",
    "    meshes=extended_meshes, \n",
    "    neighbors_lst=neighbors_lst\n",
    ")"
   ]
  },
  {
   "cell_type": "markdown",
   "metadata": {},
   "source": [
    "###### Plots for presentation"
   ]
  },
  {
   "cell_type": "code",
   "execution_count": null,
   "metadata": {},
   "outputs": [],
   "source": [
    "outer_shell.generate_outer_shell(displace_points=True)"
   ]
  },
  {
   "cell_type": "code",
   "execution_count": null,
   "metadata": {},
   "outputs": [],
   "source": [
    "outer_shell.mesh.export(r\"N:\\Users\\Federico_Carrara\\master_thesis_docs\\IMGS\\for_final_pres\\outer_shell_example_wdispl.stl\")"
   ]
  },
  {
   "cell_type": "code",
   "execution_count": null,
   "metadata": {},
   "outputs": [],
   "source": [
    "pc = outer_shell.points\n",
    "pc_normals = outer_shell.point_normals"
   ]
  },
  {
   "cell_type": "code",
   "execution_count": null,
   "metadata": {},
   "outputs": [],
   "source": [
    "viewer = napari.Viewer()"
   ]
  },
  {
   "attachments": {},
   "cell_type": "markdown",
   "metadata": {},
   "source": [
    "#### Test 'get_shell_point_cloud' method"
   ]
  },
  {
   "cell_type": "code",
   "execution_count": null,
   "metadata": {},
   "outputs": [],
   "source": [
    "outer_shell.get_shell_point_cloud(dist_threshold=10)"
   ]
  },
  {
   "cell_type": "code",
   "execution_count": null,
   "metadata": {},
   "outputs": [],
   "source": [
    "# Check that k-closest points are correctly extracted\n",
    "# k_closest_idxs_1 = np.concatenate([\n",
    "#     outer_shell._meshes[0].k_closest_dict[1],\n",
    "#     outer_shell._meshes[0].k_closest_dict[2],\n",
    "# ])\n",
    "# k_closest_idxs_2 = np.concatenate([\n",
    "#     outer_shell._meshes[1].k_closest_dict[0],\n",
    "#     outer_shell._meshes[1].k_closest_dict[2],\n",
    "# ])\n",
    "# k_closest_idxs_3 = np.concatenate([\n",
    "#     outer_shell._meshes[2].k_closest_dict[0],\n",
    "#     outer_shell._meshes[2].k_closest_dict[1],\n",
    "# ])\n",
    "\n",
    "# k_closest_pts_1 = outer_shell._meshes[0].points[k_closest_idxs_1]\n",
    "# k_closest_pts_2 = outer_shell._meshes[1].points[k_closest_idxs_2]\n",
    "# k_closest_pts_3 = outer_shell._meshes[2].points[k_closest_idxs_3]\n",
    "\n",
    "# k_closest_idxs_1_2 = outer_shell._meshes[0].k_closest_dict[1]\n",
    "# k_closest_idxs_1_3 = outer_shell._meshes[0].k_closest_dict[2]\n",
    "# k_closest_idxs_2_1 = outer_shell._meshes[1].k_closest_dict[0]\n",
    "# k_closest_idxs_2_3 = outer_shell._meshes[1].k_closest_dict[2]\n",
    "# k_closest_idxs_3_1 = outer_shell._meshes[2].k_closest_dict[0]\n",
    "# k_closest_idxs_3_2 = outer_shell._meshes[2].k_closest_dict[1]\n",
    "\n",
    "# k_closest_pts_1_2 = outer_shell._meshes[0].points[k_closest_idxs_1_2]\n",
    "# k_closest_pts_1_3 = outer_shell._meshes[0].points[k_closest_idxs_1_3]\n",
    "# k_closest_pts_2_1 = outer_shell._meshes[1].points[k_closest_idxs_2_1]\n",
    "# k_closest_pts_2_3 = outer_shell._meshes[1].points[k_closest_idxs_2_3]\n",
    "# k_closest_pts_3_1 = outer_shell._meshes[2].points[k_closest_idxs_3_1]\n",
    "# k_closest_pts_3_2 = outer_shell._meshes[2].points[k_closest_idxs_3_2]\n",
    "\n",
    "# viewer = napari.Viewer()\n",
    "# viewer.add_points(outer_shell.points, size=0.1)\n",
    "# viewer.add_points(k_closest_pts_1_2, size=0.1, face_color=\"green\")\n",
    "# viewer.add_points(k_closest_pts_1_3, size=0.1, face_color=\"red\")\n",
    "# viewer.add_points(k_closest_pts_2_1, size=0.1, face_color=\"orange\")\n",
    "# viewer.add_points(k_closest_pts_2_3, size=0.1, face_color=\"purple\")\n",
    "# viewer.add_points(k_closest_pts_3_1, size=0.1, face_color=\"blue\")\n",
    "# viewer.add_points(k_closest_pts_3_2, size=0.1, face_color=\"brown\")"
   ]
  },
  {
   "attachments": {},
   "cell_type": "markdown",
   "metadata": {},
   "source": [
    "#### Test Interpolation "
   ]
  },
  {
   "cell_type": "markdown",
   "metadata": {},
   "source": [
    "##### 1. Fit a global model, evaluate it on the gaps\n",
    "Pros:\n",
    "- Global model allows to capture features common to all the point cloud and extend them to the gaps\n",
    "\n",
    "Cons:\n",
    "- Parameters may depend on the particular sample/shape, and hence it would be difficult to generalize.\n",
    "- It is not trivial to individuate gaps and to place appropriate sampling grids. "
   ]
  },
  {
   "cell_type": "code",
   "execution_count": null,
   "metadata": {},
   "outputs": [],
   "source": [
    "# Train the chosen model on existing data\n",
    "x, y, z = outer_shell.points[:, 0], outer_shell.points[:, 1], outer_shell.points[:, 2]\n",
    "model = NearestNDInterpolator(np.column_stack([x, y]), z)\n",
    "\n",
    "### Get grid of x, y values at the gaps\n",
    "# 0. Compute the step of the grid as the average distance between points over all the meshes\n",
    "grid_step = np.mean([mesh.mean_point_distance for mesh in outer_shell._meshes]) / math.sqrt(2)\n",
    "\n",
    "# 1. Get all pairs of neighbors\n",
    "neighbor_pairs = set()\n",
    "for idx, neighbors in enumerate(outer_shell._neighbors_lst):\n",
    "    for neighbor in neighbors:\n",
    "        pair = tuple(sorted((idx, neighbor)))\n",
    "        neighbor_pairs.add(pair)\n",
    "\n",
    "# 2. For each pair:\n",
    "new_shell_points = []\n",
    "all_closest_points = []\n",
    "pred_grids = []\n",
    "for idx_1, idx_2 in neighbor_pairs:\n",
    "    # 2.a. Get closest points for each cell in the pair\n",
    "    mesh_1, mesh_2 = outer_shell._meshes[idx_1], outer_shell._meshes[idx_2]\n",
    "    closest_point_idxs_1 = mesh_1.k_closest_dict[idx_2]\n",
    "    closest_point_idxs_2 = mesh_2.k_closest_dict[idx_1]\n",
    "    closest_points = np.concatenate(\n",
    "        [mesh_1.points[closest_point_idxs_1], mesh_2.points[closest_point_idxs_2]]\n",
    "    )\n",
    "    all_closest_points.append(closest_points)\n",
    "\n",
    "    # 2.b. Compute grid taking closest points extema on x and y\n",
    "    max_x = np.max(closest_points[:, 0])\n",
    "    min_x = np.min(closest_points[:, 0])\n",
    "    num_x = int((max_x - min_x) / grid_step)\n",
    "    max_y = np.max(closest_points[:, 1])\n",
    "    min_y = np.min(closest_points[:, 1])\n",
    "    num_y = int((max_y - min_y) / grid_step)\n",
    "    x_grid = np.linspace(min_x, max_x, num_x)\n",
    "    y_grid = np.linspace(min_y, max_y, num_y)\n",
    "    X, Y = np.meshgrid(x_grid, y_grid)\n",
    "    X, Y = X.ravel(), Y.ravel()\n",
    "    pred_grids.append(np.column_stack([X, Y, np.zeros_like(X)]))\n",
    "\n",
    "    # 3. Predict on the newly created grid\n",
    "    Z_pred = model(X, Y)\n",
    "    \n",
    "    pred_points = np.column_stack([X, Y, Z_pred.ravel()])\n",
    "    new_shell_points.append(pred_points)\n",
    "\n",
    "new_shell_points = np.vstack(new_shell_points)\n",
    "all_closest_points = np.vstack(all_closest_points)\n",
    "pred_grids = np.vstack(pred_grids)"
   ]
  },
  {
   "cell_type": "code",
   "execution_count": null,
   "metadata": {},
   "outputs": [],
   "source": [
    "viewer = napari.Viewer()\n",
    "viewer.add_points(new_shell_points, size=0.1, face_color=\"green\")\n",
    "viewer.add_points(outer_shell.points, size=0.1)\n",
    "viewer.add_points(all_closest_points, size=0.1, face_color=\"red\")\n",
    "viewer.add_points(pred_grids, size=0.1, face_color=\"blue\")"
   ]
  },
  {
   "cell_type": "markdown",
   "metadata": {},
   "source": [
    "##### 2. KNN interpolation\n",
    "IDEA: Instead of placing grids arbitrarily on the gaps, do the following:\n",
    "- Compute the distance from each point to its nearest neighbor (edge length)\n",
    "- Now consider the points for which edge length exceeds a certain threshold (e.g. 2 * std). These points are likely to be placed on gaps.\n",
    "- For each of such points, find the KNN and place a new point in the coordinate barycenter of the neighbors.\n",
    "\n",
    "The result should be an evenly spaced grid!\n",
    "\n",
    "CAZZATA -> If I consider the whole outer shell point cloud, I cannot find gaps in this way as the nearest neigbor for a given point will always be on the same mesh and not on a neighboring one. "
   ]
  },
  {
   "cell_type": "code",
   "execution_count": null,
   "metadata": {},
   "outputs": [],
   "source": [
    "pc = o3d.geometry.PointCloud()\n",
    "pc.points = o3d.utility.Vector3dVector(outer_shell.points)\n",
    "nearest_distances = np.asarray(pc.compute_nearest_neighbor_distance())\n",
    "mean_nearest_distances, std_nearest_distances = np.mean(nearest_distances), np.std(nearest_distances)"
   ]
  },
  {
   "cell_type": "code",
   "execution_count": null,
   "metadata": {},
   "outputs": [],
   "source": [
    "gap_mask = np.logical_or(\n",
    "    nearest_distances > mean_nearest_distances + 2 * std_nearest_distances,\n",
    "    nearest_distances < mean_nearest_distances - 2 * std_nearest_distances\n",
    ")\n",
    "gap_points = outer_shell.points[gap_mask]"
   ]
  },
  {
   "cell_type": "code",
   "execution_count": null,
   "metadata": {},
   "outputs": [],
   "source": [
    "viewer = napari.Viewer()\n",
    "viewer.add_points(outer_shell.points, size=0.1)\n",
    "viewer.add_points(gap_points, size=0.1, face_color=\"red\")"
   ]
  },
  {
   "cell_type": "code",
   "execution_count": null,
   "metadata": {},
   "outputs": [],
   "source": [
    "outer_shell.interpolate_gaps('spline')"
   ]
  },
  {
   "cell_type": "markdown",
   "metadata": {},
   "source": [
    "##### 3. Linear Interpolation between mesh borders\n",
    "ALGORITHM:\n",
    "- Find \"borders\" of cell meshes (i.e., single layers of points that are the closest to another mesh). \n",
    "- For each mesh border:\n",
    "    - For each point of the border:\n",
    "        - Find closest point on the neighboring cell border\n",
    "        - Sample points on the line that join these 2 points "
   ]
  },
  {
   "cell_type": "code",
   "execution_count": null,
   "metadata": {},
   "outputs": [],
   "source": [
    "# # 1. Get all pairs of neighbors\n",
    "# neighbor_pairs = set()\n",
    "# for idx, neighbors in enumerate(outer_shell._neighbors_lst):\n",
    "#     for neighbor in neighbors:\n",
    "#         pair = tuple(sorted((idx, neighbor)))\n",
    "#         neighbor_pairs.add(pair)\n",
    "\n",
    "# # colors = [\"blue\", \"cyan\", \"green\", \"yellow\", \"red\", \"purple\"]\n",
    "# # viewer = napari.Viewer()\n",
    "# # viewer.add_points(outer_shell.points, size=0.1)\n",
    "\n",
    "# # 2. Iterate over the neighbor pairs\n",
    "# all_sampled_points = []\n",
    "# for i, (idx_1, idx_2) in enumerate(neighbor_pairs):\n",
    "#     # 2.a. Get closest points for each cell in the pair\n",
    "#     mesh_1, mesh_2 = outer_shell._meshes[idx_1], outer_shell._meshes[idx_2]\n",
    "#     closest_point_idxs_1 = mesh_1.k_closest_dict[idx_2]\n",
    "#     closest_point_idxs_2 = mesh_2.k_closest_dict[idx_1]\n",
    "#     closest_points_1 = mesh_1.points[closest_point_idxs_1]\n",
    "#     closest_points_2 = mesh_2.points[closest_point_idxs_2]\n",
    "#     closest_points_kdtree_1 = mesh_1.k_closest_kdtrees[idx_2]\n",
    "#     closest_points_kdtree_2 = mesh_2.k_closest_kdtrees[idx_1]\n",
    "\n",
    "#     # 2.b. For each point in closest_points_1, find the border point in closest_points_2 set using KDTree \n",
    "#     _, border_idxs_2 = closest_points_kdtree_2.query(closest_points_1, k=1)\n",
    "#     border_idxs_2 = list(set(border_idxs_2))\n",
    "#     border_points_2 = closest_points_2[border_idxs_2]\n",
    "\n",
    "#     # 2.c. Now for each border point of mesh 2, get the associated border point of mesh 1\n",
    "#     _, border_idxs_1 = closest_points_kdtree_1.query(border_points_2, k=1)\n",
    "\n",
    "#     # print(border_idxs_1[:5], border_idxs_2[:5])\n",
    "#     # print(border_points_2[:5])\n",
    "\n",
    "#     # 2.d. Store the pair of indices in tuples to avoid mixing up the pairs\n",
    "#     border_idxs_pairs = [\n",
    "#         (b_idx1, b_idx2) \n",
    "#         for b_idx1, b_idx2 in zip(border_idxs_1, border_idxs_2)\n",
    "#     ]\n",
    "#     # Store in a set to remove duplicates\n",
    "#     border_idx_pairs = set(border_idxs_pairs)\n",
    "#     # Get ordered border points for mesh 1\n",
    "#     border_points_1 = closest_points_1[[pair[0] for pair in border_idxs_pairs]]\n",
    "\n",
    "#     # 2.e. Compute the direction vectors for each pair of border points\n",
    "#     direction_vectors = border_points_2 - border_points_1\n",
    "\n",
    "#     # Sample points along the direction vectors\n",
    "#     num_samples = 3\n",
    "#     sampling_steps = np.linspace(0, 1, num_samples + 2)[1:-1, np.newaxis]\n",
    "#     sampled_points = border_points_1[:, np.newaxis, :] +  sampling_steps * direction_vectors[:, np.newaxis, :]\n",
    "#     sampled_points = sampled_points.reshape(-1, 3)\n",
    "#     all_sampled_points.append(sampled_points)\n",
    "\n",
    "#     # viewer.add_points(border_points_1, size=0.2, face_color=colors[i*2])\n",
    "#     # viewer.add_points(border_points_2, size=0.2, face_color=colors[i*2+1])\n",
    "#     # viewer.add_points(sampled_points, size=0.2, face_color=\"pink\")\n",
    "#     # viewer.add_points(border_points_1[:10], size=0.3, face_color=colors[i * 2])\n",
    "#     # viewer.add_points(border_points_2[:10], size=0.3, face_color=colors[i * 2 + 1])\n",
    "\n",
    "# all_sampled_points = np.concatenate(all_sampled_points)\n",
    "# # outer_shell.points = np.vstack([outer_shell.points, all_sampled_points])\n",
    "\n",
    "# # # viewer = napari.Viewer()\n",
    "# # # viewer.add_points(outer_shell.points, size=0.1)"
   ]
  },
  {
   "cell_type": "code",
   "execution_count": null,
   "metadata": {},
   "outputs": [],
   "source": [
    "outer_shell.interpolate_gaps('1', 6)"
   ]
  },
  {
   "attachments": {},
   "cell_type": "markdown",
   "metadata": {},
   "source": [
    "#### Test creation of mesh from point cloud"
   ]
  },
  {
   "cell_type": "code",
   "execution_count": null,
   "metadata": {},
   "outputs": [],
   "source": [
    "# Estimate normals\n",
    "pcd = o3d.geometry.PointCloud()\n",
    "pcd.points = o3d.utility.Vector3dVector(outer_shell.points)\n",
    "pcd.estimate_normals(fast_normal_computation=False)\n",
    "pcd.orient_normals_consistent_tangent_plane(k=10)\n",
    "\n",
    "# point_normals = outer_shell.points + np.asarray(pcd.normals)\n",
    "\n",
    "# viewer = napari.Viewer()\n",
    "# viewer.add_points(outer_shell.points, size=0.2)\n",
    "# viewer.add_points(point_normals, size=0.2, face_color=\"red\")"
   ]
  },
  {
   "cell_type": "code",
   "execution_count": null,
   "metadata": {},
   "outputs": [],
   "source": [
    "# estimate radius for rolling ball\n",
    "# distances = pcd.compute_nearest_neighbor_distance()\n",
    "# avg_dist = np.mean(distances)\n",
    "# radius = 2 * avg_dist   \n",
    "\n",
    "# mesh = o3d.geometry.TriangleMesh.create_from_point_cloud_ball_pivoting(\n",
    "#            pcd,\n",
    "#            o3d.utility.DoubleVector([radius, radius * 2])\n",
    "# )\n",
    "\n",
    "mesh = o3d.geometry.TriangleMesh.create_from_point_cloud_poisson(\n",
    "    pcd, depth=8, width=0, scale=1.1, linear_fit=False)[0]\n",
    "\n",
    "# create the triangular mesh with the vertices and faces from open3d\n",
    "tri_mesh = trimesh.Trimesh(np.asarray(mesh.vertices), np.asarray(mesh.triangles),\n",
    "                          vertex_normals=np.asarray(mesh.vertex_normals))\n",
    "\n",
    "viewer = napari.Viewer()\n",
    "# viewer.add_points(outer_shell.points, size=0.2, face_color=\"red\")\n",
    "viewer.add_surface((tri_mesh.vertices, tri_mesh.faces))"
   ]
  },
  {
   "cell_type": "code",
   "execution_count": null,
   "metadata": {},
   "outputs": [],
   "source": [
    "poisson_mesh = o3d.geometry.TriangleMesh.create_from_point_cloud_poisson(pcd, depth=8, width=0, scale=1.1, linear_fit=False)[0]"
   ]
  },
  {
   "attachments": {},
   "cell_type": "markdown",
   "metadata": {},
   "source": [
    "#### Test wrapper method 'generate_outer_shell'"
   ]
  },
  {
   "cell_type": "code",
   "execution_count": null,
   "metadata": {},
   "outputs": [],
   "source": [
    "outer_shell.generate_outer_shell()"
   ]
  },
  {
   "cell_type": "code",
   "execution_count": null,
   "metadata": {},
   "outputs": [],
   "source": [
    "viewer = napari.Viewer()\n",
    "viewer.add_surface((outer_shell.mesh.vertices, outer_shell.mesh.faces))"
   ]
  },
  {
   "cell_type": "code",
   "execution_count": null,
   "metadata": {},
   "outputs": [],
   "source": [
    "outer_shell.mesh_to_file(\"/home/fcarrara/Documents/outer_shell_3_cells.stl\")"
   ]
  },
  {
   "cell_type": "markdown",
   "metadata": {},
   "source": [
    "#### Test 'MeshPrep.create_shell_from_image'"
   ]
  },
  {
   "cell_type": "code",
   "execution_count": null,
   "metadata": {},
   "outputs": [],
   "source": [
    "from MeshPrep import create_shell_from_meshes\n",
    "from tqdm import tqdm"
   ]
  },
  {
   "cell_type": "code",
   "execution_count": null,
   "metadata": {},
   "outputs": [],
   "source": [
    "cell_ids = [128, 130, 138, 139, 147, 150, 163, 167, 169, 171, 180, 185, 187, 193, 210, 228]\n",
    "# root = \"/nas/groups/iber/Users/Federico_Carrara\"\n",
    "root = r\"N:/Users/Federico_Carrara/\"\n",
    "rel_path_to_df = \"./Statistics_Collection/outputs/outputs_v5/output_intestine_sample2_b_curated_segmentation_relabel_seq_s_10_e_6_d_8/cell_stats/stats_dataset_intestine_villus.csv\"\n",
    "rel_path_to_meshes = \"./Meshes_for_Simulation/examples/cell_clump_intestine/cell_clumps/clean_clump_16_cells/\"\n",
    "path_to_df = os.path.join(root, rel_path_to_df)\n",
    "path_to_meshes = os.path.join(root, rel_path_to_meshes)\n",
    "\n",
    "# Load meshes\n",
    "mesh_lst = []\n",
    "for id in tqdm(cell_ids):\n",
    "    fname = f\"cell_{id}.stl\"\n",
    "    mesh_lst.append(trimesh.load(os.path.join(path_to_meshes, \"clean_meshes\", fname)))\n",
    "\n",
    "shell_mesh = create_shell_from_meshes(\n",
    "    meshes=mesh_lst,\n",
    "    cell_idxs=cell_ids,\n",
    "    cell_stats_data_path=path_to_df,\n",
    "    w_displacement=False\n",
    ")"
   ]
  },
  {
   "cell_type": "code",
   "execution_count": null,
   "metadata": {},
   "outputs": [],
   "source": [
    "viewer = napari.Viewer()\n",
    "# viewer.add_points(shell_mesh.points, size=0.15, face_color=\"red\")\n",
    "# viewer.add_points(shell_mesh.point_normals, size=0.15, face_color=\"pink\")\n",
    "viewer.add_surface((shell_mesh.vertices, shell_mesh.faces))"
   ]
  },
  {
   "cell_type": "code",
   "execution_count": null,
   "metadata": {},
   "outputs": [],
   "source": [
    "shell_mesh.export(os.path.join(root, \"new_shell_nodispl.stl\"))"
   ]
  }
 ],
 "metadata": {
  "kernelspec": {
   "display_name": "Python 3",
   "language": "python",
   "name": "python3"
  },
  "language_info": {
   "codemirror_mode": {
    "name": "ipython",
    "version": 3
   },
   "file_extension": ".py",
   "mimetype": "text/x-python",
   "name": "python",
   "nbconvert_exporter": "python",
   "pygments_lexer": "ipython3",
   "version": "3.10.12"
  },
  "orig_nbformat": 4
 },
 "nbformat": 4,
 "nbformat_minor": 2
}
