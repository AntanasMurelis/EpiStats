{
 "cells": [
  {
   "cell_type": "code",
   "execution_count": null,
   "metadata": {},
   "outputs": [],
   "source": [
    "import os\n",
    "import sys\n",
    "import numpy as np\n",
    "import napari\n",
    "from skimage.io import imread\n",
    "\n",
    "PROJECT_ROOT = os.path.abspath(os.path.join(os.getcwd(), \"src/statistics_collection/scripts/\"))\n",
    "sys.path.insert(0, PROJECT_ROOT)\n",
    "import StatsAnalytics as sa"
   ]
  },
  {
   "cell_type": "code",
   "execution_count": null,
   "metadata": {},
   "outputs": [],
   "source": [
    "# Load dataframes\n",
    "out_root_path = '/path/to/Statistics_Collection/outputs/'\n",
    "df_files = [\n",
    "    'output_tissue_1/cell_stats/stats_tissue_1.csv',\n",
    "    'output_tissue_2/cell_stats/stats_tissue_2.csv',\n",
    "    'output_tissue_3/cell_stats/stats_tissue_3.csv'\n",
    "]\n",
    "df_paths = [os.path.join(out_root_path, df_file) for df_file in df_files]\n",
    "\n",
    "cell_stats_df = sa.prepare_df(paths_to_dfs=df_paths)"
   ]
  },
  {
   "cell_type": "code",
   "execution_count": null,
   "metadata": {},
   "outputs": [],
   "source": [
    "# Get indexes of potential outliers (wrt number of 3D neighbors)\n",
    "outliers = cell_stats_df.loc[cell_stats_df['num_neighbors'] > 20, ['cell_ID', 'tissue', 'num_neighbors']].values\n",
    "many_neighs_idxs = [idx for idx, _, _ in outliers]\n",
    "many_neighs_tissue = [tiss for _, tiss, _ in outliers]\n",
    "many_neighs_nums = [num for _, _, num in outliers]\n",
    "outliers"
   ]
  },
  {
   "cell_type": "code",
   "execution_count": null,
   "metadata": {},
   "outputs": [],
   "source": [
    "# Load images\n",
    "tissue_1_img = imread(\n",
    "    '/path/to/processed_labels.tif'\n",
    ")\n",
    "tissue_2_img = imread(\n",
    "    '/path/to/processed_labels.tif'\n",
    ")\n",
    "tissue_3_img = imread(\n",
    "    '/path/to/processed_labels.tif'\n",
    ")"
   ]
  },
  {
   "cell_type": "code",
   "execution_count": null,
   "metadata": {},
   "outputs": [],
   "source": [
    "# Open them in napari\n",
    "viewer = napari.Viewer()\n",
    "viewer.add_labels(tissue_1_img)"
   ]
  },
  {
   "cell_type": "code",
   "execution_count": null,
   "metadata": {},
   "outputs": [],
   "source": [
    "idxs = \"1 2 3 4 5 6 7 8\"\n",
    "idxs = [int(idx) for idx in idxs.split(\" \")]\n",
    "mask = np.isin(tissue_1_img, idxs)\n",
    "clump_img = tissue_1_img * mask\n",
    "viewer.add_labels(clump_img)"
   ]
  },
  {
   "attachments": {},
   "cell_type": "markdown",
   "metadata": {},
   "source": [
    "**Bronchiole Image:**\n",
    "They are all internal cells... <br>\n",
    "<img src = \"images/Screenshot from 2023-07-13 18-04-28.png\">"
   ]
  },
  {
   "cell_type": "code",
   "execution_count": null,
   "metadata": {},
   "outputs": [],
   "source": [
    "# Open them in napari\n",
    "viewer = napari.Viewer()\n",
    "viewer.add_labels(tissue_2_img)"
   ]
  },
  {
   "attachments": {},
   "cell_type": "markdown",
   "metadata": {},
   "source": [
    "**Intestine Image:**\n",
    "Also here it is an internal cell, which is probably an artifact"
   ]
  },
  {
   "cell_type": "code",
   "execution_count": null,
   "metadata": {},
   "outputs": [],
   "source": [
    "# Open them in napari\n",
    "viewer = napari.Viewer()\n",
    "viewer.add_labels(tissue_3_img)"
   ]
  },
  {
   "attachments": {},
   "cell_type": "markdown",
   "metadata": {},
   "source": [
    "**Esophagus Image:**\n",
    "Big internal cell"
   ]
  }
 ],
 "metadata": {
  "kernelspec": {
   "display_name": "cell-stats",
   "language": "python",
   "name": "python3"
  },
  "language_info": {
   "codemirror_mode": {
    "name": "ipython",
    "version": 3
   },
   "file_extension": ".py",
   "mimetype": "text/x-python",
   "name": "python",
   "nbconvert_exporter": "python",
   "pygments_lexer": "ipython3",
   "version": "3.10.10"
  },
  "orig_nbformat": 4
 },
 "nbformat": 4,
 "nbformat_minor": 2
}
