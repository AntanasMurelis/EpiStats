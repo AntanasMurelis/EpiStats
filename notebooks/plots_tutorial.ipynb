{
 "cells": [
  {
   "cell_type": "code",
   "execution_count": null,
   "metadata": {},
   "outputs": [],
   "source": [
    "import os\n",
    "import sys\n",
    "import numpy as np\n",
    "\n",
    "sys.path.append('/nas/groups/iber/Users/Federico_Carrara/Statistics_Collection/EpiStats/src/statistics_collection/scripts/')\n",
    "\n",
    "import StatsAnalytics as sa\n",
    "import StatsPlots as sp"
   ]
  },
  {
   "cell_type": "code",
   "execution_count": null,
   "metadata": {},
   "outputs": [],
   "source": [
    "# os.chdir('../../')\n",
    "os.getcwd()"
   ]
  },
  {
   "attachments": {},
   "cell_type": "markdown",
   "metadata": {},
   "source": [
    "## 1. Load the tissue dataframes"
   ]
  },
  {
   "cell_type": "code",
   "execution_count": null,
   "metadata": {},
   "outputs": [],
   "source": [
    "# Load dataframes\n",
    "out_root_path = '../outputs/outputs_v5'\n",
    "df_files = [\n",
    "    'output_bladder_control_curated_segmentation_s_10_e_6_d_8/cell_stats/stats_dataset_bladder.csv',\n",
    "    'output_esophagus_Z2_curated_crop_s_10_e_6_d_8/cell_stats/stats_dataset_esophagus.csv',\n",
    "    'output_intestine_sample2_b_curated_segmentation_relabel_seq_s_10_e_6_d_8/cell_stats/stats_dataset_intestine_villus.csv',\n",
    "    'output_lung_new_sample_b_curated_segmentation_central_crop_relabel_seq_s_10_e_6_d_8/cell_stats/stats_dataset_lung_bronchiole.csv',\n",
    "    'output_lung_pseudostratified_from_harold_s_10_e_6_d_8/cell_stats/stats_dataset_lung.csv'\n",
    "]\n",
    "df_paths = [os.path.join(out_root_path, df_file) for df_file in df_files]\n",
    "\n",
    "cell_stats_df = sa.prepare_df(paths_to_dfs=df_paths)"
   ]
  },
  {
   "cell_type": "code",
   "execution_count": null,
   "metadata": {},
   "outputs": [],
   "source": [
    "# import ast\n",
    "# import pandas as pd\n",
    "\n",
    "# # If using v4 of collected statistics run this cell \n",
    "# cell_stats_df['principal_axis_and_elongation'] = cell_stats_df['principal_axis_and_elongation'].apply(\n",
    "#     lambda x: x.split(',')[0].replace('(', '')\n",
    "# )\n",
    "# cell_stats_df['principal_axis_and_elongation'] = cell_stats_df['principal_axis_and_elongation'].apply(\n",
    "#     lambda x: ast.literal_eval(x)\n",
    "# )\n",
    "# cell_stats_df['elongation'] = cell_stats_df['principal_axis_and_elongation']\n",
    "# cell_stats_df.drop(columns=['principal_axis_and_elongation'], inplace=True)\n",
    "\n",
    "# cell_stats_df[\"num_neighbors_2D_principal\"] = cell_stats_df['neighbors_2D_principal'].apply(lambda x: [len(l) for l in x])\n",
    "\n",
    "# df_files = ['output_bladder_control_curated_segmentation_s_10_e_6_d_8/cell_stats/stats_dataset_bladder.csv']\n",
    "# df_paths = [os.path.join(out_root_path, df_file) for df_file in df_files]\n",
    "# bladder_stats_df = sa.prepare_df(paths_to_dfs=df_paths)\n",
    "\n",
    "# cell_stats_df = pd.concat(objs=[cell_stats_df, bladder_stats_df], axis=0, ignore_index=True, join=\"inner\")"
   ]
  },
  {
   "attachments": {},
   "cell_type": "markdown",
   "metadata": {},
   "source": [
    "## 2. Process dataframe (outlier detection, numerical features extraction, standardization, ...)"
   ]
  },
  {
   "cell_type": "code",
   "execution_count": null,
   "metadata": {},
   "outputs": [],
   "source": [
    "# Rename columns\n",
    "cell_stats_df = sa.rename_features(\n",
    "    df=cell_stats_df,\n",
    "    old_names=['area'],\n",
    "    new_names=['surface_area']\n",
    ")"
   ]
  },
  {
   "cell_type": "code",
   "execution_count": null,
   "metadata": {},
   "outputs": [],
   "source": [
    "# Outlier detection\n",
    "cell_stats_df = sa.detect_outliers(df=cell_stats_df, quantile_level=0.025)"
   ]
  },
  {
   "cell_type": "code",
   "execution_count": null,
   "metadata": {},
   "outputs": [],
   "source": [
    "# cell_stats_df.to_csv(\"/nas/groups/iber/Users/Federico_Carrara/Statistics_Collection/outputs/outputs_v4/stats_table.csv\")"
   ]
  },
  {
   "cell_type": "code",
   "execution_count": null,
   "metadata": {},
   "outputs": [],
   "source": [
    "# Specify numeric features you want to extract from the data\n",
    "num_features = [\n",
    "    'surface_area', 'volume', 'isoperimetric_ratio', \n",
    "    'num_neighbors', 'elongation',\n",
    "    'contact_area_fraction', 'mean_contact_area'\n",
    "]"
   ]
  },
  {
   "cell_type": "code",
   "execution_count": null,
   "metadata": {},
   "outputs": [],
   "source": [
    "# Extract dataframe with only ids and numerical features to make it more handy for plotting\n",
    "# The function also remove NA's\n",
    "numeric_cell_stats_df = sa.extract_numerical(\n",
    "    df=cell_stats_df,\n",
    "    numeric_features=num_features,\n",
    "    remove_na=True\n",
    ")"
   ]
  },
  {
   "cell_type": "code",
   "execution_count": null,
   "metadata": {},
   "outputs": [],
   "source": [
    "# numeric_cell_stats_df.to_csv(\"/nas/groups/iber/Users/Federico_Carrara/Statistics_Collection/outputs/outputs_v4/numerical_stats_table.csv\")"
   ]
  },
  {
   "cell_type": "code",
   "execution_count": null,
   "metadata": {},
   "outputs": [],
   "source": [
    "# Get standardized dataset (only numerical features)\n",
    "std_cell_stats_df = sa.standardize(\n",
    "    df=numeric_cell_stats_df,\n",
    "    numeric_features=num_features\n",
    ")\n",
    "std_cell_stats_df"
   ]
  },
  {
   "attachments": {},
   "cell_type": "markdown",
   "metadata": {},
   "source": [
    "##### TEMPORARY"
   ]
  },
  {
   "attachments": {},
   "cell_type": "markdown",
   "metadata": {},
   "source": [
    "Append PCA data to the numerical dataframe, store loadings and explained variance in a separate JSON file."
   ]
  },
  {
   "cell_type": "code",
   "execution_count": null,
   "metadata": {},
   "outputs": [],
   "source": [
    "### TEMPORARY ###\n",
    "# Add PCs to the table\n",
    "pcs, loadings, ex_var = sa.apply_PCA(\n",
    "    df=numeric_cell_stats_df,\n",
    "    numeric_features=num_features\n",
    ")"
   ]
  },
  {
   "cell_type": "code",
   "execution_count": null,
   "metadata": {},
   "outputs": [],
   "source": [
    "pca_cell_stats_df = numeric_cell_stats_df.copy()\n",
    "pca_cell_stats_df[\"PC1\"] = pcs[:, 0]\n",
    "pca_cell_stats_df[\"PC2\"] = pcs[:, 1]\n",
    "pca_cell_stats_df.to_csv(\"/nas/groups/iber/Users/Federico_Carrara/Statistics_Collection/outputs/outputs_v4/numerical_stats_table.csv\")"
   ]
  },
  {
   "cell_type": "code",
   "execution_count": null,
   "metadata": {},
   "outputs": [],
   "source": [
    "import json\n",
    "\n",
    "out_dict = {\n",
    "    \"features\": num_features,\n",
    "    \"PC1_coeffs\": list(loadings[0]),\n",
    "    \"PC2_coeffs\": list(loadings[1]),\n",
    "    \"explained_variance\": list(ex_var)\n",
    "}\n",
    "\n",
    "with open(\"/nas/groups/iber/Users/Federico_Carrara/Statistics_Collection/outputs/outputs_v4/pca_others.json\", \"w\") as file:\n",
    "    json.dump(out_dict, file, indent=4)"
   ]
  },
  {
   "attachments": {},
   "cell_type": "markdown",
   "metadata": {},
   "source": [
    "Collect Aboav_Law and Lewis_Law data"
   ]
  },
  {
   "cell_type": "code",
   "execution_count": null,
   "metadata": {},
   "outputs": [],
   "source": [
    "### TEMPORARY ###\n",
    "# Get a dictionary for the Lewis Law data\n",
    "lewis_dict = sa._get_lewis_law_2D_stats(\n",
    "    df=cell_stats_df,\n",
    "    principal_axis=True\n",
    ")\n",
    "\n",
    "# Save\n",
    "with open(\"/nas/groups/iber/Users/Federico_Carrara/Statistics_Collection/outputs/outputs_v4/lewis_data.json\", \"w\") as file:\n",
    "    json.dump(lewis_dict, file, indent=2)"
   ]
  },
  {
   "cell_type": "code",
   "execution_count": null,
   "metadata": {},
   "outputs": [],
   "source": [
    "### TEMPORARY ###\n",
    "# Get a dictionary for the Aboav Law data\n",
    "aboav_dict = sa._get_aboav_law_2D_stats(\n",
    "    df=cell_stats_df,\n",
    "    principal_axis=True\n",
    ")\n",
    "\n",
    "# Save\n",
    "with open(\"/nas/groups/iber/Users/Federico_Carrara/Statistics_Collection/outputs/outputs_v4/aboav_data.json\", \"w\") as file:\n",
    "    json.dump(aboav_dict, file, indent=2)"
   ]
  },
  {
   "attachments": {},
   "cell_type": "markdown",
   "metadata": {},
   "source": [
    "## 3. Make plots"
   ]
  },
  {
   "attachments": {},
   "cell_type": "markdown",
   "metadata": {},
   "source": [
    "For all the plotting function we would need a list of the numerical features of the dataframe to plot. <br>\n",
    "We also need specify a path to a directory in which to save all the plots."
   ]
  },
  {
   "cell_type": "code",
   "execution_count": null,
   "metadata": {},
   "outputs": [],
   "source": [
    "numerical_features = [\n",
    "    'surface_area', 'volume', 'isoperimetric_ratio', \n",
    "    'num_neighbors', 'elongation',\n",
    "    'contact_area_fraction', 'mean_contact_area'\n",
    "] # here you can also set the order of variables for the plots\n",
    "save_plots_dir = '../images/'"
   ]
  },
  {
   "cell_type": "code",
   "execution_count": null,
   "metadata": {},
   "outputs": [],
   "source": [
    "# Create a discrete colormap for plots (not used for correlation matrix)\n",
    "# Note: in the plotting functions you can either choose a used defined cmap like this one,\n",
    "# or a normal matplotlib colormap defined by a string (e.g., 'viridis')\n",
    "colors = np.array([\n",
    "    [102,194,165],\n",
    "    [252,141,98],\n",
    "    [141,160,203],\n",
    "    [231,138,195],\n",
    "    [166,216,84]\n",
    "]) / 255\n",
    "cell_cmap = sp.create_cmap(color_list = colors)\n",
    "cell_cmap"
   ]
  },
  {
   "attachments": {},
   "cell_type": "markdown",
   "metadata": {},
   "source": [
    "### 3.1. Correlation Matrix"
   ]
  },
  {
   "cell_type": "code",
   "execution_count": null,
   "metadata": {},
   "outputs": [],
   "source": [
    "sp.corr_matrix_plot(\n",
    "    df=std_cell_stats_df,\n",
    "    numerical_features=numerical_features,\n",
    "    standardize_data=False,\n",
    "    remove_outliers=True,\n",
    "    color_map = 'coolwarm',\n",
    "    save_dir=save_plots_dir,\n",
    "    show=True\n",
    ")"
   ]
  },
  {
   "attachments": {},
   "cell_type": "markdown",
   "metadata": {},
   "source": [
    "### 3.2. PCA plots"
   ]
  },
  {
   "cell_type": "code",
   "execution_count": null,
   "metadata": {},
   "outputs": [],
   "source": [
    "sp.pca_plots(\n",
    "    df=std_cell_stats_df,\n",
    "    numerical_features=numerical_features,\n",
    "    standardize_data=False,\n",
    "    remove_outliers=True,\n",
    "    color_map = cell_cmap,\n",
    "    save_dir=save_plots_dir,\n",
    "    show=True\n",
    ")"
   ]
  },
  {
   "attachments": {},
   "cell_type": "markdown",
   "metadata": {},
   "source": [
    "### 3.3. Grid of kdplots for different numerical features"
   ]
  },
  {
   "cell_type": "code",
   "execution_count": null,
   "metadata": {},
   "outputs": [],
   "source": [
    "uoms = [\n",
    "    '\\u00B5m' + '\\u00B2', \n",
    "    '\\u00B5m' + '\\u00B3', \n",
    "    None, \n",
    "    None,\n",
    "    None,\n",
    "    None,\n",
    "    '\\u00B5m' + '\\u00B2'\n",
    "]\n",
    "\n",
    "y_lims = [0.002, 0.002, 0.012, 0.25, 3.0, 14, 0.040]\n",
    "\n",
    "sp.features_grid_kdplots(\n",
    "    df=numeric_cell_stats_df,\n",
    "    features=numerical_features,\n",
    "    y_lims=y_lims,\n",
    "    remove_outliers=True,\n",
    "    units_of_measure=uoms,\n",
    "    color_map=cell_cmap,\n",
    "    save_dir=save_plots_dir,\n",
    "    show=True\n",
    ")"
   ]
  },
  {
   "attachments": {},
   "cell_type": "markdown",
   "metadata": {},
   "source": [
    "### 3.4. Lewis' Law plots\n",
    "\n",
    "Lewis' law states that the average apical area of cells having $n$ neighbors $\\bar{A}_n$ is linearly related to the number of neighbors $n$ itself. $\\newline$\n",
    "In particular we have the following relation:\n",
    "$$ \\frac{\\bar{A}_n}{\\bar{A}} = \\frac{n - 2}{4} $$\n",
    "In 3D we could have a similar relation for volumes, namely:\n",
    "$$ \\frac{\\bar{V}_n}{\\bar{V}} \\sim n $$\n"
   ]
  },
  {
   "cell_type": "code",
   "execution_count": null,
   "metadata": {},
   "outputs": [],
   "source": [
    "sp.lewis_law_plots(\n",
    "    df=numeric_cell_stats_df,\n",
    "    feature='volume',\n",
    "    fit_degrees=[1,2],\n",
    "    remove_outliers=True,\n",
    "    color_map=cell_cmap,\n",
    "    save_dir=save_plots_dir,\n",
    "    show=True\n",
    ")"
   ]
  },
  {
   "attachments": {},
   "cell_type": "markdown",
   "metadata": {},
   "source": [
    "### 3.5. Violin Plots for individual samples"
   ]
  },
  {
   "cell_type": "code",
   "execution_count": null,
   "metadata": {},
   "outputs": [],
   "source": [
    "sp.violin_plots(\n",
    "    df=numeric_cell_stats_df, \n",
    "    tissue='bladder',\n",
    "    features=numerical_features,\n",
    "    units_of_measure='m',\n",
    "    remove_outliers=True,\n",
    "    color_map=cell_cmap,\n",
    "    save_dir=None, \n",
    "    show=True\n",
    ")"
   ]
  },
  {
   "attachments": {},
   "cell_type": "markdown",
   "metadata": {},
   "source": [
    "### 3.7. Plots of 2D statistics along standard cartesian axes"
   ]
  },
  {
   "attachments": {},
   "cell_type": "markdown",
   "metadata": {},
   "source": [
    "#### 3.7.0. Number of 2D neighbors barplots"
   ]
  },
  {
   "cell_type": "code",
   "execution_count": null,
   "metadata": {},
   "outputs": [],
   "source": [
    "sp.num_neighbors_barplots(\n",
    "    df=cell_stats_df,\n",
    "    version='2D',\n",
    "    remove_outliers=True,\n",
    "    color_map=cell_cmap,\n",
    "    save_dir=save_plots_dir,\n",
    "    show=True\n",
    ")"
   ]
  },
  {
   "attachments": {},
   "cell_type": "markdown",
   "metadata": {},
   "source": [
    "#### 3.7.1. Lewis Law plots"
   ]
  },
  {
   "cell_type": "code",
   "execution_count": null,
   "metadata": {},
   "outputs": [],
   "source": [
    "sp.lewis_law_2D_plots(\n",
    "    df=cell_stats_df,\n",
    "    fit_degrees=None,\n",
    "    version='standard',\n",
    "    remove_outliers=True,\n",
    "    color_map=cell_cmap,\n",
    "    save_dir=save_plots_dir, \n",
    "    show=True\n",
    ")"
   ]
  },
  {
   "attachments": {},
   "cell_type": "markdown",
   "metadata": {},
   "source": [
    "#### 3.7.2. Aboav-Weaire Law plots\n",
    "\n",
    "The Aboav-Weaire law states that the average number of neighbours of all n cells that border a cell with n neighbours follows:\n",
    "\n",
    "$$ m(n) = 5 + \\frac{8}{n}$$"
   ]
  },
  {
   "cell_type": "code",
   "execution_count": null,
   "metadata": {},
   "outputs": [],
   "source": [
    "sp.aboav_wearie_2D_plots(\n",
    "    df=cell_stats_df,\n",
    "    version='standard',\n",
    "    remove_outliers=True,\n",
    "    color_map=cell_cmap,\n",
    "    save_dir=save_plots_dir,\n",
    "    show=True\n",
    ")"
   ]
  },
  {
   "attachments": {},
   "cell_type": "markdown",
   "metadata": {},
   "source": [
    "### 3.8. Plots of 2D statistics along apical-basal axis of cells"
   ]
  },
  {
   "attachments": {},
   "cell_type": "markdown",
   "metadata": {},
   "source": [
    "#### 3.8.1. Lewis Law plots"
   ]
  },
  {
   "cell_type": "code",
   "execution_count": null,
   "metadata": {},
   "outputs": [],
   "source": [
    "sp.lewis_law_2D_plots(\n",
    "    df=cell_stats_df,\n",
    "    fit_degrees=None,\n",
    "    version='principal',\n",
    "    remove_outliers=True,\n",
    "    color_map=cell_cmap,\n",
    "    save_dir=save_plots_dir, \n",
    "    show=True\n",
    ")"
   ]
  },
  {
   "attachments": {},
   "cell_type": "markdown",
   "metadata": {},
   "source": [
    "#### 3.8.2. Aboav-Weaire Law plots\n",
    "\n",
    "The Aboav-Weaire law states that the average number of neighbours of all n cells that border a cell with n neighbours follows:\n",
    "\n",
    "$$ m(n) = 5 + \\frac{8}{n}$$"
   ]
  },
  {
   "cell_type": "code",
   "execution_count": null,
   "metadata": {},
   "outputs": [],
   "source": [
    "sp.aboav_wearie_2D_plots(\n",
    "    df=cell_stats_df,\n",
    "    version='principal',\n",
    "    fitted=True,\n",
    "    remove_outliers=True,\n",
    "    color_map=cell_cmap,\n",
    "    save_dir=save_plots_dir,\n",
    "    show=True\n",
    ")"
   ]
  }
 ],
 "metadata": {
  "kernelspec": {
   "display_name": "3d-seg-fcarrara",
   "language": "python",
   "name": "python3"
  },
  "language_info": {
   "codemirror_mode": {
    "name": "ipython",
    "version": 3
   },
   "file_extension": ".py",
   "mimetype": "text/x-python",
   "name": "python",
   "nbconvert_exporter": "python",
   "pygments_lexer": "ipython3",
   "version": "3.10.12"
  },
  "orig_nbformat": 4
 },
 "nbformat": 4,
 "nbformat_minor": 2
}
