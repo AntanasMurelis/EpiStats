{
 "cells": [
  {
   "cell_type": "markdown",
   "metadata": {},
   "source": [
    "## Test 'creation of outer shell mesh'"
   ]
  },
  {
   "cell_type": "code",
   "execution_count": 1,
   "metadata": {},
   "outputs": [
    {
     "name": "stdout",
     "output_type": "stream",
     "text": [
      "Jupyter environment detected. Enabling Open3D WebVisualizer.\n",
      "[Open3D INFO] WebRTC GUI backend enabled.\n",
      "[Open3D INFO] WebRTCWindowSystem: HTTP handshake server disabled.\n"
     ]
    }
   ],
   "source": [
    "import os\n",
    "import napari\n",
    "import numpy as np\n",
    "from scipy.spatial import Delaunay\n",
    "from scipy.interpolate import LinearNDInterpolator, NearestNDInterpolator\n",
    "import trimesh\n",
    "import math\n",
    "import open3d as o3d\n",
    "from trimesh.proximity import signed_distance\n",
    "# from MeshPrep import create_outer_shell_mesh\n",
    "from trimesh.creation import icosphere\n",
    "from typing import List"
   ]
  },
  {
   "cell_type": "code",
   "execution_count": 2,
   "metadata": {},
   "outputs": [],
   "source": [
    "def create_sample_spheres(\n",
    "        n: int,\n",
    "        radiuses: List[float]\n",
    ") -> List[trimesh.Trimesh]:\n",
    "    \"\"\"\n",
    "    Create n spherical meshes displaced one next to the other and with centers aligned.\n",
    "\n",
    "    Parameters:\n",
    "    -----------\n",
    "    n: (int)\n",
    "        The number of spheres to create\n",
    "    radiuses: (List[int])\n",
    "        The radius of the spheres\n",
    "\n",
    "    Returns:\n",
    "    --------\n",
    "    spheres: (List[trimesh.Trimesh])\n",
    "        A list of meshes of spheres\n",
    "    \"\"\"\n",
    "    spheres = []\n",
    "    displacement = np.array([0.0, 0.0, 0.0])\n",
    "    for i in range(n):\n",
    "        curr_sphere = icosphere(radius=radiuses[i])\n",
    "        curr_sphere.vertices += displacement\n",
    "        displacement[0] += 2 * radiuses[i]\n",
    "        spheres.append(curr_sphere)\n",
    "\n",
    "    return spheres"
   ]
  },
  {
   "cell_type": "markdown",
   "metadata": {},
   "source": [
    "#### Example with spheres"
   ]
  },
  {
   "cell_type": "code",
   "execution_count": null,
   "metadata": {},
   "outputs": [],
   "source": [
    "spheres = create_sample_spheres(3, [1, 1, 1])"
   ]
  },
  {
   "cell_type": "code",
   "execution_count": null,
   "metadata": {},
   "outputs": [],
   "source": [
    "neighbors_lst = [[1], [0, 2], [1]]"
   ]
  },
  {
   "cell_type": "code",
   "execution_count": null,
   "metadata": {},
   "outputs": [
    {
     "name": "stdout",
     "output_type": "stream",
     "text": [
      "0.13828317354716763\n"
     ]
    }
   ],
   "source": [
    "# Calculate the length of each edge\n",
    "edges = spheres[0].edges\n",
    "edge_lengths = spheres[0].vertices[edges[:, 0]] - spheres[0].vertices[edges[:, 1]]\n",
    "edge_lengths = trimesh.util.row_norm(edge_lengths)\n",
    "\n",
    "# Get the shortest edge length\n",
    "shortest_edge_length = min(edge_lengths)\n",
    "print(shortest_edge_length)"
   ]
  },
  {
   "cell_type": "code",
   "execution_count": null,
   "metadata": {},
   "outputs": [
    {
     "name": "stdout",
     "output_type": "stream",
     "text": [
      "---------------------------------------------------\n",
      "Current mesh: <trimesh.Trimesh(vertices.shape=(642, 3), faces.shape=(1280, 3))>, curr neighbors: [1]\n",
      "Original num of vertices: (642, 3)\n",
      "Max distance: 2.0, mean: 1.168977044593609, std: 0.5526613728851824\n",
      "Remaining num of vertices: (635, 3)\n",
      "---------------------------------------------------\n",
      "Current mesh: <trimesh.Trimesh(vertices.shape=(642, 3), faces.shape=(1280, 3))>, curr neighbors: [0, 2]\n",
      "Original num of vertices: (642, 3)\n",
      "Max distance: 2.0, mean: 1.168977044593609, std: 0.5526613728851824\n",
      "Remaining num of vertices: (635, 3)\n",
      "Max distance: 1.98105595120421, mean: 1.15987007327802, std: 0.5488123902392724\n",
      "Remaining num of vertices: (628, 3)\n",
      "---------------------------------------------------\n",
      "Current mesh: <trimesh.Trimesh(vertices.shape=(642, 3), faces.shape=(1280, 3))>, curr neighbors: [1]\n",
      "Original num of vertices: (642, 3)\n",
      "Max distance: 2.0, mean: 1.168977044593609, std: 0.5526613728851824\n",
      "Remaining num of vertices: (635, 3)\n"
     ]
    }
   ],
   "source": [
    "outer_shell_mesh, outer_shell_cloud, outer_shell_pts = create_outer_shell_mesh(\n",
    "    spheres,\n",
    "    neighbors_lst,\n",
    "    shortest_edge_length / 3,\n",
    "    shortest_edge_length / 3\n",
    ")"
   ]
  },
  {
   "cell_type": "code",
   "execution_count": null,
   "metadata": {},
   "outputs": [
    {
     "data": {
      "text/plain": [
       "<Points layer 'outer_shell_pts' at 0x1bb4ebe2e60>"
      ]
     },
     "metadata": {},
     "output_type": "display_data"
    }
   ],
   "source": [
    "viewer = napari.Viewer()\n",
    "for sphere in spheres:\n",
    "    viewer.add_surface((sphere.vertices, sphere.faces))\n",
    "viewer.add_surface((outer_shell_mesh.vertices, outer_shell_mesh.faces), opacity=0.5, blending=\"additive\")\n",
    "viewer.add_points(outer_shell_pts, face_color=\"red\", size=0.1)"
   ]
  },
  {
   "cell_type": "code",
   "execution_count": null,
   "metadata": {},
   "outputs": [
    {
     "data": {
      "text/plain": [
       "True"
      ]
     },
     "metadata": {},
     "output_type": "display_data"
    }
   ],
   "source": [
    "o3d.io.write_point_cloud(r\"../../../shell_pcd_2.ply\", outer_shell_cloud)"
   ]
  },
  {
   "cell_type": "markdown",
   "metadata": {},
   "source": [
    "#### Example with cell meshes"
   ]
  },
  {
   "cell_type": "code",
   "execution_count": null,
   "metadata": {},
   "outputs": [],
   "source": [
    "mesh1 = trimesh.load_mesh(r\"N:\\Users\\Federico_Carrara\\Meshes_for_Simulation\\examples\\cell_clump_intestine\\cell_clumps\\clean_clump_16_cells\\clean_meshes\\cell_210.stl\")\n",
    "mesh2 = trimesh.load_mesh(r\"N:\\Users\\Federico_Carrara\\Meshes_for_Simulation\\examples\\cell_clump_intestine\\cell_clumps\\clean_clump_16_cells\\clean_meshes\\cell_228.stl\")"
   ]
  },
  {
   "cell_type": "code",
   "execution_count": null,
   "metadata": {},
   "outputs": [
    {
     "name": "stdout",
     "output_type": "stream",
     "text": [
      "0.09302981215157372\n"
     ]
    }
   ],
   "source": [
    "mesh_lst = [mesh1, mesh2]\n",
    "neighbors_lst = [[1], [0]]\n",
    "\n",
    "# Calculate the length of each edge\n",
    "edges = mesh1.edges\n",
    "edge_lengths = mesh1.vertices[edges[:, 0]] - mesh1.vertices[edges[:, 1]]\n",
    "edge_lengths = trimesh.util.row_norm(edge_lengths)\n",
    "\n",
    "# Get the shortest edge length\n",
    "shortest_edge_length = min(edge_lengths)\n",
    "print(shortest_edge_length)"
   ]
  },
  {
   "cell_type": "code",
   "execution_count": null,
   "metadata": {},
   "outputs": [
    {
     "name": "stdout",
     "output_type": "stream",
     "text": [
      "---------------------------------------------------\n",
      "Current mesh: <trimesh.Trimesh(vertices.shape=(17361, 3), faces.shape=(34722, 3))>, curr neighbors: [1]\n",
      "Original num of vertices: (17361, 3)\n"
     ]
    }
   ],
   "source": [
    "outer_shell_mesh, outer_shell_cloud, outer_shell_pts = create_outer_shell_mesh(\n",
    "    mesh_lst,\n",
    "    neighbors_lst,\n",
    "    shortest_edge_length / 3,\n",
    "    shortest_edge_length / 3\n",
    ")"
   ]
  },
  {
   "cell_type": "markdown",
   "metadata": {},
   "source": [
    "### Test new OOP approach"
   ]
  },
  {
   "cell_type": "markdown",
   "metadata": {},
   "source": [
    "Get outer shell from single meshes"
   ]
  },
  {
   "cell_type": "code",
   "execution_count": 3,
   "metadata": {},
   "outputs": [],
   "source": [
    "from OuterShell import ExtendedTrimesh, OuterShell"
   ]
  },
  {
   "cell_type": "code",
   "execution_count": 5,
   "metadata": {},
   "outputs": [],
   "source": [
    "### SPHERES ###\n",
    "\n",
    "# Initialize synthtic input\n",
    "spheres = create_sample_spheres(3, [1, 1, 1])\n",
    "neighbors_lst = [[1], [0, 2], [1]]\n",
    "\n",
    "# Calculate the length of each edge\n",
    "edges = spheres[0].edges\n",
    "edge_lengths = spheres[0].vertices[edges[:, 0]] - spheres[0].vertices[edges[:, 1]]\n",
    "edge_lengths = trimesh.util.row_norm(edge_lengths)\n",
    "\n",
    "# Get the shortest edge length\n",
    "shortest_edge_length = min(edge_lengths)\n",
    "\n",
    "# Transform in ExtendedTrimesh format\n",
    "extended_meshes = []\n",
    "for i, sphere in enumerate(spheres):\n",
    "    extended_meshes.append(ExtendedTrimesh(neighbors=neighbors_lst[i], vertices=sphere.vertices, faces=sphere.faces))"
   ]
  },
  {
   "cell_type": "code",
   "execution_count": 7,
   "metadata": {},
   "outputs": [
    {
     "name": "stdout",
     "output_type": "stream",
     "text": [
      "0.08826070100385765\n"
     ]
    }
   ],
   "source": [
    "### CELL MESHES ###\n",
    "root_dir = r\"N:\\Users\\Federico_Carrara\\Meshes_for_Simulation\\examples\\cell_clump_intestine\\cell_clumps\\clean_clump_16_cells\\clean_meshes\"\n",
    "mesh1 = trimesh.load_mesh(os.path.join(root_dir, \"cell_193.stl\"))\n",
    "mesh2 = trimesh.load_mesh(os.path.join(root_dir, \"cell_228.stl\"))\n",
    "mesh3 = trimesh.load_mesh(os.path.join(root_dir, \"cell_171.stl\"))\n",
    "\n",
    "mesh_lst = [mesh1, mesh2, mesh3]\n",
    "neighbors_lst = [[1, 2], [0, 2], [0, 1]]\n",
    "\n",
    "# Calculate the length of each edge\n",
    "edges = mesh1.edges\n",
    "edge_lengths = mesh1.vertices[edges[:, 0]] - mesh1.vertices[edges[:, 1]]\n",
    "edge_lengths = trimesh.util.row_norm(edge_lengths)\n",
    "\n",
    "# Get the shortest edge length\n",
    "shortest_edge_length = min(edge_lengths)\n",
    "print(shortest_edge_length)\n",
    "\n",
    "# Transform in ExtendedTrimesh format\n",
    "extended_meshes = []\n",
    "for i, mesh in enumerate(mesh_lst):\n",
    "    extended_meshes.append(ExtendedTrimesh(neighbors=neighbors_lst[i], vertices=mesh.vertices, faces=mesh.faces))"
   ]
  },
  {
   "cell_type": "code",
   "execution_count": 8,
   "metadata": {},
   "outputs": [],
   "source": [
    "outer_shell = OuterShell(\n",
    "    meshes=extended_meshes, \n",
    "    neighbors_lst=neighbors_lst, \n",
    "    min_edge_length=shortest_edge_length\n",
    ")"
   ]
  },
  {
   "cell_type": "code",
   "execution_count": 9,
   "metadata": {},
   "outputs": [],
   "source": [
    "outer_shell.get_shell_point_cloud(dist_threshold=10)"
   ]
  },
  {
   "cell_type": "code",
   "execution_count": 10,
   "metadata": {},
   "outputs": [
    {
     "data": {
      "text/plain": [
       "<Points layer 'Points' at 0x2085ecde7d0>"
      ]
     },
     "execution_count": 10,
     "metadata": {},
     "output_type": "execute_result"
    }
   ],
   "source": [
    "viewer = napari.Viewer()\n",
    "viewer.add_points(outer_shell.points, size=0.1)"
   ]
  },
  {
   "cell_type": "code",
   "execution_count": 12,
   "metadata": {},
   "outputs": [
    {
     "data": {
      "text/plain": [
       "<Points layer 'k_closest_pts_3' at 0x20873592aa0>"
      ]
     },
     "execution_count": 12,
     "metadata": {},
     "output_type": "execute_result"
    }
   ],
   "source": [
    "# # Check that k-closest points are correctly extracted\n",
    "# k_closest_idxs_1 = np.concatenate([\n",
    "#     outer_shell._meshes[0].k_closest_dict[1],\n",
    "#     outer_shell._meshes[0].k_closest_dict[2],\n",
    "# ])\n",
    "# k_closest_idxs_2 = np.concatenate([\n",
    "#     outer_shell._meshes[1].k_closest_dict[0],\n",
    "#     outer_shell._meshes[1].k_closest_dict[2],\n",
    "# ])\n",
    "# k_closest_idxs_3 = np.concatenate([\n",
    "#     outer_shell._meshes[2].k_closest_dict[0],\n",
    "#     outer_shell._meshes[2].k_closest_dict[1],\n",
    "# ])\n",
    "\n",
    "# k_closest_pts_1 = outer_shell._meshes[0].points[k_closest_idxs_1]\n",
    "# k_closest_pts_2 = outer_shell._meshes[1].points[k_closest_idxs_2]\n",
    "# k_closest_pts_3 = outer_shell._meshes[2].points[k_closest_idxs_3]\n",
    "\n",
    "# viewer = napari.Viewer()\n",
    "# viewer.add_points(outer_shell.points, size=0.1)\n",
    "# viewer.add_points(k_closest_pts_1, size=0.1, face_color=\"green\")\n",
    "# viewer.add_points(k_closest_pts_2, size=0.1, face_color=\"red\")\n",
    "# viewer.add_points(k_closest_pts_3, size=0.1, face_color=\"orange\")"
   ]
  },
  {
   "cell_type": "markdown",
   "metadata": {},
   "source": [
    "#### Interpolation trials"
   ]
  },
  {
   "cell_type": "markdown",
   "metadata": {},
   "source": [
    "##### 1. Fit a global model, evaluate it on the gaps\n",
    "Pros:\n",
    "- Global model allows to capture features common to all the point cloud and extend them to the gaps\n",
    "\n",
    "Cons:\n",
    "- Parameters may depend on the particular sample/shape, and hence it would be difficult to generalize.\n",
    "- It is not trivial to individuate gaps and to place appropriate sampling grids. "
   ]
  },
  {
   "cell_type": "code",
   "execution_count": null,
   "metadata": {},
   "outputs": [],
   "source": [
    "# Train the chosen model on existing data\n",
    "x, y, z = outer_shell.points[:, 0], outer_shell.points[:, 1], outer_shell.points[:, 2]\n",
    "model = NearestNDInterpolator(np.column_stack([x, y]), z)\n",
    "\n",
    "### Get grid of x, y values at the gaps\n",
    "# 0. Compute the step of the grid as the average distance between points over all the meshes\n",
    "grid_step = np.mean([mesh.mean_point_distance for mesh in outer_shell._meshes]) / math.sqrt(2)\n",
    "\n",
    "# 1. Get all pairs of neighbors\n",
    "neighbor_pairs = set()\n",
    "for idx, neighbors in enumerate(outer_shell._neighbors_lst):\n",
    "    for neighbor in neighbors:\n",
    "        pair = tuple(sorted((idx, neighbor)))\n",
    "        neighbor_pairs.add(pair)\n",
    "\n",
    "# 2. For each pair:\n",
    "new_shell_points = []\n",
    "all_closest_points = []\n",
    "pred_grids = []\n",
    "for idx_1, idx_2 in neighbor_pairs:\n",
    "    # 2.a. Get closest points for each cell in the pair\n",
    "    mesh_1, mesh_2 = outer_shell._meshes[idx_1], outer_shell._meshes[idx_2]\n",
    "    closest_point_idxs_1 = mesh_1.k_closest_dict[idx_2]\n",
    "    closest_point_idxs_2 = mesh_2.k_closest_dict[idx_1]\n",
    "    closest_points = np.concatenate(\n",
    "        [mesh_1.points[closest_point_idxs_1], mesh_2.points[closest_point_idxs_2]]\n",
    "    )\n",
    "    all_closest_points.append(closest_points)\n",
    "\n",
    "    # 2.b. Compute grid taking closest points extema on x and y\n",
    "    max_x = np.max(closest_points[:, 0])\n",
    "    min_x = np.min(closest_points[:, 0])\n",
    "    num_x = int((max_x - min_x) / grid_step)\n",
    "    max_y = np.max(closest_points[:, 1])\n",
    "    min_y = np.min(closest_points[:, 1])\n",
    "    num_y = int((max_y - min_y) / grid_step)\n",
    "    x_grid = np.linspace(min_x, max_x, num_x)\n",
    "    y_grid = np.linspace(min_y, max_y, num_y)\n",
    "    X, Y = np.meshgrid(x_grid, y_grid)\n",
    "    X, Y = X.ravel(), Y.ravel()\n",
    "    pred_grids.append(np.column_stack([X, Y, np.zeros_like(X)]))\n",
    "\n",
    "    # 3. Predict on the newly created grid\n",
    "    Z_pred = model(X, Y)\n",
    "    \n",
    "    pred_points = np.column_stack([X, Y, Z_pred.ravel()])\n",
    "    new_shell_points.append(pred_points)\n",
    "\n",
    "new_shell_points = np.vstack(new_shell_points)\n",
    "all_closest_points = np.vstack(all_closest_points)\n",
    "pred_grids = np.vstack(pred_grids)"
   ]
  },
  {
   "cell_type": "code",
   "execution_count": null,
   "metadata": {},
   "outputs": [
    {
     "data": {
      "text/plain": [
       "<Points layer 'pred_grids' at 0x19cb4860f40>"
      ]
     },
     "metadata": {},
     "output_type": "display_data"
    }
   ],
   "source": [
    "viewer = napari.Viewer()\n",
    "viewer.add_points(new_shell_points, size=0.1, face_color=\"green\")\n",
    "viewer.add_points(outer_shell.points, size=0.1)\n",
    "viewer.add_points(all_closest_points, size=0.1, face_color=\"red\")\n",
    "viewer.add_points(pred_grids, size=0.1, face_color=\"blue\")"
   ]
  },
  {
   "cell_type": "markdown",
   "metadata": {},
   "source": [
    "##### 2. KNN interpolation\n",
    "IDEA: Instead of placing grids arbitrarily on the gaps, do the following:\n",
    "- Compute the distance from each point to its nearest neighbor (edge length)\n",
    "- Now consider the points for which edge length exceeds a certain threshold (e.g. 2 * std). These points are likely to be placed on gaps.\n",
    "- For each of such points, find the KNN and place a new point in the coordinate barycenter of the neighbors.\n",
    "\n",
    "The result should be an evenly spaced grid!\n",
    "\n",
    "CAZZATA -> If I consider the whole outer shell point cloud, I cannot find gaps in this way as the nearest neigbor for a given point will always be on the same mesh and not on a neighboring one. "
   ]
  },
  {
   "cell_type": "code",
   "execution_count": 25,
   "metadata": {},
   "outputs": [],
   "source": [
    "pc = o3d.geometry.PointCloud()\n",
    "pc.points = o3d.utility.Vector3dVector(outer_shell.points)\n",
    "nearest_distances = np.asarray(pc.compute_nearest_neighbor_distance())\n",
    "mean_nearest_distances, std_nearest_distances = np.mean(nearest_distances), np.std(nearest_distances)"
   ]
  },
  {
   "cell_type": "code",
   "execution_count": 26,
   "metadata": {},
   "outputs": [],
   "source": [
    "gap_mask = np.logical_or(\n",
    "    nearest_distances > mean_nearest_distances + 2 * std_nearest_distances,\n",
    "    nearest_distances < mean_nearest_distances - 2 * std_nearest_distances\n",
    ")\n",
    "gap_points = outer_shell.points[gap_mask]"
   ]
  },
  {
   "cell_type": "code",
   "execution_count": 27,
   "metadata": {},
   "outputs": [
    {
     "data": {
      "text/plain": [
       "<Points layer 'gap_points' at 0x19db2c3abc0>"
      ]
     },
     "execution_count": 27,
     "metadata": {},
     "output_type": "execute_result"
    }
   ],
   "source": [
    "viewer = napari.Viewer()\n",
    "viewer.add_points(outer_shell.points, size=0.1)\n",
    "viewer.add_points(gap_points, size=0.1, face_color=\"red\")"
   ]
  },
  {
   "cell_type": "code",
   "execution_count": null,
   "metadata": {},
   "outputs": [],
   "source": [
    "outer_shell.interpolate_gaps('spline')"
   ]
  },
  {
   "cell_type": "markdown",
   "metadata": {},
   "source": [
    "##### 3. Linear Interpolation between mesh borders\n",
    "ALGORITHM:\n",
    "- Find \"borders\" of cell meshes (i.e., single layers of points that are the closest to another mesh). \n",
    "- For each mesh border:\n",
    "    - For each point of the border:\n",
    "        - Find closest point on the neighboring cell border\n",
    "        - Sample points on the line that join these 2 points "
   ]
  },
  {
   "cell_type": "code",
   "execution_count": null,
   "metadata": {},
   "outputs": [],
   "source": [
    "# 1. Get all pairs of neighbors\n",
    "neighbor_pairs = set()\n",
    "for idx, neighbors in enumerate(outer_shell._neighbors_lst):\n",
    "    for neighbor in neighbors:\n",
    "        pair = tuple(sorted((idx, neighbor)))\n",
    "        neighbor_pairs.add(pair)\n",
    "\n",
    "# 2. Iterate over the neighbor pairs\n",
    "for idx_1, idx_2 in neighbor_pairs:\n",
    "    # 2.a. Get closest points for each cell in the pair\n",
    "    mesh_1, mesh_2 = outer_shell._meshes[idx_1], outer_shell._meshes[idx_2]\n",
    "    closest_point_idxs_1 = mesh_1.k_closest_dict[idx_2]\n",
    "    closest_point_idxs_2 = mesh_2.k_closest_dict[idx_1]\n",
    "    closest_points_1 = mesh_1.points[closest_point_idxs_1]\n",
    "    closest_points_2 = mesh_2.points[closest_point_idxs_2]\n",
    "\n",
    "    # 2.b."
   ]
  }
 ],
 "metadata": {
  "kernelspec": {
   "display_name": "Python 3",
   "language": "python",
   "name": "python3"
  },
  "language_info": {
   "codemirror_mode": {
    "name": "ipython",
    "version": 3
   },
   "file_extension": ".py",
   "mimetype": "text/x-python",
   "name": "python",
   "nbconvert_exporter": "python",
   "pygments_lexer": "ipython3",
   "version": "3.10.12"
  },
  "orig_nbformat": 4
 },
 "nbformat": 4,
 "nbformat_minor": 2
}
