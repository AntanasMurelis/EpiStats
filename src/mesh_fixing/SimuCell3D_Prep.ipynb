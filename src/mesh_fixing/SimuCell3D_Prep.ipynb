{
 "cells": [
  {
   "attachments": {},
   "cell_type": "markdown",
   "metadata": {},
   "source": [
    "### Mesh processing for SimuCell3D\n",
    "\n",
    "This notebook outlines how to generate a geometry for the SimuCell3D."
   ]
  },
  {
   "cell_type": "code",
   "execution_count": 1,
   "metadata": {},
   "outputs": [
    {
     "name": "stdout",
     "output_type": "stream",
     "text": [
      "Jupyter environment detected. Enabling Open3D WebVisualizer.\n",
      "[Open3D INFO] WebRTC GUI backend enabled.\n",
      "[Open3D INFO] WebRTCWindowSystem: HTTP handshake server disabled.\n"
     ]
    }
   ],
   "source": [
    "import os\n",
    "import numpy as np\n",
    "from MeshPrep import convert_filtered_meshes\n",
    "from MeshPrep import mesh_process_clean, string_to_array"
   ]
  },
  {
   "attachments": {},
   "cell_type": "markdown",
   "metadata": {},
   "source": [
    "#### 1. Cleaning the labels\n",
    "\n",
    "The labels generated from manual curation should be processesed before passing through the geometry generation. Strongly recommended step. Generates meshes which may be used for manual cell patch selection using paraview.\n",
    "\n",
    "NOTE: You can skip this step in case you already have the output from the *statistics collection* pipeline."
   ]
  },
  {
   "cell_type": "code",
   "execution_count": null,
   "metadata": {},
   "outputs": [],
   "source": [
    "# root = '../outputs/outputs_v3/output_lung_new_sample_b_curated_segmentation_central_crop_relabel_seq_s_10_e_6_d_8/'"
   ]
  },
  {
   "cell_type": "code",
   "execution_count": null,
   "metadata": {},
   "outputs": [],
   "source": [
    "# voxel_resolution = np.array([0.1625, 0.1625, 0.25])\n",
    "# label_path = os.path.join(root, 'processed_labels.tif')"
   ]
  },
  {
   "cell_type": "code",
   "execution_count": null,
   "metadata": {},
   "outputs": [],
   "source": [
    "# from VoxelProcessing import full_label_processing\n",
    "\n",
    "# output_folder='path/folder/to/save/processed/labels'\n",
    "# cell_info = full_label_processing(labeled_img=label_path, voxel_resolution=voxel_resolution, output_folder=output_folder, smoothing_iterations=10)\n",
    "# label_path = os.path.join(output_folder, \"processed_labels.npy\")\n",
    "# filtered_cell_list = cell_info[2]"
   ]
  },
  {
   "attachments": {},
   "cell_type": "markdown",
   "metadata": {},
   "source": [
    "#### 2. Select patch of cells for Simulations\n",
    "\n",
    "To select smaller patches of cells for simulation one may load the labeled image in *napari* and select cells manually, or load meshes on *paraview* and use the existing tools (*suggested*). To see how to use paraview look [here](Tutorials/LabelSelection.md)."
   ]
  },
  {
   "cell_type": "markdown",
   "metadata": {},
   "source": [
    "Before extracting a patch of cells, it is helpful to exclude all the cells that are cut or touch the border."
   ]
  },
  {
   "cell_type": "code",
   "execution_count": null,
   "metadata": {},
   "outputs": [],
   "source": [
    "from misc import get_valid_cell_ids\n",
    "\n",
    "root = '../outputs/outputs_v3/output_lung_new_sample_b_curated_segmentation_central_crop_relabel_seq_s_10_e_6_d_8/'\n",
    "\n",
    "filtered_cell_list = get_valid_cell_ids(os.path.join(root, 'cell_stats/stats_dataset_lung_bronchiole.csv'))"
   ]
  },
  {
   "cell_type": "code",
   "execution_count": null,
   "metadata": {},
   "outputs": [],
   "source": [
    "# The directory from which mesh files are loaded in stl format\n",
    "source_mesh_path = os.path.join(root, 'cell_meshes')\n",
    "\n",
    "# The directory in which filtered meshes will be saved in vtk format\n",
    "dest_mesh_path = '../../Meshes_for_Simulation/examples/cell_clump_bronchiole' \n",
    "\n",
    "convert_filtered_meshes(source_mesh_path, dest_mesh_path, filtered_cell_list)"
   ]
  },
  {
   "attachments": {},
   "cell_type": "markdown",
   "metadata": {},
   "source": [
    "Now you can open the `.vtk` mesh files in paraview and select a clump of cells for simulation."
   ]
  },
  {
   "attachments": {},
   "cell_type": "markdown",
   "metadata": {},
   "source": [
    "#### 3. Mesh Refinemnent for SimuCell3D\n",
    "SimuCell3D pipeline requires rather smooth and regular meshes to work propetly.\n",
    "The following cell is meant to generate and refine meshes for SimuCell3D simulation framework. \n",
    "\n",
    "NOTE: Ensure that the path to labels is of cleaned, processed labels. "
   ]
  },
  {
   "cell_type": "code",
   "execution_count": 3,
   "metadata": {},
   "outputs": [
    {
     "name": "stdout",
     "output_type": "stream",
     "text": [
      "-------------------------------------------\n",
      "Creating meshes from labeled img...\n"
     ]
    },
    {
     "name": "stderr",
     "output_type": "stream",
     "text": [
      "Converting labels to meshes:  19%|█▉        | 3/16 [00:55<03:59, 18.46s/it]\n"
     ]
    },
    {
     "ename": "KeyboardInterrupt",
     "evalue": "",
     "output_type": "error",
     "traceback": [
      "\u001b[0;31m---------------------------------------------------------------------------\u001b[0m",
      "\u001b[0;31mKeyboardInterrupt\u001b[0m                         Traceback (most recent call last)",
      "Cell \u001b[0;32mIn[3], line 10\u001b[0m\n\u001b[1;32m      7\u001b[0m output_dir \u001b[39m=\u001b[39m \u001b[39m'\u001b[39m\u001b[39m/nas/groups/iber/Users/Federico_Carrara/Meshes_for_Simulation/examples/cell_clump_intestine/cell_clumps/clean_clump_16_cells/clean_meshes_v2/\u001b[39m\u001b[39m'\u001b[39m\n\u001b[1;32m      9\u001b[0m \u001b[39m# Call the mesh_process_clean function\u001b[39;00m\n\u001b[0;32m---> 10\u001b[0m mesh_process_clean(\n\u001b[1;32m     11\u001b[0m     label_path\u001b[39m=\u001b[39;49mlabel_path, \n\u001b[1;32m     12\u001b[0m     output_dir\u001b[39m=\u001b[39;49moutput_dir, \n\u001b[1;32m     13\u001b[0m     label_list\u001b[39m=\u001b[39;49mlabel_list, \n\u001b[1;32m     14\u001b[0m     voxel_resolution\u001b[39m=\u001b[39;49mvoxel_resolution,\n\u001b[1;32m     15\u001b[0m     path_to_cell_stats_df\u001b[39m=\u001b[39;49mstats_df_path, \n\u001b[1;32m     16\u001b[0m     scale_factor\u001b[39m=\u001b[39;49m\u001b[39m1e-6\u001b[39;49m, \n\u001b[1;32m     17\u001b[0m     min_edge_length\u001b[39m=\u001b[39;49m\u001b[39m0.5\u001b[39;49m,\n\u001b[1;32m     18\u001b[0m     make_shell\u001b[39m=\u001b[39;49m\u001b[39mTrue\u001b[39;49;00m,\n\u001b[1;32m     19\u001b[0m     inter_meshes\u001b[39m=\u001b[39;49m\u001b[39mFalse\u001b[39;49;00m\n\u001b[1;32m     20\u001b[0m )\n",
      "File \u001b[0;32m/nas/groups/iber/Users/Federico_Carrara/Statistics_Collection/EpiStats/src/mesh_fixing/MeshPrep.py:976\u001b[0m, in \u001b[0;36mmesh_process_clean\u001b[0;34m(label_path, output_dir, label_list, voxel_resolution, path_to_cell_stats_df, scale_factor, min_edge_length, make_shell, shell_type, inter_meshes)\u001b[0m\n\u001b[1;32m    944\u001b[0m \u001b[39m\"\"\"\u001b[39;00m\n\u001b[1;32m    945\u001b[0m \u001b[39mThis function processes a mesh by cleaning, remeshing, converting to vtk format, merging, and adding cell data for SimuCell3D.\u001b[39;00m\n\u001b[1;32m    946\u001b[0m \u001b[39m\u001b[39;00m\n\u001b[0;32m   (...)\u001b[0m\n\u001b[1;32m    972\u001b[0m \u001b[39m- str: The path to the final merged vtk file.\u001b[39;00m\n\u001b[1;32m    973\u001b[0m \u001b[39m\"\"\"\u001b[39;00m\n\u001b[1;32m    975\u001b[0m \u001b[39m# Create the meshes\u001b[39;00m\n\u001b[0;32m--> 976\u001b[0m unclean_mesh_dir \u001b[39m=\u001b[39m create_and_export_meshes(\n\u001b[1;32m    977\u001b[0m     cell_labels\u001b[39m=\u001b[39;49mlabel_list, \n\u001b[1;32m    978\u001b[0m     image_path\u001b[39m=\u001b[39;49mlabel_path, \n\u001b[1;32m    979\u001b[0m     output_dir\u001b[39m=\u001b[39;49moutput_dir, \n\u001b[1;32m    980\u001b[0m     path_to_cell_stats_df\u001b[39m=\u001b[39;49mpath_to_cell_stats_df,\n\u001b[1;32m    981\u001b[0m     voxel_resolution\u001b[39m=\u001b[39;49mvoxel_resolution, \n\u001b[1;32m    982\u001b[0m     make_shell\u001b[39m=\u001b[39;49mmake_shell,\n\u001b[1;32m    983\u001b[0m     shell_type\u001b[39m=\u001b[39;49mshell_type\n\u001b[1;32m    984\u001b[0m )\n\u001b[1;32m    986\u001b[0m \u001b[39m# Clean the meshes for the first time\u001b[39;00m\n\u001b[1;32m    987\u001b[0m \u001b[39mprint\u001b[39m(\u001b[39m'\u001b[39m\u001b[39m-------------------------------------------\u001b[39m\u001b[39m'\u001b[39m)\n",
      "File \u001b[0;32m/nas/groups/iber/Users/Federico_Carrara/Statistics_Collection/EpiStats/src/mesh_fixing/MeshPrep.py:887\u001b[0m, in \u001b[0;36mcreate_and_export_meshes\u001b[0;34m(cell_labels, image_path, output_dir, voxel_resolution, path_to_cell_stats_df, make_shell, shell_type, smoothing_iterations, dilation_iterations, closing_iterations)\u001b[0m\n\u001b[1;32m    884\u001b[0m     mask \u001b[39m=\u001b[39m np\u001b[39m.\u001b[39marray(labeled_img \u001b[39m==\u001b[39m label)\u001b[39m.\u001b[39mastype(\u001b[39mint\u001b[39m)\n\u001b[1;32m    886\u001b[0m     \u001b[39m# Create a mesh from the mask using trimesh\u001b[39;00m\n\u001b[0;32m--> 887\u001b[0m     mesh \u001b[39m=\u001b[39m convert_cell_labels_to_meshes(\n\u001b[1;32m    888\u001b[0m         mask, voxel_resolution\u001b[39m=\u001b[39;49mvoxel_resolution, smoothing_iterations\u001b[39m=\u001b[39;49msmoothing_iterations\n\u001b[1;32m    889\u001b[0m     )\n\u001b[1;32m    890\u001b[0m     mesh_lst\u001b[39m.\u001b[39mappend(mesh)\n\u001b[1;32m    892\u001b[0m \u001b[39m# Make a combined mesh\u001b[39;00m\n",
      "File \u001b[0;32m/nas/groups/iber/Users/Federico_Carrara/Statistics_Collection/EpiStats/src/mesh_fixing/MeshPrep.py:702\u001b[0m, in \u001b[0;36mconvert_cell_labels_to_meshes\u001b[0;34m(img, voxel_resolution, smoothing_iterations, output_directory, pad_width)\u001b[0m\n\u001b[1;32m    699\u001b[0m img_padded \u001b[39m=\u001b[39m np\u001b[39m.\u001b[39mpad(img, pad_width\u001b[39m=\u001b[39mpad_width, mode\u001b[39m=\u001b[39m\u001b[39m'\u001b[39m\u001b[39mconstant\u001b[39m\u001b[39m'\u001b[39m, constant_values\u001b[39m=\u001b[39m\u001b[39m0\u001b[39m)\n\u001b[1;32m    701\u001b[0m mesh_lst \u001b[39m=\u001b[39m []\n\u001b[0;32m--> 702\u001b[0m label_ids \u001b[39m=\u001b[39m np\u001b[39m.\u001b[39;49munique(img_padded)\n\u001b[1;32m    704\u001b[0m meshes_folder \u001b[39m=\u001b[39m os\u001b[39m.\u001b[39mpath\u001b[39m.\u001b[39mjoin(output_directory, \u001b[39m'\u001b[39m\u001b[39mcell_meshes\u001b[39m\u001b[39m'\u001b[39m)\n\u001b[1;32m    705\u001b[0m \u001b[39mif\u001b[39;00m \u001b[39mnot\u001b[39;00m os\u001b[39m.\u001b[39mpath\u001b[39m.\u001b[39mexists(meshes_folder):\n",
      "File \u001b[0;32m/local0/fcarrara/mambaforge/envs/mesh-prep/lib/python3.10/site-packages/numpy/lib/arraysetops.py:274\u001b[0m, in \u001b[0;36munique\u001b[0;34m(ar, return_index, return_inverse, return_counts, axis, equal_nan)\u001b[0m\n\u001b[1;32m    272\u001b[0m ar \u001b[39m=\u001b[39m np\u001b[39m.\u001b[39masanyarray(ar)\n\u001b[1;32m    273\u001b[0m \u001b[39mif\u001b[39;00m axis \u001b[39mis\u001b[39;00m \u001b[39mNone\u001b[39;00m:\n\u001b[0;32m--> 274\u001b[0m     ret \u001b[39m=\u001b[39m _unique1d(ar, return_index, return_inverse, return_counts, \n\u001b[1;32m    275\u001b[0m                     equal_nan\u001b[39m=\u001b[39;49mequal_nan)\n\u001b[1;32m    276\u001b[0m     \u001b[39mreturn\u001b[39;00m _unpack_tuple(ret)\n\u001b[1;32m    278\u001b[0m \u001b[39m# axis was specified and not None\u001b[39;00m\n",
      "File \u001b[0;32m/local0/fcarrara/mambaforge/envs/mesh-prep/lib/python3.10/site-packages/numpy/lib/arraysetops.py:336\u001b[0m, in \u001b[0;36m_unique1d\u001b[0;34m(ar, return_index, return_inverse, return_counts, equal_nan)\u001b[0m\n\u001b[1;32m    334\u001b[0m     aux \u001b[39m=\u001b[39m ar[perm]\n\u001b[1;32m    335\u001b[0m \u001b[39melse\u001b[39;00m:\n\u001b[0;32m--> 336\u001b[0m     ar\u001b[39m.\u001b[39;49msort()\n\u001b[1;32m    337\u001b[0m     aux \u001b[39m=\u001b[39m ar\n\u001b[1;32m    338\u001b[0m mask \u001b[39m=\u001b[39m np\u001b[39m.\u001b[39mempty(aux\u001b[39m.\u001b[39mshape, dtype\u001b[39m=\u001b[39mnp\u001b[39m.\u001b[39mbool_)\n",
      "\u001b[0;31mKeyboardInterrupt\u001b[0m: "
     ]
    }
   ],
   "source": [
    "root = '/nas/groups/iber/Users/Federico_Carrara/Statistics_Collection/outputs/outputs_v5/output_intestine_sample2_b_curated_segmentation_relabel_seq_s_10_e_6_d_8/'\n",
    "voxel_resolution = np.array([0.325, 0.325, 0.25])\n",
    "label_path = os.path.join(root, 'processed_labels.tif')\n",
    "stats_df_path = os.path.join(root, 'cell_stats/stats_dataset_intestine_villus.csv')\n",
    "\n",
    "label_list = string_to_array(\"128 130 138 139 147 150 163 167 169 171 180 185 187 193 210 228\")\n",
    "output_dir = '/nas/groups/iber/Users/Federico_Carrara/Meshes_for_Simulation/examples/cell_clump_intestine/cell_clumps/clean_clump_16_cells/clean_meshes_v2/'\n",
    "\n",
    "# Call the mesh_process_clean function\n",
    "mesh_process_clean(\n",
    "    label_path=label_path, \n",
    "    output_dir=output_dir, \n",
    "    label_list=label_list, \n",
    "    voxel_resolution=voxel_resolution,\n",
    "    path_to_cell_stats_df=stats_df_path, \n",
    "    scale_factor=1e-6, \n",
    "    min_edge_length=0.5,\n",
    "    make_shell=True,\n",
    "    inter_meshes=False\n",
    ")"
   ]
  },
  {
   "attachments": {},
   "cell_type": "markdown",
   "metadata": {},
   "source": [
    "NOTE: To create a shell mesh that fits  really well the single cell meshes you may need to resort to the simulation pipeline.\n",
    "\n",
    "In that case you need to do the following:\n",
    "- In the source code (./include/mesh/cell_types), set for ECM cells `is_static=False` in the constructors, while set it to `True` for the epithelial cells.\n",
    "- Set surface tension values for ECM in at the middle of the \"feasible range\" experimented for epithelial cells (e.g., 1e-3 could work).\n",
    "- Run few simulation iterations untile the result is satisfactory. Take the resulting vtk file as the input for following simulation runs."
   ]
  }
 ],
 "metadata": {
  "kernelspec": {
   "display_name": "EpiStats",
   "language": "python",
   "name": "python3"
  },
  "language_info": {
   "codemirror_mode": {
    "name": "ipython",
    "version": 3
   },
   "file_extension": ".py",
   "mimetype": "text/x-python",
   "name": "python",
   "nbconvert_exporter": "python",
   "pygments_lexer": "ipython3",
   "version": "3.10.12"
  },
  "orig_nbformat": 4
 },
 "nbformat": 4,
 "nbformat_minor": 2
}
