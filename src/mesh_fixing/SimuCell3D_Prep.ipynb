{
 "cells": [
  {
   "attachments": {},
   "cell_type": "markdown",
   "metadata": {},
   "source": [
    "### Mesh processing for SimuCell3D\n",
    "\n",
    "This notebook outlines how to generate a geometry for the SimuCell3D."
   ]
  },
  {
   "cell_type": "code",
   "execution_count": 1,
   "metadata": {},
   "outputs": [],
   "source": [
    "import os\n",
    "import sys\n",
    "import numpy as np\n",
    "from MeshPrep import isolate_filtered_meshes\n",
    "from MeshPrep import mesh_process_clean, string_to_array"
   ]
  },
  {
   "cell_type": "code",
   "execution_count": 2,
   "metadata": {},
   "outputs": [],
   "source": [
    "sys.path.append('/nas/groups/iber/Users/Federico_Carrara/Statistics_Collection/EpiStats/src/statistics_collection/')\n",
    "from StatsAnalytics import prepare_df"
   ]
  },
  {
   "attachments": {},
   "cell_type": "markdown",
   "metadata": {},
   "source": [
    "#### Cleaning the labels\n",
    "\n",
    "The labels generated from manual curation should be processesed before passing through the geometry generation. Strongly recommended step. Generates meshes which may be used for manual cell patch selection using paraview."
   ]
  },
  {
   "cell_type": "code",
   "execution_count": 9,
   "metadata": {},
   "outputs": [],
   "source": [
    "root = '../outputs/outputs_v3/output_lung_new_sample_b_curated_segmentation_central_crop_relabel_seq_s_10_e_6_d_8/'"
   ]
  },
  {
   "cell_type": "code",
   "execution_count": 4,
   "metadata": {},
   "outputs": [],
   "source": [
    "voxel_resolution = np.array([0.325, 0.325, 0.25])\n",
    "label_path = os.path.join(root, 'processed_labels.tif')"
   ]
  },
  {
   "cell_type": "code",
   "execution_count": null,
   "metadata": {},
   "outputs": [],
   "source": [
    "from VoxelProcessing import full_label_processing\n",
    "\n",
    "output_folder='path/folder/to/save/processed/labels'\n",
    "cell_info = full_label_processing(labeled_img=label_path, voxel_resolution=voxel_resolution, output_folder=output_folder, smoothing_iterations=10)\n",
    "label_path = os.path.join(output_folder, \"processed_labels.npy\")\n",
    "filtered_cell_list = cell_info[2]"
   ]
  },
  {
   "attachments": {},
   "cell_type": "markdown",
   "metadata": {},
   "source": [
    "#### Select labels for Simulations\n",
    "\n",
    "To obtain labels for simulation one may use napari and select cells manually, or use meshes, and paraview. View how to use paraview [here](Tutorials/LabelSelection.md).\n",
    "\n",
    "You may want to isolate the cells that do not touch the border instead. To isolate these use the following script and use Paraview's extract functionality as outlined."
   ]
  },
  {
   "cell_type": "code",
   "execution_count": 10,
   "metadata": {},
   "outputs": [],
   "source": [
    "cell_stats_df = prepare_df([\n",
    "    os.path.join(root, 'cell_stats/stats_dataset_lung_bronchiole.csv')\n",
    "])\n",
    "filtered_row_idxs = np.nonzero(~cell_stats_df['exclude_cell'])[0]\n",
    "filtered_cell_list = np.asarray(cell_stats_df['cell_ID'])[filtered_row_idxs]"
   ]
  },
  {
   "cell_type": "code",
   "execution_count": 18,
   "metadata": {},
   "outputs": [
    {
     "name": "stderr",
     "output_type": "stream",
     "text": [
      "Moving mesh files: 100%|██████████| 180/180 [00:05<00:00, 33.94it/s]\n",
      "Converting files to .vtk: 100%|██████████| 139/139 [00:43<00:00,  3.22it/s]\n"
     ]
    }
   ],
   "source": [
    "mesh_path = os.path.join(root, 'cell_meshes')\n",
    "# This is where the isolated meshes will be saved.\n",
    "isolated_mesh_path = '../../Meshes_for_Simulation/examples/cell_clump_bronchiole' \n",
    "\n",
    "isolate_filtered_meshes(mesh_path, isolated_mesh_path, filtered_cell_list)"
   ]
  },
  {
   "attachments": {},
   "cell_type": "markdown",
   "metadata": {},
   "source": [
    "Now you can open the `.vtk` mesh files in paraview and select a clump of cells for simulation."
   ]
  },
  {
   "attachments": {},
   "cell_type": "markdown",
   "metadata": {},
   "source": [
    "#### Mesh Cleaning for SimuCell3D\n",
    "\n",
    "Produce meshes for SimuCell3D simulation framework. Ensure that the path to labels is of cleaned, processed labels. "
   ]
  },
  {
   "cell_type": "code",
   "execution_count": 3,
   "metadata": {},
   "outputs": [
    {
     "name": "stdout",
     "output_type": "stream",
     "text": [
      "-------------------------------------------\n",
      "Creating meshes from labeled img...\n"
     ]
    },
    {
     "name": "stderr",
     "output_type": "stream",
     "text": [
      "Converting labels to meshes: 100%|██████████| 29/29 [06:31<00:00, 13.48s/it]\n"
     ]
    },
    {
     "name": "stdout",
     "output_type": "stream",
     "text": [
      "-------------------------------------------\n",
      "First mesh cleaning...\n"
     ]
    },
    {
     "name": "stderr",
     "output_type": "stream",
     "text": [
      "Cleaning non-mainfold meshes:   0%|          | 0/31 [00:00<?, ?it/s]"
     ]
    },
    {
     "name": "stdout",
     "output_type": "stream",
     "text": [
      "Removed 8 non-manifold faces\n",
      "INFO- Loaded 26283 vertices and 52558 faces.\n"
     ]
    },
    {
     "name": "stderr",
     "output_type": "stream",
     "text": [
      "Cleaning non-mainfold meshes:   3%|▎         | 1/31 [00:01<00:31,  1.06s/it]"
     ]
    },
    {
     "name": "stdout",
     "output_type": "stream",
     "text": [
      "\n",
      "100% done \n",
      "INFO- ********* ITERATION 0 *********\n",
      "INFO- Removing degeneracies...\n",
      "INFO- Removing self-intersections...\n",
      "\n",
      "97 % done   \n",
      "INFO- No intersections detected.\n",
      "\n",
      "0% done \n",
      "Removed 8 non-manifold faces\n",
      "INFO- Loaded 17361 vertices and 34714 faces.\n",
      "\n",
      "0% done "
     ]
    },
    {
     "name": "stderr",
     "output_type": "stream",
     "text": [
      "WARNING- 1 isolated vertices have been removed.\n",
      "Cleaning non-mainfold meshes:   6%|▋         | 2/31 [00:01<00:26,  1.10it/s]"
     ]
    },
    {
     "name": "stdout",
     "output_type": "stream",
     "text": [
      "100% done \n",
      "INFO- ********* ITERATION 0 *********\n",
      "INFO- Removing degeneracies...\n",
      "INFO- Removing self-intersections...\n",
      "\n",
      "97 % done   \n",
      "INFO- 4 intersecting triangles have been selected.\n",
      "\n",
      "0 % done   \n",
      "INFO- No intersections detected.\n",
      "\n",
      "0% done \n",
      "Removed 0 non-manifold faces\n",
      "INFO- Loaded 20169 vertices and 40334 faces.\n",
      "\n",
      "0% done \n",
      "INFO- ********* ITERATION 0 *********\n",
      "INFO- Removing degeneracies...\n",
      "INFO- Removing self-intersections...\n",
      "\n",
      "99 % done   \n",
      "INFO- No intersections detected.\n",
      "\n",
      "0% done \n"
     ]
    },
    {
     "name": "stderr",
     "output_type": "stream",
     "text": [
      "Cleaning non-mainfold meshes:  10%|▉         | 3/31 [00:02<00:23,  1.20it/s]"
     ]
    },
    {
     "name": "stdout",
     "output_type": "stream",
     "text": [
      "Removed 12 non-manifold faces\n",
      "INFO- Loaded 27041 vertices and 54072 faces.\n"
     ]
    },
    {
     "name": "stderr",
     "output_type": "stream",
     "text": [
      "Cleaning non-mainfold meshes:  13%|█▎        | 4/31 [00:03<00:25,  1.06it/s]"
     ]
    },
    {
     "name": "stdout",
     "output_type": "stream",
     "text": [
      "\n",
      "100% done \n",
      "INFO- ********* ITERATION 0 *********\n",
      "INFO- Removing degeneracies...\n",
      "INFO- Removing self-intersections...\n",
      "\n",
      "97 % done   \n",
      "INFO- No intersections detected.\n",
      "\n",
      "0% done \n",
      "Removed 0 non-manifold faces\n",
      "INFO- Loaded 17624 vertices and 35244 faces.\n"
     ]
    },
    {
     "name": "stderr",
     "output_type": "stream",
     "text": [
      "Cleaning non-mainfold meshes:  16%|█▌        | 5/31 [00:04<00:22,  1.18it/s]"
     ]
    },
    {
     "name": "stdout",
     "output_type": "stream",
     "text": [
      "\n",
      "0% done \n",
      "INFO- ********* ITERATION 0 *********\n",
      "INFO- Removing degeneracies...\n",
      "INFO- Removing self-intersections...\n",
      "\n",
      "97 % done   \n",
      "INFO- No intersections detected.\n",
      "\n",
      "0% done \n",
      "Removed 0 non-manifold faces\n",
      "INFO- Loaded 18225 vertices and 36446 faces.\n",
      "\n",
      "0% done "
     ]
    },
    {
     "name": "stderr",
     "output_type": "stream",
     "text": [
      "Cleaning non-mainfold meshes:  19%|█▉        | 6/31 [00:05<00:20,  1.24it/s]"
     ]
    },
    {
     "name": "stdout",
     "output_type": "stream",
     "text": [
      "\n",
      "INFO- ********* ITERATION 0 *********\n",
      "INFO- Removing degeneracies...\n",
      "INFO- Removing self-intersections...\n",
      "\n",
      "97 % done   \n",
      "INFO- No intersections detected.\n",
      "\n",
      "0% done \n",
      "Removed 12 non-manifold faces\n",
      "INFO- Loaded 18031 vertices and 36052 faces.\n",
      "\n",
      "100% done \n",
      "INFO- ********* ITERATION 0 *********\n",
      "INFO- Removing degeneracies...\n",
      "INFO- Removing self-intersections...\n",
      "\n",
      "98 % done   \n",
      "INFO- No intersections detected.\n"
     ]
    },
    {
     "name": "stderr",
     "output_type": "stream",
     "text": [
      "Cleaning non-mainfold meshes:  23%|██▎       | 7/31 [00:05<00:18,  1.28it/s]"
     ]
    },
    {
     "name": "stdout",
     "output_type": "stream",
     "text": [
      "\n",
      "0% done \n",
      "Removed 4 non-manifold faces\n",
      "INFO- Loaded 17820 vertices and 35634 faces.\n",
      "\n",
      "100% done \n",
      "INFO- ********* ITERATION 0 *********\n",
      "INFO- Removing degeneracies...\n",
      "INFO- Removing self-intersections...\n",
      "\n",
      "98 % done   \n",
      "INFO- No intersections detected.\n",
      "\n",
      "0% done \n"
     ]
    },
    {
     "name": "stderr",
     "output_type": "stream",
     "text": [
      "Cleaning non-mainfold meshes:  26%|██▌       | 8/31 [00:06<00:17,  1.34it/s]"
     ]
    },
    {
     "name": "stdout",
     "output_type": "stream",
     "text": [
      "Removed 36 non-manifold faces\n",
      "INFO- Loaded 14332 vertices and 28642 faces.\n"
     ]
    },
    {
     "name": "stderr",
     "output_type": "stream",
     "text": [
      "Cleaning non-mainfold meshes:  29%|██▉       | 9/31 [00:07<00:15,  1.45it/s]"
     ]
    },
    {
     "name": "stdout",
     "output_type": "stream",
     "text": [
      "\n",
      "100% done \n",
      "INFO- ********* ITERATION 0 *********\n",
      "INFO- Removing degeneracies...\n",
      "INFO- Removing self-intersections...\n",
      "\n",
      "97 % done   \n",
      "INFO- No intersections detected.\n",
      "\n",
      "0% done \n",
      "Removed 0 non-manifold faces\n",
      "INFO- Loaded 20100 vertices and 40196 faces.\n",
      "\n"
     ]
    },
    {
     "name": "stderr",
     "output_type": "stream",
     "text": [
      "Cleaning non-mainfold meshes:  32%|███▏      | 10/31 [00:07<00:15,  1.39it/s]"
     ]
    },
    {
     "name": "stdout",
     "output_type": "stream",
     "text": [
      "0% done \n",
      "INFO- ********* ITERATION 0 *********\n",
      "INFO- Removing degeneracies...\n",
      "INFO- Removing self-intersections...\n",
      "\n",
      "98 % done   \n",
      "INFO- No intersections detected.\n",
      "\n",
      "0% done \n",
      "Removed 0 non-manifold faces\n",
      "INFO- Loaded 17575 vertices and 35146 faces.\n"
     ]
    },
    {
     "name": "stderr",
     "output_type": "stream",
     "text": [
      "Cleaning non-mainfold meshes:  35%|███▌      | 11/31 [00:08<00:14,  1.42it/s]"
     ]
    },
    {
     "name": "stdout",
     "output_type": "stream",
     "text": [
      "\n",
      "0% done \n",
      "INFO- ********* ITERATION 0 *********\n",
      "INFO- Removing degeneracies...\n",
      "INFO- Removing self-intersections...\n",
      "\n",
      "95 % done   \n",
      "INFO- No intersections detected.\n",
      "\n",
      "0% done \n",
      "Removed 4 non-manifold faces\n",
      "INFO- Loaded 19785 vertices and 39564 faces.\n",
      "\n",
      "100% done \n",
      "INFO- ********* ITERATION 0 *********\n",
      "INFO- Removing degeneracies...\n",
      "INFO- Removing self-intersections...\n",
      "\n",
      "96 % done   \n",
      "INFO- No intersections detected.\n"
     ]
    },
    {
     "name": "stderr",
     "output_type": "stream",
     "text": [
      "Cleaning non-mainfold meshes:  39%|███▊      | 12/31 [00:09<00:13,  1.36it/s]"
     ]
    },
    {
     "name": "stdout",
     "output_type": "stream",
     "text": [
      "\n",
      "0% done \n",
      "Removed 8 non-manifold faces\n",
      "INFO- Loaded 17938 vertices and 35868 faces.\n",
      "\n",
      "100% done \n",
      "INFO- ********* ITERATION 0 *********\n",
      "INFO- Removing degeneracies...\n",
      "INFO- Removing self-intersections...\n",
      "\n",
      "98 % done   \n",
      "INFO- No intersections detected.\n"
     ]
    },
    {
     "name": "stderr",
     "output_type": "stream",
     "text": [
      "Cleaning non-mainfold meshes:  42%|████▏     | 13/31 [00:10<00:12,  1.40it/s]"
     ]
    },
    {
     "name": "stdout",
     "output_type": "stream",
     "text": [
      "\n",
      "0% done \n",
      "Removed 4 non-manifold faces\n",
      "INFO- Loaded 14994 vertices and 29980 faces.\n"
     ]
    },
    {
     "name": "stderr",
     "output_type": "stream",
     "text": [
      "WARNING- 1 isolated vertices have been removed.\n",
      "Cleaning non-mainfold meshes:  45%|████▌     | 14/31 [00:10<00:11,  1.46it/s]"
     ]
    },
    {
     "name": "stdout",
     "output_type": "stream",
     "text": [
      "\n",
      "100% done \n",
      "INFO- ********* ITERATION 0 *********\n",
      "INFO- Removing degeneracies...\n",
      "INFO- Removing self-intersections...\n",
      "\n",
      "97 % done   \n",
      "INFO- No intersections detected.\n",
      "\n",
      "0% done \n",
      "Removed 0 non-manifold faces\n",
      "INFO- Loaded 15973 vertices and 31942 faces.\n",
      "\n",
      "0% done \n",
      "INFO- ********* ITERATION 0 *********\n",
      "INFO- Removing degeneracies...\n",
      "INFO- Removing self-intersections...\n",
      "\n",
      "96 % done   \n",
      "INFO- No intersections detected.\n",
      "\n",
      "0% done \n"
     ]
    },
    {
     "name": "stderr",
     "output_type": "stream",
     "text": [
      "Cleaning non-mainfold meshes:  48%|████▊     | 15/31 [00:11<00:10,  1.51it/s]"
     ]
    },
    {
     "name": "stdout",
     "output_type": "stream",
     "text": [
      "Removed 4 non-manifold faces\n",
      "INFO- Loaded 17311 vertices and 34616 faces.\n",
      "\n",
      "0% done "
     ]
    },
    {
     "name": "stderr",
     "output_type": "stream",
     "text": [
      "WARNING- 1 isolated vertices have been removed.\n",
      "Cleaning non-mainfold meshes:  52%|█████▏    | 16/31 [00:11<00:09,  1.52it/s]"
     ]
    },
    {
     "name": "stdout",
     "output_type": "stream",
     "text": [
      "\n",
      "INFO- ********* ITERATION 0 *********\n",
      "INFO- Removing degeneracies...\n",
      "INFO- Removing self-intersections...\n",
      "\n",
      "95 % done   \n",
      "INFO- No intersections detected.\n",
      "\n",
      "0% done \n",
      "Removed 8 non-manifold faces\n",
      "INFO- Loaded 17636 vertices and 35264 faces.\n",
      "\n",
      "100% done \n",
      "INFO- ********* ITERATION 0 *********\n",
      "INFO- Removing degeneracies...\n",
      "INFO- Removing self-intersections...\n",
      "\n",
      "96 % done   \n",
      "INFO- No intersections detected.\n"
     ]
    },
    {
     "name": "stderr",
     "output_type": "stream",
     "text": [
      "Cleaning non-mainfold meshes:  55%|█████▍    | 17/31 [00:12<00:09,  1.51it/s]"
     ]
    },
    {
     "name": "stdout",
     "output_type": "stream",
     "text": [
      "\n",
      "0% done \n",
      "Removed 0 non-manifold faces\n",
      "INFO- Loaded 19138 vertices and 38272 faces.\n",
      "\n"
     ]
    },
    {
     "name": "stderr",
     "output_type": "stream",
     "text": [
      "Cleaning non-mainfold meshes:  58%|█████▊    | 18/31 [00:13<00:08,  1.47it/s]"
     ]
    },
    {
     "name": "stdout",
     "output_type": "stream",
     "text": [
      "0% done \n",
      "INFO- ********* ITERATION 0 *********\n",
      "INFO- Removing degeneracies...\n",
      "INFO- Removing self-intersections...\n",
      "\n",
      "98 % done   \n",
      "INFO- No intersections detected.\n",
      "\n",
      "0% done \n",
      "Removed 0 non-manifold faces\n",
      "INFO- Loaded 18409 vertices and 36814 faces.\n",
      "\n",
      "0% done "
     ]
    },
    {
     "name": "stderr",
     "output_type": "stream",
     "text": [
      "Cleaning non-mainfold meshes:  61%|██████▏   | 19/31 [00:13<00:08,  1.46it/s]"
     ]
    },
    {
     "name": "stdout",
     "output_type": "stream",
     "text": [
      "\n",
      "INFO- ********* ITERATION 0 *********\n",
      "INFO- Removing degeneracies...\n",
      "INFO- Removing self-intersections...\n",
      "\n",
      "96 % done   \n",
      "INFO- No intersections detected.\n",
      "\n",
      "0% done \n",
      "Removed 0 non-manifold faces\n",
      "INFO- Loaded 174812 vertices and 349620 faces.\n",
      "\n",
      "0% done \n",
      "INFO- ********* ITERATION 0 *********\n",
      "INFO- Removing degeneracies...\n",
      "INFO- Removing self-intersections...\n",
      "\n",
      "99 % done   \n",
      "INFO- No intersections detected.\n",
      "\n",
      "0% done \n"
     ]
    },
    {
     "name": "stderr",
     "output_type": "stream",
     "text": [
      "Cleaning non-mainfold meshes:  65%|██████▍   | 20/31 [00:21<00:30,  2.78s/it]"
     ]
    },
    {
     "name": "stdout",
     "output_type": "stream",
     "text": [
      "Removed 12 non-manifold faces\n",
      "INFO- Loaded 17871 vertices and 35730 faces.\n",
      "\n",
      "100% done \n",
      "INFO- ********* ITERATION 0 *********\n",
      "INFO- Removing degeneracies...\n",
      "INFO- Removing self-intersections...\n",
      "\n",
      "96 % done   \n",
      "INFO- No intersections detected.\n",
      "\n",
      "0% done \n"
     ]
    },
    {
     "name": "stderr",
     "output_type": "stream",
     "text": [
      "WARNING- 1 isolated vertices have been removed.\n",
      "Cleaning non-mainfold meshes:  68%|██████▊   | 21/31 [00:22<00:21,  2.15s/it]"
     ]
    },
    {
     "name": "stdout",
     "output_type": "stream",
     "text": [
      "Removed 170 non-manifold faces\n",
      "INFO- Loaded 19210 vertices and 38310 faces.\n",
      "\n",
      "100% done \n",
      "INFO- ********* ITERATION 0 *********\n",
      "INFO- Removing degeneracies...\n",
      "INFO- Removing self-intersections...\n",
      "\n",
      "99 % done   \n",
      "INFO- 25 intersecting triangles have been selected.\n",
      "\n",
      "0 % done   \n",
      "INFO- 11 intersecting triangles have been selected.\n",
      "\n",
      "0 % done   \n",
      "INFO- No intersections detected.\n",
      "\n",
      "0% done \n"
     ]
    },
    {
     "name": "stderr",
     "output_type": "stream",
     "text": [
      "WARNING- 22 isolated vertices have been removed.\n",
      "Cleaning non-mainfold meshes:  74%|███████▍  | 23/31 [00:23<00:11,  1.43s/it]"
     ]
    },
    {
     "name": "stdout",
     "output_type": "stream",
     "text": [
      "Removed 16 non-manifold faces\n",
      "INFO- Loaded 12873 vertices and 25734 faces.\n",
      "\n",
      "100% done \n",
      "INFO- ********* ITERATION 0 *********\n",
      "INFO- Removing degeneracies...\n",
      "INFO- Removing self-intersections...\n",
      "\n",
      "98 % done   \n",
      "INFO- No intersections detected.\n",
      "\n",
      "0% done \n"
     ]
    },
    {
     "name": "stderr",
     "output_type": "stream",
     "text": [
      "Cleaning non-mainfold meshes:  77%|███████▋  | 24/31 [00:24<00:08,  1.20s/it]"
     ]
    },
    {
     "name": "stdout",
     "output_type": "stream",
     "text": [
      "Removed 4 non-manifold faces\n",
      "INFO- Loaded 16864 vertices and 33720 faces.\n",
      "\n",
      "100% done \n",
      "INFO- ********* ITERATION 0 *********\n",
      "INFO- Removing degeneracies...\n",
      "INFO- Removing self-intersections...\n",
      "\n",
      "97 % done   \n",
      "INFO- No intersections detected.\n"
     ]
    },
    {
     "name": "stderr",
     "output_type": "stream",
     "text": [
      "WARNING- 1 isolated vertices have been removed.\n",
      "Cleaning non-mainfold meshes:  81%|████████  | 25/31 [00:24<00:06,  1.06s/it]"
     ]
    },
    {
     "name": "stdout",
     "output_type": "stream",
     "text": [
      "\n",
      "0% done \n",
      "Removed 8 non-manifold faces\n",
      "INFO- Loaded 18180 vertices and 36352 faces.\n",
      "\n"
     ]
    },
    {
     "name": "stderr",
     "output_type": "stream",
     "text": [
      "Cleaning non-mainfold meshes:  84%|████████▍ | 26/31 [00:25<00:04,  1.05it/s]"
     ]
    },
    {
     "name": "stdout",
     "output_type": "stream",
     "text": [
      "100% done \n",
      "INFO- ********* ITERATION 0 *********\n",
      "INFO- Removing degeneracies...\n",
      "INFO- Removing self-intersections...\n",
      "\n",
      "99 % done   \n",
      "INFO- No intersections detected.\n",
      "\n",
      "0% done \n",
      "Removed 4 non-manifold faces\n",
      "INFO- Loaded 19545 vertices and 39084 faces.\n",
      "\n",
      "0% done "
     ]
    },
    {
     "name": "stderr",
     "output_type": "stream",
     "text": [
      "Cleaning non-mainfold meshes:  87%|████████▋ | 27/31 [00:26<00:03,  1.12it/s]"
     ]
    },
    {
     "name": "stdout",
     "output_type": "stream",
     "text": [
      "100% done \n",
      "INFO- ********* ITERATION 0 *********\n",
      "INFO- Removing degeneracies...\n",
      "INFO- Removing self-intersections...\n",
      "\n",
      "99 % done   \n",
      "INFO- No intersections detected.\n",
      "\n",
      "0% done \n",
      "Removed 44 non-manifold faces\n",
      "INFO- Loaded 17473 vertices and 34920 faces.\n"
     ]
    },
    {
     "name": "stderr",
     "output_type": "stream",
     "text": [
      "Cleaning non-mainfold meshes:  90%|█████████ | 28/31 [00:26<00:02,  1.21it/s]"
     ]
    },
    {
     "name": "stdout",
     "output_type": "stream",
     "text": [
      "\n",
      "100% done \n",
      "INFO- ********* ITERATION 0 *********\n",
      "INFO- Removing degeneracies...\n",
      "INFO- Removing self-intersections...\n",
      "\n",
      "95 % done   \n",
      "INFO- No intersections detected.\n",
      "\n",
      "0% done \n",
      "Removed 8 non-manifold faces\n",
      "INFO- Loaded 17666 vertices and 35324 faces.\n"
     ]
    },
    {
     "name": "stderr",
     "output_type": "stream",
     "text": [
      "WARNING- 1 isolated vertices have been removed.\n",
      "Cleaning non-mainfold meshes:  94%|█████████▎| 29/31 [00:27<00:01,  1.28it/s]"
     ]
    },
    {
     "name": "stdout",
     "output_type": "stream",
     "text": [
      "\n",
      "100% done \n",
      "INFO- ********* ITERATION 0 *********\n",
      "INFO- Removing degeneracies...\n",
      "INFO- Removing self-intersections...\n",
      "\n",
      "95 % done   \n",
      "INFO- No intersections detected.\n",
      "\n",
      "0% done \n",
      "Removed 8 non-manifold faces\n",
      "INFO- Loaded 16278 vertices and 32548 faces.\n"
     ]
    },
    {
     "name": "stderr",
     "output_type": "stream",
     "text": [
      "Cleaning non-mainfold meshes:  97%|█████████▋| 30/31 [00:28<00:00,  1.35it/s]"
     ]
    },
    {
     "name": "stdout",
     "output_type": "stream",
     "text": [
      "\n",
      "100% done \n",
      "INFO- ********* ITERATION 0 *********\n",
      "INFO- Removing degeneracies...\n",
      "INFO- Removing self-intersections...\n",
      "\n",
      "98 % done   \n",
      "INFO- No intersections detected.\n",
      "\n",
      "0% done \n",
      "Removed 0 non-manifold faces\n",
      "INFO- Loaded 4986 vertices and 9968 faces.\n"
     ]
    },
    {
     "name": "stderr",
     "output_type": "stream",
     "text": [
      "Cleaning non-mainfold meshes: 100%|██████████| 31/31 [00:28<00:00,  1.10it/s]\n"
     ]
    },
    {
     "name": "stdout",
     "output_type": "stream",
     "text": [
      "\n",
      "0% done \n",
      "INFO- ********* ITERATION 0 *********\n",
      "INFO- Removing degeneracies...\n",
      "INFO- Removing self-intersections...\n",
      "\n",
      "83 % done   \n",
      "INFO- No intersections detected.\n",
      "\n",
      "0% done \n",
      "-------------------------------------------\n",
      "Remeshing...\n"
     ]
    },
    {
     "name": "stderr",
     "output_type": "stream",
     "text": [
      "Applying pymeshlab remeshing: 100%|██████████| 30/30 [00:43<00:00,  1.44s/it]\n"
     ]
    },
    {
     "name": "stdout",
     "output_type": "stream",
     "text": [
      "-------------------------------------------\n",
      "Second mesh cleaning...\n"
     ]
    },
    {
     "name": "stderr",
     "output_type": "stream",
     "text": [
      "Cleaning non-mainfold meshes:   0%|          | 0/30 [00:00<?, ?it/s]"
     ]
    },
    {
     "name": "stdout",
     "output_type": "stream",
     "text": [
      "Removed 0 non-manifold faces\n",
      "INFO- Loaded 12016 vertices and 24028 faces.\n"
     ]
    },
    {
     "name": "stderr",
     "output_type": "stream",
     "text": [
      "Cleaning non-mainfold meshes:   3%|▎         | 1/30 [00:00<00:14,  1.97it/s]"
     ]
    },
    {
     "name": "stdout",
     "output_type": "stream",
     "text": [
      "\n",
      "0% done \n",
      "INFO- ********* ITERATION 0 *********\n",
      "INFO- Removing degeneracies...\n",
      "INFO- Removing self-intersections...\n",
      "\n",
      "96 % done   \n",
      "INFO- No intersections detected.\n",
      "\n",
      "0% done \n"
     ]
    },
    {
     "name": "stderr",
     "output_type": "stream",
     "text": [
      "Cleaning non-mainfold meshes:   7%|▋         | 2/30 [00:00<00:10,  2.66it/s]"
     ]
    },
    {
     "name": "stdout",
     "output_type": "stream",
     "text": [
      "Removed 0 non-manifold faces\n",
      "INFO- Loaded 5999 vertices and 11994 faces.\n",
      "\n",
      "0% done \n",
      "INFO- ********* ITERATION 0 *********\n",
      "INFO- Removing degeneracies...\n",
      "INFO- Removing self-intersections...\n",
      "\n",
      "97 % done   \n",
      "INFO- No intersections detected.\n",
      "\n",
      "0% done \n"
     ]
    },
    {
     "name": "stderr",
     "output_type": "stream",
     "text": [
      "Cleaning non-mainfold meshes:  10%|█         | 3/30 [00:01<00:09,  2.96it/s]"
     ]
    },
    {
     "name": "stdout",
     "output_type": "stream",
     "text": [
      "Removed 0 non-manifold faces\n",
      "INFO- Loaded 7063 vertices and 14122 faces.\n",
      "\n",
      "0% done \n",
      "INFO- ********* ITERATION 0 *********\n",
      "INFO- Removing degeneracies...\n",
      "INFO- Removing self-intersections...\n",
      "\n",
      "96 % done   \n",
      "INFO- No intersections detected.\n",
      "\n",
      "0% done \n"
     ]
    },
    {
     "name": "stderr",
     "output_type": "stream",
     "text": [
      "Cleaning non-mainfold meshes:  13%|█▎        | 4/30 [00:01<00:08,  3.09it/s]"
     ]
    },
    {
     "name": "stdout",
     "output_type": "stream",
     "text": [
      "Removed 0 non-manifold faces\n",
      "INFO- Loaded 7812 vertices and 15620 faces.\n",
      "\n",
      "0% done \n",
      "INFO- ********* ITERATION 0 *********\n",
      "INFO- Removing degeneracies...\n",
      "INFO- Removing self-intersections...\n",
      "\n",
      "94 % done   \n",
      "INFO- No intersections detected.\n",
      "\n",
      "0% done \n"
     ]
    },
    {
     "name": "stderr",
     "output_type": "stream",
     "text": [
      "Cleaning non-mainfold meshes:  17%|█▋        | 5/30 [00:01<00:08,  3.12it/s]"
     ]
    },
    {
     "name": "stdout",
     "output_type": "stream",
     "text": [
      "Removed 0 non-manifold faces\n",
      "INFO- Loaded 7944 vertices and 15884 faces.\n",
      "\n",
      "0% done \n",
      "INFO- ********* ITERATION 0 *********\n",
      "INFO- Removing degeneracies...\n",
      "INFO- Removing self-intersections...\n",
      "\n",
      "96 % done   \n",
      "INFO- No intersections detected.\n",
      "\n",
      "0% done \n"
     ]
    },
    {
     "name": "stderr",
     "output_type": "stream",
     "text": [
      "Cleaning non-mainfold meshes:  20%|██        | 6/30 [00:02<00:07,  3.18it/s]"
     ]
    },
    {
     "name": "stdout",
     "output_type": "stream",
     "text": [
      "Removed 0 non-manifold faces\n",
      "INFO- Loaded 7621 vertices and 15238 faces.\n",
      "\n",
      "0% done \n",
      "INFO- ********* ITERATION 0 *********\n",
      "INFO- Removing degeneracies...\n",
      "INFO- Removing self-intersections...\n",
      "\n",
      "99 % done   \n",
      "INFO- No intersections detected.\n",
      "\n",
      "0% done \n"
     ]
    },
    {
     "name": "stderr",
     "output_type": "stream",
     "text": [
      "Cleaning non-mainfold meshes:  23%|██▎       | 7/30 [00:02<00:07,  3.14it/s]"
     ]
    },
    {
     "name": "stdout",
     "output_type": "stream",
     "text": [
      "Removed 0 non-manifold faces\n",
      "INFO- Loaded 7721 vertices and 15438 faces.\n",
      "\n",
      "0% done \n",
      "INFO- ********* ITERATION 0 *********\n",
      "INFO- Removing degeneracies...\n",
      "INFO- Removing self-intersections...\n",
      "\n",
      "96 % done   \n",
      "INFO- No intersections detected.\n",
      "\n",
      "0% done \n"
     ]
    },
    {
     "name": "stderr",
     "output_type": "stream",
     "text": [
      "Cleaning non-mainfold meshes:  27%|██▋       | 8/30 [00:02<00:07,  3.13it/s]"
     ]
    },
    {
     "name": "stdout",
     "output_type": "stream",
     "text": [
      "Removed 0 non-manifold faces\n",
      "INFO- Loaded 7355 vertices and 14706 faces.\n",
      "\n",
      "0% done \n",
      "INFO- ********* ITERATION 0 *********\n",
      "INFO- Removing degeneracies...\n",
      "INFO- Removing self-intersections...\n",
      "\n",
      "99 % done   \n",
      "INFO- No intersections detected.\n",
      "\n",
      "0% done \n"
     ]
    },
    {
     "name": "stderr",
     "output_type": "stream",
     "text": [
      "Cleaning non-mainfold meshes:  30%|███       | 9/30 [00:02<00:06,  3.20it/s]"
     ]
    },
    {
     "name": "stdout",
     "output_type": "stream",
     "text": [
      "Removed 0 non-manifold faces\n",
      "INFO- Loaded 7690 vertices and 15376 faces.\n",
      "\n",
      "0% done \n",
      "INFO- ********* ITERATION 0 *********\n",
      "INFO- Removing degeneracies...\n",
      "INFO- Removing self-intersections...\n",
      "\n",
      "92 % done   \n",
      "INFO- No intersections detected.\n",
      "\n",
      "0% done \n"
     ]
    },
    {
     "name": "stderr",
     "output_type": "stream",
     "text": [
      "Cleaning non-mainfold meshes:  33%|███▎      | 10/30 [00:03<00:06,  3.19it/s]"
     ]
    },
    {
     "name": "stdout",
     "output_type": "stream",
     "text": [
      "Removed 0 non-manifold faces\n",
      "INFO- Loaded 7208 vertices and 14412 faces.\n",
      "\n",
      "0% done \n",
      "INFO- ********* ITERATION 0 *********\n",
      "INFO- Removing degeneracies...\n",
      "INFO- Removing self-intersections...\n",
      "\n",
      "90 % done   \n",
      "INFO- No intersections detected.\n",
      "\n",
      "0% done \n"
     ]
    },
    {
     "name": "stderr",
     "output_type": "stream",
     "text": [
      "Cleaning non-mainfold meshes:  37%|███▋      | 11/30 [00:03<00:06,  3.13it/s]"
     ]
    },
    {
     "name": "stdout",
     "output_type": "stream",
     "text": [
      "Removed 0 non-manifold faces\n",
      "INFO- Loaded 7802 vertices and 15600 faces.\n",
      "\n",
      "0% done \n",
      "INFO- ********* ITERATION 0 *********\n",
      "INFO- Removing degeneracies...\n",
      "INFO- Removing self-intersections...\n",
      "\n",
      "97 % done   \n",
      "INFO- No intersections detected.\n",
      "\n",
      "0% done \n"
     ]
    },
    {
     "name": "stderr",
     "output_type": "stream",
     "text": [
      "Cleaning non-mainfold meshes:  40%|████      | 12/30 [00:03<00:05,  3.02it/s]"
     ]
    },
    {
     "name": "stdout",
     "output_type": "stream",
     "text": [
      "Removed 0 non-manifold faces\n",
      "INFO- Loaded 7516 vertices and 15028 faces.\n",
      "\n",
      "0% done \n",
      "INFO- ********* ITERATION 0 *********\n",
      "INFO- Removing degeneracies...\n",
      "INFO- Removing self-intersections...\n",
      "\n",
      "92 % done   \n",
      "INFO- No intersections detected.\n",
      "\n",
      "0% done \n"
     ]
    },
    {
     "name": "stderr",
     "output_type": "stream",
     "text": [
      "Cleaning non-mainfold meshes:  43%|████▎     | 13/30 [00:04<00:04,  3.78it/s]"
     ]
    },
    {
     "name": "stdout",
     "output_type": "stream",
     "text": [
      "Removed 0 non-manifold faces\n",
      "INFO- Loaded 2108 vertices and 4212 faces.\n",
      "\n",
      "0% done \n",
      "INFO- ********* ITERATION 0 *********\n",
      "INFO- Removing degeneracies...\n",
      "INFO- Removing self-intersections...\n",
      "\n",
      "75 % done   \n",
      "INFO- No intersections detected.\n",
      "\n",
      "0% done \n"
     ]
    },
    {
     "name": "stderr",
     "output_type": "stream",
     "text": [
      "Cleaning non-mainfold meshes:  47%|████▋     | 14/30 [00:04<00:04,  3.51it/s]"
     ]
    },
    {
     "name": "stdout",
     "output_type": "stream",
     "text": [
      "Removed 0 non-manifold faces\n",
      "INFO- Loaded 7231 vertices and 14458 faces.\n",
      "\n",
      "0% done \n",
      "INFO- ********* ITERATION 0 *********\n",
      "INFO- Removing degeneracies...\n",
      "INFO- Removing self-intersections...\n",
      "\n",
      "93 % done   \n",
      "INFO- No intersections detected.\n",
      "\n",
      "0% done \n",
      "Removed 0 non-manifold faces\n",
      "INFO- Loaded 82915 vertices and 165826 faces.\n",
      "\n",
      "0% done \n",
      "INFO- ********* ITERATION 0 *********\n",
      "INFO- Removing degeneracies...\n",
      "INFO- Removing self-intersections...\n",
      "\n",
      "99 % done   \n",
      "INFO- No intersections detected.\n",
      "\n",
      "0% done \n"
     ]
    },
    {
     "name": "stderr",
     "output_type": "stream",
     "text": [
      "Cleaning non-mainfold meshes:  53%|█████▎    | 16/30 [00:08<00:13,  1.04it/s]"
     ]
    },
    {
     "name": "stdout",
     "output_type": "stream",
     "text": [
      "Removed 0 non-manifold faces\n",
      "INFO- Loaded 6204 vertices and 12404 faces.\n",
      "\n",
      "0% done \n",
      "INFO- ********* ITERATION 0 *********\n",
      "INFO- Removing degeneracies...\n",
      "INFO- Removing self-intersections...\n",
      "\n",
      "98 % done   \n",
      "INFO- No intersections detected.\n",
      "\n",
      "0% done \n"
     ]
    },
    {
     "name": "stderr",
     "output_type": "stream",
     "text": [
      "Cleaning non-mainfold meshes:  57%|█████▋    | 17/30 [00:08<00:09,  1.35it/s]"
     ]
    },
    {
     "name": "stdout",
     "output_type": "stream",
     "text": [
      "Removed 0 non-manifold faces\n",
      "INFO- Loaded 5512 vertices and 11020 faces.\n",
      "\n",
      "0% done \n",
      "INFO- ********* ITERATION 0 *********\n",
      "INFO- Removing degeneracies...\n",
      "INFO- Removing self-intersections...\n",
      "\n",
      "86 % done   \n",
      "INFO- No intersections detected.\n",
      "\n",
      "0% done \n"
     ]
    },
    {
     "name": "stderr",
     "output_type": "stream",
     "text": [
      "Cleaning non-mainfold meshes:  60%|██████    | 18/30 [00:08<00:07,  1.64it/s]"
     ]
    },
    {
     "name": "stdout",
     "output_type": "stream",
     "text": [
      "Removed 0 non-manifold faces\n",
      "INFO- Loaded 7994 vertices and 15984 faces.\n",
      "\n",
      "0% done \n",
      "INFO- ********* ITERATION 0 *********\n",
      "INFO- Removing degeneracies...\n",
      "INFO- Removing self-intersections...\n",
      "\n",
      "91 % done   \n",
      "INFO- No intersections detected.\n",
      "\n",
      "0% done \n",
      "Removed 0 non-manifold faces\n",
      "INFO- Loaded 11134 vertices and 22264 faces.\n",
      "\n",
      "0% done \n",
      "INFO- ********* ITERATION 0 *********\n",
      "INFO- Removing degeneracies...\n",
      "INFO- Removing self-intersections...\n",
      "\n",
      "96 % done   \n",
      "INFO- No intersections detected.\n",
      "\n",
      "0% done \n"
     ]
    },
    {
     "name": "stderr",
     "output_type": "stream",
     "text": [
      "Cleaning non-mainfold meshes:  67%|██████▋   | 20/30 [00:09<00:04,  2.07it/s]"
     ]
    },
    {
     "name": "stdout",
     "output_type": "stream",
     "text": [
      "Removed 0 non-manifold faces\n",
      "INFO- Loaded 8267 vertices and 16530 faces.\n",
      "\n",
      "0% done \n",
      "INFO- ********* ITERATION 0 *********\n",
      "INFO- Removing degeneracies...\n",
      "INFO- Removing self-intersections...\n",
      "\n",
      "96 % done   \n",
      "INFO- No intersections detected.\n",
      "\n",
      "0% done \n"
     ]
    },
    {
     "name": "stderr",
     "output_type": "stream",
     "text": [
      "Cleaning non-mainfold meshes:  70%|███████   | 21/30 [00:09<00:03,  2.38it/s]"
     ]
    },
    {
     "name": "stdout",
     "output_type": "stream",
     "text": [
      "Removed 0 non-manifold faces\n",
      "INFO- Loaded 7468 vertices and 14932 faces.\n",
      "\n",
      "0% done \n",
      "INFO- ********* ITERATION 0 *********\n",
      "INFO- Removing degeneracies...\n",
      "INFO- Removing self-intersections...\n",
      "\n",
      "92 % done   \n",
      "INFO- No intersections detected.\n",
      "\n",
      "0% done \n"
     ]
    },
    {
     "name": "stderr",
     "output_type": "stream",
     "text": [
      "Cleaning non-mainfold meshes:  73%|███████▎  | 22/30 [00:10<00:03,  2.53it/s]"
     ]
    },
    {
     "name": "stdout",
     "output_type": "stream",
     "text": [
      "Removed 0 non-manifold faces\n",
      "INFO- Loaded 8521 vertices and 17038 faces.\n",
      "\n",
      "0% done \n",
      "INFO- ********* ITERATION 0 *********\n",
      "INFO- Removing degeneracies...\n",
      "INFO- Removing self-intersections...\n",
      "\n",
      "91 % done   \n",
      "INFO- No intersections detected.\n",
      "\n",
      "0% done \n"
     ]
    },
    {
     "name": "stderr",
     "output_type": "stream",
     "text": [
      "Cleaning non-mainfold meshes:  77%|███████▋  | 23/30 [00:10<00:02,  2.76it/s]"
     ]
    },
    {
     "name": "stdout",
     "output_type": "stream",
     "text": [
      "Removed 0 non-manifold faces\n",
      "INFO- Loaded 7468 vertices and 14932 faces.\n",
      "\n",
      "0% done \n",
      "INFO- ********* ITERATION 0 *********\n",
      "INFO- Removing degeneracies...\n",
      "INFO- Removing self-intersections...\n",
      "\n",
      "90 % done   \n",
      "INFO- No intersections detected.\n",
      "\n",
      "0% done \n"
     ]
    },
    {
     "name": "stderr",
     "output_type": "stream",
     "text": [
      "Cleaning non-mainfold meshes:  80%|████████  | 24/30 [00:10<00:02,  2.87it/s]"
     ]
    },
    {
     "name": "stdout",
     "output_type": "stream",
     "text": [
      "Removed 0 non-manifold faces\n",
      "INFO- Loaded 7615 vertices and 15226 faces.\n",
      "\n",
      "0% done \n",
      "INFO- ********* ITERATION 0 *********\n",
      "INFO- Removing degeneracies...\n",
      "INFO- Removing self-intersections...\n",
      "\n",
      "97 % done   \n",
      "INFO- No intersections detected.\n",
      "\n",
      "0% done \n"
     ]
    },
    {
     "name": "stderr",
     "output_type": "stream",
     "text": [
      "Cleaning non-mainfold meshes:  83%|████████▎ | 25/30 [00:11<00:01,  2.91it/s]"
     ]
    },
    {
     "name": "stdout",
     "output_type": "stream",
     "text": [
      "Removed 0 non-manifold faces\n",
      "INFO- Loaded 8529 vertices and 17054 faces.\n",
      "\n",
      "0% done \n",
      "INFO- ********* ITERATION 0 *********\n",
      "INFO- Removing degeneracies...\n",
      "INFO- Removing self-intersections...\n",
      "\n",
      "94 % done   \n",
      "INFO- No intersections detected.\n",
      "\n",
      "0% done \n"
     ]
    },
    {
     "name": "stderr",
     "output_type": "stream",
     "text": [
      "Cleaning non-mainfold meshes:  87%|████████▋ | 26/30 [00:11<00:01,  2.99it/s]"
     ]
    },
    {
     "name": "stdout",
     "output_type": "stream",
     "text": [
      "Removed 0 non-manifold faces\n",
      "INFO- Loaded 8471 vertices and 16938 faces.\n",
      "\n",
      "0% done \n",
      "INFO- ********* ITERATION 0 *********\n",
      "INFO- Removing degeneracies...\n",
      "INFO- Removing self-intersections...\n",
      "\n",
      "97 % done   \n",
      "INFO- No intersections detected.\n",
      "\n",
      "0% done \n"
     ]
    },
    {
     "name": "stderr",
     "output_type": "stream",
     "text": [
      "Cleaning non-mainfold meshes:  90%|█████████ | 27/30 [00:11<00:00,  3.12it/s]"
     ]
    },
    {
     "name": "stdout",
     "output_type": "stream",
     "text": [
      "Removed 0 non-manifold faces\n",
      "INFO- Loaded 7716 vertices and 15428 faces.\n",
      "\n",
      "0% done \n",
      "INFO- ********* ITERATION 0 *********\n",
      "INFO- Removing degeneracies...\n",
      "INFO- Removing self-intersections...\n",
      "\n",
      "96 % done   \n",
      "INFO- No intersections detected.\n",
      "\n",
      "0% done \n"
     ]
    },
    {
     "name": "stderr",
     "output_type": "stream",
     "text": [
      "Cleaning non-mainfold meshes:  93%|█████████▎| 28/30 [00:11<00:00,  3.08it/s]"
     ]
    },
    {
     "name": "stdout",
     "output_type": "stream",
     "text": [
      "Removed 0 non-manifold faces\n",
      "INFO- Loaded 8402 vertices and 16800 faces.\n",
      "\n",
      "0% done \n",
      "INFO- ********* ITERATION 0 *********\n",
      "INFO- Removing degeneracies...\n",
      "INFO- Removing self-intersections...\n",
      "\n",
      "97 % done   \n",
      "INFO- No intersections detected.\n",
      "\n",
      "0% done \n"
     ]
    },
    {
     "name": "stderr",
     "output_type": "stream",
     "text": [
      "Cleaning non-mainfold meshes:  97%|█████████▋| 29/30 [00:12<00:00,  3.17it/s]"
     ]
    },
    {
     "name": "stdout",
     "output_type": "stream",
     "text": [
      "Removed 0 non-manifold faces\n",
      "INFO- Loaded 7915 vertices and 15826 faces.\n",
      "\n",
      "0% done \n",
      "INFO- ********* ITERATION 0 *********\n",
      "INFO- Removing degeneracies...\n",
      "INFO- Removing self-intersections...\n",
      "\n",
      "95 % done   \n",
      "INFO- No intersections detected.\n",
      "\n",
      "0% done \n"
     ]
    },
    {
     "name": "stderr",
     "output_type": "stream",
     "text": [
      "Cleaning non-mainfold meshes: 100%|██████████| 30/30 [00:12<00:00,  2.39it/s]\n"
     ]
    },
    {
     "name": "stdout",
     "output_type": "stream",
     "text": [
      "Removed 0 non-manifold faces\n",
      "INFO- Loaded 7596 vertices and 15188 faces.\n",
      "\n",
      "0% done \n",
      "INFO- ********* ITERATION 0 *********\n",
      "INFO- Removing degeneracies...\n",
      "INFO- Removing self-intersections...\n",
      "\n",
      "94 % done   \n",
      "INFO- No intersections detected.\n",
      "\n",
      "0% done \n",
      "-------------------------------------------\n",
      "Getting `.vtk` files...\n"
     ]
    },
    {
     "name": "stderr",
     "output_type": "stream",
     "text": [
      "Converting files to .vtk: 100%|██████████| 30/30 [00:05<00:00,  5.39it/s]\n"
     ]
    },
    {
     "name": "stdout",
     "output_type": "stream",
     "text": [
      "-------------------------------------------\n",
      "Preparing file for simulation...\n"
     ]
    },
    {
     "name": "stderr",
     "output_type": "stream",
     "text": [
      "Merging .vtk files: 100%|██████████| 30/30 [00:01<00:00, 28.23it/s]\n"
     ]
    },
    {
     "data": {
      "text/plain": [
       "'../../Meshes_for_Simulation/examples/cell_clump_intestine/cell_clumps/lateral_clump_29_cells/clean_meshes_v2/vtk_files/merged.vtk'"
      ]
     },
     "execution_count": 3,
     "metadata": {},
     "output_type": "execute_result"
    }
   ],
   "source": [
    "root = '../outputs/outputs_v3/output_intestine_sample2_b_curated_segmentation_relabel_seq_s_10_e_6_d_8/'\n",
    "voxel_resolution = np.array([0.325, 0.325, 0.25])\n",
    "label_path = os.path.join(root, 'processed_labels.tif')\n",
    "\n",
    "label_list = string_to_array(\"128 135 141 147 150 159 169 171 173 175 180 184 185 186 187 189 195 208 210 211 213 214 228 237 243 246 270 271 318\")\n",
    "output_dir = '../../Meshes_for_Simulation/examples/cell_clump_intestine/cell_clumps/lateral_clump_29_cells/clean_meshes_v2'\n",
    "\n",
    "# Call the mesh_process_clean function\n",
    "mesh_process_clean(\n",
    "    label_path=label_path, \n",
    "    output_dir=output_dir, \n",
    "    label_list=label_list, \n",
    "    voxel_resolution=voxel_resolution, \n",
    "    scale_factor=1e-6, \n",
    "    min_edge_length=0.5,\n",
    "    make_shell=True\n",
    ")"
   ]
  },
  {
   "cell_type": "code",
   "execution_count": null,
   "metadata": {},
   "outputs": [],
   "source": []
  }
 ],
 "metadata": {
  "kernelspec": {
   "display_name": "EpiStats",
   "language": "python",
   "name": "python3"
  },
  "language_info": {
   "codemirror_mode": {
    "name": "ipython",
    "version": 3
   },
   "file_extension": ".py",
   "mimetype": "text/x-python",
   "name": "python",
   "nbconvert_exporter": "python",
   "pygments_lexer": "ipython3",
   "version": "3.10.12"
  },
  "orig_nbformat": 4
 },
 "nbformat": 4,
 "nbformat_minor": 2
}
