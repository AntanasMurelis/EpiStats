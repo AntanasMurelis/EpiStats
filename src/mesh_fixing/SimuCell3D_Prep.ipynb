{
 "cells": [
  {
   "attachments": {},
   "cell_type": "markdown",
   "metadata": {},
   "source": [
    "### Mesh processing for SimuCell3D\n",
    "\n",
    "This notebook outlines how to generate a geometry for the SimuCell3D."
   ]
  },
  {
   "cell_type": "code",
   "execution_count": 1,
   "metadata": {},
   "outputs": [],
   "source": [
    "import os\n",
    "import sys\n",
    "import numpy as np\n",
    "from MeshPrep import convert_filtered_meshes\n",
    "from MeshPrep import mesh_process_clean, string_to_array"
   ]
  },
  {
   "attachments": {},
   "cell_type": "markdown",
   "metadata": {},
   "source": [
    "#### Cleaning the labels\n",
    "\n",
    "The labels generated from manual curation should be processesed before passing through the geometry generation. Strongly recommended step. Generates meshes which may be used for manual cell patch selection using paraview."
   ]
  },
  {
   "cell_type": "code",
   "execution_count": null,
   "metadata": {},
   "outputs": [],
   "source": [
    "# root = '../outputs/outputs_v3/output_lung_new_sample_b_curated_segmentation_central_crop_relabel_seq_s_10_e_6_d_8/'"
   ]
  },
  {
   "cell_type": "code",
   "execution_count": null,
   "metadata": {},
   "outputs": [],
   "source": [
    "# voxel_resolution = np.array([0.1625, 0.1625, 0.25])\n",
    "# label_path = os.path.join(root, 'processed_labels.tif')"
   ]
  },
  {
   "cell_type": "code",
   "execution_count": null,
   "metadata": {},
   "outputs": [],
   "source": [
    "# from VoxelProcessing import full_label_processing\n",
    "\n",
    "# output_folder='path/folder/to/save/processed/labels'\n",
    "# cell_info = full_label_processing(labeled_img=label_path, voxel_resolution=voxel_resolution, output_folder=output_folder, smoothing_iterations=10)\n",
    "# label_path = os.path.join(output_folder, \"processed_labels.npy\")\n",
    "# filtered_cell_list = cell_info[2]"
   ]
  },
  {
   "attachments": {},
   "cell_type": "markdown",
   "metadata": {},
   "source": [
    "#### Select labels for Simulations\n",
    "\n",
    "To obtain labels for simulation one may use napari and select cells manually, or use meshes, and paraview. View how to use paraview [here](Tutorials/LabelSelection.md).\n",
    "\n",
    "You may want to isolate the cells that do not touch the border instead. To isolate these use the following script and use Paraview's extract functionality as outlined."
   ]
  },
  {
   "cell_type": "code",
   "execution_count": null,
   "metadata": {},
   "outputs": [],
   "source": [
    "from FilterMeshes import get_valid_cell_ids\n",
    "\n",
    "root = '../outputs/outputs_v3/output_lung_new_sample_b_curated_segmentation_central_crop_relabel_seq_s_10_e_6_d_8/'\n",
    "\n",
    "filtered_cell_list = get_valid_cell_ids(os.path.join(root, 'cell_stats/stats_dataset_lung_bronchiole.csv'))"
   ]
  },
  {
   "cell_type": "code",
   "execution_count": null,
   "metadata": {},
   "outputs": [],
   "source": [
    "# The directory from which mesh files are loaded in stl format\n",
    "source_mesh_path = os.path.join(root, 'cell_meshes')\n",
    "\n",
    "# The directory in which filtered meshes will be saved in vtk format\n",
    "dest_mesh_path = '../../Meshes_for_Simulation/examples/cell_clump_bronchiole' \n",
    "\n",
    "convert_filtered_meshes(source_mesh_path, dest_mesh_path, filtered_cell_list)"
   ]
  },
  {
   "attachments": {},
   "cell_type": "markdown",
   "metadata": {},
   "source": [
    "Now you can open the `.vtk` mesh files in paraview and select a clump of cells for simulation."
   ]
  },
  {
   "attachments": {},
   "cell_type": "markdown",
   "metadata": {},
   "source": [
    "#### Mesh Cleaning for SimuCell3D\n",
    "\n",
    "Produce meshes for SimuCell3D simulation framework. Ensure that the path to labels is of cleaned, processed labels. "
   ]
  },
  {
   "cell_type": "code",
   "execution_count": 2,
   "metadata": {},
   "outputs": [
    {
     "name": "stdout",
     "output_type": "stream",
     "text": [
      "-------------------------------------------\n",
      "Creating meshes from labeled img...\n"
     ]
    },
    {
     "name": "stderr",
     "output_type": "stream",
     "text": [
      "Converting labels to meshes: 100%|██████████| 16/16 [03:30<00:00, 13.13s/it]\n"
     ]
    },
    {
     "name": "stdout",
     "output_type": "stream",
     "text": [
      "-------------------------------------------\n",
      "First mesh cleaning...\n"
     ]
    },
    {
     "name": "stderr",
     "output_type": "stream",
     "text": [
      "Cleaning non-mainfold meshes:   0%|          | 0/18 [00:00<?, ?it/s]"
     ]
    },
    {
     "name": "stdout",
     "output_type": "stream",
     "text": [
      "Removed 20 non-manifold faces\n",
      "INFO- Loaded 12263 vertices and 24512 faces.\n",
      "\n",
      "100% done \n",
      "INFO- ********* ITERATION 0 *********\n",
      "INFO- Removing degeneracies...\n",
      "INFO- Removing self-intersections...\n",
      "\n",
      "98 % done   \n",
      "INFO- No intersections detected.\n",
      "\n",
      "0% done \n"
     ]
    },
    {
     "name": "stderr",
     "output_type": "stream",
     "text": [
      "WARNING- 1 isolated vertices have been removed.\n",
      "Cleaning non-mainfold meshes:   6%|▌         | 1/18 [00:00<00:11,  1.53it/s]"
     ]
    },
    {
     "name": "stdout",
     "output_type": "stream",
     "text": [
      "Removed 12 non-manifold faces\n",
      "INFO- Loaded 16132 vertices and 32254 faces.\n"
     ]
    },
    {
     "name": "stderr",
     "output_type": "stream",
     "text": [
      "Cleaning non-mainfold meshes:  11%|█         | 2/18 [00:01<00:12,  1.27it/s]"
     ]
    },
    {
     "name": "stdout",
     "output_type": "stream",
     "text": [
      "\n",
      "100% done \n",
      "INFO- ********* ITERATION 0 *********\n",
      "INFO- Removing degeneracies...\n",
      "INFO- Removing self-intersections...\n",
      "\n",
      "96 % done   \n",
      "INFO- No intersections detected.\n",
      "\n",
      "0% done \n",
      "Removed 50 non-manifold faces\n",
      "INFO- Loaded 19121 vertices and 38202 faces.\n",
      "\n",
      "0% done "
     ]
    },
    {
     "name": "stderr",
     "output_type": "stream",
     "text": [
      "WARNING- 8 isolated vertices have been removed.\n",
      "Cleaning non-mainfold meshes:  17%|█▋        | 3/18 [00:02<00:11,  1.28it/s]"
     ]
    },
    {
     "name": "stdout",
     "output_type": "stream",
     "text": [
      "100% done \n",
      "INFO- ********* ITERATION 0 *********\n",
      "INFO- Removing degeneracies...\n",
      "INFO- Removing self-intersections...\n",
      "\n",
      "96 % done   \n",
      "INFO- No intersections detected.\n",
      "\n",
      "0% done \n",
      "Removed 170 non-manifold faces\n",
      "INFO- Loaded 19210 vertices and 38310 faces.\n",
      "\n",
      "100% done \n",
      "INFO- ********* ITERATION 0 *********\n",
      "INFO- Removing degeneracies...\n",
      "INFO- Removing self-intersections...\n",
      "\n",
      "99 % done   \n",
      "INFO- 25 intersecting triangles have been selected.\n",
      "\n",
      "0 % done   \n",
      "INFO- 11 intersecting triangles have been selected.\n",
      "\n",
      "0 % done   \n",
      "INFO- No intersections detected.\n",
      "\n",
      "0% done \n"
     ]
    },
    {
     "name": "stderr",
     "output_type": "stream",
     "text": [
      "WARNING- 22 isolated vertices have been removed.\n",
      "Cleaning non-mainfold meshes:  22%|██▏       | 4/18 [00:03<00:12,  1.09it/s]"
     ]
    },
    {
     "name": "stdout",
     "output_type": "stream",
     "text": [
      "Removed 12 non-manifold faces\n",
      "INFO- Loaded 17871 vertices and 35730 faces.\n",
      "\n",
      "0% done "
     ]
    },
    {
     "name": "stderr",
     "output_type": "stream",
     "text": [
      "WARNING- 1 isolated vertices have been removed.\n",
      "Cleaning non-mainfold meshes:  28%|██▊       | 5/18 [00:04<00:10,  1.21it/s]"
     ]
    },
    {
     "name": "stdout",
     "output_type": "stream",
     "text": [
      "100% done \n",
      "INFO- ********* ITERATION 0 *********\n",
      "INFO- Removing degeneracies...\n",
      "INFO- Removing self-intersections...\n",
      "\n",
      "96 % done   \n",
      "INFO- No intersections detected.\n",
      "\n",
      "0% done \n",
      "Removed 16 non-manifold faces\n",
      "INFO- Loaded 12873 vertices and 25734 faces.\n",
      "\n",
      "100% done \n",
      "INFO- ********* ITERATION 0 *********\n",
      "INFO- Removing degeneracies...\n",
      "INFO- Removing self-intersections...\n",
      "\n",
      "98 % done   \n",
      "INFO- No intersections detected.\n",
      "\n",
      "0% done \n"
     ]
    },
    {
     "name": "stderr",
     "output_type": "stream",
     "text": [
      "Cleaning non-mainfold meshes:  33%|███▎      | 6/18 [00:04<00:08,  1.42it/s]"
     ]
    },
    {
     "name": "stdout",
     "output_type": "stream",
     "text": [
      "Removed 8 non-manifold faces\n",
      "INFO- Loaded 17361 vertices and 34714 faces.\n"
     ]
    },
    {
     "name": "stderr",
     "output_type": "stream",
     "text": [
      "WARNING- 1 isolated vertices have been removed.\n",
      "Cleaning non-mainfold meshes:  39%|███▉      | 7/18 [00:05<00:07,  1.40it/s]"
     ]
    },
    {
     "name": "stdout",
     "output_type": "stream",
     "text": [
      "\n",
      "100% done \n",
      "INFO- ********* ITERATION 0 *********\n",
      "INFO- Removing degeneracies...\n",
      "INFO- Removing self-intersections...\n",
      "\n",
      "97 % done   \n",
      "INFO- 4 intersecting triangles have been selected.\n",
      "\n",
      "0 % done   \n",
      "INFO- No intersections detected.\n",
      "\n",
      "0% done \n",
      "Removed 0 non-manifold faces\n",
      "INFO- Loaded 17946 vertices and 35888 faces.\n",
      "\n",
      "0% done "
     ]
    },
    {
     "name": "stderr",
     "output_type": "stream",
     "text": [
      "Cleaning non-mainfold meshes:  44%|████▍     | 8/18 [00:05<00:07,  1.42it/s]"
     ]
    },
    {
     "name": "stdout",
     "output_type": "stream",
     "text": [
      "\n",
      "INFO- ********* ITERATION 0 *********\n",
      "INFO- Removing degeneracies...\n",
      "INFO- Removing self-intersections...\n",
      "\n",
      "96 % done   \n",
      "INFO- No intersections detected.\n",
      "\n",
      "0% done \n",
      "Removed 0 non-manifold faces\n",
      "INFO- Loaded 20100 vertices and 40196 faces.\n",
      "\n",
      "0% done \n",
      "INFO- ********* ITERATION 0 *********\n",
      "INFO- Removing degeneracies...\n",
      "INFO- Removing self-intersections...\n",
      "\n",
      "98 % done   \n",
      "INFO- No intersections detected.\n",
      "\n",
      "0% done \n"
     ]
    },
    {
     "name": "stderr",
     "output_type": "stream",
     "text": [
      "Cleaning non-mainfold meshes:  50%|█████     | 9/18 [00:06<00:06,  1.41it/s]"
     ]
    },
    {
     "name": "stdout",
     "output_type": "stream",
     "text": [
      "Removed 4 non-manifold faces\n",
      "INFO- Loaded 16864 vertices and 33720 faces.\n",
      "\n"
     ]
    },
    {
     "name": "stderr",
     "output_type": "stream",
     "text": [
      "WARNING- 1 isolated vertices have been removed.\n",
      "Cleaning non-mainfold meshes:  56%|█████▌    | 10/18 [00:07<00:05,  1.48it/s]"
     ]
    },
    {
     "name": "stdout",
     "output_type": "stream",
     "text": [
      "100% done \n",
      "INFO- ********* ITERATION 0 *********\n",
      "INFO- Removing degeneracies...\n",
      "INFO- Removing self-intersections...\n",
      "\n",
      "97 % done   \n",
      "INFO- No intersections detected.\n",
      "\n",
      "0% done \n",
      "Removed 4 non-manifold faces\n",
      "INFO- Loaded 18827 vertices and 37648 faces.\n",
      "\n",
      "0% done "
     ]
    },
    {
     "name": "stderr",
     "output_type": "stream",
     "text": [
      "Cleaning non-mainfold meshes:  61%|██████    | 11/18 [00:07<00:04,  1.48it/s]"
     ]
    },
    {
     "name": "stdout",
     "output_type": "stream",
     "text": [
      "100% done \n",
      "INFO- ********* ITERATION 0 *********\n",
      "INFO- Removing degeneracies...\n",
      "INFO- Removing self-intersections...\n",
      "\n",
      "98 % done   \n",
      "INFO- No intersections detected.\n",
      "\n",
      "0% done \n",
      "Removed 0 non-manifold faces\n",
      "INFO- Loaded 108732 vertices and 217460 faces.\n",
      "\n",
      "0% done \n",
      "INFO- ********* ITERATION 0 *********\n",
      "INFO- Removing degeneracies...\n",
      "INFO- Removing self-intersections...\n",
      "\n",
      "99 % done   \n",
      "INFO- No intersections detected.\n",
      "\n",
      "0% done \n"
     ]
    },
    {
     "name": "stderr",
     "output_type": "stream",
     "text": [
      "Cleaning non-mainfold meshes:  67%|██████▋   | 12/18 [00:12<00:10,  1.78s/it]"
     ]
    },
    {
     "name": "stdout",
     "output_type": "stream",
     "text": [
      "Removed 12 non-manifold faces\n",
      "INFO- Loaded 18031 vertices and 36052 faces.\n"
     ]
    },
    {
     "name": "stderr",
     "output_type": "stream",
     "text": [
      "Cleaning non-mainfold meshes:  78%|███████▊  | 14/18 [00:12<00:04,  1.10s/it]"
     ]
    },
    {
     "name": "stdout",
     "output_type": "stream",
     "text": [
      "\n",
      "100% done \n",
      "INFO- ********* ITERATION 0 *********\n",
      "INFO- Removing degeneracies...\n",
      "INFO- Removing self-intersections...\n",
      "\n",
      "98 % done   \n",
      "INFO- No intersections detected.\n",
      "\n",
      "0% done \n",
      "Removed 8 non-manifold faces\n",
      "INFO- Loaded 18180 vertices and 36352 faces.\n",
      "\n",
      "0% done "
     ]
    },
    {
     "name": "stderr",
     "output_type": "stream",
     "text": [
      "Cleaning non-mainfold meshes:  83%|████████▎ | 15/18 [00:13<00:03,  1.00s/it]"
     ]
    },
    {
     "name": "stdout",
     "output_type": "stream",
     "text": [
      "100% done \n",
      "INFO- ********* ITERATION 0 *********\n",
      "INFO- Removing degeneracies...\n",
      "INFO- Removing self-intersections...\n",
      "\n",
      "99 % done   \n",
      "INFO- No intersections detected.\n",
      "\n",
      "0% done \n",
      "Removed 0 non-manifold faces\n",
      "INFO- Loaded 18409 vertices and 36814 faces.\n",
      "\n",
      "0% done \n",
      "INFO- ********* ITERATION 0 *********\n",
      "INFO- Removing degeneracies...\n",
      "INFO- Removing self-intersections...\n",
      "\n",
      "96 % done   \n",
      "INFO- No intersections detected.\n"
     ]
    },
    {
     "name": "stderr",
     "output_type": "stream",
     "text": [
      "Cleaning non-mainfold meshes:  89%|████████▉ | 16/18 [00:14<00:01,  1.10it/s]"
     ]
    },
    {
     "name": "stdout",
     "output_type": "stream",
     "text": [
      "\n",
      "0% done \n",
      "Removed 16 non-manifold faces\n",
      "INFO- Loaded 19919 vertices and 39824 faces.\n",
      "\n"
     ]
    },
    {
     "name": "stderr",
     "output_type": "stream",
     "text": [
      "WARNING- 1 isolated vertices have been removed.\n",
      "Cleaning non-mainfold meshes:  94%|█████████▍| 17/18 [00:15<00:00,  1.16it/s]"
     ]
    },
    {
     "name": "stdout",
     "output_type": "stream",
     "text": [
      "100% done \n",
      "INFO- ********* ITERATION 0 *********\n",
      "INFO- Removing degeneracies...\n",
      "INFO- Removing self-intersections...\n",
      "\n",
      "96 % done   \n",
      "INFO- No intersections detected.\n",
      "\n",
      "0% done \n",
      "Removed 0 non-manifold faces\n",
      "INFO- Loaded 20169 vertices and 40334 faces.\n",
      "\n"
     ]
    },
    {
     "name": "stderr",
     "output_type": "stream",
     "text": [
      "Cleaning non-mainfold meshes: 100%|██████████| 18/18 [00:15<00:00,  1.14it/s]\n"
     ]
    },
    {
     "name": "stdout",
     "output_type": "stream",
     "text": [
      "0% done \n",
      "INFO- ********* ITERATION 0 *********\n",
      "INFO- Removing degeneracies...\n",
      "INFO- Removing self-intersections...\n",
      "\n",
      "99 % done   \n",
      "INFO- No intersections detected.\n",
      "\n",
      "0% done \n",
      "-------------------------------------------\n",
      "Remeshing...\n"
     ]
    },
    {
     "name": "stderr",
     "output_type": "stream",
     "text": [
      "Applying pymeshlab remeshing: 100%|██████████| 17/17 [00:23<00:00,  1.38s/it]\n"
     ]
    },
    {
     "name": "stdout",
     "output_type": "stream",
     "text": [
      "-------------------------------------------\n",
      "Second mesh cleaning...\n"
     ]
    },
    {
     "name": "stderr",
     "output_type": "stream",
     "text": [
      "Cleaning non-mainfold meshes:   6%|▌         | 1/17 [00:00<00:06,  2.66it/s]"
     ]
    },
    {
     "name": "stdout",
     "output_type": "stream",
     "text": [
      "Removed 0 non-manifold faces\n",
      "INFO- Loaded 8832 vertices and 17660 faces.\n",
      "\n",
      "0% done \n",
      "INFO- ********* ITERATION 0 *********\n",
      "INFO- Removing degeneracies...\n",
      "INFO- Removing self-intersections...\n",
      "\n",
      "94 % done   \n",
      "INFO- No intersections detected.\n",
      "\n",
      "0% done \n"
     ]
    },
    {
     "name": "stderr",
     "output_type": "stream",
     "text": [
      "Cleaning non-mainfold meshes:  12%|█▏        | 2/17 [00:00<00:04,  3.17it/s]"
     ]
    },
    {
     "name": "stdout",
     "output_type": "stream",
     "text": [
      "Removed 0 non-manifold faces\n",
      "INFO- Loaded 7820 vertices and 15636 faces.\n",
      "\n",
      "0% done \n",
      "INFO- ********* ITERATION 0 *********\n",
      "INFO- Removing degeneracies...\n",
      "INFO- Removing self-intersections...\n",
      "\n",
      "94 % done   \n",
      "INFO- No intersections detected.\n",
      "\n",
      "0% done \n"
     ]
    },
    {
     "name": "stderr",
     "output_type": "stream",
     "text": [
      "Cleaning non-mainfold meshes:  18%|█▊        | 3/17 [00:00<00:04,  3.22it/s]"
     ]
    },
    {
     "name": "stdout",
     "output_type": "stream",
     "text": [
      "Removed 0 non-manifold faces\n",
      "INFO- Loaded 7810 vertices and 15616 faces.\n",
      "\n",
      "0% done \n",
      "INFO- ********* ITERATION 0 *********\n",
      "INFO- Removing degeneracies...\n",
      "INFO- Removing self-intersections...\n",
      "\n",
      "97 % done   \n",
      "INFO- No intersections detected.\n",
      "\n",
      "0% done \n"
     ]
    },
    {
     "name": "stderr",
     "output_type": "stream",
     "text": [
      "Cleaning non-mainfold meshes:  24%|██▎       | 4/17 [00:01<00:03,  3.30it/s]"
     ]
    },
    {
     "name": "stdout",
     "output_type": "stream",
     "text": [
      "Removed 0 non-manifold faces\n",
      "INFO- Loaded 7468 vertices and 14932 faces.\n",
      "\n",
      "0% done \n",
      "INFO- ********* ITERATION 0 *********\n",
      "INFO- Removing degeneracies...\n",
      "INFO- Removing self-intersections...\n",
      "\n",
      "92 % done   \n",
      "INFO- No intersections detected.\n",
      "\n",
      "0% done \n"
     ]
    },
    {
     "name": "stderr",
     "output_type": "stream",
     "text": [
      "Cleaning non-mainfold meshes:  29%|██▉       | 5/17 [00:01<00:03,  3.37it/s]"
     ]
    },
    {
     "name": "stdout",
     "output_type": "stream",
     "text": [
      "Removed 0 non-manifold faces\n",
      "INFO- Loaded 8039 vertices and 16074 faces.\n",
      "\n",
      "0% done \n",
      "INFO- ********* ITERATION 0 *********\n",
      "INFO- Removing degeneracies...\n",
      "INFO- Removing self-intersections...\n",
      "\n",
      "95 % done   \n",
      "INFO- No intersections detected.\n",
      "\n",
      "0% done \n"
     ]
    },
    {
     "name": "stderr",
     "output_type": "stream",
     "text": [
      "Cleaning non-mainfold meshes:  35%|███▌      | 6/17 [00:01<00:03,  3.30it/s]"
     ]
    },
    {
     "name": "stdout",
     "output_type": "stream",
     "text": [
      "Removed 0 non-manifold faces\n",
      "INFO- Loaded 8529 vertices and 17054 faces.\n",
      "\n",
      "0% done \n",
      "INFO- ********* ITERATION 0 *********\n",
      "INFO- Removing degeneracies...\n",
      "INFO- Removing self-intersections...\n",
      "\n",
      "94 % done   \n",
      "INFO- No intersections detected.\n",
      "\n",
      "0% done \n"
     ]
    },
    {
     "name": "stderr",
     "output_type": "stream",
     "text": [
      "Cleaning non-mainfold meshes:  41%|████      | 7/17 [00:02<00:02,  3.39it/s]"
     ]
    },
    {
     "name": "stdout",
     "output_type": "stream",
     "text": [
      "Removed 0 non-manifold faces\n",
      "INFO- Loaded 7721 vertices and 15438 faces.\n",
      "\n",
      "0% done \n",
      "INFO- ********* ITERATION 0 *********\n",
      "INFO- Removing degeneracies...\n",
      "INFO- Removing self-intersections...\n",
      "\n",
      "96 % done   \n",
      "INFO- No intersections detected.\n",
      "\n",
      "0% done \n"
     ]
    },
    {
     "name": "stderr",
     "output_type": "stream",
     "text": [
      "Cleaning non-mainfold meshes:  47%|████▋     | 8/17 [00:02<00:02,  3.68it/s]"
     ]
    },
    {
     "name": "stdout",
     "output_type": "stream",
     "text": [
      "Removed 0 non-manifold faces\n",
      "INFO- Loaded 5599 vertices and 11194 faces.\n",
      "\n",
      "0% done \n",
      "INFO- ********* ITERATION 0 *********\n",
      "INFO- Removing degeneracies...\n",
      "INFO- Removing self-intersections...\n",
      "\n",
      "91 % done   \n",
      "INFO- No intersections detected.\n",
      "\n",
      "0% done \n"
     ]
    },
    {
     "name": "stderr",
     "output_type": "stream",
     "text": [
      "Cleaning non-mainfold meshes:  53%|█████▎    | 9/17 [00:02<00:02,  3.55it/s]"
     ]
    },
    {
     "name": "stdout",
     "output_type": "stream",
     "text": [
      "Removed 0 non-manifold faces\n",
      "INFO- Loaded 7915 vertices and 15826 faces.\n",
      "\n",
      "0% done \n",
      "INFO- ********* ITERATION 0 *********\n",
      "INFO- Removing degeneracies...\n",
      "INFO- Removing self-intersections...\n",
      "\n",
      "95 % done   \n",
      "INFO- No intersections detected.\n",
      "\n",
      "0% done \n"
     ]
    },
    {
     "name": "stderr",
     "output_type": "stream",
     "text": [
      "Cleaning non-mainfold meshes:  59%|█████▉    | 10/17 [00:02<00:01,  3.53it/s]"
     ]
    },
    {
     "name": "stdout",
     "output_type": "stream",
     "text": [
      "Removed 0 non-manifold faces\n",
      "INFO- Loaded 7063 vertices and 14122 faces.\n",
      "\n",
      "0% done \n",
      "INFO- ********* ITERATION 0 *********\n",
      "INFO- Removing degeneracies...\n",
      "INFO- Removing self-intersections...\n",
      "\n",
      "96 % done   \n",
      "INFO- No intersections detected.\n",
      "\n",
      "0% done \n",
      "Removed 0 non-manifold faces\n"
     ]
    },
    {
     "name": "stderr",
     "output_type": "stream",
     "text": [
      "Cleaning non-mainfold meshes:  65%|██████▍   | 11/17 [00:05<00:05,  1.18it/s]"
     ]
    },
    {
     "name": "stdout",
     "output_type": "stream",
     "text": [
      "INFO- Loaded 51074 vertices and 102144 faces.\n",
      "\n",
      "0% done \n",
      "INFO- ********* ITERATION 0 *********\n",
      "INFO- Removing degeneracies...\n",
      "INFO- Removing self-intersections...\n",
      "\n",
      "99 % done   \n",
      "INFO- No intersections detected.\n",
      "\n",
      "0% done \n"
     ]
    },
    {
     "name": "stderr",
     "output_type": "stream",
     "text": [
      "Cleaning non-mainfold meshes:  71%|███████   | 12/17 [00:05<00:03,  1.50it/s]"
     ]
    },
    {
     "name": "stdout",
     "output_type": "stream",
     "text": [
      "Removed 0 non-manifold faces\n",
      "INFO- Loaded 7596 vertices and 15188 faces.\n",
      "\n",
      "0% done \n",
      "INFO- ********* ITERATION 0 *********\n",
      "INFO- Removing degeneracies...\n",
      "INFO- Removing self-intersections...\n",
      "\n",
      "94 % done   \n",
      "INFO- No intersections detected.\n",
      "\n",
      "0% done \n"
     ]
    },
    {
     "name": "stderr",
     "output_type": "stream",
     "text": [
      "Cleaning non-mainfold meshes:  76%|███████▋  | 13/17 [00:05<00:02,  1.83it/s]"
     ]
    },
    {
     "name": "stdout",
     "output_type": "stream",
     "text": [
      "Removed 0 non-manifold faces\n",
      "INFO- Loaded 7108 vertices and 14212 faces.\n",
      "\n",
      "0% done \n",
      "INFO- ********* ITERATION 0 *********\n",
      "INFO- Removing degeneracies...\n",
      "INFO- Removing self-intersections...\n",
      "\n",
      "98 % done   \n",
      "INFO- No intersections detected.\n",
      "\n",
      "0% done \n"
     ]
    },
    {
     "name": "stderr",
     "output_type": "stream",
     "text": [
      "Cleaning non-mainfold meshes:  82%|████████▏ | 14/17 [00:05<00:01,  2.10it/s]"
     ]
    },
    {
     "name": "stdout",
     "output_type": "stream",
     "text": [
      "Removed 0 non-manifold faces\n",
      "INFO- Loaded 8471 vertices and 16938 faces.\n",
      "\n",
      "0% done \n",
      "INFO- ********* ITERATION 0 *********\n",
      "INFO- Removing degeneracies...\n",
      "INFO- Removing self-intersections...\n",
      "\n",
      "97 % done   \n",
      "INFO- No intersections detected.\n",
      "\n",
      "0% done \n"
     ]
    },
    {
     "name": "stderr",
     "output_type": "stream",
     "text": [
      "Cleaning non-mainfold meshes:  88%|████████▊ | 15/17 [00:06<00:00,  2.36it/s]"
     ]
    },
    {
     "name": "stdout",
     "output_type": "stream",
     "text": [
      "Removed 0 non-manifold faces\n",
      "INFO- Loaded 8521 vertices and 17038 faces.\n",
      "\n",
      "0% done \n",
      "INFO- ********* ITERATION 0 *********\n",
      "INFO- Removing degeneracies...\n",
      "INFO- Removing self-intersections...\n",
      "\n",
      "91 % done   \n",
      "INFO- No intersections detected.\n",
      "\n",
      "0% done \n"
     ]
    },
    {
     "name": "stderr",
     "output_type": "stream",
     "text": [
      "Cleaning non-mainfold meshes:  94%|█████████▍| 16/17 [00:06<00:00,  2.78it/s]"
     ]
    },
    {
     "name": "stdout",
     "output_type": "stream",
     "text": [
      "Removed 0 non-manifold faces\n",
      "INFO- Loaded 5512 vertices and 11020 faces.\n",
      "\n",
      "0% done \n",
      "INFO- ********* ITERATION 0 *********\n",
      "INFO- Removing degeneracies...\n",
      "INFO- Removing self-intersections...\n",
      "\n",
      "86 % done   \n",
      "INFO- No intersections detected.\n",
      "\n",
      "0% done \n"
     ]
    },
    {
     "name": "stderr",
     "output_type": "stream",
     "text": [
      "Cleaning non-mainfold meshes: 100%|██████████| 17/17 [00:06<00:00,  2.53it/s]\n"
     ]
    },
    {
     "name": "stdout",
     "output_type": "stream",
     "text": [
      "Removed 0 non-manifold faces\n",
      "INFO- Loaded 7621 vertices and 15238 faces.\n",
      "\n",
      "0% done \n",
      "INFO- ********* ITERATION 0 *********\n",
      "INFO- Removing degeneracies...\n",
      "INFO- Removing self-intersections...\n",
      "\n",
      "99 % done   \n",
      "INFO- No intersections detected.\n",
      "\n",
      "0% done \n",
      "-------------------------------------------\n",
      "Getting `.vtk` files...\n"
     ]
    },
    {
     "name": "stderr",
     "output_type": "stream",
     "text": [
      "Converting files to .vtk: 100%|██████████| 17/17 [00:02<00:00,  5.67it/s]\n"
     ]
    },
    {
     "name": "stdout",
     "output_type": "stream",
     "text": [
      "-------------------------------------------\n",
      "Preparing file for simulation...\n"
     ]
    },
    {
     "name": "stderr",
     "output_type": "stream",
     "text": [
      "Merging .vtk files: 100%|██████████| 17/17 [00:00<00:00, 27.01it/s]\n"
     ]
    },
    {
     "data": {
      "text/plain": [
       "'../../Meshes_for_Simulation/examples/cell_clump_intestine/cell_clumps/clean_clump_16_cells/clean_meshes/vtk_files/merged.vtk'"
      ]
     },
     "execution_count": 2,
     "metadata": {},
     "output_type": "execute_result"
    }
   ],
   "source": [
    "root = '../outputs/outputs_v4/output_intestine_sample2_b_curated_segmentation_relabel_seq_s_10_e_6_d_8/'\n",
    "voxel_resolution = np.array([0.325, 0.325, 0.25])\n",
    "label_path = os.path.join(root, 'processed_labels.tif')\n",
    "\n",
    "label_list = string_to_array(\"128 130 138 139 147 150 163 167 169 171 180 185 187 193 210 228\")\n",
    "output_dir = '../../Meshes_for_Simulation/examples/cell_clump_intestine/cell_clumps/clean_clump_16_cells/clean_meshes/'\n",
    "\n",
    "# Call the mesh_process_clean function\n",
    "mesh_process_clean(\n",
    "    label_path=label_path, \n",
    "    output_dir=output_dir, \n",
    "    label_list=label_list, \n",
    "    voxel_resolution=voxel_resolution, \n",
    "    scale_factor=1e-6, \n",
    "    min_edge_length=0.5,\n",
    "    make_shell=True\n",
    ")"
   ]
  },
  {
   "attachments": {},
   "cell_type": "markdown",
   "metadata": {},
   "source": [
    "NOTE: To create a shell mesh that fits  really well the single cell meshes you may need to resort to the simulation pipeline.\n",
    "\n",
    "In that case you need to do the following:\n",
    "- In the source code (./include/mesh/cell_types), set for ECM cells `is_static=False` in the constructors, while set it to `True` for the epithelial cells.\n",
    "- Set surface tension values for ECM in at the middle of the \"feasible range\" experimented for epithelial cells (e.g., 1e-3 could work).\n",
    "- Run few simulation iterations untile the result is satisfactory. Take the resulting vtk file as the input for following simulation runs."
   ]
  },
  {
   "cell_type": "markdown",
   "metadata": {},
   "source": [
    "## Test 'creation of outer shell mesh'"
   ]
  },
  {
   "cell_type": "code",
   "execution_count": 4,
   "metadata": {},
   "outputs": [],
   "source": [
    "import napari\n",
    "import numpy as np\n",
    "import trimesh\n",
    "from MeshPrep import create_outer_shell_mesh\n",
    "from trimesh.creation import icosphere\n",
    "from typing import List"
   ]
  },
  {
   "cell_type": "code",
   "execution_count": 14,
   "metadata": {},
   "outputs": [],
   "source": [
    "def create_sample_spheres(\n",
    "        n: int,\n",
    "        radiuses: List[float]\n",
    ") -> List[trimesh.Trimesh]:\n",
    "    \"\"\"\n",
    "    Create n spherical meshes displaced one next to the other and with centers aligned.\n",
    "\n",
    "    Parameters:\n",
    "    -----------\n",
    "    n: (int)\n",
    "        The number of spheres to create\n",
    "    radiuses: (List[int])\n",
    "        The radius of the spheres\n",
    "\n",
    "    Returns:\n",
    "    --------\n",
    "    spheres: (List[trimesh.Trimesh])\n",
    "        A list of meshes of spheres\n",
    "    \"\"\"\n",
    "    spheres = []\n",
    "    displacement = np.array([0.0, 0.0, 0.0])\n",
    "    for i in range(n):\n",
    "        curr_sphere = icosphere(radius=radiuses[i])\n",
    "        curr_sphere.vertices += displacement\n",
    "        displacement[0] += 2 * radiuses[i]\n",
    "        spheres.append(curr_sphere)\n",
    "\n",
    "    return spheres"
   ]
  },
  {
   "cell_type": "code",
   "execution_count": 15,
   "metadata": {},
   "outputs": [],
   "source": [
    "spheres = create_sample_spheres(3, [1, 1, 1])"
   ]
  },
  {
   "cell_type": "code",
   "execution_count": 6,
   "metadata": {},
   "outputs": [],
   "source": [
    "viewer = napari.Viewer()"
   ]
  },
  {
   "cell_type": "code",
   "execution_count": 16,
   "metadata": {},
   "outputs": [],
   "source": [
    "for sphere in spheres:\n",
    "    viewer.add_surface((sphere.vertices, sphere.faces))"
   ]
  },
  {
   "cell_type": "code",
   "execution_count": 19,
   "metadata": {},
   "outputs": [],
   "source": [
    "neighbors_lst = [[1], [0, 2], [1]]"
   ]
  },
  {
   "cell_type": "code",
   "execution_count": 23,
   "metadata": {},
   "outputs": [],
   "source": [
    "# Calculate the length of each edge\n",
    "edges = spheres[0].edges\n",
    "edge_lengths = spheres[0].vertices[edges[:, 0]] - spheres[0].vertices[edges[:, 1]]\n",
    "edge_lengths = trimesh.util.row_norm(edge_lengths)\n",
    "\n",
    "# Get the shortest edge length\n",
    "shortest_edge_length = min(edge_lengths)"
   ]
  },
  {
   "cell_type": "code",
   "execution_count": 25,
   "metadata": {},
   "outputs": [
    {
     "ename": "ModuleNotFoundError",
     "evalue": "No module named 'rtree'",
     "output_type": "error",
     "traceback": [
      "\u001b[1;31m---------------------------------------------------------------------------\u001b[0m",
      "\u001b[1;31mModuleNotFoundError\u001b[0m                       Traceback (most recent call last)",
      "Cell \u001b[1;32mIn[25], line 1\u001b[0m\n\u001b[1;32m----> 1\u001b[0m create_outer_shell_mesh(\n\u001b[0;32m      2\u001b[0m     spheres,\n\u001b[0;32m      3\u001b[0m     neighbors_lst,\n\u001b[0;32m      4\u001b[0m     shortest_edge_length \u001b[39m*\u001b[39;49m \u001b[39m10\u001b[39;49m,\n\u001b[0;32m      5\u001b[0m     shortest_edge_length\n\u001b[0;32m      6\u001b[0m )\n",
      "File \u001b[1;32mn:\\Users\\Federico_Carrara\\Statistics_Collection\\EpiStats\\src\\mesh_fixing\\MeshPrep.py:777\u001b[0m, in \u001b[0;36mcreate_outer_shell_mesh\u001b[1;34m(meshes, neighbors, dist_threshold, translation)\u001b[0m\n\u001b[0;32m    775\u001b[0m curr_vertices \u001b[39m=\u001b[39m mesh\u001b[39m.\u001b[39mvertices\n\u001b[0;32m    776\u001b[0m \u001b[39mfor\u001b[39;00m neigh_idx \u001b[39min\u001b[39;00m neigh_idxs:\n\u001b[1;32m--> 777\u001b[0m     distances \u001b[39m=\u001b[39m signed_distance(meshes[neigh_idx], curr_vertices)\n\u001b[0;32m    778\u001b[0m     mask \u001b[39m=\u001b[39m distances \u001b[39m>\u001b[39m dist_threshold\n\u001b[0;32m    779\u001b[0m     curr_vertices \u001b[39m=\u001b[39m curr_vertices[mask, :]\n",
      "File \u001b[1;32mc:\\Users\\fede1\\mambaforge\\envs\\mesh-fix-env\\lib\\site-packages\\trimesh\\proximity.py:243\u001b[0m, in \u001b[0;36msigned_distance\u001b[1;34m(mesh, points)\u001b[0m\n\u001b[0;32m    240\u001b[0m points \u001b[39m=\u001b[39m np\u001b[39m.\u001b[39masanyarray(points, dtype\u001b[39m=\u001b[39mnp\u001b[39m.\u001b[39mfloat64)\n\u001b[0;32m    242\u001b[0m \u001b[39m# find the closest point on the mesh to the queried points\u001b[39;00m\n\u001b[1;32m--> 243\u001b[0m closest, distance, triangle_id \u001b[39m=\u001b[39m closest_point(mesh, points)\n\u001b[0;32m    245\u001b[0m \u001b[39m# we only care about nonzero distances\u001b[39;00m\n\u001b[0;32m    246\u001b[0m nonzero \u001b[39m=\u001b[39m distance \u001b[39m>\u001b[39m tol\u001b[39m.\u001b[39mmerge\n",
      "File \u001b[1;32mc:\\Users\\fede1\\mambaforge\\envs\\mesh-fix-env\\lib\\site-packages\\trimesh\\proximity.py:146\u001b[0m, in \u001b[0;36mclosest_point\u001b[1;34m(mesh, points)\u001b[0m\n\u001b[0;32m    143\u001b[0m     \u001b[39mraise\u001b[39;00m \u001b[39mValueError\u001b[39;00m(\u001b[39m'\u001b[39m\u001b[39mpoints must be (n,3)!\u001b[39m\u001b[39m'\u001b[39m)\n\u001b[0;32m    145\u001b[0m \u001b[39m# do a tree- based query for faces near each point\u001b[39;00m\n\u001b[1;32m--> 146\u001b[0m candidates \u001b[39m=\u001b[39m nearby_faces(mesh, points)\n\u001b[0;32m    147\u001b[0m \u001b[39m# view triangles as an ndarray so we don't have to recompute\u001b[39;00m\n\u001b[0;32m    148\u001b[0m \u001b[39m# the MD5 during all of the subsequent advanced indexing\u001b[39;00m\n\u001b[0;32m    149\u001b[0m triangles \u001b[39m=\u001b[39m mesh\u001b[39m.\u001b[39mtriangles\u001b[39m.\u001b[39mview(np\u001b[39m.\u001b[39mndarray)\n",
      "File \u001b[1;32mc:\\Users\\fede1\\mambaforge\\envs\\mesh-fix-env\\lib\\site-packages\\trimesh\\proximity.py:51\u001b[0m, in \u001b[0;36mnearby_faces\u001b[1;34m(mesh, points)\u001b[0m\n\u001b[0;32m     48\u001b[0m     \u001b[39mraise\u001b[39;00m \u001b[39mValueError\u001b[39;00m(\u001b[39m'\u001b[39m\u001b[39mpoints must be (n,3)!\u001b[39m\u001b[39m'\u001b[39m)\n\u001b[0;32m     50\u001b[0m \u001b[39m# an r-tree containing the axis aligned bounding box for every triangle\u001b[39;00m\n\u001b[1;32m---> 51\u001b[0m rtree \u001b[39m=\u001b[39m mesh\u001b[39m.\u001b[39;49mtriangles_tree\n\u001b[0;32m     52\u001b[0m \u001b[39m# a kd-tree containing every vertex of the mesh\u001b[39;00m\n\u001b[0;32m     53\u001b[0m kdtree \u001b[39m=\u001b[39m cKDTree(mesh\u001b[39m.\u001b[39mvertices[mesh\u001b[39m.\u001b[39mreferenced_vertices])\n",
      "File \u001b[1;32mc:\\Users\\fede1\\mambaforge\\envs\\mesh-fix-env\\lib\\site-packages\\trimesh\\caching.py:139\u001b[0m, in \u001b[0;36mcache_decorator.<locals>.get_cached\u001b[1;34m(*args, **kwargs)\u001b[0m\n\u001b[0;32m    137\u001b[0m     \u001b[39mreturn\u001b[39;00m \u001b[39mself\u001b[39m\u001b[39m.\u001b[39m_cache\u001b[39m.\u001b[39mcache[name]\n\u001b[0;32m    138\u001b[0m \u001b[39m# value not in cache so execute the function\u001b[39;00m\n\u001b[1;32m--> 139\u001b[0m value \u001b[39m=\u001b[39m function(\u001b[39m*\u001b[39margs, \u001b[39m*\u001b[39m\u001b[39m*\u001b[39mkwargs)\n\u001b[0;32m    140\u001b[0m \u001b[39m# store the value\u001b[39;00m\n\u001b[0;32m    141\u001b[0m \u001b[39mif\u001b[39;00m \u001b[39mself\u001b[39m\u001b[39m.\u001b[39m_cache\u001b[39m.\u001b[39mforce_immutable \u001b[39mand\u001b[39;00m \u001b[39mhasattr\u001b[39m(\n\u001b[0;32m    142\u001b[0m         value, \u001b[39m'\u001b[39m\u001b[39mflags\u001b[39m\u001b[39m'\u001b[39m) \u001b[39mand\u001b[39;00m \u001b[39mlen\u001b[39m(value\u001b[39m.\u001b[39mshape) \u001b[39m>\u001b[39m \u001b[39m0\u001b[39m:\n",
      "File \u001b[1;32mc:\\Users\\fede1\\mambaforge\\envs\\mesh-fix-env\\lib\\site-packages\\trimesh\\base.py:844\u001b[0m, in \u001b[0;36mTrimesh.triangles_tree\u001b[1;34m(self)\u001b[0m\n\u001b[0;32m    834\u001b[0m \u001b[39m@caching\u001b[39m\u001b[39m.\u001b[39mcache_decorator\n\u001b[0;32m    835\u001b[0m \u001b[39mdef\u001b[39;00m \u001b[39mtriangles_tree\u001b[39m(\u001b[39mself\u001b[39m):\n\u001b[0;32m    836\u001b[0m \u001b[39m    \u001b[39m\u001b[39m\"\"\"\u001b[39;00m\n\u001b[0;32m    837\u001b[0m \u001b[39m    An R-tree containing each face of the mesh.\u001b[39;00m\n\u001b[0;32m    838\u001b[0m \n\u001b[1;32m   (...)\u001b[0m\n\u001b[0;32m    842\u001b[0m \u001b[39m      Each triangle in self.faces has a rectangular cell\u001b[39;00m\n\u001b[0;32m    843\u001b[0m \u001b[39m    \"\"\"\u001b[39;00m\n\u001b[1;32m--> 844\u001b[0m     tree \u001b[39m=\u001b[39m triangles\u001b[39m.\u001b[39;49mbounds_tree(\u001b[39mself\u001b[39;49m\u001b[39m.\u001b[39;49mtriangles)\n\u001b[0;32m    845\u001b[0m     \u001b[39mreturn\u001b[39;00m tree\n",
      "File \u001b[1;32mc:\\Users\\fede1\\mambaforge\\envs\\mesh-fix-env\\lib\\site-packages\\trimesh\\triangles.py:346\u001b[0m, in \u001b[0;36mbounds_tree\u001b[1;34m(triangles)\u001b[0m\n\u001b[0;32m    343\u001b[0m \u001b[39m# the (n,6) interleaved bounding box for every triangle\u001b[39;00m\n\u001b[0;32m    344\u001b[0m triangle_bounds \u001b[39m=\u001b[39m np\u001b[39m.\u001b[39mcolumn_stack((triangles\u001b[39m.\u001b[39mmin(axis\u001b[39m=\u001b[39m\u001b[39m1\u001b[39m),\n\u001b[0;32m    345\u001b[0m                                    triangles\u001b[39m.\u001b[39mmax(axis\u001b[39m=\u001b[39m\u001b[39m1\u001b[39m)))\n\u001b[1;32m--> 346\u001b[0m tree \u001b[39m=\u001b[39m util\u001b[39m.\u001b[39;49mbounds_tree(triangle_bounds)\n\u001b[0;32m    347\u001b[0m \u001b[39mreturn\u001b[39;00m tree\n",
      "File \u001b[1;32mc:\\Users\\fede1\\mambaforge\\envs\\mesh-fix-env\\lib\\site-packages\\trimesh\\util.py:1767\u001b[0m, in \u001b[0;36mbounds_tree\u001b[1;34m(bounds)\u001b[0m\n\u001b[0;32m   1750\u001b[0m \u001b[39m\u001b[39m\u001b[39m\"\"\"\u001b[39;00m\n\u001b[0;32m   1751\u001b[0m \u001b[39mGiven a set of axis aligned bounds create an r-tree for\u001b[39;00m\n\u001b[0;32m   1752\u001b[0m \u001b[39mbroad-phase collision detection.\u001b[39;00m\n\u001b[1;32m   (...)\u001b[0m\n\u001b[0;32m   1764\u001b[0m \u001b[39m  Tree containing bounds by index\u001b[39;00m\n\u001b[0;32m   1765\u001b[0m \u001b[39m\"\"\"\u001b[39;00m\n\u001b[0;32m   1766\u001b[0m \u001b[39m# rtree is a soft dependency\u001b[39;00m\n\u001b[1;32m-> 1767\u001b[0m \u001b[39mimport\u001b[39;00m \u001b[39mrtree\u001b[39;00m\n\u001b[0;32m   1769\u001b[0m \u001b[39m# make sure we've copied bounds\u001b[39;00m\n\u001b[0;32m   1770\u001b[0m bounds \u001b[39m=\u001b[39m np\u001b[39m.\u001b[39marray(bounds, dtype\u001b[39m=\u001b[39mnp\u001b[39m.\u001b[39mfloat64, copy\u001b[39m=\u001b[39m\u001b[39mTrue\u001b[39;00m)\n",
      "\u001b[1;31mModuleNotFoundError\u001b[0m: No module named 'rtree'"
     ]
    }
   ],
   "source": [
    "create_outer_shell_mesh(\n",
    "    spheres,\n",
    "    neighbors_lst,\n",
    "    shortest_edge_length * 10,\n",
    "    shortest_edge_length\n",
    ")"
   ]
  }
 ],
 "metadata": {
  "kernelspec": {
   "display_name": "EpiStats",
   "language": "python",
   "name": "python3"
  },
  "language_info": {
   "codemirror_mode": {
    "name": "ipython",
    "version": 3
   },
   "file_extension": ".py",
   "mimetype": "text/x-python",
   "name": "python",
   "nbconvert_exporter": "python",
   "pygments_lexer": "ipython3",
   "version": "3.10.12"
  },
  "orig_nbformat": 4
 },
 "nbformat": 4,
 "nbformat_minor": 2
}
