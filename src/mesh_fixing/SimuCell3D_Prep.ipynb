{
 "cells": [
  {
   "attachments": {},
   "cell_type": "markdown",
   "metadata": {},
   "source": [
    "### Mesh processing for SimuCell3D\n",
    "\n",
    "This notebook outlines how to generate a geometry for the SimuCell3D."
   ]
  },
  {
   "cell_type": "code",
   "execution_count": 1,
   "metadata": {},
   "outputs": [],
   "source": [
    "import os\n",
    "import sys\n",
    "import numpy as np\n",
    "from MeshPrep import isolate_filtered_meshes\n",
    "from MeshPrep import mesh_process_clean, string_to_array"
   ]
  },
  {
   "cell_type": "code",
   "execution_count": 2,
   "metadata": {},
   "outputs": [],
   "source": [
    "sys.path.append('/nas/groups/iber/Users/Federico_Carrara/Statistics_Collection/EpiStats/src/statistics_collection/')\n",
    "from StatsAnalytics import prepare_df"
   ]
  },
  {
   "attachments": {},
   "cell_type": "markdown",
   "metadata": {},
   "source": [
    "#### Cleaning the labels\n",
    "\n",
    "The labels generated from manual curation should be processesed before passing through the geometry generation. Strongly recommended step. Generates meshes which may be used for manual cell patch selection using paraview."
   ]
  },
  {
   "cell_type": "code",
   "execution_count": 9,
   "metadata": {},
   "outputs": [],
   "source": [
    "root = '../outputs/outputs_v3/output_lung_new_sample_b_curated_segmentation_central_crop_relabel_seq_s_10_e_6_d_8/'"
   ]
  },
  {
   "cell_type": "code",
   "execution_count": 4,
   "metadata": {},
   "outputs": [],
   "source": [
    "voxel_resolution = np.array([0.325, 0.325, 0.25])\n",
    "label_path = os.path.join(root, 'processed_labels.tif')"
   ]
  },
  {
   "cell_type": "code",
   "execution_count": null,
   "metadata": {},
   "outputs": [],
   "source": [
    "from VoxelProcessing import full_label_processing\n",
    "\n",
    "output_folder='path/folder/to/save/processed/labels'\n",
    "cell_info = full_label_processing(labeled_img=label_path, voxel_resolution=voxel_resolution, output_folder=output_folder, smoothing_iterations=10)\n",
    "label_path = os.path.join(output_folder, \"processed_labels.npy\")\n",
    "filtered_cell_list = cell_info[2]"
   ]
  },
  {
   "attachments": {},
   "cell_type": "markdown",
   "metadata": {},
   "source": [
    "#### Select labels for Simulations\n",
    "\n",
    "To obtain labels for simulation one may use napari and select cells manually, or use meshes, and paraview. View how to use paraview [here](Tutorials/LabelSelection.md).\n",
    "\n",
    "You may want to isolate the cells that do not touch the border instead. To isolate these use the following script and use Paraview's extract functionality as outlined."
   ]
  },
  {
   "cell_type": "code",
   "execution_count": 10,
   "metadata": {},
   "outputs": [],
   "source": [
    "cell_stats_df = prepare_df([\n",
    "    os.path.join(root, 'cell_stats/stats_dataset_lung_bronchiole.csv')\n",
    "])\n",
    "filtered_row_idxs = np.nonzero(~cell_stats_df['exclude_cell'])[0]\n",
    "filtered_cell_list = np.asarray(cell_stats_df['cell_ID'])[filtered_row_idxs]"
   ]
  },
  {
   "cell_type": "code",
   "execution_count": 18,
   "metadata": {},
   "outputs": [
    {
     "name": "stderr",
     "output_type": "stream",
     "text": [
      "Moving mesh files: 100%|██████████| 180/180 [00:05<00:00, 33.94it/s]\n",
      "Converting files to .vtk: 100%|██████████| 139/139 [00:43<00:00,  3.22it/s]\n"
     ]
    }
   ],
   "source": [
    "mesh_path = os.path.join(root, 'cell_meshes')\n",
    "# This is where the isolated meshes will be saved.\n",
    "isolated_mesh_path = '../../Meshes_for_Simulation/examples/cell_clump_bronchiole' \n",
    "\n",
    "isolate_filtered_meshes(mesh_path, isolated_mesh_path, filtered_cell_list)"
   ]
  },
  {
   "attachments": {},
   "cell_type": "markdown",
   "metadata": {},
   "source": [
    "Now you can open the `.vtk` mesh files in paraview and select a clump of cells for simulation."
   ]
  },
  {
   "attachments": {},
   "cell_type": "markdown",
   "metadata": {},
   "source": [
    "#### Mesh Cleaning for SimuCell3D\n",
    "\n",
    "Produce meshes for SimuCell3D simulation framework. Ensure that the path to labels is of cleaned, processed labels. "
   ]
  },
  {
   "cell_type": "code",
   "execution_count": 7,
   "metadata": {},
   "outputs": [
    {
     "name": "stdout",
     "output_type": "stream",
     "text": [
      "-------------------------------------------\n",
      "Creating meshes from labeled img...\n"
     ]
    },
    {
     "name": "stderr",
     "output_type": "stream",
     "text": [
      "Converting labels to meshes: 100%|██████████| 19/19 [06:08<00:00, 19.37s/it]\n"
     ]
    },
    {
     "name": "stdout",
     "output_type": "stream",
     "text": [
      "-------------------------------------------\n",
      "First mesh cleaning...\n"
     ]
    },
    {
     "name": "stderr",
     "output_type": "stream",
     "text": [
      "Cleaning non-mainfold meshes:   0%|          | 0/21 [00:00<?, ?it/s]"
     ]
    },
    {
     "name": "stdout",
     "output_type": "stream",
     "text": [
      "Removed 45 non-manifold faces\n",
      "INFO- Loaded 25236 vertices and 50445 faces.\n"
     ]
    },
    {
     "name": "stderr",
     "output_type": "stream",
     "text": [
      "WARNING- 1 isolated vertices have been removed.\n",
      "Cleaning non-mainfold meshes:   5%|▍         | 1/21 [00:01<00:22,  1.11s/it]"
     ]
    },
    {
     "name": "stdout",
     "output_type": "stream",
     "text": [
      "\n",
      "100% done \n",
      "INFO- ********* ITERATION 0 *********\n",
      "INFO- Removing degeneracies...\n",
      "INFO- Removing self-intersections...\n",
      "\n",
      "98 % done   \n",
      "INFO- No intersections detected.\n",
      "\n",
      "0% done \n",
      "Removed 20 non-manifold faces\n",
      "INFO- Loaded 20417 vertices and 40820 faces.\n",
      "\n",
      "100% done \n",
      "INFO- ********* ITERATION 0 *********\n",
      "INFO- Removing degeneracies...\n",
      "INFO- Removing self-intersections...\n",
      "\n",
      "98 % done   \n",
      "INFO- No intersections detected.\n"
     ]
    },
    {
     "name": "stderr",
     "output_type": "stream",
     "text": [
      "Cleaning non-mainfold meshes:  10%|▉         | 2/21 [00:01<00:17,  1.06it/s]"
     ]
    },
    {
     "name": "stdout",
     "output_type": "stream",
     "text": [
      "\n",
      "0% done \n",
      "Removed 52 non-manifold faces\n",
      "INFO- Loaded 24540 vertices and 49044 faces.\n"
     ]
    },
    {
     "name": "stderr",
     "output_type": "stream",
     "text": [
      "WARNING- 4 isolated vertices have been removed.\n",
      "Cleaning non-mainfold meshes:  14%|█▍        | 3/21 [00:02<00:17,  1.00it/s]"
     ]
    },
    {
     "name": "stdout",
     "output_type": "stream",
     "text": [
      "\n",
      "100% done \n",
      "INFO- ********* ITERATION 0 *********\n",
      "INFO- Removing degeneracies...\n",
      "INFO- Removing self-intersections...\n",
      "\n",
      "98 % done   \n",
      "INFO- No intersections detected.\n",
      "\n",
      "0% done \n",
      "Removed 8 non-manifold faces\n",
      "INFO- Loaded 19026 vertices and 38044 faces.\n",
      "\n",
      "100% done \n",
      "INFO- ********* ITERATION 0 *********\n",
      "INFO- Removing degeneracies...\n",
      "INFO- Removing self-intersections...\n",
      "\n",
      "97 % done   \n",
      "INFO- No intersections detected.\n"
     ]
    },
    {
     "name": "stderr",
     "output_type": "stream",
     "text": [
      "Cleaning non-mainfold meshes:  19%|█▉        | 4/21 [00:03<00:15,  1.13it/s]"
     ]
    },
    {
     "name": "stdout",
     "output_type": "stream",
     "text": [
      "\n",
      "0% done \n",
      "Removed 0 non-manifold faces\n",
      "INFO- Loaded 18367 vertices and 36730 faces.\n",
      "\n",
      "0% done \n",
      "INFO- ********* ITERATION 0 *********\n",
      "INFO- Removing degeneracies...\n",
      "INFO- Removing self-intersections...\n",
      "\n",
      "99 % done   \n",
      "INFO- No intersections detected.\n",
      "\n",
      "0% done \n"
     ]
    },
    {
     "name": "stderr",
     "output_type": "stream",
     "text": [
      "Cleaning non-mainfold meshes:  24%|██▍       | 5/21 [00:04<00:13,  1.22it/s]"
     ]
    },
    {
     "name": "stdout",
     "output_type": "stream",
     "text": [
      "Removed 0 non-manifold faces\n",
      "INFO- Loaded 20685 vertices and 41366 faces.\n",
      "\n"
     ]
    },
    {
     "name": "stderr",
     "output_type": "stream",
     "text": [
      "Cleaning non-mainfold meshes:  29%|██▊       | 6/21 [00:05<00:11,  1.26it/s]"
     ]
    },
    {
     "name": "stdout",
     "output_type": "stream",
     "text": [
      "0% done \n",
      "INFO- ********* ITERATION 0 *********\n",
      "INFO- Removing degeneracies...\n",
      "INFO- Removing self-intersections...\n",
      "\n",
      "99 % done   \n",
      "INFO- No intersections detected.\n",
      "\n",
      "0% done \n",
      "Removed 717 non-manifold faces\n",
      "INFO- Loaded 17174 vertices and 33947 faces.\n",
      "\n",
      "100% done \n",
      "INFO- ********* ITERATION 0 *********\n",
      "INFO- Removing degeneracies...\n",
      "INFO- Removing self-intersections...\n",
      "\n",
      "97 % done   \n",
      "INFO- No intersections detected.\n"
     ]
    },
    {
     "name": "stderr",
     "output_type": "stream",
     "text": [
      "WARNING- 150 isolated vertices have been removed.\n",
      "Cleaning non-mainfold meshes:  33%|███▎      | 7/21 [00:07<00:16,  1.19s/it]"
     ]
    },
    {
     "name": "stdout",
     "output_type": "stream",
     "text": [
      "\n",
      "0% done \n",
      "Removed 12 non-manifold faces\n",
      "INFO- Loaded 22050 vertices and 44090 faces.\n",
      "\n"
     ]
    },
    {
     "name": "stderr",
     "output_type": "stream",
     "text": [
      "Cleaning non-mainfold meshes:  38%|███▊      | 8/21 [00:08<00:14,  1.12s/it]"
     ]
    },
    {
     "name": "stdout",
     "output_type": "stream",
     "text": [
      "100% done \n",
      "INFO- ********* ITERATION 0 *********\n",
      "INFO- Removing degeneracies...\n",
      "INFO- Removing self-intersections...\n",
      "\n",
      "98 % done   \n",
      "INFO- No intersections detected.\n",
      "\n",
      "0% done \n",
      "Removed 4 non-manifold faces\n",
      "INFO- Loaded 14182 vertices and 28358 faces.\n",
      "\n",
      "100% done \n",
      "INFO- ********* ITERATION 0 *********\n",
      "INFO- Removing degeneracies...\n",
      "INFO- Removing self-intersections...\n",
      "\n",
      "97 % done   \n",
      "INFO- No intersections detected.\n",
      "\n",
      "0% done \n"
     ]
    },
    {
     "name": "stderr",
     "output_type": "stream",
     "text": [
      "Cleaning non-mainfold meshes:  43%|████▎     | 9/21 [00:08<00:12,  1.00s/it]"
     ]
    },
    {
     "name": "stdout",
     "output_type": "stream",
     "text": [
      "Removed 10 non-manifold faces\n",
      "INFO- Loaded 25156 vertices and 50302 faces.\n"
     ]
    },
    {
     "name": "stderr",
     "output_type": "stream",
     "text": [
      "WARNING- 1 isolated vertices have been removed.\n",
      "Cleaning non-mainfold meshes:  48%|████▊     | 10/21 [00:10<00:11,  1.04s/it]"
     ]
    },
    {
     "name": "stdout",
     "output_type": "stream",
     "text": [
      "\n",
      "100% done \n",
      "INFO- ********* ITERATION 0 *********\n",
      "INFO- Removing degeneracies...\n",
      "INFO- Removing self-intersections...\n",
      "\n",
      "97 % done   \n",
      "INFO- No intersections detected.\n",
      "\n",
      "0% done \n",
      "Removed 16 non-manifold faces\n",
      "INFO- Loaded 12922 vertices and 25832 faces.\n",
      "\n",
      "100% done \n",
      "INFO- ********* ITERATION 0 *********\n",
      "INFO- Removing degeneracies...\n",
      "INFO- Removing self-intersections...\n",
      "\n",
      "98 % done   \n",
      "INFO- No intersections detected.\n",
      "\n",
      "0% done \n"
     ]
    },
    {
     "name": "stderr",
     "output_type": "stream",
     "text": [
      "Cleaning non-mainfold meshes:  52%|█████▏    | 11/21 [00:10<00:08,  1.14it/s]"
     ]
    },
    {
     "name": "stdout",
     "output_type": "stream",
     "text": [
      "Removed 0 non-manifold faces\n",
      "INFO- Loaded 136859 vertices and 273714 faces.\n",
      "\n",
      "0% done \n",
      "INFO- ********* ITERATION 0 *********\n",
      "INFO- Removing degeneracies...\n",
      "INFO- Removing self-intersections...\n",
      "\n",
      "99 % done   \n",
      "INFO- No intersections detected.\n",
      "\n",
      "0% done \n"
     ]
    },
    {
     "name": "stderr",
     "output_type": "stream",
     "text": [
      "Cleaning non-mainfold meshes:  57%|█████▋    | 12/21 [00:16<00:20,  2.29s/it]"
     ]
    },
    {
     "name": "stdout",
     "output_type": "stream",
     "text": [
      "Removed 0 non-manifold faces\n",
      "INFO- Loaded 20537 vertices and 41070 faces.\n",
      "\n",
      "0% done \n",
      "INFO- ********* ITERATION 0 *********\n",
      "INFO- Removing degeneracies...\n",
      "INFO- Removing self-intersections...\n",
      "\n",
      "97 % done   \n",
      "INFO- No intersections detected.\n"
     ]
    },
    {
     "name": "stderr",
     "output_type": "stream",
     "text": [
      "Cleaning non-mainfold meshes:  67%|██████▋   | 14/21 [00:16<00:09,  1.40s/it]"
     ]
    },
    {
     "name": "stdout",
     "output_type": "stream",
     "text": [
      "\n",
      "0% done \n",
      "Removed 12 non-manifold faces\n",
      "INFO- Loaded 21557 vertices and 43104 faces.\n",
      "\n",
      "0% done "
     ]
    },
    {
     "name": "stderr",
     "output_type": "stream",
     "text": [
      "Cleaning non-mainfold meshes:  71%|███████▏  | 15/21 [00:17<00:07,  1.27s/it]"
     ]
    },
    {
     "name": "stdout",
     "output_type": "stream",
     "text": [
      "100% done \n",
      "INFO- ********* ITERATION 0 *********\n",
      "INFO- Removing degeneracies...\n",
      "INFO- Removing self-intersections...\n",
      "\n",
      "97 % done   \n",
      "INFO- No intersections detected.\n",
      "\n",
      "0% done \n",
      "Removed 32 non-manifold faces\n",
      "INFO- Loaded 12047 vertices and 24074 faces.\n",
      "\n",
      "100% done \n",
      "INFO- ********* ITERATION 0 *********\n",
      "INFO- Removing degeneracies...\n",
      "INFO- Removing self-intersections...\n",
      "\n",
      "98 % done   \n",
      "INFO- No intersections detected.\n",
      "\n",
      "0% done \n"
     ]
    },
    {
     "name": "stderr",
     "output_type": "stream",
     "text": [
      "Cleaning non-mainfold meshes:  76%|███████▌  | 16/21 [00:18<00:05,  1.05s/it]"
     ]
    },
    {
     "name": "stdout",
     "output_type": "stream",
     "text": [
      "Removed 4 non-manifold faces\n",
      "INFO- Loaded 24413 vertices and 48820 faces.\n",
      "\n",
      "100% done \n",
      "INFO- ********* ITERATION 0 *********\n",
      "INFO- Removing degeneracies...\n",
      "INFO- Removing self-intersections...\n",
      "\n",
      "98 % done   \n",
      "INFO- No intersections detected.\n",
      "\n",
      "0% done \n"
     ]
    },
    {
     "name": "stderr",
     "output_type": "stream",
     "text": [
      "Cleaning non-mainfold meshes:  81%|████████  | 17/21 [00:19<00:04,  1.02s/it]"
     ]
    },
    {
     "name": "stdout",
     "output_type": "stream",
     "text": [
      "Removed 0 non-manifold faces\n",
      "INFO- Loaded 14328 vertices and 28652 faces.\n",
      "\n",
      "0% done \n",
      "INFO- ********* ITERATION 0 *********\n",
      "INFO- Removing degeneracies...\n",
      "INFO- Removing self-intersections...\n",
      "\n",
      "97 % done   \n",
      "INFO- No intersections detected.\n",
      "\n",
      "0% done \n"
     ]
    },
    {
     "name": "stderr",
     "output_type": "stream",
     "text": [
      "Cleaning non-mainfold meshes:  86%|████████▌ | 18/21 [00:19<00:02,  1.14it/s]"
     ]
    },
    {
     "name": "stdout",
     "output_type": "stream",
     "text": [
      "Removed 28 non-manifold faces\n",
      "INFO- Loaded 23636 vertices and 47254 faces.\n",
      "\n",
      "0% done "
     ]
    },
    {
     "name": "stderr",
     "output_type": "stream",
     "text": [
      "Cleaning non-mainfold meshes:  90%|█████████ | 19/21 [00:20<00:01,  1.12it/s]"
     ]
    },
    {
     "name": "stdout",
     "output_type": "stream",
     "text": [
      "100% done \n",
      "INFO- ********* ITERATION 0 *********\n",
      "INFO- Removing degeneracies...\n",
      "INFO- Removing self-intersections...\n",
      "\n",
      "98 % done   \n",
      "INFO- No intersections detected.\n",
      "\n",
      "0% done \n",
      "Removed 28 non-manifold faces\n",
      "INFO- Loaded 24796 vertices and 49574 faces.\n"
     ]
    },
    {
     "name": "stderr",
     "output_type": "stream",
     "text": [
      "WARNING- 2 isolated vertices have been removed.\n",
      "Cleaning non-mainfold meshes:  95%|█████████▌| 20/21 [00:21<00:00,  1.08it/s]"
     ]
    },
    {
     "name": "stdout",
     "output_type": "stream",
     "text": [
      "\n",
      "100% done \n",
      "INFO- ********* ITERATION 0 *********\n",
      "INFO- Removing degeneracies...\n",
      "INFO- Removing self-intersections...\n",
      "\n",
      "97 % done   \n",
      "INFO- No intersections detected.\n",
      "\n",
      "0% done \n"
     ]
    },
    {
     "name": "stderr",
     "output_type": "stream",
     "text": [
      "Cleaning non-mainfold meshes: 100%|██████████| 21/21 [00:21<00:00,  1.04s/it]\n"
     ]
    },
    {
     "name": "stdout",
     "output_type": "stream",
     "text": [
      "Removed 0 non-manifold faces\n",
      "INFO- Loaded 9689 vertices and 19374 faces.\n",
      "\n",
      "0% done \n",
      "INFO- ********* ITERATION 0 *********\n",
      "INFO- Removing degeneracies...\n",
      "INFO- Removing self-intersections...\n",
      "\n",
      "99 % done   \n",
      "INFO- No intersections detected.\n",
      "\n",
      "0% done \n",
      "-------------------------------------------\n",
      "Remeshing...\n"
     ]
    },
    {
     "name": "stderr",
     "output_type": "stream",
     "text": [
      "Applying pymeshlab remeshing: 100%|██████████| 20/20 [02:11<00:00,  6.58s/it]\n"
     ]
    },
    {
     "name": "stdout",
     "output_type": "stream",
     "text": [
      "-------------------------------------------\n",
      "Second mesh cleaning...\n"
     ]
    },
    {
     "name": "stderr",
     "output_type": "stream",
     "text": [
      "Cleaning non-mainfold meshes:   0%|          | 0/20 [00:00<?, ?it/s]"
     ]
    },
    {
     "name": "stdout",
     "output_type": "stream",
     "text": [
      "Removed 0 non-manifold faces\n",
      "INFO- Loaded 50903 vertices and 101802 faces.\n"
     ]
    },
    {
     "name": "stderr",
     "output_type": "stream",
     "text": [
      "Cleaning non-mainfold meshes:   5%|▌         | 1/20 [00:02<00:43,  2.27s/it]"
     ]
    },
    {
     "name": "stdout",
     "output_type": "stream",
     "text": [
      "\n",
      "0% done \n",
      "INFO- ********* ITERATION 0 *********\n",
      "INFO- Removing degeneracies...\n",
      "INFO- Removing self-intersections...\n",
      "\n",
      "99 % done   \n",
      "INFO- No intersections detected.\n",
      "\n",
      "0% done \n",
      "Removed 0 non-manifold faces\n",
      "INFO- Loaded 43270 vertices and 86536 faces.\n",
      "\n",
      "0% done \n",
      "INFO- ********* ITERATION 0 *********\n",
      "INFO- Removing degeneracies...\n",
      "INFO- Removing self-intersections...\n",
      "\n",
      "99 % done   \n",
      "INFO- No intersections detected.\n",
      "\n",
      "0% done \n"
     ]
    },
    {
     "name": "stderr",
     "output_type": "stream",
     "text": [
      "Cleaning non-mainfold meshes:  10%|█         | 2/20 [00:04<00:37,  2.08s/it]"
     ]
    },
    {
     "name": "stdout",
     "output_type": "stream",
     "text": [
      "Removed 0 non-manifold faces\n",
      "INFO- Loaded 46432 vertices and 92860 faces.\n",
      "\n",
      "0% done \n",
      "INFO- ********* ITERATION 0 *********\n",
      "INFO- Removing degeneracies...\n",
      "INFO- Removing self-intersections...\n",
      "\n",
      "98 % done   \n",
      "INFO- No intersections detected.\n",
      "\n",
      "0% done \n"
     ]
    },
    {
     "name": "stderr",
     "output_type": "stream",
     "text": [
      "Cleaning non-mainfold meshes:  15%|█▌        | 3/20 [00:06<00:36,  2.17s/it]"
     ]
    },
    {
     "name": "stdout",
     "output_type": "stream",
     "text": [
      "Removed 0 non-manifold faces\n",
      "INFO- Loaded 19408 vertices and 38812 faces.\n",
      "\n",
      "0% done \n",
      "INFO- ********* ITERATION 0 *********\n",
      "INFO- Removing degeneracies...\n",
      "INFO- Removing self-intersections...\n",
      "\n",
      "97 % done   \n",
      "INFO- No intersections detected.\n"
     ]
    },
    {
     "name": "stderr",
     "output_type": "stream",
     "text": [
      "Cleaning non-mainfold meshes:  20%|██        | 4/20 [00:07<00:26,  1.63s/it]"
     ]
    },
    {
     "name": "stdout",
     "output_type": "stream",
     "text": [
      "\n",
      "0% done \n",
      "Removed 0 non-manifold faces\n"
     ]
    },
    {
     "name": "stderr",
     "output_type": "stream",
     "text": [
      "Cleaning non-mainfold meshes:  25%|██▌       | 5/20 [00:09<00:25,  1.70s/it]"
     ]
    },
    {
     "name": "stdout",
     "output_type": "stream",
     "text": [
      "INFO- Loaded 40900 vertices and 81796 faces.\n",
      "\n",
      "0% done \n",
      "INFO- ********* ITERATION 0 *********\n",
      "INFO- Removing degeneracies...\n",
      "INFO- Removing self-intersections...\n",
      "\n",
      "99 % done   \n",
      "INFO- No intersections detected.\n",
      "\n",
      "0% done \n",
      "Removed 0 non-manifold faces\n",
      "INFO- Loaded 37776 vertices and 75548 faces.\n",
      "\n",
      "0% done \n",
      "INFO- ********* ITERATION 0 *********\n",
      "INFO- Removing degeneracies...\n",
      "INFO- Removing self-intersections...\n",
      "\n",
      "98 % done   \n",
      "INFO- No intersections detected.\n",
      "\n",
      "0% done \n"
     ]
    },
    {
     "name": "stderr",
     "output_type": "stream",
     "text": [
      "Cleaning non-mainfold meshes:  30%|███       | 6/20 [00:10<00:24,  1.73s/it]"
     ]
    },
    {
     "name": "stdout",
     "output_type": "stream",
     "text": [
      "Removed 0 non-manifold faces\n",
      "INFO- Loaded 25127 vertices and 50250 faces.\n"
     ]
    },
    {
     "name": "stderr",
     "output_type": "stream",
     "text": [
      "Cleaning non-mainfold meshes:  35%|███▌      | 7/20 [00:12<00:19,  1.52s/it]"
     ]
    },
    {
     "name": "stdout",
     "output_type": "stream",
     "text": [
      "\n",
      "0% done \n",
      "INFO- ********* ITERATION 0 *********\n",
      "INFO- Removing degeneracies...\n",
      "INFO- Removing self-intersections...\n",
      "\n",
      "97 % done   \n",
      "INFO- No intersections detected.\n",
      "\n",
      "0% done \n",
      "Removed 0 non-manifold faces\n",
      "INFO- Loaded 34040 vertices and 68076 faces.\n"
     ]
    },
    {
     "name": "stderr",
     "output_type": "stream",
     "text": [
      "Cleaning non-mainfold meshes:  40%|████      | 8/20 [00:13<00:17,  1.50s/it]"
     ]
    },
    {
     "name": "stdout",
     "output_type": "stream",
     "text": [
      "\n",
      "0% done \n",
      "INFO- ********* ITERATION 0 *********\n",
      "INFO- Removing degeneracies...\n",
      "INFO- Removing self-intersections...\n",
      "\n",
      "99 % done   \n",
      "INFO- No intersections detected.\n",
      "\n",
      "0% done \n",
      "Removed 0 non-manifold faces\n",
      "INFO- Loaded 35975 vertices and 71946 faces.\n"
     ]
    },
    {
     "name": "stderr",
     "output_type": "stream",
     "text": [
      "Cleaning non-mainfold meshes:  45%|████▌     | 9/20 [00:14<00:16,  1.51s/it]"
     ]
    },
    {
     "name": "stdout",
     "output_type": "stream",
     "text": [
      "\n",
      "0% done \n",
      "INFO- ********* ITERATION 0 *********\n",
      "INFO- Removing degeneracies...\n",
      "INFO- Removing self-intersections...\n",
      "\n",
      "98 % done   \n",
      "INFO- No intersections detected.\n",
      "\n",
      "0% done \n",
      "Removed 0 non-manifold faces\n"
     ]
    },
    {
     "name": "stderr",
     "output_type": "stream",
     "text": [
      "Cleaning non-mainfold meshes:  50%|█████     | 10/20 [00:17<00:16,  1.68s/it]"
     ]
    },
    {
     "name": "stdout",
     "output_type": "stream",
     "text": [
      "INFO- Loaded 45722 vertices and 91440 faces.\n",
      "\n",
      "0% done \n",
      "INFO- ********* ITERATION 0 *********\n",
      "INFO- Removing degeneracies...\n",
      "INFO- Removing self-intersections...\n",
      "\n",
      "99 % done   \n",
      "INFO- No intersections detected.\n",
      "\n",
      "0% done \n",
      "Removed 0 non-manifold faces\n",
      "INFO- Loaded 49400 vertices and 98796 faces.\n",
      "\n",
      "0% done \n",
      "INFO- ********* ITERATION 0 *********\n",
      "INFO- Removing degeneracies...\n",
      "INFO- Removing self-intersections...\n",
      "\n",
      "99 % done   \n",
      "INFO- No intersections detected.\n",
      "\n",
      "0% done \n"
     ]
    },
    {
     "name": "stderr",
     "output_type": "stream",
     "text": [
      "Cleaning non-mainfold meshes:  55%|█████▌    | 11/20 [00:19<00:16,  1.88s/it]"
     ]
    },
    {
     "name": "stdout",
     "output_type": "stream",
     "text": [
      "Removed 0 non-manifold faces\n",
      "INFO- Loaded 50638 vertices and 101272 faces.\n",
      "\n",
      "0% done \n",
      "INFO- ********* ITERATION 0 *********\n",
      "INFO- Removing degeneracies...\n",
      "INFO- Removing self-intersections...\n",
      "\n",
      "99 % done   \n",
      "INFO- No intersections detected.\n",
      "\n",
      "0% done \n"
     ]
    },
    {
     "name": "stderr",
     "output_type": "stream",
     "text": [
      "Cleaning non-mainfold meshes:  60%|██████    | 12/20 [00:21<00:16,  2.01s/it]"
     ]
    },
    {
     "name": "stdout",
     "output_type": "stream",
     "text": [
      "Removed 0 non-manifold faces\n"
     ]
    },
    {
     "name": "stderr",
     "output_type": "stream",
     "text": [
      "Cleaning non-mainfold meshes:  65%|██████▌   | 13/20 [00:23<00:13,  1.99s/it]"
     ]
    },
    {
     "name": "stdout",
     "output_type": "stream",
     "text": [
      "INFO- Loaded 44400 vertices and 88796 faces.\n",
      "\n",
      "0% done \n",
      "INFO- ********* ITERATION 0 *********\n",
      "INFO- Removing degeneracies...\n",
      "INFO- Removing self-intersections...\n",
      "\n",
      "99 % done   \n",
      "INFO- No intersections detected.\n",
      "\n",
      "0% done \n",
      "Removed 0 non-manifold faces\n",
      "INFO- Loaded 47771 vertices and 95538 faces.\n"
     ]
    },
    {
     "name": "stderr",
     "output_type": "stream",
     "text": [
      "Cleaning non-mainfold meshes:  70%|███████   | 14/20 [00:25<00:12,  2.02s/it]"
     ]
    },
    {
     "name": "stdout",
     "output_type": "stream",
     "text": [
      "\n",
      "0% done \n",
      "INFO- ********* ITERATION 0 *********\n",
      "INFO- Removing degeneracies...\n",
      "INFO- Removing self-intersections...\n",
      "\n",
      "98 % done   \n",
      "INFO- No intersections detected.\n",
      "\n",
      "0% done \n",
      "Removed 0 non-manifold faces\n",
      "INFO- Loaded 28888 vertices and 57772 faces.\n"
     ]
    },
    {
     "name": "stderr",
     "output_type": "stream",
     "text": [
      "Cleaning non-mainfold meshes:  75%|███████▌  | 15/20 [00:26<00:08,  1.79s/it]"
     ]
    },
    {
     "name": "stdout",
     "output_type": "stream",
     "text": [
      "\n",
      "0% done \n",
      "INFO- ********* ITERATION 0 *********\n",
      "INFO- Removing degeneracies...\n",
      "INFO- Removing self-intersections...\n",
      "\n",
      "98 % done   \n",
      "INFO- No intersections detected.\n",
      "\n",
      "0% done \n",
      "Removed 0 non-manifold faces\n",
      "INFO- Loaded 293018 vertices and 586032 faces.\n",
      "\n",
      "0% done \n",
      "INFO- ********* ITERATION 0 *********\n",
      "INFO- Removing degeneracies...\n",
      "INFO- Removing self-intersections...\n",
      "\n",
      "99 % done   \n",
      "INFO- No intersections detected.\n",
      "\n",
      "0% done \n"
     ]
    },
    {
     "name": "stderr",
     "output_type": "stream",
     "text": [
      "Cleaning non-mainfold meshes:  80%|████████  | 16/20 [00:41<00:21,  5.49s/it]"
     ]
    },
    {
     "name": "stdout",
     "output_type": "stream",
     "text": [
      "Removed 0 non-manifold faces\n",
      "INFO- Loaded 27086 vertices and 54168 faces.\n"
     ]
    },
    {
     "name": "stderr",
     "output_type": "stream",
     "text": [
      "Cleaning non-mainfold meshes:  85%|████████▌ | 17/20 [00:42<00:12,  4.18s/it]"
     ]
    },
    {
     "name": "stdout",
     "output_type": "stream",
     "text": [
      "\n",
      "0% done \n",
      "INFO- ********* ITERATION 0 *********\n",
      "INFO- Removing degeneracies...\n",
      "INFO- Removing self-intersections...\n",
      "\n",
      "97 % done   \n",
      "INFO- No intersections detected.\n",
      "\n",
      "0% done \n",
      "Removed 0 non-manifold faces\n"
     ]
    },
    {
     "name": "stderr",
     "output_type": "stream",
     "text": [
      "Cleaning non-mainfold meshes:  90%|█████████ | 18/20 [00:44<00:06,  3.47s/it]"
     ]
    },
    {
     "name": "stdout",
     "output_type": "stream",
     "text": [
      "INFO- Loaded 43083 vertices and 86162 faces.\n",
      "\n",
      "0% done \n",
      "INFO- ********* ITERATION 0 *********\n",
      "INFO- Removing degeneracies...\n",
      "INFO- Removing self-intersections...\n",
      "\n",
      "99 % done   \n",
      "INFO- No intersections detected.\n",
      "\n",
      "0% done \n",
      "Removed 0 non-manifold faces\n",
      "INFO- Loaded 30846 vertices and 61688 faces.\n"
     ]
    },
    {
     "name": "stderr",
     "output_type": "stream",
     "text": [
      "Cleaning non-mainfold meshes:  95%|█████████▌| 19/20 [00:45<00:02,  2.83s/it]"
     ]
    },
    {
     "name": "stdout",
     "output_type": "stream",
     "text": [
      "\n",
      "0% done \n",
      "INFO- ********* ITERATION 0 *********\n",
      "INFO- Removing degeneracies...\n",
      "INFO- Removing self-intersections...\n",
      "\n",
      "97 % done   \n",
      "INFO- No intersections detected.\n",
      "\n",
      "0% done \n",
      "Removed 0 non-manifold faces\n",
      "INFO- Loaded 52463 vertices and 104926 faces.\n",
      "\n",
      "0% done \n",
      "INFO- ********* ITERATION 0 *********\n",
      "INFO- Removing degeneracies...\n",
      "INFO- Removing self-intersections...\n",
      "\n",
      "99 % done   \n",
      "INFO- No intersections detected.\n",
      "\n",
      "0% done \n"
     ]
    },
    {
     "name": "stderr",
     "output_type": "stream",
     "text": [
      "Cleaning non-mainfold meshes: 100%|██████████| 20/20 [00:47<00:00,  2.38s/it]\n"
     ]
    },
    {
     "name": "stdout",
     "output_type": "stream",
     "text": [
      "-------------------------------------------\n",
      "Getting `.vtk` files...\n"
     ]
    },
    {
     "name": "stderr",
     "output_type": "stream",
     "text": [
      "Converting files to .vtk: 100%|██████████| 20/20 [00:16<00:00,  1.18it/s]\n"
     ]
    },
    {
     "name": "stdout",
     "output_type": "stream",
     "text": [
      "-------------------------------------------\n",
      "Preparing file for simulation...\n"
     ]
    },
    {
     "name": "stderr",
     "output_type": "stream",
     "text": [
      "Merging .vtk files: 100%|██████████| 20/20 [00:03<00:00,  5.43it/s]\n"
     ]
    },
    {
     "data": {
      "text/plain": [
       "'../../Meshes_for_Simulation/examples/cell_clump_bronchiole/cell_clumps/clean_clump_19_cells/clean_meshes/vtk_files/merged.vtk'"
      ]
     },
     "execution_count": 7,
     "metadata": {},
     "output_type": "execute_result"
    }
   ],
   "source": [
    "root = '../outputs/outputs_v3/output_lung_new_sample_b_curated_segmentation_central_crop_relabel_seq_s_10_e_6_d_8'\n",
    "voxel_resolution = np.array([0.1625, 0.1625, 0.25])\n",
    "label_path = os.path.join(root, 'processed_labels.tif')\n",
    "\n",
    "label_list = string_to_array(\"103 117 120 127 137 166 20 21 25 33 62 65 66 73 79 81 88 95 96\")\n",
    "output_dir = '../../Meshes_for_Simulation/examples/cell_clump_bronchiole/cell_clumps/clean_clump_19_cells/clean_meshes'\n",
    "\n",
    "# Call the mesh_process_clean function\n",
    "mesh_process_clean(\n",
    "    label_path=label_path, \n",
    "    output_dir=output_dir, \n",
    "    label_list=label_list, \n",
    "    voxel_resolution=voxel_resolution, \n",
    "    scale_factor=1e-6, \n",
    "    min_edge_length=0.15,\n",
    "    make_shell=True\n",
    ")"
   ]
  },
  {
   "cell_type": "code",
   "execution_count": null,
   "metadata": {},
   "outputs": [],
   "source": []
  }
 ],
 "metadata": {
  "kernelspec": {
   "display_name": "EpiStats",
   "language": "python",
   "name": "python3"
  },
  "language_info": {
   "codemirror_mode": {
    "name": "ipython",
    "version": 3
   },
   "file_extension": ".py",
   "mimetype": "text/x-python",
   "name": "python",
   "nbconvert_exporter": "python",
   "pygments_lexer": "ipython3",
   "version": "3.10.12"
  },
  "orig_nbformat": 4
 },
 "nbformat": 4,
 "nbformat_minor": 2
}
