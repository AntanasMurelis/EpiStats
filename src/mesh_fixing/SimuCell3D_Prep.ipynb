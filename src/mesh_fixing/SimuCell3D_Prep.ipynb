{
 "cells": [
  {
   "attachments": {},
   "cell_type": "markdown",
   "metadata": {},
   "source": [
    "### Mesh processing for SimuCell3D\n",
    "\n",
    "This notebook outlines how to generate a geometry for the SimuCell3D."
   ]
  },
  {
   "cell_type": "code",
   "execution_count": null,
   "metadata": {},
   "outputs": [],
   "source": [
    "import os\n",
    "import numpy as np\n",
    "from misc import get_valid_cell_ids\n",
    "from MeshPrep import convert_filtered_meshes, mesh_process_clean, string_to_array"
   ]
  },
  {
   "attachments": {},
   "cell_type": "markdown",
   "metadata": {},
   "source": [
    "#### 1. Select patch of cells for Simulations\n",
    "\n",
    "To select smaller patches of cells for simulation one may load the labeled image in *napari* and select cells manually, or load meshes on *paraview* and use the existing tools (*suggested*). To see how to use paraview look [here](Tutorials/LabelSelection.md)."
   ]
  },
  {
   "cell_type": "markdown",
   "metadata": {},
   "source": [
    "Before extracting a patch of cells, it is helpful to exclude all the cells that are cut or touch the border."
   ]
  },
  {
   "cell_type": "code",
   "execution_count": null,
   "metadata": {},
   "outputs": [],
   "source": [
    "ROOT_DIR = '/path/to/statistics/collection/output/for/a/tissue'\n",
    "\n",
    "filtered_cell_list = get_valid_cell_ids(os.path.join(ROOT_DIR, 'cell_stats/stats_dataset_tissue_name.csv'))"
   ]
  },
  {
   "cell_type": "code",
   "execution_count": null,
   "metadata": {},
   "outputs": [],
   "source": [
    "# The directory from which mesh files are loaded in stl format\n",
    "source_mesh_path = os.path.join(ROOT_DIR, 'cell_meshes')\n",
    "\n",
    "# The directory in which filtered meshes will be saved in vtk format\n",
    "dest_mesh_path = '/path/to/dir/where/to/save/filtered/and/converted/meshes' \n",
    "\n",
    "convert_filtered_meshes(source_mesh_path, dest_mesh_path, filtered_cell_list)"
   ]
  },
  {
   "attachments": {},
   "cell_type": "markdown",
   "metadata": {},
   "source": [
    "Now you can open the `.vtk` mesh files in paraview and select a clump of cells for simulation."
   ]
  },
  {
   "attachments": {},
   "cell_type": "markdown",
   "metadata": {},
   "source": [
    "#### 2. Mesh Refinemnent for SimuCell3D\n",
    "SimuCell3D pipeline requires rather smooth and regular meshes to work propetly.\n",
    "The following cell is meant to generate and refine meshes for SimuCell3D simulation framework. \n",
    "\n",
    "NOTE: Ensure that the path to labels is of cleaned, processed labels. "
   ]
  },
  {
   "cell_type": "code",
   "execution_count": null,
   "metadata": {},
   "outputs": [],
   "source": [
    "ROOT_DIR = '/path/to/statistics/collection/output/for/a/tissue'\n",
    "voxel_resolution = np.array([0.1, 0.1, 0.1])\n",
    "label_path = os.path.join(ROOT_DIR, 'processed_labels.tif')\n",
    "stats_df_path = os.path.join(ROOT_DIR, 'cell_stats//stats_dataset_tissue_name.csv')\n",
    "\n",
    "label_list = string_to_array(\"1 2 3 4 5\")\n",
    "output_dir = '/path/to/output/dir/for/clean/meshes'\n",
    "\n",
    "# Call the mesh_process_clean function\n",
    "mesh_process_clean(\n",
    "    label_path=label_path, \n",
    "    output_dir=output_dir, \n",
    "    label_list=label_list, \n",
    "    voxel_resolution=voxel_resolution,\n",
    "    path_to_cell_stats_df=stats_df_path, \n",
    "    scale_factor=1e-6, \n",
    "    min_edge_length=0.5,\n",
    "    make_shell=True,\n",
    "    shell_type=\"from_mesh\",\n",
    "    displace_shell_pts=False,\n",
    "    inter_meshes=False,\n",
    ")"
   ]
  },
  {
   "attachments": {},
   "cell_type": "markdown",
   "metadata": {},
   "source": [
    "NOTE: To create a shell mesh that fits  really well the single cell meshes you may need to resort to the simulation pipeline.\n",
    "\n",
    "In that case you need to do the following:\n",
    "- In the source code (./include/mesh/cell_types), set for ECM cells `is_static=False` in the constructors, while set it to `True` for the epithelial cells.\n",
    "- Set surface tension values for ECM in at the middle of the \"feasible range\" experimented for epithelial cells (e.g., 1e-3 could work).\n",
    "- Run few simulation iterations untile the result is satisfactory. Take the resulting vtk file as the input for following simulation runs."
   ]
  }
 ],
 "metadata": {
  "kernelspec": {
   "display_name": "EpiStats",
   "language": "python",
   "name": "python3"
  },
  "language_info": {
   "codemirror_mode": {
    "name": "ipython",
    "version": 3
   },
   "file_extension": ".py",
   "mimetype": "text/x-python",
   "name": "python",
   "nbconvert_exporter": "python",
   "pygments_lexer": "ipython3",
   "version": "3.10.12"
  },
  "orig_nbformat": 4
 },
 "nbformat": 4,
 "nbformat_minor": 2
}
