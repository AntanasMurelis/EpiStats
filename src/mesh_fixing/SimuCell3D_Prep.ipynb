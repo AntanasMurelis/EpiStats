{
 "cells": [
  {
   "attachments": {},
   "cell_type": "markdown",
   "metadata": {},
   "source": [
    "### Mesh processing for SimuCell3D\n",
    "\n",
    "This notebook outlines how to generate a geometry for the SimuCell3D."
   ]
  },
  {
   "cell_type": "code",
   "execution_count": null,
   "metadata": {},
   "outputs": [],
   "source": [
    "import os\n",
    "import sys\n",
    "import numpy as np\n",
    "from MeshPrep import convert_filtered_meshes\n",
    "from MeshPrep import mesh_process_clean, string_to_array"
   ]
  },
  {
   "attachments": {},
   "cell_type": "markdown",
   "metadata": {},
   "source": [
    "#### Cleaning the labels\n",
    "\n",
    "The labels generated from manual curation should be processesed before passing through the geometry generation. Strongly recommended step. Generates meshes which may be used for manual cell patch selection using paraview."
   ]
  },
  {
   "cell_type": "code",
   "execution_count": null,
   "metadata": {},
   "outputs": [],
   "source": [
    "root = '../outputs/outputs_v3/output_lung_new_sample_b_curated_segmentation_central_crop_relabel_seq_s_10_e_6_d_8/'"
   ]
  },
  {
   "cell_type": "code",
   "execution_count": null,
   "metadata": {},
   "outputs": [],
   "source": [
    "voxel_resolution = np.array([0.1625, 0.1625, 0.25])\n",
    "label_path = os.path.join(root, 'processed_labels.tif')"
   ]
  },
  {
   "cell_type": "code",
   "execution_count": null,
   "metadata": {},
   "outputs": [],
   "source": [
    "# from VoxelProcessing import full_label_processing\n",
    "\n",
    "# output_folder='path/folder/to/save/processed/labels'\n",
    "# cell_info = full_label_processing(labeled_img=label_path, voxel_resolution=voxel_resolution, output_folder=output_folder, smoothing_iterations=10)\n",
    "# label_path = os.path.join(output_folder, \"processed_labels.npy\")\n",
    "# filtered_cell_list = cell_info[2]"
   ]
  },
  {
   "attachments": {},
   "cell_type": "markdown",
   "metadata": {},
   "source": [
    "#### Select labels for Simulations\n",
    "\n",
    "To obtain labels for simulation one may use napari and select cells manually, or use meshes, and paraview. View how to use paraview [here](Tutorials/LabelSelection.md).\n",
    "\n",
    "You may want to isolate the cells that do not touch the border instead. To isolate these use the following script and use Paraview's extract functionality as outlined."
   ]
  },
  {
   "cell_type": "code",
   "execution_count": null,
   "metadata": {},
   "outputs": [],
   "source": [
    "from FilterMeshes import get_valid_cell_ids\n",
    "\n",
    "root = '../outputs/outputs_v3/output_lung_new_sample_b_curated_segmentation_central_crop_relabel_seq_s_10_e_6_d_8/'\n",
    "\n",
    "filtered_cell_list = get_valid_cell_ids(os.path.join(root, 'cell_stats/stats_dataset_lung_bronchiole.csv'))"
   ]
  },
  {
   "cell_type": "code",
   "execution_count": null,
   "metadata": {},
   "outputs": [],
   "source": [
    "# The directory from which mesh files are loaded in stl format\n",
    "source_mesh_path = os.path.join(root, 'cell_meshes')\n",
    "\n",
    "# The directory in which filtered meshes will be saved in vtk format\n",
    "dest_mesh_path = '../../Meshes_for_Simulation/examples/cell_clump_bronchiole' \n",
    "\n",
    "convert_filtered_meshes(source_mesh_path, dest_mesh_path, filtered_cell_list)"
   ]
  },
  {
   "attachments": {},
   "cell_type": "markdown",
   "metadata": {},
   "source": [
    "Now you can open the `.vtk` mesh files in paraview and select a clump of cells for simulation."
   ]
  },
  {
   "attachments": {},
   "cell_type": "markdown",
   "metadata": {},
   "source": [
    "#### Mesh Cleaning for SimuCell3D\n",
    "\n",
    "Produce meshes for SimuCell3D simulation framework. Ensure that the path to labels is of cleaned, processed labels. "
   ]
  },
  {
   "cell_type": "code",
   "execution_count": null,
   "metadata": {},
   "outputs": [],
   "source": [
    "root = '../outputs/outputs_v4/output_lung_new_sample_b_curated_segmentation_central_crop_relabel_seq_s_10_e_6_d_8/'\n",
    "voxel_resolution = np.array([0.1625, 0.1625, 0.25])\n",
    "label_path = os.path.join(root, 'processed_labels.tif')\n",
    "\n",
    "label_list = string_to_array(\"20 21 25 33 62 65 66 73 79 81 88 95 96 103 117 120 127 137 166\")\n",
    "output_dir = '../../Meshes_for_Simulation/examples/cell_clump_bronchiole/cell_clumps/clean_clump_19_cells/clean_meshes_v4/'\n",
    "\n",
    "# Call the mesh_process_clean function\n",
    "mesh_process_clean(\n",
    "    label_path=label_path, \n",
    "    output_dir=output_dir, \n",
    "    label_list=label_list, \n",
    "    voxel_resolution=voxel_resolution, \n",
    "    scale_factor=1e-6, \n",
    "    min_edge_length=0.5,\n",
    "    make_shell=True\n",
    ")"
   ]
  }
 ],
 "metadata": {
  "kernelspec": {
   "display_name": "EpiStats",
   "language": "python",
   "name": "python3"
  },
  "language_info": {
   "codemirror_mode": {
    "name": "ipython",
    "version": 3
   },
   "file_extension": ".py",
   "mimetype": "text/x-python",
   "name": "python",
   "nbconvert_exporter": "python",
   "pygments_lexer": "ipython3",
   "version": "3.10.12"
  },
  "orig_nbformat": 4
 },
 "nbformat": 4,
 "nbformat_minor": 2
}
