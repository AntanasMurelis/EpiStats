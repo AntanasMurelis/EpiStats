{
 "cells": [
  {
   "attachments": {},
   "cell_type": "markdown",
   "metadata": {},
   "source": [
    "### Mesh processing for SimuCell3D\n",
    "\n",
    "This notebook outlines how to generate a geometry for the SimuCell3D."
   ]
  },
  {
   "cell_type": "code",
   "execution_count": 1,
   "metadata": {},
   "outputs": [],
   "source": [
    "import os\n",
    "import sys\n",
    "import numpy as np\n",
    "from MeshPrep import isolate_filtered_meshes\n",
    "from MeshPrep import mesh_process_clean, string_to_array"
   ]
  },
  {
   "cell_type": "code",
   "execution_count": 2,
   "metadata": {},
   "outputs": [],
   "source": [
    "sys.path.append('/nas/groups/iber/Users/Federico_Carrara/Statistics_Collection/EpiStats/src/statistics_collection/')\n",
    "from StatsAnalytics import prepare_df"
   ]
  },
  {
   "attachments": {},
   "cell_type": "markdown",
   "metadata": {},
   "source": [
    "#### Cleaning the labels\n",
    "\n",
    "The labels generated from manual curation should be processesed before passing through the geometry generation. Strongly recommended step. Generates meshes which may be used for manual cell patch selection using paraview."
   ]
  },
  {
   "cell_type": "code",
   "execution_count": 3,
   "metadata": {},
   "outputs": [],
   "source": [
    "root = '../outputs/outputs_v3/output_intestine_sample2_b_curated_segmentation_relabel_seq_s_10_e_6_d_8/'"
   ]
  },
  {
   "cell_type": "code",
   "execution_count": 4,
   "metadata": {},
   "outputs": [],
   "source": [
    "voxel_resolution = np.array([0.325, 0.325, 0.25])\n",
    "label_path = os.path.join(root, 'processed_labels.tif')"
   ]
  },
  {
   "cell_type": "code",
   "execution_count": null,
   "metadata": {},
   "outputs": [],
   "source": [
    "from VoxelProcessing import full_label_processing\n",
    "\n",
    "output_folder='path/folder/to/save/processed/labels'\n",
    "cell_info = full_label_processing(labeled_img=label_path, voxel_resolution=voxel_resolution, output_folder=output_folder, smoothing_iterations=10)\n",
    "label_path = os.path.join(output_folder, \"processed_labels.npy\")\n",
    "filtered_cell_list = cell_info[2]"
   ]
  },
  {
   "attachments": {},
   "cell_type": "markdown",
   "metadata": {},
   "source": [
    "#### Select labels for Simulations\n",
    "\n",
    "To obtain labels for simulation one may use napari and select cells manually, or use meshes, and paraview. View how to use paraview [here](Tutorials/LabelSelection.md).\n",
    "\n",
    "You may want to isolate the cells that do not touch the border instead. To isolate these use the following script and use Paraview's extract functionality as outlined."
   ]
  },
  {
   "cell_type": "code",
   "execution_count": 5,
   "metadata": {},
   "outputs": [],
   "source": [
    "cell_stats_df = prepare_df([\n",
    "    os.path.join(root, 'cell_stats/stats_dataset_intestine_villus.csv')\n",
    "])\n",
    "filtered_row_idxs = np.nonzero(~cell_stats_df['exclude_cell'])[0]\n",
    "filtered_cell_list = np.asarray(cell_stats_df['cell_ID'])[filtered_row_idxs]"
   ]
  },
  {
   "cell_type": "code",
   "execution_count": 7,
   "metadata": {},
   "outputs": [
    {
     "name": "stderr",
     "output_type": "stream",
     "text": [
      "Moving mesh files: 100%|██████████| 322/322 [00:09<00:00, 33.53it/s]\n",
      "Converting files to .vtk: 100%|██████████| 239/239 [01:24<00:00,  2.83it/s]\n"
     ]
    }
   ],
   "source": [
    "mesh_path = os.path.join(root, 'cell_meshes')\n",
    "# This is where the isolated meshes will be saved.\n",
    "isolated_mesh_path = '../../Meshes_for_Simulation/examples/cell_clump_intestine' \n",
    "\n",
    "isolate_filtered_meshes(mesh_path, isolated_mesh_path, filtered_cell_list)"
   ]
  },
  {
   "attachments": {},
   "cell_type": "markdown",
   "metadata": {},
   "source": [
    "Now you can open the `.vtk` mesh files in paraview and select a clump of cells for simulation."
   ]
  },
  {
   "attachments": {},
   "cell_type": "markdown",
   "metadata": {},
   "source": [
    "#### Mesh Cleaning for SimuCell3D\n",
    "\n",
    "Produce meshes for SimuCell3D simulation framework. Ensure that the path to labels is of cleaned, processed labels. "
   ]
  },
  {
   "cell_type": "code",
   "execution_count": 8,
   "metadata": {},
   "outputs": [
    {
     "name": "stdout",
     "output_type": "stream",
     "text": [
      "-------------------------------------------\n",
      "Creating meshes from labeled img...\n"
     ]
    },
    {
     "name": "stderr",
     "output_type": "stream",
     "text": [
      "Converting labels to meshes:  72%|███████▏  | 21/29 [04:41<01:45, 13.24s/it]"
     ]
    }
   ],
   "source": [
    "label_list = string_to_array(\"182 183 196 206 207 225 229 233 235 242 249 251 254 257 260 262 264 268 273 274 282 313\")\n",
    "output_dir = '../../Meshes_for_Simulation/examples/cell_clump_intestine/cell_clumps/top_clump_22_cells/clean_meshes'\n",
    "\n",
    "# Call the mesh_process_clean function\n",
    "mesh_process_clean(\n",
    "    label_path=label_path, \n",
    "    output_dir=output_dir, \n",
    "    label_list=label_list, \n",
    "    voxel_resolution=voxel_resolution, \n",
    "    scale_factor=1, \n",
    "    make_shell=True\n",
    ")"
   ]
  },
  {
   "cell_type": "code",
   "execution_count": null,
   "metadata": {},
   "outputs": [],
   "source": []
  }
 ],
 "metadata": {
  "kernelspec": {
   "display_name": "EpiStats",
   "language": "python",
   "name": "python3"
  },
  "language_info": {
   "codemirror_mode": {
    "name": "ipython",
    "version": 3
   },
   "file_extension": ".py",
   "mimetype": "text/x-python",
   "name": "python",
   "nbconvert_exporter": "python",
   "pygments_lexer": "ipython3",
   "version": "3.10.12"
  },
  "orig_nbformat": 4
 },
 "nbformat": 4,
 "nbformat_minor": 2
}
