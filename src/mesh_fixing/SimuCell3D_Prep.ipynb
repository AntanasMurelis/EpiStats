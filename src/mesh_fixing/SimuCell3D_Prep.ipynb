{
 "cells": [
  {
   "attachments": {},
   "cell_type": "markdown",
   "metadata": {},
   "source": [
    "### Mesh processing for SimuCell3D\n",
    "\n",
    "This notebook outlines how to generate a geometry for the SimuCell3D."
   ]
  },
  {
   "cell_type": "code",
   "execution_count": 1,
   "metadata": {},
   "outputs": [],
   "source": [
    "import os\n",
    "import sys\n",
    "import numpy as np\n",
    "from MeshPrep import isolate_filtered_meshes\n",
    "from MeshPrep import mesh_process_clean, string_to_array"
   ]
  },
  {
   "cell_type": "code",
   "execution_count": 2,
   "metadata": {},
   "outputs": [],
   "source": [
    "sys.path.append('/nas/groups/iber/Users/Federico_Carrara/Statistics_Collection/EpiStats/src/statistics_collection/')\n",
    "from StatsAnalytics import prepare_df"
   ]
  },
  {
   "attachments": {},
   "cell_type": "markdown",
   "metadata": {},
   "source": [
    "#### Cleaning the labels\n",
    "\n",
    "The labels generated from manual curation should be processesed before passing through the geometry generation. Strongly recommended step. Generates meshes which may be used for manual cell patch selection using paraview."
   ]
  },
  {
   "cell_type": "code",
   "execution_count": 25,
   "metadata": {},
   "outputs": [],
   "source": [
    "root = '../outputs/outputs_v3/output_lung_new_sample_b_curated_segmentation_central_crop_relabel_seq_s_10_e_6_d_8/'"
   ]
  },
  {
   "cell_type": "code",
   "execution_count": 21,
   "metadata": {},
   "outputs": [],
   "source": [
    "voxel_resolution = np.array([0.1625, 0.1625, 0.25])\n",
    "label_path = os.path.join(root, 'processed_labels.tif')"
   ]
  },
  {
   "cell_type": "code",
   "execution_count": null,
   "metadata": {},
   "outputs": [],
   "source": [
    "# from VoxelProcessing import full_label_processing\n",
    "\n",
    "# output_folder='path/folder/to/save/processed/labels'\n",
    "# cell_info = full_label_processing(labeled_img=label_path, voxel_resolution=voxel_resolution, output_folder=output_folder, smoothing_iterations=10)\n",
    "# label_path = os.path.join(output_folder, \"processed_labels.npy\")\n",
    "# filtered_cell_list = cell_info[2]"
   ]
  },
  {
   "attachments": {},
   "cell_type": "markdown",
   "metadata": {},
   "source": [
    "#### Select labels for Simulations\n",
    "\n",
    "To obtain labels for simulation one may use napari and select cells manually, or use meshes, and paraview. View how to use paraview [here](Tutorials/LabelSelection.md).\n",
    "\n",
    "You may want to isolate the cells that do not touch the border instead. To isolate these use the following script and use Paraview's extract functionality as outlined."
   ]
  },
  {
   "cell_type": "code",
   "execution_count": 27,
   "metadata": {},
   "outputs": [],
   "source": [
    "from FilterMeshes import get_valid_cell_ids\n",
    "\n",
    "filtered_cell_list = get_valid_cell_ids(os.path.join(root, 'cell_stats/stats_dataset_lung_bronchiole.csv'))"
   ]
  },
  {
   "cell_type": "code",
   "execution_count": 22,
   "metadata": {},
   "outputs": [
    {
     "name": "stderr",
     "output_type": "stream",
     "text": [
      "Moving mesh files: 100%|██████████| 129/129 [00:05<00:00, 23.11it/s]\n",
      "Converting files to .vtk: 100%|██████████| 52/52 [00:18<00:00,  2.89it/s]\n"
     ]
    }
   ],
   "source": [
    "mesh_path = os.path.join(root, 'cell_meshes')\n",
    "# This is where the isolated meshes will be saved.\n",
    "isolated_mesh_path = '../../Meshes_for_Simulation/examples/cell_clump_esophagus' \n",
    "\n",
    "isolate_filtered_meshes(mesh_path, isolated_mesh_path, filtered_cell_list)"
   ]
  },
  {
   "attachments": {},
   "cell_type": "markdown",
   "metadata": {},
   "source": [
    "Now you can open the `.vtk` mesh files in paraview and select a clump of cells for simulation."
   ]
  },
  {
   "attachments": {},
   "cell_type": "markdown",
   "metadata": {},
   "source": [
    "#### Mesh Cleaning for SimuCell3D\n",
    "\n",
    "Produce meshes for SimuCell3D simulation framework. Ensure that the path to labels is of cleaned, processed labels. "
   ]
  },
  {
   "cell_type": "code",
   "execution_count": 30,
   "metadata": {},
   "outputs": [
    {
     "name": "stdout",
     "output_type": "stream",
     "text": [
      "-------------------------------------------\n",
      "Creating meshes from labeled img...\n"
     ]
    },
    {
     "name": "stderr",
     "output_type": "stream",
     "text": [
      "Converting labels to meshes: 100%|██████████| 16/16 [01:48<00:00,  6.79s/it]\n"
     ]
    },
    {
     "name": "stdout",
     "output_type": "stream",
     "text": [
      "-------------------------------------------\n",
      "First mesh cleaning...\n"
     ]
    },
    {
     "name": "stderr",
     "output_type": "stream",
     "text": [
      "Cleaning non-mainfold meshes:   0%|          | 0/18 [00:00<?, ?it/s]"
     ]
    },
    {
     "name": "stdout",
     "output_type": "stream",
     "text": [
      "Removed 16 non-manifold faces\n",
      "INFO- Loaded 26043 vertices and 52070 faces.\n"
     ]
    },
    {
     "name": "stderr",
     "output_type": "stream",
     "text": [
      "WARNING- 2 isolated vertices have been removed.\n",
      "Cleaning non-mainfold meshes:   6%|▌         | 1/18 [00:01<00:20,  1.18s/it]"
     ]
    },
    {
     "name": "stdout",
     "output_type": "stream",
     "text": [
      "\n",
      "100% done \n",
      "INFO- ********* ITERATION 0 *********\n",
      "INFO- Removing degeneracies...\n",
      "INFO- Removing self-intersections...\n",
      "\n",
      "98 % done   \n",
      "INFO- No intersections detected.\n",
      "\n",
      "0% done \n",
      "Removed 8 non-manifold faces\n",
      "INFO- Loaded 13504 vertices and 27000 faces.\n"
     ]
    },
    {
     "name": "stderr",
     "output_type": "stream",
     "text": [
      "Cleaning non-mainfold meshes:  11%|█         | 2/18 [00:01<00:14,  1.13it/s]"
     ]
    },
    {
     "name": "stdout",
     "output_type": "stream",
     "text": [
      "\n",
      "100% done \n",
      "INFO- ********* ITERATION 0 *********\n",
      "INFO- Removing degeneracies...\n",
      "INFO- Removing self-intersections...\n",
      "\n",
      "96 % done   \n",
      "INFO- No intersections detected.\n",
      "\n",
      "0% done \n",
      "Removed 0 non-manifold faces\n",
      "INFO- Loaded 11339 vertices and 22674 faces.\n",
      "\n"
     ]
    },
    {
     "name": "stderr",
     "output_type": "stream",
     "text": [
      "Cleaning non-mainfold meshes:  17%|█▋        | 3/18 [00:02<00:11,  1.28it/s]"
     ]
    },
    {
     "name": "stdout",
     "output_type": "stream",
     "text": [
      "0% done \n",
      "INFO- ********* ITERATION 0 *********\n",
      "INFO- Removing degeneracies...\n",
      "INFO- Removing self-intersections...\n",
      "\n",
      "93 % done   \n",
      "INFO- No intersections detected.\n",
      "\n",
      "0% done \n",
      "Removed 16 non-manifold faces\n",
      "INFO- Loaded 28235 vertices and 56458 faces.\n"
     ]
    },
    {
     "name": "stderr",
     "output_type": "stream",
     "text": [
      "Cleaning non-mainfold meshes:  22%|██▏       | 4/18 [00:03<00:13,  1.04it/s]"
     ]
    },
    {
     "name": "stdout",
     "output_type": "stream",
     "text": [
      "\n",
      "100% done \n",
      "INFO- ********* ITERATION 0 *********\n",
      "INFO- Removing degeneracies...\n",
      "INFO- Removing self-intersections...\n",
      "\n",
      "99 % done   \n",
      "INFO- No intersections detected.\n",
      "\n",
      "0% done \n",
      "Removed 8 non-manifold faces\n"
     ]
    },
    {
     "name": "stderr",
     "output_type": "stream",
     "text": [
      "Cleaning non-mainfold meshes:  28%|██▊       | 5/18 [00:05<00:16,  1.24s/it]"
     ]
    },
    {
     "name": "stdout",
     "output_type": "stream",
     "text": [
      "INFO- Loaded 27077 vertices and 54146 faces.\n",
      "\n",
      "100% done \n",
      "INFO- ********* ITERATION 0 *********\n",
      "INFO- Removing degeneracies...\n",
      "INFO- Removing self-intersections...\n",
      "\n",
      "98 % done   \n",
      "INFO- 3 intersecting triangles have been selected.\n",
      "\n",
      "0 % done   \n",
      "INFO- No intersections detected.\n",
      "\n",
      "0% done \n",
      "Removed 339 non-manifold faces\n"
     ]
    },
    {
     "name": "stderr",
     "output_type": "stream",
     "text": [
      "WARNING- 63 isolated vertices have been removed.\n",
      "Cleaning non-mainfold meshes:  33%|███▎      | 6/18 [00:07<00:18,  1.54s/it]"
     ]
    },
    {
     "name": "stdout",
     "output_type": "stream",
     "text": [
      "INFO- Loaded 24645 vertices and 49077 faces.\n",
      "\n",
      "100% done \n",
      "INFO- ********* ITERATION 0 *********\n",
      "INFO- Removing degeneracies...\n",
      "INFO- Removing self-intersections...\n",
      "\n",
      "98 % done   \n",
      "INFO- No intersections detected.\n",
      "\n",
      "0% done \n",
      "Removed 872 non-manifold faces\n"
     ]
    },
    {
     "name": "stderr",
     "output_type": "stream",
     "text": [
      "WARNING- 170 isolated vertices have been removed.\n",
      "Cleaning non-mainfold meshes:  39%|███▉      | 7/18 [00:12<00:28,  2.57s/it]"
     ]
    },
    {
     "name": "stdout",
     "output_type": "stream",
     "text": [
      "INFO- Loaded 34198 vertices and 67872 faces.\n",
      "\n",
      "100% done \n",
      "INFO- ********* ITERATION 0 *********\n",
      "INFO- Removing degeneracies...\n",
      "INFO- Removing self-intersections...\n",
      "\n",
      "98 % done   \n",
      "INFO- No intersections detected.\n",
      "\n",
      "0% done \n",
      "Removed 12 non-manifold faces\n",
      "INFO- Loaded 20221 vertices and 40432 faces.\n"
     ]
    },
    {
     "name": "stderr",
     "output_type": "stream",
     "text": [
      "Cleaning non-mainfold meshes:  44%|████▍     | 8/18 [00:13<00:20,  2.04s/it]"
     ]
    },
    {
     "name": "stdout",
     "output_type": "stream",
     "text": [
      "\n",
      "100% done \n",
      "INFO- ********* ITERATION 0 *********\n",
      "INFO- Removing degeneracies...\n",
      "INFO- Removing self-intersections...\n",
      "\n",
      "96 % done   \n",
      "INFO- No intersections detected.\n",
      "\n",
      "0% done \n",
      "Removed 0 non-manifold faces\n",
      "INFO- Loaded 23069 vertices and 46134 faces.\n"
     ]
    },
    {
     "name": "stderr",
     "output_type": "stream",
     "text": [
      "Cleaning non-mainfold meshes:  50%|█████     | 9/18 [00:14<00:15,  1.71s/it]"
     ]
    },
    {
     "name": "stdout",
     "output_type": "stream",
     "text": [
      "\n",
      "0% done \n",
      "INFO- ********* ITERATION 0 *********\n",
      "INFO- Removing degeneracies...\n",
      "INFO- Removing self-intersections...\n",
      "\n",
      "97 % done   \n",
      "INFO- No intersections detected.\n",
      "\n",
      "0% done \n",
      "Removed 12 non-manifold faces\n",
      "INFO- Loaded 22297 vertices and 44584 faces.\n",
      "\n"
     ]
    },
    {
     "name": "stderr",
     "output_type": "stream",
     "text": [
      "Cleaning non-mainfold meshes:  56%|█████▌    | 10/18 [00:15<00:11,  1.48s/it]"
     ]
    },
    {
     "name": "stdout",
     "output_type": "stream",
     "text": [
      "100% done \n",
      "INFO- ********* ITERATION 0 *********\n",
      "INFO- Removing degeneracies...\n",
      "INFO- Removing self-intersections...\n",
      "\n",
      "98 % done   \n",
      "INFO- No intersections detected.\n",
      "\n",
      "0% done \n",
      "Removed 24 non-manifold faces\n"
     ]
    },
    {
     "name": "stderr",
     "output_type": "stream",
     "text": [
      "Cleaning non-mainfold meshes:  61%|██████    | 11/18 [00:16<00:10,  1.55s/it]"
     ]
    },
    {
     "name": "stdout",
     "output_type": "stream",
     "text": [
      "INFO- Loaded 37144 vertices and 74272 faces.\n",
      "\n",
      "100% done \n",
      "INFO- ********* ITERATION 0 *********\n",
      "INFO- Removing degeneracies...\n",
      "INFO- Removing self-intersections...\n",
      "\n",
      "98 % done   \n",
      "INFO- No intersections detected.\n",
      "\n",
      "0% done \n",
      "Removed 4 non-manifold faces\n",
      "INFO- Loaded 31073 vertices and 62140 faces.\n"
     ]
    },
    {
     "name": "stderr",
     "output_type": "stream",
     "text": [
      "Cleaning non-mainfold meshes:  67%|██████▋   | 12/18 [00:18<00:08,  1.48s/it]"
     ]
    },
    {
     "name": "stdout",
     "output_type": "stream",
     "text": [
      "\n",
      "100% done \n",
      "INFO- ********* ITERATION 0 *********\n",
      "INFO- Removing degeneracies...\n",
      "INFO- Removing self-intersections...\n",
      "\n",
      "99 % done   \n",
      "INFO- No intersections detected.\n",
      "\n",
      "0% done \n",
      "Removed 6 non-manifold faces\n",
      "INFO- Loaded 170220 vertices and 340432 faces.\n",
      "\n",
      "100% done \n",
      "INFO- ********* ITERATION 0 *********\n",
      "INFO- Removing degeneracies...\n",
      "INFO- Removing self-intersections...\n",
      "\n",
      "99 % done   \n",
      "INFO- No intersections detected.\n",
      "\n",
      "0% done \n"
     ]
    },
    {
     "name": "stderr",
     "output_type": "stream",
     "text": [
      "Cleaning non-mainfold meshes:  72%|███████▏  | 13/18 [00:25<00:16,  3.32s/it]"
     ]
    },
    {
     "name": "stdout",
     "output_type": "stream",
     "text": [
      "Removed 12 non-manifold faces\n",
      "INFO- Loaded 11143 vertices and 22276 faces.\n",
      "\n"
     ]
    },
    {
     "name": "stderr",
     "output_type": "stream",
     "text": [
      "Cleaning non-mainfold meshes:  83%|████████▎ | 15/18 [00:26<00:05,  1.91s/it]"
     ]
    },
    {
     "name": "stdout",
     "output_type": "stream",
     "text": [
      "100% done \n",
      "INFO- ********* ITERATION 0 *********\n",
      "INFO- Removing degeneracies...\n",
      "INFO- Removing self-intersections...\n",
      "\n",
      "95 % done   \n",
      "INFO- No intersections detected.\n",
      "\n",
      "0% done \n",
      "Removed 16 non-manifold faces\n",
      "INFO- Loaded 12686 vertices and 25360 faces.\n",
      "\n",
      "100% done \n",
      "INFO- ********* ITERATION 0 *********\n",
      "INFO- Removing degeneracies...\n",
      "INFO- Removing self-intersections...\n",
      "\n",
      "97 % done   \n",
      "INFO- No intersections detected.\n",
      "\n",
      "0% done \n"
     ]
    },
    {
     "name": "stderr",
     "output_type": "stream",
     "text": [
      "Cleaning non-mainfold meshes:  89%|████████▉ | 16/18 [00:26<00:03,  1.57s/it]"
     ]
    },
    {
     "name": "stdout",
     "output_type": "stream",
     "text": [
      "Removed 52 non-manifold faces\n"
     ]
    },
    {
     "name": "stderr",
     "output_type": "stream",
     "text": [
      "WARNING- 6 isolated vertices have been removed.\n",
      "Cleaning non-mainfold meshes:  94%|█████████▍| 17/18 [00:28<00:01,  1.62s/it]"
     ]
    },
    {
     "name": "stdout",
     "output_type": "stream",
     "text": [
      "INFO- Loaded 38177 vertices and 76316 faces.\n",
      "\n",
      "100% done \n",
      "INFO- ********* ITERATION 0 *********\n",
      "INFO- Removing degeneracies...\n",
      "INFO- Removing self-intersections...\n",
      "\n",
      "99 % done   \n",
      "INFO- No intersections detected.\n",
      "\n",
      "0% done \n",
      "Removed 0 non-manifold faces\n",
      "INFO- Loaded 21140 vertices and 42276 faces.\n",
      "\n"
     ]
    },
    {
     "name": "stderr",
     "output_type": "stream",
     "text": [
      "Cleaning non-mainfold meshes: 100%|██████████| 18/18 [00:29<00:00,  1.64s/it]\n"
     ]
    },
    {
     "name": "stdout",
     "output_type": "stream",
     "text": [
      "0% done \n",
      "INFO- ********* ITERATION 0 *********\n",
      "INFO- Removing degeneracies...\n",
      "INFO- Removing self-intersections...\n",
      "\n",
      "99 % done   \n",
      "INFO- No intersections detected.\n",
      "\n",
      "0% done \n",
      "-------------------------------------------\n",
      "Remeshing...\n"
     ]
    },
    {
     "name": "stderr",
     "output_type": "stream",
     "text": [
      "Applying pymeshlab remeshing: 100%|██████████| 17/17 [00:23<00:00,  1.38s/it]\n"
     ]
    },
    {
     "name": "stdout",
     "output_type": "stream",
     "text": [
      "-------------------------------------------\n",
      "Second mesh cleaning...\n"
     ]
    },
    {
     "name": "stderr",
     "output_type": "stream",
     "text": [
      "Cleaning non-mainfold meshes:   6%|▌         | 1/17 [00:00<00:02,  7.45it/s]"
     ]
    },
    {
     "name": "stdout",
     "output_type": "stream",
     "text": [
      "Removed 0 non-manifold faces\n",
      "INFO- Loaded 1836 vertices and 3668 faces.\n",
      "\n",
      "0% done \n",
      "INFO- ********* ITERATION 0 *********\n",
      "INFO- Removing degeneracies...\n",
      "INFO- Removing self-intersections...\n",
      "\n",
      "94 % done   \n",
      "INFO- No intersections detected.\n",
      "\n",
      "0% done \n",
      "Removed 0 non-manifold faces\n",
      "INFO- Loaded 3697 vertices and 7390 faces.\n",
      "\n",
      "0% done \n",
      "INFO- ********* ITERATION 0 *********\n",
      "INFO- Removing degeneracies...\n",
      "INFO- Removing self-intersections...\n",
      "\n",
      "86 % done   \n",
      "INFO- No intersections detected.\n",
      "\n",
      "0% done \n"
     ]
    },
    {
     "name": "stderr",
     "output_type": "stream",
     "text": [
      "Cleaning non-mainfold meshes:  18%|█▊        | 3/17 [00:00<00:02,  4.82it/s]"
     ]
    },
    {
     "name": "stdout",
     "output_type": "stream",
     "text": [
      "Removed 0 non-manifold faces\n",
      "INFO- Loaded 5296 vertices and 10588 faces.\n",
      "\n",
      "0% done \n",
      "INFO- ********* ITERATION 0 *********\n",
      "INFO- Removing degeneracies...\n",
      "INFO- Removing self-intersections...\n",
      "\n",
      "86 % done   \n",
      "INFO- No intersections detected.\n",
      "\n",
      "0% done \n"
     ]
    },
    {
     "name": "stderr",
     "output_type": "stream",
     "text": [
      "Cleaning non-mainfold meshes:  24%|██▎       | 4/17 [00:00<00:02,  4.91it/s]"
     ]
    },
    {
     "name": "stdout",
     "output_type": "stream",
     "text": [
      "Removed 0 non-manifold faces\n",
      "INFO- Loaded 4778 vertices and 9552 faces.\n",
      "\n",
      "0% done \n",
      "INFO- ********* ITERATION 0 *********\n",
      "INFO- Removing degeneracies...\n",
      "INFO- Removing self-intersections...\n",
      "\n",
      "97 % done   \n",
      "INFO- No intersections detected.\n",
      "\n",
      "0% done \n",
      "Removed 0 non-manifold faces\n",
      "INFO- Loaded 3764 vertices and 7524 faces.\n"
     ]
    },
    {
     "name": "stderr",
     "output_type": "stream",
     "text": [
      "Cleaning non-mainfold meshes:  29%|██▉       | 5/17 [00:00<00:02,  4.76it/s]"
     ]
    },
    {
     "name": "stdout",
     "output_type": "stream",
     "text": [
      "\n",
      "0% done \n",
      "INFO- ********* ITERATION 0 *********\n",
      "INFO- Removing degeneracies...\n",
      "INFO- Removing self-intersections...\n",
      "\n",
      "86 % done   \n",
      "INFO- No intersections detected.\n",
      "\n",
      "0% done \n",
      "Removed 0 non-manifold faces\n",
      "INFO- Loaded 3924 vertices and 7844 faces.\n"
     ]
    },
    {
     "name": "stderr",
     "output_type": "stream",
     "text": [
      "Cleaning non-mainfold meshes:  41%|████      | 7/17 [00:01<00:01,  5.40it/s]"
     ]
    },
    {
     "name": "stdout",
     "output_type": "stream",
     "text": [
      "\n",
      "0% done \n",
      "INFO- ********* ITERATION 0 *********\n",
      "INFO- Removing degeneracies...\n",
      "INFO- Removing self-intersections...\n",
      "\n",
      "84 % done   \n",
      "INFO- No intersections detected.\n",
      "\n",
      "0% done \n",
      "Removed 0 non-manifold faces\n",
      "INFO- Loaded 2220 vertices and 4436 faces.\n",
      "\n",
      "0% done \n",
      "INFO- ********* ITERATION 0 *********\n",
      "INFO- Removing degeneracies...\n",
      "INFO- Removing self-intersections...\n",
      "\n",
      "82 % done   \n",
      "INFO- No intersections detected.\n",
      "\n",
      "0% done \n"
     ]
    },
    {
     "name": "stderr",
     "output_type": "stream",
     "text": [
      "Cleaning non-mainfold meshes:  47%|████▋     | 8/17 [00:01<00:02,  4.32it/s]"
     ]
    },
    {
     "name": "stdout",
     "output_type": "stream",
     "text": [
      "Removed 0 non-manifold faces\n",
      "INFO- Loaded 6363 vertices and 12722 faces.\n",
      "\n",
      "0% done \n",
      "INFO- ********* ITERATION 0 *********\n",
      "INFO- Removing degeneracies...\n",
      "INFO- Removing self-intersections...\n",
      "\n",
      "96 % done   \n",
      "INFO- No intersections detected.\n",
      "\n",
      "0% done \n"
     ]
    },
    {
     "name": "stderr",
     "output_type": "stream",
     "text": [
      "Cleaning non-mainfold meshes:  53%|█████▎    | 9/17 [00:01<00:01,  4.43it/s]"
     ]
    },
    {
     "name": "stdout",
     "output_type": "stream",
     "text": [
      "Removed 0 non-manifold faces\n",
      "INFO- Loaded 3946 vertices and 7888 faces.\n",
      "\n",
      "0% done \n",
      "INFO- ********* ITERATION 0 *********\n",
      "INFO- Removing degeneracies...\n",
      "INFO- Removing self-intersections...\n",
      "\n",
      "83 % done   \n",
      "INFO- No intersections detected.\n",
      "\n",
      "0% done \n",
      "Removed 0 non-manifold faces\n",
      "INFO- Loaded 30204 vertices and 60404 faces.\n"
     ]
    },
    {
     "name": "stderr",
     "output_type": "stream",
     "text": [
      "Cleaning non-mainfold meshes:  59%|█████▉    | 10/17 [00:03<00:05,  1.31it/s]"
     ]
    },
    {
     "name": "stdout",
     "output_type": "stream",
     "text": [
      "\n",
      "0% done \n",
      "INFO- ********* ITERATION 0 *********\n",
      "INFO- Removing degeneracies...\n",
      "INFO- Removing self-intersections...\n",
      "\n",
      "98 % done   \n",
      "INFO- No intersections detected.\n",
      "\n",
      "0% done \n"
     ]
    },
    {
     "name": "stderr",
     "output_type": "stream",
     "text": [
      "Cleaning non-mainfold meshes:  65%|██████▍   | 11/17 [00:04<00:03,  1.59it/s]"
     ]
    },
    {
     "name": "stdout",
     "output_type": "stream",
     "text": [
      "Removed 0 non-manifold faces\n",
      "INFO- Loaded 6835 vertices and 13666 faces.\n",
      "\n",
      "0% done \n",
      "INFO- ********* ITERATION 0 *********\n",
      "INFO- Removing degeneracies...\n",
      "INFO- Removing self-intersections...\n",
      "\n",
      "91 % done   \n",
      "INFO- No intersections detected.\n",
      "\n",
      "0% done \n"
     ]
    },
    {
     "name": "stderr",
     "output_type": "stream",
     "text": [
      "Cleaning non-mainfold meshes:  71%|███████   | 12/17 [00:04<00:02,  1.93it/s]"
     ]
    },
    {
     "name": "stdout",
     "output_type": "stream",
     "text": [
      "Removed 0 non-manifold faces\n",
      "INFO- Loaded 5623 vertices and 11242 faces.\n",
      "\n",
      "0% done \n",
      "INFO- ********* ITERATION 0 *********\n",
      "INFO- Removing degeneracies...\n",
      "INFO- Removing self-intersections...\n",
      "\n",
      "93 % done   \n",
      "INFO- No intersections detected.\n",
      "\n",
      "0% done \n"
     ]
    },
    {
     "name": "stderr",
     "output_type": "stream",
     "text": [
      "Cleaning non-mainfold meshes:  76%|███████▋  | 13/17 [00:04<00:01,  2.28it/s]"
     ]
    },
    {
     "name": "stdout",
     "output_type": "stream",
     "text": [
      "Removed 0 non-manifold faces\n",
      "INFO- Loaded 4730 vertices and 9456 faces.\n",
      "\n",
      "0% done \n",
      "INFO- ********* ITERATION 0 *********\n",
      "INFO- Removing degeneracies...\n",
      "INFO- Removing self-intersections...\n",
      "\n",
      "99 % done   \n",
      "INFO- No intersections detected.\n",
      "\n",
      "0% done \n"
     ]
    },
    {
     "name": "stderr",
     "output_type": "stream",
     "text": [
      "Cleaning non-mainfold meshes:  82%|████████▏ | 14/17 [00:04<00:01,  2.82it/s]"
     ]
    },
    {
     "name": "stdout",
     "output_type": "stream",
     "text": [
      "Removed 0 non-manifold faces\n",
      "INFO- Loaded 1976 vertices and 3948 faces.\n",
      "\n",
      "0% done \n",
      "INFO- ********* ITERATION 0 *********\n",
      "INFO- Removing degeneracies...\n",
      "INFO- Removing self-intersections...\n",
      "\n",
      "95 % done   \n",
      "INFO- No intersections detected.\n",
      "\n",
      "0% done \n"
     ]
    },
    {
     "name": "stderr",
     "output_type": "stream",
     "text": [
      "Cleaning non-mainfold meshes:  88%|████████▊ | 15/17 [00:05<00:00,  2.94it/s]"
     ]
    },
    {
     "name": "stdout",
     "output_type": "stream",
     "text": [
      "Removed 0 non-manifold faces\n",
      "INFO- Loaded 4396 vertices and 8788 faces.\n",
      "\n",
      "0% done \n",
      "INFO- ********* ITERATION 0 *********\n",
      "INFO- Removing degeneracies...\n",
      "INFO- Removing self-intersections...\n",
      "\n",
      "93 % done   \n",
      "INFO- No intersections detected.\n",
      "\n",
      "0% done \n"
     ]
    },
    {
     "name": "stderr",
     "output_type": "stream",
     "text": [
      "Cleaning non-mainfold meshes:  94%|█████████▍| 16/17 [00:05<00:00,  3.55it/s]"
     ]
    },
    {
     "name": "stdout",
     "output_type": "stream",
     "text": [
      "Removed 0 non-manifold faces\n",
      "INFO- Loaded 2007 vertices and 4010 faces.\n",
      "\n",
      "0% done \n",
      "INFO- ********* ITERATION 0 *********\n",
      "INFO- Removing degeneracies...\n",
      "INFO- Removing self-intersections...\n",
      "\n",
      "80 % done   \n",
      "INFO- No intersections detected.\n",
      "\n",
      "0% done \n",
      "Removed 0 non-manifold faces\n",
      "INFO- Loaded 4304 vertices and 8604 faces.\n"
     ]
    },
    {
     "name": "stderr",
     "output_type": "stream",
     "text": [
      "Cleaning non-mainfold meshes: 100%|██████████| 17/17 [00:05<00:00,  3.09it/s]\n"
     ]
    },
    {
     "name": "stdout",
     "output_type": "stream",
     "text": [
      "\n",
      "0% done \n",
      "INFO- ********* ITERATION 0 *********\n",
      "INFO- Removing degeneracies...\n",
      "INFO- Removing self-intersections...\n",
      "\n",
      "94 % done   \n",
      "INFO- No intersections detected.\n",
      "\n",
      "0% done \n",
      "-------------------------------------------\n",
      "Getting `.vtk` files...\n"
     ]
    },
    {
     "name": "stderr",
     "output_type": "stream",
     "text": [
      "Converting files to .vtk: 100%|██████████| 17/17 [00:02<00:00,  6.52it/s]\n"
     ]
    },
    {
     "name": "stdout",
     "output_type": "stream",
     "text": [
      "-------------------------------------------\n",
      "Preparing file for simulation...\n"
     ]
    },
    {
     "name": "stderr",
     "output_type": "stream",
     "text": [
      "Merging .vtk files: 100%|██████████| 17/17 [00:00<00:00, 22.51it/s]\n"
     ]
    },
    {
     "data": {
      "text/plain": [
       "'../../Meshes_for_Simulation/examples/cell_clump_esophagus/cell_clumps/clean_clump_16_cells/clean_meshes/vtk_files/merged.vtk'"
      ]
     },
     "execution_count": 30,
     "metadata": {},
     "output_type": "execute_result"
    }
   ],
   "source": [
    "root = '../outputs/outputs_v3/output_esophagus_Z2_curated_crop_s_10_e_6_d_8/'\n",
    "voxel_resolution = np.array([0.1625, 0.1625, 0.25])\n",
    "label_path = os.path.join(root, 'processed_labels.tif')\n",
    "\n",
    "label_list = string_to_array(\"100 101 104 124 128 129 54 62 64 66 74 80 85 87 89 96 \")\n",
    "output_dir = '../../Meshes_for_Simulation/examples/cell_clump_esophagus/cell_clumps/clean_clump_16_cells/clean_meshes'\n",
    "\n",
    "# Call the mesh_process_clean function\n",
    "mesh_process_clean(\n",
    "    label_path=label_path, \n",
    "    output_dir=output_dir, \n",
    "    label_list=label_list, \n",
    "    voxel_resolution=voxel_resolution, \n",
    "    scale_factor=1e-6, \n",
    "    min_edge_length=0.5,\n",
    "    make_shell=True\n",
    ")"
   ]
  }
 ],
 "metadata": {
  "kernelspec": {
   "display_name": "EpiStats",
   "language": "python",
   "name": "python3"
  },
  "language_info": {
   "codemirror_mode": {
    "name": "ipython",
    "version": 3
   },
   "file_extension": ".py",
   "mimetype": "text/x-python",
   "name": "python",
   "nbconvert_exporter": "python",
   "pygments_lexer": "ipython3",
   "version": "3.10.12"
  },
  "orig_nbformat": 4
 },
 "nbformat": 4,
 "nbformat_minor": 2
}
