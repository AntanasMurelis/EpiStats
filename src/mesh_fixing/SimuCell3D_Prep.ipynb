{
 "cells": [
  {
   "attachments": {},
   "cell_type": "markdown",
   "metadata": {},
   "source": [
    "### Mesh processing for SimuCell3D\n",
    "\n",
    "This notebook outlines how to generate a geometry for the SimuCell3D."
   ]
  },
  {
   "cell_type": "code",
   "execution_count": null,
   "metadata": {},
   "outputs": [],
   "source": [
    "import os\n",
    "import numpy as np\n",
    "from MeshPrep import convert_filtered_meshes\n",
    "from MeshPrep import mesh_process_clean, string_to_array"
   ]
  },
  {
   "attachments": {},
   "cell_type": "markdown",
   "metadata": {},
   "source": [
    "#### 1. Cleaning the labels\n",
    "\n",
    "The labels generated from manual curation should be processesed before passing through the geometry generation. Strongly recommended step. Generates meshes which may be used for manual cell patch selection using paraview.\n",
    "\n",
    "NOTE: You can skip this step in case you already have the output from the *statistics collection* pipeline."
   ]
  },
  {
   "cell_type": "code",
   "execution_count": null,
   "metadata": {},
   "outputs": [],
   "source": [
    "# root = '../outputs/outputs_v3/output_lung_new_sample_b_curated_segmentation_central_crop_relabel_seq_s_10_e_6_d_8/'"
   ]
  },
  {
   "cell_type": "code",
   "execution_count": null,
   "metadata": {},
   "outputs": [],
   "source": [
    "# voxel_resolution = np.array([0.1625, 0.1625, 0.25])\n",
    "# label_path = os.path.join(root, 'processed_labels.tif')"
   ]
  },
  {
   "cell_type": "code",
   "execution_count": null,
   "metadata": {},
   "outputs": [],
   "source": [
    "# from VoxelProcessing import full_label_processing\n",
    "\n",
    "# output_folder='path/folder/to/save/processed/labels'\n",
    "# cell_info = full_label_processing(labeled_img=label_path, voxel_resolution=voxel_resolution, output_folder=output_folder, smoothing_iterations=10)\n",
    "# label_path = os.path.join(output_folder, \"processed_labels.npy\")\n",
    "# filtered_cell_list = cell_info[2]"
   ]
  },
  {
   "attachments": {},
   "cell_type": "markdown",
   "metadata": {},
   "source": [
    "#### 2. Select patch of cells for Simulations\n",
    "\n",
    "To select smaller patches of cells for simulation one may load the labeled image in *napari* and select cells manually, or load meshes on *paraview* and use the existing tools (*suggested*). To see how to use paraview look [here](Tutorials/LabelSelection.md)."
   ]
  },
  {
   "cell_type": "markdown",
   "metadata": {},
   "source": [
    "Before extracting a patch of cells, it is helpful to exclude all the cells that are cut or touch the border."
   ]
  },
  {
   "cell_type": "code",
   "execution_count": null,
   "metadata": {},
   "outputs": [],
   "source": [
    "from misc import get_valid_cell_ids\n",
    "\n",
    "root = '../outputs/outputs_v3/output_lung_new_sample_b_curated_segmentation_central_crop_relabel_seq_s_10_e_6_d_8/'\n",
    "\n",
    "filtered_cell_list = get_valid_cell_ids(os.path.join(root, 'cell_stats/stats_dataset_lung_bronchiole.csv'))"
   ]
  },
  {
   "cell_type": "code",
   "execution_count": null,
   "metadata": {},
   "outputs": [],
   "source": [
    "# The directory from which mesh files are loaded in stl format\n",
    "source_mesh_path = os.path.join(root, 'cell_meshes')\n",
    "\n",
    "# The directory in which filtered meshes will be saved in vtk format\n",
    "dest_mesh_path = '../../Meshes_for_Simulation/examples/cell_clump_bronchiole' \n",
    "\n",
    "convert_filtered_meshes(source_mesh_path, dest_mesh_path, filtered_cell_list)"
   ]
  },
  {
   "attachments": {},
   "cell_type": "markdown",
   "metadata": {},
   "source": [
    "Now you can open the `.vtk` mesh files in paraview and select a clump of cells for simulation."
   ]
  },
  {
   "attachments": {},
   "cell_type": "markdown",
   "metadata": {},
   "source": [
    "#### 3. Mesh Refinemnent for SimuCell3D\n",
    "SimuCell3D pipeline requires rather smooth and regular meshes to work propetly.\n",
    "The following cell is meant to generate and refine meshes for SimuCell3D simulation framework. \n",
    "\n",
    "NOTE: Ensure that the path to labels is of cleaned, processed labels. "
   ]
  },
  {
   "cell_type": "code",
   "execution_count": null,
   "metadata": {},
   "outputs": [],
   "source": [
    "root = '/nas/groups/iber/Users/Federico_Carrara/Statistics_Collection/outputs/outputs_v5/output_lung_new_sample_b_curated_segmentation_central_crop_relabel_seq_s_10_e_6_d_8/'\n",
    "voxel_resolution = np.array([0.1625, 0.1625, 0.25])\n",
    "label_path = os.path.join(root, 'processed_labels.tif')\n",
    "stats_df_path = os.path.join(root, 'cell_stats/stats_dataset_lung_bronchiole.csv')\n",
    "\n",
    "label_list = string_to_array(\"20 21 25 33 62 65 66 73 79 81 88 95 96 103 117 120 127 137 166\")\n",
    "output_dir = '/nas/groups/iber/Users/Federico_Carrara/Meshes_for_Simulation/examples/cell_clump_bronchiole/cell_clumps/clean_clump_19_cells/clean_meshes_v6/'\n",
    "\n",
    "# Call the mesh_process_clean function\n",
    "mesh_process_clean(\n",
    "    label_path=label_path, \n",
    "    output_dir=output_dir, \n",
    "    label_list=label_list, \n",
    "    voxel_resolution=voxel_resolution,\n",
    "    path_to_cell_stats_df=stats_df_path, \n",
    "    scale_factor=1e-6, \n",
    "    min_edge_length=0.5,\n",
    "    make_shell=True,\n",
    "    shell_type=\"from_mesh\",\n",
    "    displace_shell_pts=False,\n",
    "    inter_meshes=False,\n",
    ")"
   ]
  },
  {
   "attachments": {},
   "cell_type": "markdown",
   "metadata": {},
   "source": [
    "NOTE: To create a shell mesh that fits  really well the single cell meshes you may need to resort to the simulation pipeline.\n",
    "\n",
    "In that case you need to do the following:\n",
    "- In the source code (./include/mesh/cell_types), set for ECM cells `is_static=False` in the constructors, while set it to `True` for the epithelial cells.\n",
    "- Set surface tension values for ECM in at the middle of the \"feasible range\" experimented for epithelial cells (e.g., 1e-3 could work).\n",
    "- Run few simulation iterations untile the result is satisfactory. Take the resulting vtk file as the input for following simulation runs."
   ]
  }
 ],
 "metadata": {
  "kernelspec": {
   "display_name": "EpiStats",
   "language": "python",
   "name": "python3"
  },
  "language_info": {
   "codemirror_mode": {
    "name": "ipython",
    "version": 3
   },
   "file_extension": ".py",
   "mimetype": "text/x-python",
   "name": "python",
   "nbconvert_exporter": "python",
   "pygments_lexer": "ipython3",
   "version": "3.10.12"
  },
  "orig_nbformat": 4
 },
 "nbformat": 4,
 "nbformat_minor": 2
}
