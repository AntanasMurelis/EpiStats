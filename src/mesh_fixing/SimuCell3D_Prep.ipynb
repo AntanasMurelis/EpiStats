{
 "cells": [
  {
   "attachments": {},
   "cell_type": "markdown",
   "metadata": {},
   "source": [
    "### Mesh processing for SimuCell3D\n",
    "\n",
    "This notebook outlines how to generate a geometry for the SimuCell3D."
   ]
  },
  {
   "cell_type": "code",
   "execution_count": 1,
   "metadata": {},
   "outputs": [
    {
     "name": "stdout",
     "output_type": "stream",
     "text": [
      "Jupyter environment detected. Enabling Open3D WebVisualizer.\n",
      "[Open3D INFO] WebRTC GUI backend enabled.\n",
      "[Open3D INFO] WebRTCWindowSystem: HTTP handshake server disabled.\n"
     ]
    }
   ],
   "source": [
    "import os\n",
    "import numpy as np\n",
    "from MeshPrep import convert_filtered_meshes\n",
    "from MeshPrep import mesh_process_clean, string_to_array"
   ]
  },
  {
   "attachments": {},
   "cell_type": "markdown",
   "metadata": {},
   "source": [
    "#### 1. Cleaning the labels\n",
    "\n",
    "The labels generated from manual curation should be processesed before passing through the geometry generation. Strongly recommended step. Generates meshes which may be used for manual cell patch selection using paraview.\n",
    "\n",
    "NOTE: You can skip this step in case you already have the output from the *statistics collection* pipeline."
   ]
  },
  {
   "cell_type": "code",
   "execution_count": null,
   "metadata": {},
   "outputs": [],
   "source": [
    "# root = '../outputs/outputs_v3/output_lung_new_sample_b_curated_segmentation_central_crop_relabel_seq_s_10_e_6_d_8/'"
   ]
  },
  {
   "cell_type": "code",
   "execution_count": null,
   "metadata": {},
   "outputs": [],
   "source": [
    "# voxel_resolution = np.array([0.1625, 0.1625, 0.25])\n",
    "# label_path = os.path.join(root, 'processed_labels.tif')"
   ]
  },
  {
   "cell_type": "code",
   "execution_count": null,
   "metadata": {},
   "outputs": [],
   "source": [
    "# from VoxelProcessing import full_label_processing\n",
    "\n",
    "# output_folder='path/folder/to/save/processed/labels'\n",
    "# cell_info = full_label_processing(labeled_img=label_path, voxel_resolution=voxel_resolution, output_folder=output_folder, smoothing_iterations=10)\n",
    "# label_path = os.path.join(output_folder, \"processed_labels.npy\")\n",
    "# filtered_cell_list = cell_info[2]"
   ]
  },
  {
   "attachments": {},
   "cell_type": "markdown",
   "metadata": {},
   "source": [
    "#### 2. Select patch of cells for Simulations\n",
    "\n",
    "To select smaller patches of cells for simulation one may load the labeled image in *napari* and select cells manually, or load meshes on *paraview* and use the existing tools (*suggested*). To see how to use paraview look [here](Tutorials/LabelSelection.md)."
   ]
  },
  {
   "cell_type": "markdown",
   "metadata": {},
   "source": [
    "Before extracting a patch of cells, it is helpful to exclude all the cells that are cut or touch the border."
   ]
  },
  {
   "cell_type": "code",
   "execution_count": null,
   "metadata": {},
   "outputs": [],
   "source": [
    "from misc import get_valid_cell_ids\n",
    "\n",
    "root = '../outputs/outputs_v3/output_lung_new_sample_b_curated_segmentation_central_crop_relabel_seq_s_10_e_6_d_8/'\n",
    "\n",
    "filtered_cell_list = get_valid_cell_ids(os.path.join(root, 'cell_stats/stats_dataset_lung_bronchiole.csv'))"
   ]
  },
  {
   "cell_type": "code",
   "execution_count": null,
   "metadata": {},
   "outputs": [],
   "source": [
    "# The directory from which mesh files are loaded in stl format\n",
    "source_mesh_path = os.path.join(root, 'cell_meshes')\n",
    "\n",
    "# The directory in which filtered meshes will be saved in vtk format\n",
    "dest_mesh_path = '../../Meshes_for_Simulation/examples/cell_clump_bronchiole' \n",
    "\n",
    "convert_filtered_meshes(source_mesh_path, dest_mesh_path, filtered_cell_list)"
   ]
  },
  {
   "attachments": {},
   "cell_type": "markdown",
   "metadata": {},
   "source": [
    "Now you can open the `.vtk` mesh files in paraview and select a clump of cells for simulation."
   ]
  },
  {
   "attachments": {},
   "cell_type": "markdown",
   "metadata": {},
   "source": [
    "#### 3. Mesh Refinemnent for SimuCell3D\n",
    "SimuCell3D pipeline requires rather smooth and regular meshes to work propetly.\n",
    "The following cell is meant to generate and refine meshes for SimuCell3D simulation framework. \n",
    "\n",
    "NOTE: Ensure that the path to labels is of cleaned, processed labels. "
   ]
  },
  {
   "cell_type": "code",
   "execution_count": 10,
   "metadata": {},
   "outputs": [
    {
     "name": "stdout",
     "output_type": "stream",
     "text": [
      "-------------------------------------------\n",
      "Creating meshes from labeled img...\n"
     ]
    },
    {
     "name": "stderr",
     "output_type": "stream",
     "text": [
      "Converting labels to meshes: 100%|██████████| 19/19 [06:45<00:00, 21.32s/it]\n"
     ]
    },
    {
     "name": "stdout",
     "output_type": "stream",
     "text": [
      "Generating shell mesh from mesh...\n",
      "    Computing shell point cloud...\n"
     ]
    },
    {
     "name": "stderr",
     "output_type": "stream",
     "text": [
      "100%|██████████| 19/19 [03:25<00:00, 10.81s/it]\n"
     ]
    },
    {
     "name": "stdout",
     "output_type": "stream",
     "text": [
      "    Done!\n",
      "\n",
      "    Reconstructing mesh from point cloud...\n",
      "    Done!\n",
      "\n",
      "-------------------------------------------\n",
      "First mesh cleaning...\n"
     ]
    },
    {
     "name": "stderr",
     "output_type": "stream",
     "text": [
      "Cleaning non-mainfold meshes:   0%|          | 0/21 [00:00<?, ?it/s]"
     ]
    },
    {
     "name": "stdout",
     "output_type": "stream",
     "text": [
      "Removed 717 non-manifold faces\n",
      "INFO- Loaded 17174 vertices and 33947 faces.\n"
     ]
    },
    {
     "name": "stderr",
     "output_type": "stream",
     "text": [
      "WARNING- 150 isolated vertices have been removed.\n",
      "Cleaning non-mainfold meshes:   5%|▍         | 1/21 [00:02<00:50,  2.51s/it]"
     ]
    },
    {
     "name": "stdout",
     "output_type": "stream",
     "text": [
      "\n",
      "100% done \n",
      "INFO- ********* ITERATION 0 *********\n",
      "INFO- Removing degeneracies...\n",
      "INFO- Removing self-intersections...\n",
      "\n",
      "97 % done   \n",
      "INFO- No intersections detected.\n",
      "\n",
      "0% done \n",
      "Removed 4 non-manifold faces\n"
     ]
    },
    {
     "name": "stderr",
     "output_type": "stream",
     "text": [
      "Cleaning non-mainfold meshes:  10%|▉         | 2/21 [00:04<00:45,  2.41s/it]"
     ]
    },
    {
     "name": "stdout",
     "output_type": "stream",
     "text": [
      "INFO- Loaded 24413 vertices and 48820 faces.\n",
      "\n",
      "100% done \n",
      "INFO- ********* ITERATION 0 *********\n",
      "INFO- Removing degeneracies...\n",
      "INFO- Removing self-intersections...\n",
      "\n",
      "98 % done   \n",
      "INFO- No intersections detected.\n",
      "\n",
      "0% done \n",
      "Removed 0 non-manifold faces\n"
     ]
    },
    {
     "name": "stderr",
     "output_type": "stream",
     "text": [
      "Cleaning non-mainfold meshes:  14%|█▍        | 3/21 [00:06<00:40,  2.23s/it]"
     ]
    },
    {
     "name": "stdout",
     "output_type": "stream",
     "text": [
      "INFO- Loaded 18367 vertices and 36730 faces.\n",
      "\n",
      "0% done \n",
      "INFO- ********* ITERATION 0 *********\n",
      "INFO- Removing degeneracies...\n",
      "INFO- Removing self-intersections...\n",
      "\n",
      "99 % done   \n",
      "INFO- No intersections detected.\n",
      "\n",
      "0% done \n",
      "Removed 45 non-manifold faces\n",
      "INFO- Loaded 25236 vertices and 50445 faces.\n"
     ]
    },
    {
     "name": "stderr",
     "output_type": "stream",
     "text": [
      "WARNING- 1 isolated vertices have been removed.\n",
      "Cleaning non-mainfold meshes:  19%|█▉        | 4/21 [00:09<00:41,  2.46s/it]"
     ]
    },
    {
     "name": "stdout",
     "output_type": "stream",
     "text": [
      "\n",
      "100% done \n",
      "INFO- ********* ITERATION 0 *********\n",
      "INFO- Removing degeneracies...\n",
      "INFO- Removing self-intersections...\n",
      "\n",
      "98 % done   \n",
      "INFO- No intersections detected.\n",
      "\n",
      "0% done \n",
      "Removed 0 non-manifold faces\n",
      "INFO- Loaded 14328 vertices and 28652 faces.\n"
     ]
    },
    {
     "name": "stderr",
     "output_type": "stream",
     "text": [
      "Cleaning non-mainfold meshes:  24%|██▍       | 5/21 [00:10<00:32,  2.03s/it]"
     ]
    },
    {
     "name": "stdout",
     "output_type": "stream",
     "text": [
      "\n",
      "0% done \n",
      "INFO- ********* ITERATION 0 *********\n",
      "INFO- Removing degeneracies...\n",
      "INFO- Removing self-intersections...\n",
      "\n",
      "97 % done   \n",
      "INFO- No intersections detected.\n",
      "\n",
      "0% done \n",
      "Removed 28 non-manifold faces\n",
      "INFO- Loaded 23636 vertices and 47254 faces.\n"
     ]
    },
    {
     "name": "stderr",
     "output_type": "stream",
     "text": [
      "Cleaning non-mainfold meshes:  29%|██▊       | 6/21 [00:12<00:29,  1.95s/it]"
     ]
    },
    {
     "name": "stdout",
     "output_type": "stream",
     "text": [
      "\n",
      "100% done \n",
      "INFO- ********* ITERATION 0 *********\n",
      "INFO- Removing degeneracies...\n",
      "INFO- Removing self-intersections...\n",
      "\n",
      "98 % done   \n",
      "INFO- No intersections detected.\n",
      "\n",
      "0% done \n",
      "Removed 8 non-manifold faces\n",
      "INFO- Loaded 19026 vertices and 38044 faces.\n",
      "\n"
     ]
    },
    {
     "name": "stderr",
     "output_type": "stream",
     "text": [
      "Cleaning non-mainfold meshes:  33%|███▎      | 7/21 [00:14<00:24,  1.75s/it]"
     ]
    },
    {
     "name": "stdout",
     "output_type": "stream",
     "text": [
      "100% done \n",
      "INFO- ********* ITERATION 0 *********\n",
      "INFO- Removing degeneracies...\n",
      "INFO- Removing self-intersections...\n",
      "\n",
      "97 % done   \n",
      "INFO- No intersections detected.\n",
      "\n",
      "0% done \n",
      "Removed 0 non-manifold faces\n",
      "INFO- Loaded 20685 vertices and 41366 faces.\n",
      "\n"
     ]
    },
    {
     "name": "stderr",
     "output_type": "stream",
     "text": [
      "Cleaning non-mainfold meshes:  38%|███▊      | 8/21 [00:15<00:21,  1.64s/it]"
     ]
    },
    {
     "name": "stdout",
     "output_type": "stream",
     "text": [
      "0% done \n",
      "INFO- ********* ITERATION 0 *********\n",
      "INFO- Removing degeneracies...\n",
      "INFO- Removing self-intersections...\n",
      "\n",
      "99 % done   \n",
      "INFO- No intersections detected.\n",
      "\n",
      "0% done \n",
      "Removed 10 non-manifold faces\n",
      "INFO- Loaded 25156 vertices and 50302 faces.\n",
      "\n"
     ]
    },
    {
     "name": "stderr",
     "output_type": "stream",
     "text": [
      "WARNING- 1 isolated vertices have been removed.\n",
      "Cleaning non-mainfold meshes:  43%|████▎     | 9/21 [00:17<00:20,  1.67s/it]"
     ]
    },
    {
     "name": "stdout",
     "output_type": "stream",
     "text": [
      "100% done \n",
      "INFO- ********* ITERATION 0 *********\n",
      "INFO- Removing degeneracies...\n",
      "INFO- Removing self-intersections...\n",
      "\n",
      "97 % done   \n",
      "INFO- No intersections detected.\n",
      "\n",
      "0% done \n",
      "Removed 28 non-manifold faces\n",
      "INFO- Loaded 24796 vertices and 49574 faces.\n"
     ]
    },
    {
     "name": "stderr",
     "output_type": "stream",
     "text": [
      "WARNING- 2 isolated vertices have been removed.\n",
      "Cleaning non-mainfold meshes:  48%|████▊     | 10/21 [00:18<00:17,  1.61s/it]"
     ]
    },
    {
     "name": "stdout",
     "output_type": "stream",
     "text": [
      "\n",
      "100% done \n",
      "INFO- ********* ITERATION 0 *********\n",
      "INFO- Removing degeneracies...\n",
      "INFO- Removing self-intersections...\n",
      "\n",
      "97 % done   \n",
      "INFO- No intersections detected.\n",
      "\n",
      "0% done \n",
      "Removed 52 non-manifold faces\n",
      "INFO- Loaded 24540 vertices and 49044 faces.\n"
     ]
    },
    {
     "name": "stderr",
     "output_type": "stream",
     "text": [
      "WARNING- 4 isolated vertices have been removed.\n",
      "Cleaning non-mainfold meshes:  52%|█████▏    | 11/21 [00:20<00:16,  1.62s/it]"
     ]
    },
    {
     "name": "stdout",
     "output_type": "stream",
     "text": [
      "\n",
      "100% done \n",
      "INFO- ********* ITERATION 0 *********\n",
      "INFO- Removing degeneracies...\n",
      "INFO- Removing self-intersections...\n",
      "\n",
      "98 % done   \n",
      "INFO- No intersections detected.\n",
      "\n",
      "0% done \n",
      "Removed 16 non-manifold faces\n",
      "INFO- Loaded 12922 vertices and 25832 faces.\n",
      "\n",
      "100% done \n",
      "INFO- ********* ITERATION 0 *********\n",
      "INFO- Removing degeneracies...\n",
      "INFO- Removing self-intersections...\n",
      "\n",
      "98 % done   \n",
      "INFO- No intersections detected.\n",
      "\n",
      "0% done \n"
     ]
    },
    {
     "name": "stderr",
     "output_type": "stream",
     "text": [
      "Cleaning non-mainfold meshes:  57%|█████▋    | 12/21 [00:21<00:12,  1.37s/it]"
     ]
    },
    {
     "name": "stdout",
     "output_type": "stream",
     "text": [
      "Removed 32 non-manifold faces\n",
      "INFO- Loaded 12047 vertices and 24074 faces.\n",
      "\n",
      "100% done \n",
      "INFO- ********* ITERATION 0 *********\n",
      "INFO- Removing degeneracies...\n",
      "INFO- Removing self-intersections...\n",
      "\n",
      "98 % done   \n",
      "INFO- No intersections detected.\n",
      "\n",
      "0% done \n"
     ]
    },
    {
     "name": "stderr",
     "output_type": "stream",
     "text": [
      "Cleaning non-mainfold meshes:  62%|██████▏   | 13/21 [00:22<00:09,  1.21s/it]"
     ]
    },
    {
     "name": "stdout",
     "output_type": "stream",
     "text": [
      "Removed 10 non-manifold faces\n",
      "INFO- Loaded 134053 vertices and 268096 faces.\n",
      "\n",
      "100% done \n",
      "INFO- ********* ITERATION 0 *********\n",
      "INFO- Removing degeneracies...\n",
      "INFO- Removing self-intersections...\n",
      "\n",
      "99 % done   \n",
      "INFO- No intersections detected.\n",
      "\n",
      "0% done \n"
     ]
    },
    {
     "name": "stderr",
     "output_type": "stream",
     "text": [
      "Cleaning non-mainfold meshes:  67%|██████▋   | 14/21 [00:32<00:27,  3.93s/it]"
     ]
    },
    {
     "name": "stdout",
     "output_type": "stream",
     "text": [
      "Removed 20 non-manifold faces\n",
      "INFO- Loaded 20417 vertices and 40820 faces.\n",
      "\n"
     ]
    },
    {
     "name": "stderr",
     "output_type": "stream",
     "text": [
      "Cleaning non-mainfold meshes:  71%|███████▏  | 15/21 [00:33<00:19,  3.21s/it]"
     ]
    },
    {
     "name": "stdout",
     "output_type": "stream",
     "text": [
      "100% done \n",
      "INFO- ********* ITERATION 0 *********\n",
      "INFO- Removing degeneracies...\n",
      "INFO- Removing self-intersections...\n",
      "\n",
      "98 % done   \n",
      "INFO- No intersections detected.\n",
      "\n",
      "0% done \n",
      "Removed 0 non-manifold faces\n",
      "INFO- Loaded 9689 vertices and 19374 faces.\n",
      "\n",
      "0% done \n",
      "INFO- ********* ITERATION 0 *********\n",
      "INFO- Removing degeneracies...\n",
      "INFO- Removing self-intersections...\n",
      "\n",
      "99 % done   \n",
      "INFO- No intersections detected.\n",
      "\n",
      "0% done \n"
     ]
    },
    {
     "name": "stderr",
     "output_type": "stream",
     "text": [
      "Cleaning non-mainfold meshes:  81%|████████  | 17/21 [00:34<00:07,  1.86s/it]"
     ]
    },
    {
     "name": "stdout",
     "output_type": "stream",
     "text": [
      "Removed 12 non-manifold faces\n",
      "INFO- Loaded 21557 vertices and 43104 faces.\n",
      "\n",
      "0% done "
     ]
    },
    {
     "name": "stderr",
     "output_type": "stream",
     "text": [
      "Cleaning non-mainfold meshes:  86%|████████▌ | 18/21 [00:35<00:05,  1.78s/it]"
     ]
    },
    {
     "name": "stdout",
     "output_type": "stream",
     "text": [
      "100% done \n",
      "INFO- ********* ITERATION 0 *********\n",
      "INFO- Removing degeneracies...\n",
      "INFO- Removing self-intersections...\n",
      "\n",
      "97 % done   \n",
      "INFO- No intersections detected.\n",
      "\n",
      "0% done \n",
      "Removed 12 non-manifold faces\n",
      "INFO- Loaded 22050 vertices and 44090 faces.\n"
     ]
    },
    {
     "name": "stderr",
     "output_type": "stream",
     "text": [
      "Cleaning non-mainfold meshes:  90%|█████████ | 19/21 [00:37<00:03,  1.80s/it]"
     ]
    },
    {
     "name": "stdout",
     "output_type": "stream",
     "text": [
      "\n",
      "100% done \n",
      "INFO- ********* ITERATION 0 *********\n",
      "INFO- Removing degeneracies...\n",
      "INFO- Removing self-intersections...\n",
      "\n",
      "98 % done   \n",
      "INFO- No intersections detected.\n",
      "\n",
      "0% done \n",
      "Removed 4 non-manifold faces\n",
      "INFO- Loaded 14182 vertices and 28358 faces.\n",
      "\n",
      "100% done \n"
     ]
    },
    {
     "name": "stderr",
     "output_type": "stream",
     "text": [
      "Cleaning non-mainfold meshes:  95%|█████████▌| 20/21 [00:38<00:01,  1.60s/it]"
     ]
    },
    {
     "name": "stdout",
     "output_type": "stream",
     "text": [
      "INFO- ********* ITERATION 0 *********\n",
      "INFO- Removing degeneracies...\n",
      "INFO- Removing self-intersections...\n",
      "\n",
      "97 % done   \n",
      "INFO- No intersections detected.\n",
      "\n",
      "0% done \n",
      "Removed 0 non-manifold faces\n",
      "INFO- Loaded 20537 vertices and 41070 faces.\n",
      "\n"
     ]
    },
    {
     "name": "stderr",
     "output_type": "stream",
     "text": [
      "Cleaning non-mainfold meshes: 100%|██████████| 21/21 [00:40<00:00,  1.92s/it]\n"
     ]
    },
    {
     "name": "stdout",
     "output_type": "stream",
     "text": [
      "0% done \n",
      "INFO- ********* ITERATION 0 *********\n",
      "INFO- Removing degeneracies...\n",
      "INFO- Removing self-intersections...\n",
      "\n",
      "97 % done   \n",
      "INFO- No intersections detected.\n",
      "\n",
      "0% done \n",
      "-------------------------------------------\n",
      "Remeshing...\n"
     ]
    },
    {
     "name": "stderr",
     "output_type": "stream",
     "text": [
      "Applying pymeshlab remeshing: 100%|██████████| 20/20 [00:43<00:00,  2.16s/it]\n"
     ]
    },
    {
     "name": "stdout",
     "output_type": "stream",
     "text": [
      "-------------------------------------------\n",
      "Second mesh cleaning...\n"
     ]
    },
    {
     "name": "stderr",
     "output_type": "stream",
     "text": [
      "Cleaning non-mainfold meshes:   5%|▌         | 1/20 [00:00<00:06,  2.92it/s]"
     ]
    },
    {
     "name": "stdout",
     "output_type": "stream",
     "text": [
      "Removed 0 non-manifold faces\n",
      "INFO- Loaded 4320 vertices and 8636 faces.\n",
      "\n",
      "0% done \n",
      "INFO- ********* ITERATION 0 *********\n",
      "INFO- Removing degeneracies...\n",
      "INFO- Removing self-intersections...\n",
      "\n",
      "97 % done   \n",
      "INFO- No intersections detected.\n",
      "\n",
      "0% done \n"
     ]
    },
    {
     "name": "stderr",
     "output_type": "stream",
     "text": [
      "Cleaning non-mainfold meshes:  10%|█         | 2/20 [00:00<00:04,  3.82it/s]"
     ]
    },
    {
     "name": "stdout",
     "output_type": "stream",
     "text": [
      "Removed 0 non-manifold faces\n",
      "INFO- Loaded 3032 vertices and 6060 faces.\n",
      "\n",
      "0% done \n",
      "INFO- ********* ITERATION 0 *********\n",
      "INFO- Removing degeneracies...\n",
      "INFO- Removing self-intersections...\n",
      "\n",
      "79 % done   \n",
      "INFO- No intersections detected.\n",
      "\n",
      "0% done \n"
     ]
    },
    {
     "name": "stderr",
     "output_type": "stream",
     "text": [
      "Cleaning non-mainfold meshes:  15%|█▌        | 3/20 [00:00<00:04,  3.90it/s]"
     ]
    },
    {
     "name": "stdout",
     "output_type": "stream",
     "text": [
      "Removed 0 non-manifold faces\n",
      "INFO- Loaded 3896 vertices and 7788 faces.\n",
      "\n",
      "0% done \n",
      "INFO- ********* ITERATION 0 *********\n",
      "INFO- Removing degeneracies...\n",
      "INFO- Removing self-intersections...\n",
      "\n",
      "82 % done   \n",
      "INFO- No intersections detected.\n",
      "\n",
      "0% done \n"
     ]
    },
    {
     "name": "stderr",
     "output_type": "stream",
     "text": [
      "Cleaning non-mainfold meshes:  20%|██        | 4/20 [00:01<00:04,  3.91it/s]"
     ]
    },
    {
     "name": "stdout",
     "output_type": "stream",
     "text": [
      "Removed 0 non-manifold faces\n",
      "INFO- Loaded 3763 vertices and 7522 faces.\n",
      "\n",
      "0% done \n",
      "INFO- ********* ITERATION 0 *********\n",
      "INFO- Removing degeneracies...\n",
      "INFO- Removing self-intersections...\n",
      "\n",
      "83 % done   \n",
      "INFO- No intersections detected.\n",
      "\n",
      "0% done \n",
      "Removed 0 non-manifold faces\n"
     ]
    },
    {
     "name": "stderr",
     "output_type": "stream",
     "text": [
      "Cleaning non-mainfold meshes:  25%|██▌       | 5/20 [00:01<00:03,  4.57it/s]"
     ]
    },
    {
     "name": "stdout",
     "output_type": "stream",
     "text": [
      "INFO- Loaded 2191 vertices and 4378 faces.\n",
      "\n",
      "0% done \n",
      "INFO- ********* ITERATION 0 *********\n",
      "INFO- Removing degeneracies...\n",
      "INFO- Removing self-intersections...\n",
      "\n",
      "76 % done   \n",
      "INFO- No intersections detected.\n",
      "\n",
      "0% done \n",
      "Removed 0 non-manifold faces\n",
      "INFO- Loaded 3787 vertices and 7570 faces.\n"
     ]
    },
    {
     "name": "stderr",
     "output_type": "stream",
     "text": [
      "Cleaning non-mainfold meshes:  30%|███       | 6/20 [00:01<00:03,  4.21it/s]"
     ]
    },
    {
     "name": "stdout",
     "output_type": "stream",
     "text": [
      "\n",
      "0% done \n",
      "INFO- ********* ITERATION 0 *********\n",
      "INFO- Removing degeneracies...\n",
      "INFO- Removing self-intersections...\n",
      "\n",
      "85 % done   \n",
      "INFO- No intersections detected.\n",
      "\n",
      "0% done \n",
      "Removed 0 non-manifold faces\n",
      "INFO- Loaded 2576 vertices and 5148 faces.\n",
      "\n",
      "0% done \n",
      "INFO- ********* ITERATION 0 *********\n",
      "INFO- Removing degeneracies...\n",
      "INFO- Removing self-intersections...\n",
      "\n",
      "84 % done   \n",
      "INFO- No intersections detected.\n",
      "\n",
      "0% done \n"
     ]
    },
    {
     "name": "stderr",
     "output_type": "stream",
     "text": [
      "Cleaning non-mainfold meshes:  40%|████      | 8/20 [00:02<00:03,  3.85it/s]"
     ]
    },
    {
     "name": "stdout",
     "output_type": "stream",
     "text": [
      "Removed 0 non-manifold faces\n",
      "INFO- Loaded 4405 vertices and 8806 faces.\n",
      "\n",
      "0% done \n",
      "INFO- ********* ITERATION 0 *********\n",
      "INFO- Removing degeneracies...\n",
      "INFO- Removing self-intersections...\n",
      "\n",
      "89 % done   \n",
      "INFO- No intersections detected.\n",
      "\n",
      "0% done \n"
     ]
    },
    {
     "name": "stderr",
     "output_type": "stream",
     "text": [
      "Cleaning non-mainfold meshes:  45%|████▌     | 9/20 [00:02<00:02,  4.20it/s]"
     ]
    },
    {
     "name": "stdout",
     "output_type": "stream",
     "text": [
      "Removed 0 non-manifold faces\n",
      "INFO- Loaded 2344 vertices and 4684 faces.\n",
      "\n",
      "0% done \n",
      "INFO- ********* ITERATION 0 *********\n",
      "INFO- Removing degeneracies...\n",
      "INFO- Removing self-intersections...\n",
      "\n",
      "68 % done   \n",
      "INFO- No intersections detected.\n",
      "\n",
      "0% done \n"
     ]
    },
    {
     "name": "stderr",
     "output_type": "stream",
     "text": [
      "Cleaning non-mainfold meshes:  50%|█████     | 10/20 [00:02<00:03,  3.24it/s]"
     ]
    },
    {
     "name": "stdout",
     "output_type": "stream",
     "text": [
      "Removed 0 non-manifold faces\n",
      "INFO- Loaded 4080 vertices and 8156 faces.\n",
      "\n",
      "0% done \n",
      "INFO- ********* ITERATION 0 *********\n",
      "INFO- Removing degeneracies...\n",
      "INFO- Removing self-intersections...\n",
      "\n",
      "95 % done   \n",
      "INFO- No intersections detected.\n",
      "\n",
      "0% done \n"
     ]
    },
    {
     "name": "stderr",
     "output_type": "stream",
     "text": [
      "Cleaning non-mainfold meshes:  55%|█████▌    | 11/20 [00:02<00:02,  3.53it/s]"
     ]
    },
    {
     "name": "stdout",
     "output_type": "stream",
     "text": [
      "Removed 0 non-manifold faces\n",
      "INFO- Loaded 1714 vertices and 3424 faces.\n",
      "\n",
      "0% done \n",
      "INFO- ********* ITERATION 0 *********\n",
      "INFO- Removing degeneracies...\n",
      "INFO- Removing self-intersections...\n",
      "\n",
      "50 % done   \n",
      "INFO- No intersections detected.\n",
      "\n",
      "0% done \n"
     ]
    },
    {
     "name": "stderr",
     "output_type": "stream",
     "text": [
      "Cleaning non-mainfold meshes:  60%|██████    | 12/20 [00:03<00:02,  3.11it/s]"
     ]
    },
    {
     "name": "stdout",
     "output_type": "stream",
     "text": [
      "Removed 0 non-manifold faces\n",
      "INFO- Loaded 4002 vertices and 8000 faces.\n",
      "\n",
      "0% done \n",
      "INFO- ********* ITERATION 0 *********\n",
      "INFO- Removing degeneracies...\n",
      "INFO- Removing self-intersections...\n",
      "\n",
      "97 % done   \n",
      "INFO- No intersections detected.\n",
      "\n",
      "0% done \n"
     ]
    },
    {
     "name": "stderr",
     "output_type": "stream",
     "text": [
      "Cleaning non-mainfold meshes:  65%|██████▌   | 13/20 [00:03<00:02,  3.05it/s]"
     ]
    },
    {
     "name": "stdout",
     "output_type": "stream",
     "text": [
      "Removed 0 non-manifold faces\n",
      "INFO- Loaded 4495 vertices and 8986 faces.\n",
      "\n",
      "0% done \n",
      "INFO- ********* ITERATION 0 *********\n",
      "INFO- Removing degeneracies...\n",
      "INFO- Removing self-intersections...\n",
      "\n",
      "88 % done   \n",
      "INFO- No intersections detected.\n",
      "\n",
      "0% done \n",
      "Removed 0 non-manifold faces\n",
      "INFO- Loaded 25034 vertices and 50064 faces.\n",
      "\n",
      "0% done \n",
      "INFO- ********* ITERATION 0 *********\n",
      "INFO- Removing degeneracies...\n",
      "INFO- Removing self-intersections...\n",
      "\n",
      "97 % done   \n",
      "INFO- No intersections detected.\n"
     ]
    },
    {
     "name": "stderr",
     "output_type": "stream",
     "text": [
      "Cleaning non-mainfold meshes:  70%|███████   | 14/20 [00:06<00:06,  1.07s/it]"
     ]
    },
    {
     "name": "stdout",
     "output_type": "stream",
     "text": [
      "\n",
      "0% done \n"
     ]
    },
    {
     "name": "stderr",
     "output_type": "stream",
     "text": [
      "Cleaning non-mainfold meshes:  75%|███████▌  | 15/20 [00:06<00:04,  1.15it/s]"
     ]
    },
    {
     "name": "stdout",
     "output_type": "stream",
     "text": [
      "Removed 0 non-manifold faces\n",
      "INFO- Loaded 3542 vertices and 7080 faces.\n",
      "\n",
      "0% done \n",
      "INFO- ********* ITERATION 0 *********\n",
      "INFO- Removing degeneracies...\n",
      "INFO- Removing self-intersections...\n",
      "\n",
      "88 % done   \n",
      "INFO- No intersections detected.\n",
      "\n",
      "0% done \n"
     ]
    },
    {
     "name": "stderr",
     "output_type": "stream",
     "text": [
      "Cleaning non-mainfold meshes:  80%|████████  | 16/20 [00:07<00:02,  1.46it/s]"
     ]
    },
    {
     "name": "stdout",
     "output_type": "stream",
     "text": [
      "Removed 0 non-manifold faces\n",
      "INFO- Loaded 2650 vertices and 5296 faces.\n",
      "\n",
      "0% done \n",
      "INFO- ********* ITERATION 0 *********\n",
      "INFO- Removing degeneracies...\n",
      "INFO- Removing self-intersections...\n",
      "\n",
      "90 % done   \n",
      "INFO- No intersections detected.\n",
      "\n",
      "0% done \n"
     ]
    },
    {
     "name": "stderr",
     "output_type": "stream",
     "text": [
      "Cleaning non-mainfold meshes:  85%|████████▌ | 17/20 [00:07<00:01,  1.79it/s]"
     ]
    },
    {
     "name": "stdout",
     "output_type": "stream",
     "text": [
      "Removed 0 non-manifold faces\n",
      "INFO- Loaded 4302 vertices and 8600 faces.\n",
      "\n",
      "0% done \n",
      "INFO- ********* ITERATION 0 *********\n",
      "INFO- Removing degeneracies...\n",
      "INFO- Removing self-intersections...\n",
      "\n",
      "91 % done   \n",
      "INFO- No intersections detected.\n",
      "\n",
      "0% done \n"
     ]
    },
    {
     "name": "stderr",
     "output_type": "stream",
     "text": [
      "Cleaning non-mainfold meshes:  90%|█████████ | 18/20 [00:07<00:00,  2.21it/s]"
     ]
    },
    {
     "name": "stdout",
     "output_type": "stream",
     "text": [
      "Removed 0 non-manifold faces\n",
      "INFO- Loaded 3200 vertices and 6396 faces.\n",
      "\n",
      "0% done \n",
      "INFO- ********* ITERATION 0 *********\n",
      "INFO- Removing degeneracies...\n",
      "INFO- Removing self-intersections...\n",
      "\n",
      "77 % done   \n",
      "INFO- No intersections detected.\n",
      "\n",
      "0% done \n"
     ]
    },
    {
     "name": "stderr",
     "output_type": "stream",
     "text": [
      "Cleaning non-mainfold meshes:  95%|█████████▌| 19/20 [00:07<00:00,  2.62it/s]"
     ]
    },
    {
     "name": "stdout",
     "output_type": "stream",
     "text": [
      "Removed 0 non-manifold faces\n",
      "INFO- Loaded 3345 vertices and 6686 faces.\n",
      "\n",
      "0% done \n",
      "INFO- ********* ITERATION 0 *********\n",
      "INFO- Removing degeneracies...\n",
      "INFO- Removing self-intersections...\n",
      "\n",
      "93 % done   \n",
      "INFO- No intersections detected.\n",
      "\n",
      "0% done \n"
     ]
    },
    {
     "name": "stderr",
     "output_type": "stream",
     "text": [
      "Cleaning non-mainfold meshes: 100%|██████████| 20/20 [00:08<00:00,  2.48it/s]\n"
     ]
    },
    {
     "name": "stdout",
     "output_type": "stream",
     "text": [
      "Removed 0 non-manifold faces\n",
      "INFO- Loaded 4617 vertices and 9234 faces.\n",
      "\n",
      "0% done \n",
      "INFO- ********* ITERATION 0 *********\n",
      "INFO- Removing degeneracies...\n",
      "INFO- Removing self-intersections...\n",
      "\n",
      "99 % done   \n",
      "INFO- No intersections detected.\n",
      "\n",
      "0% done \n",
      "-------------------------------------------\n",
      "Getting `.vtk` files...\n"
     ]
    },
    {
     "name": "stderr",
     "output_type": "stream",
     "text": [
      "Converting files to .vtk: 100%|██████████| 20/20 [00:02<00:00,  8.28it/s]\n"
     ]
    },
    {
     "name": "stdout",
     "output_type": "stream",
     "text": [
      "-------------------------------------------\n",
      "Preparing file for simulation...\n"
     ]
    },
    {
     "name": "stderr",
     "output_type": "stream",
     "text": [
      "Merging .vtk files: 100%|██████████| 20/20 [00:00<00:00, 39.68it/s]\n"
     ]
    },
    {
     "data": {
      "text/plain": [
       "'/nas/groups/iber/Users/Federico_Carrara/Meshes_for_Simulation/examples/cell_clump_intestine/cell_clumps/clean_clump_16_cells/clean_meshes_v6/vtk_files/merged.vtk'"
      ]
     },
     "execution_count": 10,
     "metadata": {},
     "output_type": "execute_result"
    }
   ],
   "source": [
    "root = '/nas/groups/iber/Users/Federico_Carrara/Statistics_Collection/outputs/outputs_v5/output_lung_new_sample_b_curated_segmentation_central_crop_relabel_seq_s_10_e_6_d_8/'\n",
    "voxel_resolution = np.array([0.1625, 0.1625, 0.25])\n",
    "label_path = os.path.join(root, 'processed_labels.tif')\n",
    "stats_df_path = os.path.join(root, 'cell_stats/stats_dataset_lung_bronchiole.csv')\n",
    "\n",
    "label_list = string_to_array(\"20 21 25 33 62 65 66 73 79 81 88 95 96 103 117 120 127 137 166\")\n",
    "output_dir = '/nas/groups/iber/Users/Federico_Carrara/Meshes_for_Simulation/examples/cell_clump_bronchiole/cell_clumps/clean_clump_19_cells/clean_meshes_v6/'\n",
    "\n",
    "# Call the mesh_process_clean function\n",
    "mesh_process_clean(\n",
    "    label_path=label_path, \n",
    "    output_dir=output_dir, \n",
    "    label_list=label_list, \n",
    "    voxel_resolution=voxel_resolution,\n",
    "    path_to_cell_stats_df=stats_df_path, \n",
    "    scale_factor=1e-6, \n",
    "    min_edge_length=0.5,\n",
    "    make_shell=True,\n",
    "    shell_type=\"from_mesh\",\n",
    "    displace_shell_pts=False,\n",
    "    inter_meshes=False,\n",
    ")"
   ]
  },
  {
   "attachments": {},
   "cell_type": "markdown",
   "metadata": {},
   "source": [
    "NOTE: To create a shell mesh that fits  really well the single cell meshes you may need to resort to the simulation pipeline.\n",
    "\n",
    "In that case you need to do the following:\n",
    "- In the source code (./include/mesh/cell_types), set for ECM cells `is_static=False` in the constructors, while set it to `True` for the epithelial cells.\n",
    "- Set surface tension values for ECM in at the middle of the \"feasible range\" experimented for epithelial cells (e.g., 1e-3 could work).\n",
    "- Run few simulation iterations untile the result is satisfactory. Take the resulting vtk file as the input for following simulation runs."
   ]
  }
 ],
 "metadata": {
  "kernelspec": {
   "display_name": "EpiStats",
   "language": "python",
   "name": "python3"
  },
  "language_info": {
   "codemirror_mode": {
    "name": "ipython",
    "version": 3
   },
   "file_extension": ".py",
   "mimetype": "text/x-python",
   "name": "python",
   "nbconvert_exporter": "python",
   "pygments_lexer": "ipython3",
   "version": "3.10.12"
  },
  "orig_nbformat": 4
 },
 "nbformat": 4,
 "nbformat_minor": 2
}
