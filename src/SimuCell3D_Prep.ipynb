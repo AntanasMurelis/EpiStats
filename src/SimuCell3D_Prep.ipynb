{
 "cells": [
  {
   "attachments": {},
   "cell_type": "markdown",
   "metadata": {},
   "source": [
    "### Mesh processing for SimuCell3D\n",
    "\n",
    "This notebook outlines how to generate a geometry for the SimuCell3D."
   ]
  },
  {
   "cell_type": "code",
   "execution_count": null,
   "metadata": {},
   "outputs": [],
   "source": [
    "import numpy as np\n",
    "\n",
    "voxel_resolution = np.array([0.21, 0.21, 0.39])\n",
    "label_path = 'path/to/labels.tif'\n",
    "output_folder='path/folder/to/save/processed/labels'"
   ]
  },
  {
   "attachments": {},
   "cell_type": "markdown",
   "metadata": {},
   "source": [
    "#### Cleaning the labels\n",
    "\n",
    "The labels generated from manual curation should be processesed before passing through the geometry generation. Strongly recommended step. Generates meshes which may be used for manual cell patch selection using paraview."
   ]
  },
  {
   "cell_type": "code",
   "execution_count": null,
   "metadata": {},
   "outputs": [],
   "source": [
    "from VoxelProcessing import full_label_processing\n",
    "import os\n",
    "\n",
    "output_folder = 'path/folder/to/save/processed/labels'\n",
    "cell_info = full_label_processing(labeled_img=label_path, voxel_resolution=voxel_resolution, output_folder=output_folder, smoothing_iterations=10)\n",
    "label_path = os.path.join(output_folder, \"processed_labels.npy\")\n",
    "filtered_cell_list = cell_info[2]"
   ]
  },
  {
   "attachments": {},
   "cell_type": "markdown",
   "metadata": {},
   "source": [
    "#### Select labels for Simulations\n",
    "\n",
    "To obtain labels for simulation one may use napari and select cells manually, or use meshes, and paraview. View how to use paraview [here](Tutorials/LabelSelection.md).\n",
    "\n",
    "You may want to isolate the cells that do not touch the border instead. To isolate these use the following script and use Paraview's extract functionality as outlined."
   ]
  },
  {
   "cell_type": "code",
   "execution_count": null,
   "metadata": {},
   "outputs": [],
   "source": [
    "from MeshPrep import isolate_filtered_cells\n",
    "\n",
    "mesh_path = \"path/to/mesh/folder\"\n",
    "isolated_mesh_path = \"path/to/mesh/folder/isolated\" # This is where the isolated meshes will be saved.\n",
    "\n",
    "# TODO: Get list of filtered cells from Federico's implementation of statistics if you have already ran the statistics algorithms.\n",
    "\n",
    "isolate_filtered_cells(mesh_path, isolated_mesh_path, filtered_cell_list)"
   ]
  },
  {
   "attachments": {},
   "cell_type": "markdown",
   "metadata": {},
   "source": [
    "#### Mesh Cleaning for SimuCell3D\n",
    "\n",
    "Produce meshes for SimuCell3D simulation framework. Ensure that the path to labels is of cleaned, processed labels. "
   ]
  },
  {
   "cell_type": "code",
   "execution_count": 1,
   "metadata": {},
   "outputs": [
    {
     "ename": "",
     "evalue": "",
     "output_type": "error",
     "traceback": [
      "\u001b[1;31mCannot execute code, session has been disposed. Please try restarting the Kernel."
     ]
    },
    {
     "ename": "",
     "evalue": "",
     "output_type": "error",
     "traceback": [
      "\u001b[1;31mThe Kernel crashed while executing code in the the current cell or a previous cell. Please review the code in the cell(s) to identify a possible cause of the failure. Click <a href='https://aka.ms/vscodeJupyterKernelCrash'>here</a> for more info. View Jupyter <a href='command:jupyter.viewOutput'>log</a> for further details."
     ]
    }
   ],
   "source": [
    "from MeshPrep import mesh_process_clean, string_to_array\n",
    "#string_to_array(\"110 127 136 140 141 151 162 170 177 180 188 201 202 223 231 236 243 244 251 257 280 331 96\")\n",
    "label_list = [111, 112, 114, 125, 126, 129, 134, 137, 139, 140, 143, 145, 152, 154, 167, 168, 169, 171, 172, 209, 88, 91] \n",
    "output_dir = '/Users/antanas/BC_Project/Experiment_20_condensed' # This is where the processed meshes will be saved.\n",
    "\n",
    "# Call the mesh_process_clean function\n",
    "mesh_process_clean(label_path=label_path, output_dir=output_dir, label_list=label_list, voxel_resolution=voxel_resolution, scale_factor=1e-6, make_shell=True)"
   ]
  },
  {
   "cell_type": "code",
   "execution_count": null,
   "metadata": {},
   "outputs": [],
   "source": []
  }
 ],
 "metadata": {
  "kernelspec": {
   "display_name": "EpiStats",
   "language": "python",
   "name": "python3"
  },
  "language_info": {
   "codemirror_mode": {
    "name": "ipython",
    "version": 3
   },
   "file_extension": ".py",
   "mimetype": "text/x-python",
   "name": "python",
   "nbconvert_exporter": "python",
   "pygments_lexer": "ipython3",
   "version": "3.9.0"
  },
  "orig_nbformat": 4
 },
 "nbformat": 4,
 "nbformat_minor": 2
}
