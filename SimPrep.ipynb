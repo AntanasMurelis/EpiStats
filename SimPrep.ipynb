{
 "cells": [
  {
   "attachments": {},
   "cell_type": "markdown",
   "metadata": {},
   "source": [
    "1st attempt: [530, 163, 110, 146, 594, 109, 138, 115, 157, 533, 94, 145, 155, 164, 200, 129, 179, 201, 241, 522]\n",
    "\n",
    "2nd attempt: [276, 394, 301, 595, 404, 311, 355, 404, 437, 394, 524, 357, 393, 374, 501, 237, 509, 356]"
   ]
  },
  {
   "cell_type": "code",
   "execution_count": null,
   "metadata": {},
   "outputs": [],
   "source": [
    "import numpy as np\n",
    "from skimage import io\n",
    "from SegmentationStatisticsCollector import convert_cell_labels_to_meshes, process_labels\n",
    "import trimesh as tm\n",
    "from skimage import io\n",
    "from napari_process_points_and_surfaces import label_to_surface\n",
    "import napari"
   ]
  },
  {
   "attachments": {},
   "cell_type": "markdown",
   "metadata": {},
   "source": [
    "### Preprocessing of labels:"
   ]
  },
  {
   "cell_type": "code",
   "execution_count": null,
   "metadata": {},
   "outputs": [],
   "source": [
    "img = io.imread(\"data/segmentation.tif\")\n",
    "img = np.einsum('kij->ijk', img)\n",
    "image = process_labels(img, dilation_iterations=2, erosion_iterations=4, output_directory='path/to/output/directory', overwrite = False)"
   ]
  },
  {
   "cell_type": "code",
   "execution_count": null,
   "metadata": {},
   "outputs": [],
   "source": [
    "cells = [530, 163, 110, 146, 594, 109, 138, 115, 157, 533, 94, 145, 155, 164, 200, 129, 178, 201, 241, 522]\n",
    "image_path = '/Users/antanas/BC_Project/Control_Segmentation_final/BC_control_s_5_e_2_d_5/processed_labels.npy'"
   ]
  },
  {
   "cell_type": "code",
   "execution_count": null,
   "metadata": {},
   "outputs": [],
   "source": [
    "def create_combined_mesh(cell_labels, image_path):\n",
    "    # Read the image\n",
    "    labels = np.load(image_path)\n",
    "    \n",
    "    # Initialize an empty mesh\n",
    "    combined_mesh = None\n",
    "    labels_list = []\n",
    "    for label in cell_labels:\n",
    "        # Create a boolean mask for the current label\n",
    "        mask = np.array(labels == label).astype(int)\n",
    "\n",
    "        # Create a mesh from the mask using trimesh\n",
    "        mesh = convert_cell_labels_to_meshes(mask, voxel_resolution=np.array([0.21, 0.21, 0.39]), smoothing_iterations=100)\n",
    "        labels_list.append(mesh)\n",
    "\n",
    "    # Make a combined mesh\n",
    "    big_mask = np.isin(labels, cell_labels)\n",
    "    big_mesh = convert_cell_labels_to_meshes(big_mask, voxel_resolution=np.array([0.21, 0.21, 0.39]), smoothing_iterations=100)\n",
    "    \n",
    "    return big_mesh, labels_list\n",
    "\n",
    "combined_mesh, labels_list = create_combined_mesh(cells, image_path)"
   ]
  },
  {
   "attachments": {},
   "cell_type": "markdown",
   "metadata": {},
   "source": [
    "### Visualise"
   ]
  },
  {
   "cell_type": "code",
   "execution_count": null,
   "metadata": {},
   "outputs": [],
   "source": [
    "vertices, faces = combined_mesh[0].vertices, combined_mesh[0].faces\n",
    "viewer = napari.Viewer()\n",
    "viewer.add_surface((vertices, faces), name=f'large_mesh')"
   ]
  },
  {
   "cell_type": "code",
   "execution_count": null,
   "metadata": {},
   "outputs": [],
   "source": [
    "for i, k in enumerate(cells):\n",
    "    vertices, faces = labels_list[i][0].vertices, labels_list[i][0].faces\n",
    "    viewer.add_surface((vertices, faces), name=f'mesh {k}')"
   ]
  },
  {
   "attachments": {},
   "cell_type": "markdown",
   "metadata": {},
   "source": [
    "### Export"
   ]
  },
  {
   "cell_type": "code",
   "execution_count": null,
   "metadata": {},
   "outputs": [],
   "source": [
    "for i, k in enumerate(cells):\n",
    "    labels_list[i][0].export(f'/Users/antanas/BC_Project/Simulation_Experiment_3/cell_{k-1}.stl')\n",
    "combined_mesh[0].export(f'/Users/antanas/BC_Project/Simulation_Experiment_3/large_mesh.stl')"
   ]
  },
  {
   "attachments": {},
   "cell_type": "markdown",
   "metadata": {},
   "source": [
    "### Reading in to visualise"
   ]
  },
  {
   "cell_type": "code",
   "execution_count": null,
   "metadata": {},
   "outputs": [],
   "source": [
    "path = '/Users/antanas/BC_Project/Simulation_Experiment_2'\n",
    "viewer_1 = napari.Viewer()\n",
    "\n",
    "for file in os.listdir('/Users/antanas/BC_Project/Simulation_Experiment_2'):\n",
    "    mesh = tm.load(os.path.join('/Users/antanas/BC_Project/Simulation_Experiment_2', file))\n",
    "    vertices, faces = mesh.vertices, mesh.faces\n",
    "    viewer_1.add_surface((vertices, faces), name=os.path.basename(file))"
   ]
  },
  {
   "cell_type": "code",
   "execution_count": null,
   "metadata": {},
   "outputs": [],
   "source": [
    "import numpy as np\n",
    "import trimesh as tm\n",
    "from skimage import io\n",
    "from napari_process_points_and_surfaces import label_to_surface\n",
    "\n",
    "path = '/Users/antanas/BC_Project/Control_Segmentation/276_mesh_sim.tif'\n",
    "labels = io.imread(path)\n",
    "mask = labels * (labels == 276)\n",
    "\n",
    "\n",
    "mesh_lst = convert_cell_labels_to_meshes(mask, voxel_resolution=np.array([0.21, 0.21, 0.39]), smoothing_iterations=10)\n",
    "\n",
    "# # Create a boolean array where True corresponds to the label 530\n",
    "# mask = labels * (labels == 530) == 530\n",
    "\n",
    "# # Create a mesh from the mask using trimesh\n",
    "# mesh = label_to_surface(mask)\n",
    "\n",
    "# print(mesh)\n",
    "\n"
   ]
  },
  {
   "cell_type": "code",
   "execution_count": null,
   "metadata": {},
   "outputs": [],
   "source": [
    "mesh_lst[0].export('276_mesh.stl')"
   ]
  },
  {
   "cell_type": "code",
   "execution_count": null,
   "metadata": {},
   "outputs": [],
   "source": [
    "import napari"
   ]
  },
  {
   "cell_type": "code",
   "execution_count": null,
   "metadata": {},
   "outputs": [],
   "source": [
    "viewer = napari.Viewer()\n",
    "viewer"
   ]
  },
  {
   "cell_type": "code",
   "execution_count": null,
   "metadata": {},
   "outputs": [],
   "source": [
    "cells = [530, 163, 110, 146, 594, 109, 138, 115, 157, 533, 94, 145, 155, 164, 200, 129, 179, 201, 241, 522]"
   ]
  },
  {
   "cell_type": "code",
   "execution_count": null,
   "metadata": {},
   "outputs": [],
   "source": [
    "import trimesh as tm\n",
    "mesh_list = []\n",
    "\n",
    "for i in cells:\n",
    "    mesh_list.append(tm.load_mesh(f'/Users/antanas/BC_Project/Control_Segmentation_final/BC_control_s_5_e_2_d_5/cell_meshes/cell_{i-1}.stl'))"
   ]
  },
  {
   "cell_type": "code",
   "execution_count": null,
   "metadata": {},
   "outputs": [],
   "source": [
    "viewer = napari.Viewer()\n",
    "for i, k in enumerate([276, 394, 301, 595, 404, 311, 355, 404, 437, 394, 524, 357, 393, 374, 501, 237, 509, 356]):\n",
    "    vertices, faces = mesh_list[i].vertices, mesh_list[i].faces\n",
    "    viewer.add_surface((vertices, faces), name=f'mesh {k}')"
   ]
  },
  {
   "cell_type": "code",
   "execution_count": null,
   "metadata": {},
   "outputs": [],
   "source": [
    "m178 = tm.load_mesh(f'/Users/antanas/BC_Project/Control_Segmentation_final/BC_control_s_5_e_2_d_5/cell_meshes/cell_{177}.stl')\n",
    "vertices, faces = m178.vertices, m178.faces\n",
    "viewer.add_surface((vertices, faces), name='mesh 178')"
   ]
  },
  {
   "cell_type": "code",
   "execution_count": null,
   "metadata": {},
   "outputs": [],
   "source": [
    "vertices, faces = mesh_lst[0].vertices, mesh_lst[0].faces\n",
    "viewer.add_surface((vertices, faces), name='Large Mesh')"
   ]
  },
  {
   "cell_type": "code",
   "execution_count": null,
   "metadata": {},
   "outputs": [],
   "source": [
    "for i, k in enumerate(cells):\n",
    "    mesh_list[i].export(f'/Users/antanas/BC_Project/Simulation_Experiment/cell_{k-1}.stl')\n",
    "mesh_lst[0].export(f'/Users/antanas/BC_Project/Simulation_Experiment/large_mesh.stl')"
   ]
  },
  {
   "cell_type": "code",
   "execution_count": null,
   "metadata": {},
   "outputs": [],
   "source": [
    "import os\n",
    "import napari \n",
    "\n",
    "path = '/Users/antanas/BC_Project/Simulation_Experiment_2'\n",
    "viewer_1 = napari.Viewer()\n",
    "\n",
    "for file in os.listdir('/Users/antanas/BC_Project/Simulation_Experiment_2'):\n",
    "    mesh = tm.load(os.path.join('/Users/antanas/BC_Project/Simulation_Experiment_2', file))\n",
    "    vertices, faces = mesh.vertices, mesh.faces\n",
    "    viewer_1.add_surface((vertices, faces), name=os.path.basename(file))"
   ]
  },
  {
   "cell_type": "code",
   "execution_count": null,
   "metadata": {},
   "outputs": [],
   "source": []
  }
 ],
 "metadata": {
  "kernelspec": {
   "display_name": "napari-env",
   "language": "python",
   "name": "python3"
  },
  "language_info": {
   "codemirror_mode": {
    "name": "ipython",
    "version": 3
   },
   "file_extension": ".py",
   "mimetype": "text/x-python",
   "name": "python",
   "nbconvert_exporter": "python",
   "pygments_lexer": "ipython3",
   "version": "3.9.0"
  },
  "orig_nbformat": 4
 },
 "nbformat": 4,
 "nbformat_minor": 2
}
