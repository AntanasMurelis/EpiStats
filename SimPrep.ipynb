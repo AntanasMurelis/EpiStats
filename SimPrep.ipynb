{
 "cells": [
  {
   "attachments": {},
   "cell_type": "markdown",
   "metadata": {},
   "source": [
    "1st attempt: [530, 163, 110, 146, 594, 109, 138, 115, 157, 533, 94, 145, 155, 164, 200, 129, 179, 201, 241, 522]\n",
    "\n",
    "2nd attempt: [276, 394, 301, 595, 404, 311, 355, 404, 437, 394, 524, 357, 393, 374, 501, 237, 509, 356]"
   ]
  },
  {
   "cell_type": "code",
   "execution_count": 10,
   "metadata": {},
   "outputs": [],
   "source": [
    "import numpy as np\n",
    "from skimage import io\n",
    "from SegmentationStatisticsCollector import convert_cell_labels_to_meshes, process_labels\n",
    "import trimesh as tm\n",
    "from skimage import io\n",
    "from napari_process_points_and_surfaces import label_to_surface\n",
    "import napari\n",
    "import os\n",
    "import tqdm"
   ]
  },
  {
   "attachments": {},
   "cell_type": "markdown",
   "metadata": {},
   "source": [
    "### Preprocessing of labels:"
   ]
  },
  {
   "cell_type": "code",
   "execution_count": 3,
   "metadata": {},
   "outputs": [
    {
     "name": "stderr",
     "output_type": "stream",
     "text": [
      "Removing unconnected regions: 100%|██████████| 140/140 [04:17<00:00,  1.84s/it]\n",
      "Extending labels: 100%|██████████| 134/134 [13:00<00:00,  5.83s/it]\n"
     ]
    }
   ],
   "source": [
    "path_to_dir = \"/nas/groups/iber/Users/Federico_Carrara/create_meshes/data/curated_labels_clean/\"\n",
    "image_name = \"lung_new_sample_b_curated_segmentation_central_crop_relabeled_filled.tif\"\n",
    "img_path = os.path.join(path_to_dir, image_name)\n",
    "\n",
    "save_dir = \"../3d_tissues_preprocessing_and_segmentation/meshes/lung_new_sample_b/meshes_v2/preprocessed_cells\"\n",
    "if not os.path.exists(save_dir):\n",
    "    os.makedirs(save_dir)\n",
    "\n",
    "img = io.imread(img_path)\n",
    "img = np.einsum('kij->ijk', img)\n",
    "image = process_labels(img, dilation_iterations=2, erosion_iterations=4, output_directory=save_dir, overwrite = False)"
   ]
  },
  {
   "attachments": {},
   "cell_type": "markdown",
   "metadata": {},
   "source": [
    "### Create Meshes"
   ]
  },
  {
   "cell_type": "code",
   "execution_count": 6,
   "metadata": {},
   "outputs": [
    {
     "data": {
      "text/plain": [
       "array([[False, False, False, False],\n",
       "       [False,  True,  True,  True],\n",
       "       [ True,  True, False, False]])"
      ]
     },
     "execution_count": 6,
     "metadata": {},
     "output_type": "execute_result"
    }
   ],
   "source": [
    "aaa = np.array([[0,0,0,0], [0,1,1,2], [2,1,3,0]])\n",
    "np.array(aaa == 1).astype(int)\n",
    "\n",
    "np.isin(aaa, [1,2])"
   ]
  },
  {
   "cell_type": "code",
   "execution_count": 11,
   "metadata": {},
   "outputs": [],
   "source": [
    "def create_combined_mesh(\n",
    "        cell_labels, \n",
    "        labels_path, \n",
    "        make_meshes=True, \n",
    "        make_combined=True, \n",
    "        smoothing_iters=10,\n",
    "        voxel_size=(0.21, 0.21, 0.39)):\n",
    "    \"\"\"\n",
    "    Function to convert a preprocessed array of cell labels into meshes.\n",
    "\n",
    "    args:\n",
    "        cell_labels: an iterable containing the ids of the cells to be meshed, or \"all\" if all the labels \n",
    "        in the array need to be converted.\n",
    "        labels_path: path to the array.\n",
    "        make_meshes: a boolean telling if the meshes for the single cells are required.\n",
    "        make_combined: a boolean telling if the combined mesh of cell_labels is required.\n",
    "        smoothing_iters: an int representing the number of smoothing iterations to be done when creating the mesh.\n",
    "        voxel_size: an iterable of len (3,) containing the voxel size in (x, y, z) ordering.\n",
    "\n",
    "    returns:\n",
    "        meshes: a list whose elements are the meshes associated to each label.\n",
    "        combined_mesh: the mesh associated to the combined labels.\n",
    "        cell_labels: a list containing the indexes of the processed labels. \n",
    "    \"\"\"\n",
    "    \n",
    "    # Read the image\n",
    "    labels = np.load(labels_path)\n",
    "\n",
    "    # Set list of label ids\n",
    "    if cell_labels == \"all\":\n",
    "        cell_labels = np.unique(labels)\n",
    "\n",
    "    # Make a combined mask for all the labels in cell_labels\n",
    "    combined_mask = np.isin(labels, cell_labels).astype(int)\n",
    "    filtered_labels = labels * combined_mask\n",
    "    \n",
    "    # Create meshese from the filtered_labels array using trimesh\n",
    "    meshes = None\n",
    "    if make_meshes:\n",
    "        meshes = convert_cell_labels_to_meshes(filtered_labels, \n",
    "                                               voxel_resolution=voxel_size, \n",
    "                                               smoothing_iterations=smoothing_iters)\n",
    "    \n",
    "    # Get the combined mesh from combined_mask array\n",
    "    combined_mesh = None\n",
    "    if make_combined:\n",
    "        combined_mesh = convert_cell_labels_to_meshes(combined_mask, \n",
    "                                                      voxel_resolution=voxel_size, \n",
    "                                                      smoothing_iterations=smoothing_iters)\n",
    "    \n",
    "    return meshes, combined_mesh, cell_labels"
   ]
  },
  {
   "cell_type": "code",
   "execution_count": 13,
   "metadata": {},
   "outputs": [],
   "source": [
    "# cells = [530, 163, 110, 146, 594, 109, 138, 115, 157, 533, 94, 145, 155, 164, 200, 129, 178, 201, 241, 522]\n",
    "image_path = '../meshes_for_simulation/lung_new_sample_b/preprocessed_cells/processed_labels_d2_e4.npy'\n",
    "\n",
    "combined_mesh, labels_list = create_combined_mesh([1,5,10], image_path, True, False)"
   ]
  },
  {
   "attachments": {},
   "cell_type": "markdown",
   "metadata": {},
   "source": [
    "### Visualise"
   ]
  },
  {
   "cell_type": "code",
   "execution_count": null,
   "metadata": {},
   "outputs": [],
   "source": [
    "vertices, faces = combined_mesh[0].vertices, combined_mesh[0].faces\n",
    "viewer = napari.Viewer()\n",
    "viewer.add_surface((vertices, faces), name=f'large_mesh')"
   ]
  },
  {
   "cell_type": "code",
   "execution_count": null,
   "metadata": {},
   "outputs": [],
   "source": [
    "for i, k in enumerate(cells):\n",
    "    vertices, faces = labels_list[i][0].vertices, labels_list[i][0].faces\n",
    "    viewer.add_surface((vertices, faces), name=f'mesh {k}')"
   ]
  },
  {
   "attachments": {},
   "cell_type": "markdown",
   "metadata": {},
   "source": [
    "### Export"
   ]
  },
  {
   "cell_type": "code",
   "execution_count": null,
   "metadata": {},
   "outputs": [],
   "source": [
    "for i, k in enumerate(cells):\n",
    "    labels_list[i][0].export(f'/Users/antanas/BC_Project/Simulation_Experiment_3/cell_{k-1}.stl')\n",
    "combined_mesh[0].export(f'/Users/antanas/BC_Project/Simulation_Experiment_3/large_mesh.stl')"
   ]
  },
  {
   "attachments": {},
   "cell_type": "markdown",
   "metadata": {},
   "source": [
    "### Reading in to visualise"
   ]
  },
  {
   "cell_type": "code",
   "execution_count": null,
   "metadata": {},
   "outputs": [],
   "source": [
    "path = '/Users/antanas/BC_Project/Simulation_Experiment_2'\n",
    "viewer_1 = napari.Viewer()\n",
    "\n",
    "for file in os.listdir('/Users/antanas/BC_Project/Simulation_Experiment_2'):\n",
    "    mesh = tm.load(os.path.join('/Users/antanas/BC_Project/Simulation_Experiment_2', file))\n",
    "    vertices, faces = mesh.vertices, mesh.faces\n",
    "    viewer_1.add_surface((vertices, faces), name=os.path.basename(file))"
   ]
  },
  {
   "cell_type": "code",
   "execution_count": null,
   "metadata": {},
   "outputs": [],
   "source": [
    "import numpy as np\n",
    "import trimesh as tm\n",
    "from skimage import io\n",
    "from napari_process_points_and_surfaces import label_to_surface\n",
    "\n",
    "path = '/Users/antanas/BC_Project/Control_Segmentation/276_mesh_sim.tif'\n",
    "labels = io.imread(path)\n",
    "mask = labels * (labels == 276)\n",
    "\n",
    "\n",
    "mesh_lst = convert_cell_labels_to_meshes(mask, voxel_resolution=np.array([0.21, 0.21, 0.39]), smoothing_iterations=10)\n",
    "\n",
    "# # Create a boolean array where True corresponds to the label 530\n",
    "# mask = labels * (labels == 530) == 530\n",
    "\n",
    "# # Create a mesh from the mask using trimesh\n",
    "# mesh = label_to_surface(mask)\n",
    "\n",
    "# print(mesh)\n",
    "\n"
   ]
  },
  {
   "cell_type": "code",
   "execution_count": null,
   "metadata": {},
   "outputs": [],
   "source": [
    "mesh_lst[0].export('276_mesh.stl')"
   ]
  },
  {
   "cell_type": "code",
   "execution_count": null,
   "metadata": {},
   "outputs": [],
   "source": [
    "import napari"
   ]
  },
  {
   "cell_type": "code",
   "execution_count": null,
   "metadata": {},
   "outputs": [],
   "source": [
    "viewer = napari.Viewer()\n",
    "viewer"
   ]
  },
  {
   "cell_type": "code",
   "execution_count": null,
   "metadata": {},
   "outputs": [],
   "source": [
    "cells = [530, 163, 110, 146, 594, 109, 138, 115, 157, 533, 94, 145, 155, 164, 200, 129, 179, 201, 241, 522]"
   ]
  },
  {
   "cell_type": "code",
   "execution_count": null,
   "metadata": {},
   "outputs": [],
   "source": [
    "import trimesh as tm\n",
    "mesh_list = []\n",
    "\n",
    "for i in cells:\n",
    "    mesh_list.append(tm.load_mesh(f'/Users/antanas/BC_Project/Control_Segmentation_final/BC_control_s_5_e_2_d_5/cell_meshes/cell_{i-1}.stl'))"
   ]
  },
  {
   "cell_type": "code",
   "execution_count": null,
   "metadata": {},
   "outputs": [],
   "source": [
    "viewer = napari.Viewer()\n",
    "for i, k in enumerate([276, 394, 301, 595, 404, 311, 355, 404, 437, 394, 524, 357, 393, 374, 501, 237, 509, 356]):\n",
    "    vertices, faces = mesh_list[i].vertices, mesh_list[i].faces\n",
    "    viewer.add_surface((vertices, faces), name=f'mesh {k}')"
   ]
  },
  {
   "cell_type": "code",
   "execution_count": null,
   "metadata": {},
   "outputs": [],
   "source": [
    "m178 = tm.load_mesh(f'/Users/antanas/BC_Project/Control_Segmentation_final/BC_control_s_5_e_2_d_5/cell_meshes/cell_{177}.stl')\n",
    "vertices, faces = m178.vertices, m178.faces\n",
    "viewer.add_surface((vertices, faces), name='mesh 178')"
   ]
  },
  {
   "cell_type": "code",
   "execution_count": null,
   "metadata": {},
   "outputs": [],
   "source": [
    "vertices, faces = mesh_lst[0].vertices, mesh_lst[0].faces\n",
    "viewer.add_surface((vertices, faces), name='Large Mesh')"
   ]
  },
  {
   "cell_type": "code",
   "execution_count": null,
   "metadata": {},
   "outputs": [],
   "source": [
    "for i, k in enumerate(cells):\n",
    "    mesh_list[i].export(f'/Users/antanas/BC_Project/Simulation_Experiment/cell_{k-1}.stl')\n",
    "mesh_lst[0].export(f'/Users/antanas/BC_Project/Simulation_Experiment/large_mesh.stl')"
   ]
  },
  {
   "cell_type": "code",
   "execution_count": null,
   "metadata": {},
   "outputs": [],
   "source": [
    "import os\n",
    "import napari \n",
    "\n",
    "path = '/Users/antanas/BC_Project/Simulation_Experiment_2'\n",
    "viewer_1 = napari.Viewer()\n",
    "\n",
    "for file in os.listdir('/Users/antanas/BC_Project/Simulation_Experiment_2'):\n",
    "    mesh = tm.load(os.path.join('/Users/antanas/BC_Project/Simulation_Experiment_2', file))\n",
    "    vertices, faces = mesh.vertices, mesh.faces\n",
    "    viewer_1.add_surface((vertices, faces), name=os.path.basename(file))"
   ]
  },
  {
   "cell_type": "code",
   "execution_count": null,
   "metadata": {},
   "outputs": [],
   "source": []
  }
 ],
 "metadata": {
  "kernelspec": {
   "display_name": "napari-env",
   "language": "python",
   "name": "python3"
  },
  "language_info": {
   "codemirror_mode": {
    "name": "ipython",
    "version": 3
   },
   "file_extension": ".py",
   "mimetype": "text/x-python",
   "name": "python",
   "nbconvert_exporter": "python",
   "pygments_lexer": "ipython3",
   "version": "3.10.10"
  },
  "orig_nbformat": 4
 },
 "nbformat": 4,
 "nbformat_minor": 2
}
