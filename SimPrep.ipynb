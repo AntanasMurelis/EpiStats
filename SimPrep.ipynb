{
 "cells": [
  {
   "attachments": {},
   "cell_type": "markdown",
   "metadata": {},
   "source": [
    "1st attempt: [530, 163, 110, 146, 594, 109, 138, 115, 157, 533, 94, 145, 155, 164, 200, 129, 179, 201, 241, 522]\n",
    "\n",
    "2nd attempt: [276, 394, 301, 595, 404, 311, 355, 404, 437, 394, 524, 357, 393, 374, 501, 237, 509, 356]"
   ]
  },
  {
   "cell_type": "code",
   "execution_count": 109,
   "metadata": {},
   "outputs": [],
   "source": [
    "import numpy as np\n",
    "from skimage import io\n",
    "from SegmentationStatisticsCollector import convert_cell_labels_to_meshes, process_labels\n",
    "import trimesh as tm\n",
    "from skimage import io\n",
    "from napari_process_points_and_surfaces import label_to_surface\n",
    "import napari\n",
    "import os\n",
    "from tqdm import tqdm\n",
    "\n",
    "from convert_to_cell_mesh import get_polydata_from_file, get_cell_ids, separate_cell_points_and_faces, write_unstructured_grid\n",
    "\n",
    "%reload_ext autoreload\n",
    "%autoreload 2"
   ]
  },
  {
   "attachments": {},
   "cell_type": "markdown",
   "metadata": {},
   "source": [
    "### Preprocessing of labels:"
   ]
  },
  {
   "cell_type": "code",
   "execution_count": 111,
   "metadata": {},
   "outputs": [
    {
     "name": "stderr",
     "output_type": "stream",
     "text": [
      "Removing unconnected regions: 100%|██████████| 140/140 [04:06<00:00,  1.76s/it]\n",
      "Extending labels: 100%|██████████| 134/134 [10:54<00:00,  4.88s/it]\n"
     ]
    }
   ],
   "source": [
    "path_to_dir = \"/nas/groups/iber/Users/Federico_Carrara/create_meshes/data/curated_labels_clean/\"\n",
    "image_name = \"lung_new_sample_b_curated_segmentation_central_crop_relabeled_filled.tif\"\n",
    "img_path = os.path.join(path_to_dir, image_name)\n",
    "\n",
    "save_dir = \"../3d_tissues_preprocessing_and_segmentation/meshes/lung_new_sample_b/meshes_v2/preprocessed_cells\"\n",
    "if not os.path.exists(save_dir):\n",
    "    os.makedirs(save_dir)\n",
    "\n",
    "img = io.imread(img_path)\n",
    "img = np.einsum('kij->ijk', img)\n",
    "image = process_labels(img, \n",
    "                       dilation_iterations=2, \n",
    "                       erosion_iterations=4, \n",
    "                       output_directory=save_dir, \n",
    "                       overwrite=False, \n",
    "                       renumber=False)"
   ]
  },
  {
   "attachments": {},
   "cell_type": "markdown",
   "metadata": {},
   "source": [
    "### Create Meshes"
   ]
  },
  {
   "cell_type": "code",
   "execution_count": 92,
   "metadata": {},
   "outputs": [],
   "source": [
    "def create_combined_mesh(\n",
    "        cell_labels, \n",
    "        labels_path, \n",
    "        make_meshes=True, \n",
    "        make_combined=True, \n",
    "        smoothing_iters=10,\n",
    "        voxel_size=(0.21, 0.21, 0.39)):\n",
    "    \"\"\"\n",
    "    Function to convert a preprocessed array of cell labels into meshes.\n",
    "\n",
    "    args:\n",
    "        cell_labels: an iterable containing the ids of the cells to be meshed, or \"all\" if all the labels \n",
    "        in the array need to be converted.\n",
    "        labels_path: path to the array.\n",
    "        make_meshes: a boolean telling if the meshes for the single cells are required.\n",
    "        make_combined: a boolean telling if the combined mesh of cell_labels is required.\n",
    "        smoothing_iters: an int representing the number of smoothing iterations to be done when creating the mesh.\n",
    "        voxel_size: an iterable of len (3,) containing the voxel size in microns in (x, y, z) ordering.\n",
    "\n",
    "    returns:\n",
    "        meshes: a list whose elements are the meshes associated to each label.\n",
    "        combined_mesh: the mesh associated to the combined labels.\n",
    "        cell_labels: a list containing the indexes of the processed labels. \n",
    "    \"\"\"\n",
    "    \n",
    "    # Read the image\n",
    "    print(\"Loading labels...\")\n",
    "    labels = np.load(labels_path)\n",
    "\n",
    "    # Set list of label ids\n",
    "    print(\"Setting up things for conversion...\")\n",
    "    if cell_labels == \"all\":\n",
    "        cell_labels = np.unique(labels)\n",
    "\n",
    "    # Make a combined mask for all the labels in cell_labels\n",
    "    combined_mask = np.isin(labels, cell_labels).astype(int)\n",
    "    filtered_labels = labels * combined_mask\n",
    "\n",
    "    # Transform voxel size in meters and convert to np.array\n",
    "    voxel_size = [x*1e-6 for x in voxel_size]\n",
    "    voxel_size = np.array(voxel_size)\n",
    "    \n",
    "    # Create meshese from the filtered_labels array using trimesh\n",
    "    meshes = None\n",
    "    if make_meshes:\n",
    "        print(\"Converting single cells into meshes...\")\n",
    "        meshes = convert_cell_labels_to_meshes(filtered_labels, \n",
    "                                               voxel_resolution=voxel_size, \n",
    "                                               smoothing_iterations=smoothing_iters)\n",
    "    \n",
    "    # Get the combined mesh from combined_mask array\n",
    "    combined_mesh = None\n",
    "    if make_combined:\n",
    "        print(\"Converting combined cells into meshes...\")\n",
    "        combined_mesh = convert_cell_labels_to_meshes(combined_mask, \n",
    "                                                      voxel_resolution=voxel_size, \n",
    "                                                      smoothing_iterations=smoothing_iters)\n",
    "    \n",
    "    return meshes, combined_mesh, cell_labels"
   ]
  },
  {
   "cell_type": "code",
   "execution_count": 102,
   "metadata": {},
   "outputs": [
    {
     "name": "stdout",
     "output_type": "stream",
     "text": [
      "Loading labels...\n",
      "Setting up things for conversion...\n",
      "Converting single cells into meshes...\n"
     ]
    },
    {
     "name": "stderr",
     "output_type": "stream",
     "text": [
      "Converting labels to meshes: 100%|██████████| 134/134 [12:27<00:00,  5.58s/it]\n"
     ]
    }
   ],
   "source": [
    "# cells = [530, 163, 110, 146, 594, 109, 138, 115, 157, 533, 94, 145, 155, 164, 200, 129, 178, 201, 241, 522]\n",
    "image_path = '../meshes_for_simulation/lung_new_sample_b/preprocessed_cells/processed_labels_d2_e4.npy'\n",
    "\n",
    "meshes, combined_mesh, labels_list = create_combined_mesh(\n",
    "    cell_labels=\"all\", \n",
    "    labels_path=image_path,\n",
    "    make_meshes=True, \n",
    "    make_combined=False, \n",
    "    smoothing_iters=100,\n",
    "    voxel_size=(0.1625, 0.1625, 0.25))"
   ]
  },
  {
   "cell_type": "code",
   "execution_count": 112,
   "metadata": {},
   "outputs": [
    {
     "name": "stdout",
     "output_type": "stream",
     "text": [
      "Loading labels...\n",
      "Setting up things for conversion...\n",
      "Converting single cells into meshes...\n"
     ]
    },
    {
     "name": "stderr",
     "output_type": "stream",
     "text": [
      "Converting labels to meshes: 100%|██████████| 19/19 [01:29<00:00,  4.69s/it]\n"
     ]
    },
    {
     "name": "stdout",
     "output_type": "stream",
     "text": [
      "Converting combined cells into meshes...\n"
     ]
    },
    {
     "name": "stderr",
     "output_type": "stream",
     "text": [
      "Converting labels to meshes: 100%|██████████| 2/2 [00:48<00:00, 24.01s/it]\n"
     ]
    }
   ],
   "source": [
    "cells_ids = [2, 7, 22, 24, 29, 31, 35, 40, 45, 46, 48, 51, 65, 80, 120, 121, 122, 124]\n",
    "meshes, combined_mesh, labels_list = create_combined_mesh(\n",
    "    cell_labels=cells_ids, \n",
    "    labels_path=image_path,\n",
    "    make_meshes=True, \n",
    "    make_combined=True, \n",
    "    smoothing_iters=100,\n",
    "    voxel_size=(0.1625, 0.1625, 0.25))"
   ]
  },
  {
   "attachments": {},
   "cell_type": "markdown",
   "metadata": {},
   "source": [
    "### Convert in .vtk format"
   ]
  },
  {
   "cell_type": "code",
   "execution_count": 83,
   "metadata": {},
   "outputs": [],
   "source": [
    "# First export the meshes obtained so far into .stl format\n",
    "def export_mesh(mesh, id, save_dir, file_type, overwrite=False) -> None:\n",
    "    \"\"\"\n",
    "    Function to export meshes into .stl, .ply or .obj format\n",
    "\n",
    "    args:\n",
    "        mesh: the trimesh object to export\n",
    "        label: either an int corresponding to the cell label, or \"combined\" if the combined mesh needs \n",
    "        to be saved\n",
    "        save_dir: path to the location in which the mesh object will be exported. Single meshes will\n",
    "        be saved in 'save_dir/single_cells', while combined ones in 'save_dir/combined'.\n",
    "        file_type: the format of the file to be saved, chosen from [.ply, .stl, .obj]\n",
    "    \"\"\"\n",
    "    # check that the file_type is among the allowed ones\n",
    "    if file_type not in [\".stl\", \".ply\", \".obj\"]:\n",
    "        raise ValueError(\"file_type is not correct. It must be among [.stl, .ply, .obj].\")\n",
    "\n",
    "\n",
    "    if id == \"combined\":\n",
    "        # set the saving dir\n",
    "        combined_save_dir = os.path.join(save_dir, \"combined\")\n",
    "        if not os.path.exists(combined_save_dir):\n",
    "            os.makedirs(combined_save_dir)       \n",
    "        # save the mesh\n",
    "        file_name = 'combined_cell' + file_type\n",
    "        # check if the file already exists and if the user wants to overwrite\n",
    "        if os.path.exists(os.path.join(combined_save_dir, file_name)) and not overwrite:\n",
    "            print('Aborting export: The file already exists, and overwrite is set to False.')\n",
    "            return\n",
    "        else:\n",
    "            mesh.export(os.path.join(combined_save_dir, file_name))\n",
    "    elif isinstance(id, (int, np.int32, np.int64)):\n",
    "        # set the saving dir\n",
    "        single_cells_save_dir = os.path.join(save_dir, \"single_cells\")\n",
    "        if not os.path.exists(single_cells_save_dir):\n",
    "            os.makedirs(single_cells_save_dir)\n",
    "        # save the mesh\n",
    "        file_name = 'cell_{}'.format(id) + file_type\n",
    "        if os.path.exists(os.path.join(single_cells_save_dir, file_name)) and not overwrite:\n",
    "            print('Aborting export: the file already exists, and overwrite is set to False.')\n",
    "            return\n",
    "        else:\n",
    "            mesh.export(os.path.join(single_cells_save_dir, file_name))\n",
    "    else:\n",
    "        raise ValueError(\"id must be either an int, np.int32, np.int64, or the string \"\"combined\"\".\")"
   ]
  },
  {
   "cell_type": "code",
   "execution_count": 55,
   "metadata": {},
   "outputs": [],
   "source": [
    "# export_mesh(\n",
    "#     mesh=combined_mesh,\n",
    "#     id=\"combined\",\n",
    "#     save_dir='./try',\n",
    "#     file_type='.obj',\n",
    "#     overwrite=True\n",
    "# )"
   ]
  },
  {
   "cell_type": "code",
   "execution_count": 74,
   "metadata": {},
   "outputs": [],
   "source": [
    "# labels_list=np.arange(len(meshes))"
   ]
  },
  {
   "cell_type": "code",
   "execution_count": 114,
   "metadata": {},
   "outputs": [
    {
     "name": "stderr",
     "output_type": "stream",
     "text": [
      "Exporting meshes: 100%|██████████| 18/18 [00:00<00:00, 21.28it/s]\n"
     ]
    }
   ],
   "source": [
    "for mesh, id in tqdm(zip(meshes, labels_list), \n",
    "                     desc=\"Exporting meshes: \", \n",
    "                     total=len(labels_list)):\n",
    "    export_mesh(\n",
    "        mesh=mesh,\n",
    "        id=id,\n",
    "        save_dir='./try/stl_files',\n",
    "        file_type='.stl',\n",
    "        overwrite=True\n",
    "    )\n",
    "combined_mesh = combined_mesh[0]\n",
    "export_mesh(\n",
    "    mesh=combined_mesh,\n",
    "    id=\"combined\",\n",
    "    save_dir='./try/stl_files',\n",
    "    file_type='.stl',\n",
    "    overwrite=True\n",
    ")"
   ]
  },
  {
   "cell_type": "code",
   "execution_count": 127,
   "metadata": {},
   "outputs": [],
   "source": [
    "def convert_to_vtk(\n",
    "    file_path, \n",
    "    output_dir\n",
    "):\n",
    "    \"\"\"\n",
    "    Function to convert a mesh object from .stl, .ply or .obj to .vtk\n",
    "\n",
    "    args\n",
    "        file_path: the path to the mesh file to convert\n",
    "        output_dir: the path to the directory to save the converted mesh\n",
    "    \"\"\"\n",
    "    #Read the mesh\n",
    "    polydata = get_polydata_from_file(file_path)\n",
    "    # print(polydata)\n",
    "\n",
    "    #Set the output file name\n",
    "    file_name = os.path.basename(file_path)\n",
    "    file_extension = file_path[-4:]\n",
    "    output_file_name = file_name.replace(file_extension, \".vtk\")\n",
    "    if not os.path.exists(output_dir):\n",
    "        os.makedirs(output_dir)\n",
    "    output_path = os.path.join(output_dir, output_file_name)\n",
    "\n",
    "    #Get the cell to which each face belongs\n",
    "    face_cell_id, point_cell_id = get_cell_ids(polydata)\n",
    "    # print(face_cell_id, point_cell_id)\n",
    "\n",
    "    #Separate the faces and points of each cell\n",
    "    face_dic, point_dic = separate_cell_points_and_faces(polydata, face_cell_id, point_cell_id)\n",
    "    # print(face_dic, point_dic)\n",
    "\n",
    "    #Get the cells unstructured grids\n",
    "    write_unstructured_grid(polydata, face_dic, point_dic, output_path)"
   ]
  },
  {
   "cell_type": "code",
   "execution_count": 128,
   "metadata": {},
   "outputs": [
    {
     "name": "stderr",
     "output_type": "stream",
     "text": [
      "100%|██████████| 18/18 [00:05<00:00,  3.29it/s]\n"
     ]
    }
   ],
   "source": [
    "out_dir = \"./try/vtk_files/\"\n",
    "# convert_to_vtk(\"try/combined/combined_cell.stl\", os.path.join(out_dir, \"combined\"))\n",
    "\n",
    "file_paths = os.listdir('./try/stl_files/single_cells')\n",
    "for fp in tqdm(file_paths):\n",
    "    convert_to_vtk(os.path.join('./try/stl_files/single_cells', fp),\n",
    "                   os.path.join(out_dir, \"single_cells\"))"
   ]
  },
  {
   "attachments": {},
   "cell_type": "markdown",
   "metadata": {},
   "source": [
    "### Visualise"
   ]
  },
  {
   "cell_type": "code",
   "execution_count": null,
   "metadata": {},
   "outputs": [],
   "source": [
    "vertices, faces = combined_mesh[0].vertices, combined_mesh[0].faces\n",
    "viewer = napari.Viewer()\n",
    "viewer.add_surface((vertices, faces), name=f'large_mesh')"
   ]
  },
  {
   "cell_type": "code",
   "execution_count": null,
   "metadata": {},
   "outputs": [],
   "source": [
    "for i, k in enumerate(cells):\n",
    "    vertices, faces = labels_list[i][0].vertices, labels_list[i][0].faces\n",
    "    viewer.add_surface((vertices, faces), name=f'mesh {k}')"
   ]
  },
  {
   "attachments": {},
   "cell_type": "markdown",
   "metadata": {},
   "source": [
    "### Export"
   ]
  },
  {
   "cell_type": "code",
   "execution_count": null,
   "metadata": {},
   "outputs": [],
   "source": [
    "for i, k in enumerate(cells):\n",
    "    labels_list[i][0].export(f'/Users/antanas/BC_Project/Simulation_Experiment_3/cell_{k-1}.stl')\n",
    "combined_mesh[0].export(f'/Users/antanas/BC_Project/Simulation_Experiment_3/large_mesh.stl')"
   ]
  },
  {
   "attachments": {},
   "cell_type": "markdown",
   "metadata": {},
   "source": [
    "### Reading in to visualise"
   ]
  },
  {
   "cell_type": "code",
   "execution_count": null,
   "metadata": {},
   "outputs": [],
   "source": [
    "path = '/Users/antanas/BC_Project/Simulation_Experiment_2'\n",
    "viewer_1 = napari.Viewer()\n",
    "\n",
    "for file in os.listdir('/Users/antanas/BC_Project/Simulation_Experiment_2'):\n",
    "    mesh = tm.load(os.path.join('/Users/antanas/BC_Project/Simulation_Experiment_2', file))\n",
    "    vertices, faces = mesh.vertices, mesh.faces\n",
    "    viewer_1.add_surface((vertices, faces), name=os.path.basename(file))"
   ]
  },
  {
   "cell_type": "code",
   "execution_count": null,
   "metadata": {},
   "outputs": [],
   "source": [
    "import numpy as np\n",
    "import trimesh as tm\n",
    "from skimage import io\n",
    "from napari_process_points_and_surfaces import label_to_surface\n",
    "\n",
    "path = '/Users/antanas/BC_Project/Control_Segmentation/276_mesh_sim.tif'\n",
    "labels = io.imread(path)\n",
    "mask = labels * (labels == 276)\n",
    "\n",
    "\n",
    "mesh_lst = convert_cell_labels_to_meshes(mask, voxel_resolution=np.array([0.21, 0.21, 0.39]), smoothing_iterations=10)\n",
    "\n",
    "# # Create a boolean array where True corresponds to the label 530\n",
    "# mask = labels * (labels == 530) == 530\n",
    "\n",
    "# # Create a mesh from the mask using trimesh\n",
    "# mesh = label_to_surface(mask)\n",
    "\n",
    "# print(mesh)\n",
    "\n"
   ]
  },
  {
   "cell_type": "code",
   "execution_count": null,
   "metadata": {},
   "outputs": [],
   "source": [
    "mesh_lst[0].export('276_mesh.stl')"
   ]
  },
  {
   "cell_type": "code",
   "execution_count": null,
   "metadata": {},
   "outputs": [],
   "source": [
    "import napari"
   ]
  },
  {
   "cell_type": "code",
   "execution_count": null,
   "metadata": {},
   "outputs": [],
   "source": [
    "viewer = napari.Viewer()\n",
    "viewer"
   ]
  },
  {
   "cell_type": "code",
   "execution_count": null,
   "metadata": {},
   "outputs": [],
   "source": [
    "cells = [530, 163, 110, 146, 594, 109, 138, 115, 157, 533, 94, 145, 155, 164, 200, 129, 179, 201, 241, 522]"
   ]
  },
  {
   "cell_type": "code",
   "execution_count": null,
   "metadata": {},
   "outputs": [],
   "source": [
    "import trimesh as tm\n",
    "mesh_list = []\n",
    "\n",
    "for i in cells:\n",
    "    mesh_list.append(tm.load_mesh(f'/Users/antanas/BC_Project/Control_Segmentation_final/BC_control_s_5_e_2_d_5/cell_meshes/cell_{i-1}.stl'))"
   ]
  },
  {
   "cell_type": "code",
   "execution_count": null,
   "metadata": {},
   "outputs": [],
   "source": [
    "viewer = napari.Viewer()\n",
    "for i, k in enumerate([276, 394, 301, 595, 404, 311, 355, 404, 437, 394, 524, 357, 393, 374, 501, 237, 509, 356]):\n",
    "    vertices, faces = mesh_list[i].vertices, mesh_list[i].faces\n",
    "    viewer.add_surface((vertices, faces), name=f'mesh {k}')"
   ]
  },
  {
   "cell_type": "code",
   "execution_count": null,
   "metadata": {},
   "outputs": [],
   "source": [
    "m178 = tm.load_mesh(f'/Users/antanas/BC_Project/Control_Segmentation_final/BC_control_s_5_e_2_d_5/cell_meshes/cell_{177}.stl')\n",
    "vertices, faces = m178.vertices, m178.faces\n",
    "viewer.add_surface((vertices, faces), name='mesh 178')"
   ]
  },
  {
   "cell_type": "code",
   "execution_count": null,
   "metadata": {},
   "outputs": [],
   "source": [
    "vertices, faces = mesh_lst[0].vertices, mesh_lst[0].faces\n",
    "viewer.add_surface((vertices, faces), name='Large Mesh')"
   ]
  },
  {
   "cell_type": "code",
   "execution_count": null,
   "metadata": {},
   "outputs": [],
   "source": [
    "for i, k in enumerate(cells):\n",
    "    mesh_list[i].export(f'/Users/antanas/BC_Project/Simulation_Experiment/cell_{k-1}.stl')\n",
    "mesh_lst[0].export(f'/Users/antanas/BC_Project/Simulation_Experiment/large_mesh.stl')"
   ]
  },
  {
   "cell_type": "code",
   "execution_count": null,
   "metadata": {},
   "outputs": [],
   "source": [
    "import os\n",
    "import napari \n",
    "\n",
    "path = '/Users/antanas/BC_Project/Simulation_Experiment_2'\n",
    "viewer_1 = napari.Viewer()\n",
    "\n",
    "for file in os.listdir('/Users/antanas/BC_Project/Simulation_Experiment_2'):\n",
    "    mesh = tm.load(os.path.join('/Users/antanas/BC_Project/Simulation_Experiment_2', file))\n",
    "    vertices, faces = mesh.vertices, mesh.faces\n",
    "    viewer_1.add_surface((vertices, faces), name=os.path.basename(file))"
   ]
  },
  {
   "cell_type": "code",
   "execution_count": null,
   "metadata": {},
   "outputs": [],
   "source": []
  }
 ],
 "metadata": {
  "kernelspec": {
   "display_name": "napari-env",
   "language": "python",
   "name": "python3"
  },
  "language_info": {
   "codemirror_mode": {
    "name": "ipython",
    "version": 3
   },
   "file_extension": ".py",
   "mimetype": "text/x-python",
   "name": "python",
   "nbconvert_exporter": "python",
   "pygments_lexer": "ipython3",
   "version": "3.10.10"
  },
  "orig_nbformat": 4
 },
 "nbformat": 4,
 "nbformat_minor": 2
}
