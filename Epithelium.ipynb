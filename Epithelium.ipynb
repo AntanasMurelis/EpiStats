{
 "cells": [
  {
   "cell_type": "code",
   "execution_count": 1,
   "metadata": {},
   "outputs": [],
   "source": [
    "from EpiStats import obtain_statistics\n",
    "import numpy as np\n",
    "import napari\n",
    "from PIL import Image as im\n",
    "import pandas as pd\n",
    "import pyclesperanto_prototype as cle\n",
    "import skimage\n",
    "from misc import cube_filter, add_padding\n",
    "import matplotlib.pyplot as plt\n",
    "from PIL import Image"
   ]
  },
  {
   "cell_type": "code",
   "execution_count": 2,
   "metadata": {},
   "outputs": [],
   "source": [
    "from skimage import io \n",
    "im = io.imread('/Volumes/Iber/Projects/Bladder_Cancer/Antanas/Segmentations/Segmentations_Franzi/control/MBC19_S5_St1_final.tiff')\n",
    "im = add_padding(im, 1)"
   ]
  },
  {
   "cell_type": "code",
   "execution_count": 3,
   "metadata": {},
   "outputs": [
    {
     "name": "stdout",
     "output_type": "stream",
     "text": [
      "Deleting small cells...\n",
      "Removing unconnected regions...\n"
     ]
    }
   ],
   "source": [
    "obtain_statistics(im)"
   ]
  },
  {
   "cell_type": "code",
   "execution_count": 54,
   "metadata": {},
   "outputs": [
    {
     "data": {
      "text/plain": [
       "<Surface layer 'Surface' at 0x1978c3490>"
      ]
     },
     "execution_count": 54,
     "metadata": {},
     "output_type": "execute_result"
    }
   ],
   "source": [
    "mesh = skimage.measure.marching_cubes(im*(im==448))\n",
    "viewer = napari.view_image(im*(im==448))\n",
    "viewer.add_surface((mesh[0],mesh[1]))"
   ]
  },
  {
   "attachments": {},
   "cell_type": "markdown",
   "metadata": {},
   "source": [
    "### Rough Work"
   ]
  },
  {
   "cell_type": "code",
   "execution_count": 105,
   "metadata": {},
   "outputs": [],
   "source": [
    "ex_im = im*(im==448)\n",
    "\n",
    "statistics = cle.statistics_of_labelled_pixels(None, ex_im)"
   ]
  },
  {
   "cell_type": "code",
   "execution_count": 18,
   "metadata": {},
   "outputs": [
    {
     "data": {
      "text/plain": [
       "61472.0"
      ]
     },
     "execution_count": 18,
     "metadata": {},
     "output_type": "execute_result"
    }
   ],
   "source": [
    "statistics['area'][447]"
   ]
  },
  {
   "cell_type": "code",
   "execution_count": null,
   "metadata": {},
   "outputs": [],
   "source": [
    "viewer = napari.view_image(im)\n",
    "for layer in viewer.layers: layer.scale = [0.3898825, 0.2090064, 0.2090064]"
   ]
  },
  {
   "cell_type": "code",
   "execution_count": 22,
   "metadata": {},
   "outputs": [
    {
     "data": {
      "text/plain": [
       "array([447], dtype=uint32)"
      ]
     },
     "execution_count": 22,
     "metadata": {},
     "output_type": "execute_result"
    }
   ],
   "source": [
    "np.unique(ex_im)[1:]-1\n",
    "\n",
    "\n"
   ]
  },
  {
   "cell_type": "code",
   "execution_count": 40,
   "metadata": {},
   "outputs": [],
   "source": [
    "touch_count_matrix = cle.generate_touch_count_matrix(im)"
   ]
  },
  {
   "cell_type": "code",
   "execution_count": 41,
   "metadata": {},
   "outputs": [
    {
     "data": {
      "text/html": [
       "<table>\n",
       "<tr>\n",
       "<td>\n",
       "<img src=\"data:image/png;base64,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\"></img>\n",
       "</td>\n",
       "<td style=\"text-align: center; vertical-align: top;\">\n",
       "<b><a href=\"https://github.com/clEsperanto/pyclesperanto_prototype\" target=\"_blank\">cle._</a> image</b><br/>\n",
       "<table>\n",
       "<tr><td>shape</td><td>(993,&nbsp;993)</td></tr>\n",
       "<tr><td>dtype</td><td>uint32</td></tr>\n",
       "<tr><td>size</td><td>3.8 MB</td></tr>\n",
       "<tr><td>min</td><td>0.0</td></tr><tr><td>max</td><td>168943.0</td></tr>\n",
       "</table>\n",
       "\n",
       "</td>\n",
       "</tr>\n",
       "</table>"
      ],
      "text/plain": [
       "cl.OCLArray([[   0,    0, 1444, ..., 5583, 3750, 2253],\n",
       "       [   0,    0,    0, ...,    0,    0,    0],\n",
       "       [1444,    0,    0, ...,    0,    0,    0],\n",
       "       ...,\n",
       "       [5583,    0,    0, ...,    0,    0,    0],\n",
       "       [3750,    0,    0, ...,    0,    0, 1072],\n",
       "       [2253,    0,    0, ...,    0, 1072,    0]], dtype=uint32)"
      ]
     },
     "execution_count": 41,
     "metadata": {},
     "output_type": "execute_result"
    }
   ],
   "source": [
    "touch_count_matrix"
   ]
  },
  {
   "cell_type": "code",
   "execution_count": 102,
   "metadata": {},
   "outputs": [],
   "source": [
    "pos = np.unique(im)[1:]"
   ]
  },
  {
   "cell_type": "code",
   "execution_count": 64,
   "metadata": {},
   "outputs": [
    {
     "data": {
      "text/plain": [
       "array([  2,   6,  14,  15,  16,  17,  19,  22,  23,  27,  29,  30,  31,\n",
       "        32,  33,  34,  35,  36,  37,  38,  39,  40,  41,  43,  44,  47,\n",
       "        48,  49,  50,  51,  54,  58,  61,  62,  63,  64,  65,  67,  68,\n",
       "        69,  70,  71,  72,  73,  76,  77,  79,  80,  81,  82,  83,  87,\n",
       "        90,  92,  94,  95,  96,  99, 100, 101, 102, 103, 104, 108, 115,\n",
       "       117, 118, 119, 120, 121, 124, 127, 128, 129, 131, 134, 135, 136,\n",
       "       138, 139, 142, 143, 144, 145, 147, 149, 150, 152, 153, 155, 156,\n",
       "       158, 159, 162, 163, 164, 165, 166, 167, 172, 174, 175, 177, 178,\n",
       "       179, 181, 182, 183, 184, 185, 186, 188, 189, 190, 194, 195, 198,\n",
       "       199, 200, 201, 202, 203, 204, 205, 206, 207, 210, 211, 212, 213,\n",
       "       214, 216, 218, 221, 222, 223, 225, 226, 227, 228, 229, 231, 232,\n",
       "       236, 237, 238, 239, 240, 242, 247, 248, 251, 252, 254, 255, 256,\n",
       "       258, 259, 263, 264, 265, 266, 267, 268, 271, 275, 277, 278, 280,\n",
       "       282, 283, 287, 288, 289, 293, 294, 295, 296, 298, 299, 300, 301,\n",
       "       303, 304, 305, 306, 309, 310, 311, 312, 316, 317, 318, 319, 321,\n",
       "       324, 325, 328, 329, 330, 332, 334, 335, 336, 337, 339, 341, 343,\n",
       "       346, 348, 349, 351, 352, 356, 357, 358, 361, 362, 363, 364, 365,\n",
       "       366, 367, 368, 369, 371, 375, 378, 380, 381, 382, 384, 386, 389,\n",
       "       390, 393, 395, 396, 397, 401, 402, 404, 405, 406, 408, 409, 410,\n",
       "       412, 413, 414, 417, 418, 419, 420, 421, 422, 423, 424, 426, 427,\n",
       "       429, 430, 431, 432, 433, 434, 435, 437, 438, 439, 441, 443, 445,\n",
       "       446, 447, 448, 449, 450, 451, 456, 457, 458, 459, 462, 463, 464,\n",
       "       465, 466, 468, 469, 470, 471, 473, 475, 477, 479, 480, 481, 482,\n",
       "       483, 487, 489, 492, 493, 494, 496, 498, 500, 501, 502, 503, 504,\n",
       "       505, 508, 509, 511, 513, 515, 516, 519, 520, 521, 524, 527, 528,\n",
       "       529, 532, 533, 534, 535, 536, 537, 538, 539, 541, 542, 544, 545,\n",
       "       546, 547, 550, 551, 552, 553, 555, 557, 560, 561, 562, 563, 564,\n",
       "       566, 567, 570, 573, 574, 575, 576, 578, 579, 580, 582, 583, 585,\n",
       "       586, 587, 588, 590, 591, 593, 594, 595, 596, 597, 598, 600, 601,\n",
       "       602, 603, 605, 607, 610, 613, 614, 616, 617, 619, 620, 621, 622,\n",
       "       623, 625, 626, 628, 633, 635, 637, 639, 640, 641, 642, 643, 644,\n",
       "       645, 647, 648, 649, 652, 653, 654, 656, 657, 658, 659, 661, 662,\n",
       "       665, 666, 667, 669, 670, 672, 674, 675, 676, 677, 679, 680, 681,\n",
       "       682, 683, 685, 686, 689, 693, 695, 700, 702, 705, 706, 707, 708,\n",
       "       709, 710, 714, 715, 716, 717, 719, 720, 721, 722, 723, 724, 725,\n",
       "       726, 728, 729, 730, 731, 732, 735, 736, 737, 738, 739, 740, 741,\n",
       "       743, 744, 748, 750, 752, 756, 757, 758, 759, 760, 762, 763, 764,\n",
       "       765, 767, 769, 773, 775, 776, 778, 779, 782, 785, 787, 793, 794,\n",
       "       795, 796, 797, 798, 799, 800, 801, 802, 807, 810, 811, 815, 817,\n",
       "       823, 824, 827, 830, 833, 835, 836, 838, 839, 840, 842, 843, 844,\n",
       "       846, 848, 849, 850, 852, 853, 855, 856, 857, 858, 860, 861, 862,\n",
       "       864, 866, 869, 870, 872, 873, 876, 879, 880, 881, 882, 887, 888,\n",
       "       889, 890, 891, 892, 894, 896, 903, 906, 908, 909, 910, 911, 913,\n",
       "       914, 915, 922, 924, 925, 929, 930, 933, 936, 938, 946, 947, 948,\n",
       "       952, 953, 954, 956, 958, 959, 960, 961, 962, 963, 964, 965, 966,\n",
       "       967, 968, 969, 970, 971, 972, 973, 974, 975, 976, 977, 978, 979,\n",
       "       980, 981, 982, 983, 984, 985, 986, 987, 988, 989, 990, 991, 992],\n",
       "      dtype=uint32)"
      ]
     },
     "execution_count": 64,
     "metadata": {},
     "output_type": "execute_result"
    }
   ],
   "source": [
    "pos"
   ]
  },
  {
   "cell_type": "code",
   "execution_count": 51,
   "metadata": {},
   "outputs": [],
   "source": [
    "touch_matrix = cle.generate_touch_matrix(im)"
   ]
  },
  {
   "cell_type": "code",
   "execution_count": 52,
   "metadata": {},
   "outputs": [
    {
     "data": {
      "text/html": [
       "<pre>cle.array([0. 0. 1. 0. 0. 0. 1. 0. 0. 0. 0. 0. 0. 0. 1. 1. 1. 1. 0. 1. 0. 0. 1. 1.\n",
       " 0. 0. 0. 1. 0. 1. 1. 1. 1. 1. 1. 1. 1. 1. 1. 1. 1. 1. 0. 1. 1. 0. 0. 1.\n",
       " 1. 1. 1. 1. 0. 0. 1. 0. 0. 0. 1. 0. 0. 1. 1. 1. 0. 1. 0. 1. 1. 1. 1. 1.\n",
       " 1. 1. 0. 0. 0. 1. 0. 1. 0. 1. 1. 1. 0. 0. 0. 1. 0. 0. 1. 0. 1. 0. 1. 1.\n",
       " 1. 0. 0. 1. 1. 1. 1. 1. 1. 0. 0. 0. 1. 0. 0. 0. 0. 0. 0. 0. 0. 1. 1. 1.\n",
       " 1. 1. 0. 0. 1. 0. 0. 1. 1. 1. 0. 0. 0. 0. 1. 1. 1. 0. 1. 0. 0. 0. 1. 1.\n",
       " 1. 0. 0. 1. 0. 0. 1. 0. 1. 1. 0. 1. 1. 0. 1. 1. 0. 0. 1. 1. 1. 1. 0. 1.\n",
       " 0. 0. 0. 0. 0. 0. 1. 0. 0. 1. 1. 1. 0. 1. 1. 1. 1. 1. 1. 0. 1. 1. 1. 0.\n",
       " 0. 0. 1. 0. 0. 0. 1. 0. 1. 1. 1. 1. 1. 1. 1. 1. 0. 0. 1. 1. 1. 1. 0. 0.\n",
       " 1. 0. 1. 0. 0. 1. 1. 0. 0. 1. 1. 0. 1. 1. 0. 0. 1. 0. 0. 0. 1. 0. 1. 1.\n",
       " 0. 0. 1. 0. 0. 0. 0. 1. 1. 0. 0. 1. 1. 0. 0. 0. 1. 0. 0. 1. 0. 0. 0. 1.\n",
       " 1. 1. 1. 1. 1. 0. 0. 1. 0. 0. 0. 0. 0. 1. 1. 0. 1. 0. 0. 1. 0. 0. 0. 0.\n",
       " 1. 1. 0. 0. 0. 1. 0. 0. 1. 0. 1. 1. 0. 0. 0. 1. 1. 1. 1. 0. 0. 1. 1. 0.\n",
       " 1. 0. 0. 0. 1. 1. 1. 1. 0. 0. 0. 0. 1. 1. 0. 0. 0. 0. 1. 0. 1. 0. 1. 1.\n",
       " 1. 1. 0. 1. 0. 1. 0. 1. 0. 0. 1. 0. 1. 0. 0. 0. 1. 0. 0. 0. 1. 1. 1. 0.\n",
       " 0. 1. 1. 1. 1. 1. 1. 1. 1. 0. 0. 1. 0. 0. 0. 1. 0. 0. 1. 0. 1. 0. 1. 0.\n",
       " 1. 0. 1. 0. 0. 1. 1. 0. 0. 1. 0. 1. 1. 1. 0. 0. 0. 1. 1. 0. 1. 1. 1. 0.\n",
       " 0. 1. 1. 0. 1. 0. 1. 0. 0. 1. 1. 1. 0. 0. 1. 1. 0. 0. 0. 0. 0. 1. 0. 1.\n",
       " 1. 1. 1. 1. 0. 1. 1. 1. 0. 1. 0. 1. 0. 1. 1. 1. 1. 1. 1. 1. 0. 0. 0. 0.\n",
       " 0. 0. 1. 1. 0. 0. 0. 1. 1. 1. 1. 0. 1. 1. 1. 1. 0. 1. 0. 1. 0. 1. 0. 1.\n",
       " 1. 1. 1. 0. 0. 0. 0. 1. 0. 1. 0. 0. 0. 1. 1. 0. 0. 0. 1. 0. 1. 1. 0. 0.\n",
       " 1. 1. 0. 0. 0. 1. 0. 0. 0. 1. 0. 1. 1. 0. 0. 1. 1. 0. 0. 0. 1. 0. 0. 1.\n",
       " 1. 1. 0. 0. 1. 1. 1. 0. 1. 1. 1. 1. 0. 1. 1. 0. 0. 1. 0. 1. 0. 0. 1. 1.\n",
       " 1. 1. 0. 1. 0. 1. 0. 0. 0. 1. 1. 1. 1. 0. 0. 1. 0. 0. 1. 0. 0. 1. 1. 1.\n",
       " 0. 0. 1. 1. 1. 0. 0. 1. 0. 0. 1. 1. 1. 0. 0. 1. 0. 1. 1. 0. 0. 1. 1. 0.\n",
       " 0. 1. 0. 0. 0. 1. 0. 1. 0. 0. 0. 0. 0. 1. 1. 0. 1. 1. 0. 1. 0. 1. 1. 1.\n",
       " 0. 0. 1. 0. 1. 0. 0. 0. 0. 1. 0. 0. 0. 1. 0. 1. 0. 1. 0. 1. 0. 0. 0. 1.\n",
       " 1. 1. 0. 0. 1. 1. 1. 0. 1. 1. 1. 0. 0. 1. 1. 0. 0. 1. 0. 0. 0. 1. 0. 0.\n",
       " 0. 0. 1. 1. 0. 1. 0. 0. 1. 1. 1. 1. 0. 1. 0. 0. 0. 1. 0. 0. 0. 1. 0. 1.\n",
       " 0. 0. 0. 0. 1. 0. 1. 0. 0. 1. 1. 0. 0. 1. 0. 0. 0. 0. 0. 0. 1. 0. 0. 1.\n",
       " 1. 0. 1. 0. 1. 1. 1. 0. 1. 1. 1. 1. 1. 0. 0. 0. 1. 1. 0. 0. 1. 0. 0. 1.\n",
       " 0. 0. 0. 0. 0. 0. 1. 0. 1. 0. 0. 0. 1. 1. 0. 1. 1. 0. 0. 1. 0. 1. 0. 1.\n",
       " 0. 1. 0. 0. 0. 0. 0. 1. 1. 0. 1. 1. 0. 0. 1. 0. 0. 1. 0. 1. 0. 0. 0. 0.\n",
       " 0. 1. 1. 1. 1. 0. 1. 1. 1. 1. 1. 0. 0. 0. 0. 1. 0. 0. 1. 1. 0. 0. 0. 1.\n",
       " 0. 0. 0. 0. 0. 0. 0. 1. 0. 0. 0. 1. 0. 0. 1. 0. 0. 1. 0. 1. 0. 0. 1. 1.\n",
       " 1. 0. 1. 1. 1. 0. 1. 0. 1. 1. 1. 0. 1. 1. 0. 1. 1. 1. 1. 0. 1. 1. 1. 0.\n",
       " 0. 0. 1. 0. 0. 0. 1. 0. 1. 1. 0. 0. 1. 0. 0. 0. 1. 1. 1. 0. 0. 0. 0. 1.\n",
       " 1. 1. 1. 0. 0. 0. 1. 0. 1. 0. 0. 0. 0. 0. 0. 1. 0. 0. 1. 0. 1. 1. 0. 1.\n",
       " 0. 0. 1. 1. 0. 0. 0. 0. 0. 0. 1. 0. 1. 1. 0. 0. 0. 1. 1. 0. 0. 1. 0. 0.\n",
       " 1. 0. 1. 0. 0. 0. 0. 0. 0. 0. 1. 1. 1. 0. 0. 0. 1. 1. 1. 0. 1. 0. 1. 1.\n",
       " 1. 1. 1. 1. 1. 1. 1. 1. 1. 1. 1. 1. 1. 1. 1. 1. 1. 1. 1. 1. 1. 1. 1. 1.\n",
       " 1. 1. 1. 1. 1. 1. 1. 1. 1.], dtype=float32)</pre>"
      ],
      "text/plain": [
       "cl.OCLArray([0., 0., 1., 0., 0., 0., 1., 0., 0., 0., 0., 0., 0., 0., 1., 1., 1.,\n",
       "       1., 0., 1., 0., 0., 1., 1., 0., 0., 0., 1., 0., 1., 1., 1., 1., 1.,\n",
       "       1., 1., 1., 1., 1., 1., 1., 1., 0., 1., 1., 0., 0., 1., 1., 1., 1.,\n",
       "       1., 0., 0., 1., 0., 0., 0., 1., 0., 0., 1., 1., 1., 0., 1., 0., 1.,\n",
       "       1., 1., 1., 1., 1., 1., 0., 0., 0., 1., 0., 1., 0., 1., 1., 1., 0.,\n",
       "       0., 0., 1., 0., 0., 1., 0., 1., 0., 1., 1., 1., 0., 0., 1., 1., 1.,\n",
       "       1., 1., 1., 0., 0., 0., 1., 0., 0., 0., 0., 0., 0., 0., 0., 1., 1.,\n",
       "       1., 1., 1., 0., 0., 1., 0., 0., 1., 1., 1., 0., 0., 0., 0., 1., 1.,\n",
       "       1., 0., 1., 0., 0., 0., 1., 1., 1., 0., 0., 1., 0., 0., 1., 0., 1.,\n",
       "       1., 0., 1., 1., 0., 1., 1., 0., 0., 1., 1., 1., 1., 0., 1., 0., 0.,\n",
       "       0., 0., 0., 0., 1., 0., 0., 1., 1., 1., 0., 1., 1., 1., 1., 1., 1.,\n",
       "       0., 1., 1., 1., 0., 0., 0., 1., 0., 0., 0., 1., 0., 1., 1., 1., 1.,\n",
       "       1., 1., 1., 1., 0., 0., 1., 1., 1., 1., 0., 0., 1., 0., 1., 0., 0.,\n",
       "       1., 1., 0., 0., 1., 1., 0., 1., 1., 0., 0., 1., 0., 0., 0., 1., 0.,\n",
       "       1., 1., 0., 0., 1., 0., 0., 0., 0., 1., 1., 0., 0., 1., 1., 0., 0.,\n",
       "       0., 1., 0., 0., 1., 0., 0., 0., 1., 1., 1., 1., 1., 1., 0., 0., 1.,\n",
       "       0., 0., 0., 0., 0., 1., 1., 0., 1., 0., 0., 1., 0., 0., 0., 0., 1.,\n",
       "       1., 0., 0., 0., 1., 0., 0., 1., 0., 1., 1., 0., 0., 0., 1., 1., 1.,\n",
       "       1., 0., 0., 1., 1., 0., 1., 0., 0., 0., 1., 1., 1., 1., 0., 0., 0.,\n",
       "       0., 1., 1., 0., 0., 0., 0., 1., 0., 1., 0., 1., 1., 1., 1., 0., 1.,\n",
       "       0., 1., 0., 1., 0., 0., 1., 0., 1., 0., 0., 0., 1., 0., 0., 0., 1.,\n",
       "       1., 1., 0., 0., 1., 1., 1., 1., 1., 1., 1., 1., 0., 0., 1., 0., 0.,\n",
       "       0., 1., 0., 0., 1., 0., 1., 0., 1., 0., 1., 0., 1., 0., 0., 1., 1.,\n",
       "       0., 0., 1., 0., 1., 1., 1., 0., 0., 0., 1., 1., 0., 1., 1., 1., 0.,\n",
       "       0., 1., 1., 0., 1., 0., 1., 0., 0., 1., 1., 1., 0., 0., 1., 1., 0.,\n",
       "       0., 0., 0., 0., 1., 0., 1., 1., 1., 1., 1., 0., 1., 1., 1., 0., 1.,\n",
       "       0., 1., 0., 1., 1., 1., 1., 1., 1., 1., 0., 0., 0., 0., 0., 0., 1.,\n",
       "       1., 0., 0., 0., 1., 1., 1., 1., 0., 1., 1., 1., 1., 0., 1., 0., 1.,\n",
       "       0., 1., 0., 1., 1., 1., 1., 0., 0., 0., 0., 1., 0., 1., 0., 0., 0.,\n",
       "       1., 1., 0., 0., 0., 1., 0., 1., 1., 0., 0., 1., 1., 0., 0., 0., 1.,\n",
       "       0., 0., 0., 1., 0., 1., 1., 0., 0., 1., 1., 0., 0., 0., 1., 0., 0.,\n",
       "       1., 1., 1., 0., 0., 1., 1., 1., 0., 1., 1., 1., 1., 0., 1., 1., 0.,\n",
       "       0., 1., 0., 1., 0., 0., 1., 1., 1., 1., 0., 1., 0., 1., 0., 0., 0.,\n",
       "       1., 1., 1., 1., 0., 0., 1., 0., 0., 1., 0., 0., 1., 1., 1., 0., 0.,\n",
       "       1., 1., 1., 0., 0., 1., 0., 0., 1., 1., 1., 0., 0., 1., 0., 1., 1.,\n",
       "       0., 0., 1., 1., 0., 0., 1., 0., 0., 0., 1., 0., 1., 0., 0., 0., 0.,\n",
       "       0., 1., 1., 0., 1., 1., 0., 1., 0., 1., 1., 1., 0., 0., 1., 0., 1.,\n",
       "       0., 0., 0., 0., 1., 0., 0., 0., 1., 0., 1., 0., 1., 0., 1., 0., 0.,\n",
       "       0., 1., 1., 1., 0., 0., 1., 1., 1., 0., 1., 1., 1., 0., 0., 1., 1.,\n",
       "       0., 0., 1., 0., 0., 0., 1., 0., 0., 0., 0., 1., 1., 0., 1., 0., 0.,\n",
       "       1., 1., 1., 1., 0., 1., 0., 0., 0., 1., 0., 0., 0., 1., 0., 1., 0.,\n",
       "       0., 0., 0., 1., 0., 1., 0., 0., 1., 1., 0., 0., 1., 0., 0., 0., 0.,\n",
       "       0., 0., 1., 0., 0., 1., 1., 0., 1., 0., 1., 1., 1., 0., 1., 1., 1.,\n",
       "       1., 1., 0., 0., 0., 1., 1., 0., 0., 1., 0., 0., 1., 0., 0., 0., 0.,\n",
       "       0., 0., 1., 0., 1., 0., 0., 0., 1., 1., 0., 1., 1., 0., 0., 1., 0.,\n",
       "       1., 0., 1., 0., 1., 0., 0., 0., 0., 0., 1., 1., 0., 1., 1., 0., 0.,\n",
       "       1., 0., 0., 1., 0., 1., 0., 0., 0., 0., 0., 1., 1., 1., 1., 0., 1.,\n",
       "       1., 1., 1., 1., 0., 0., 0., 0., 1., 0., 0., 1., 1., 0., 0., 0., 1.,\n",
       "       0., 0., 0., 0., 0., 0., 0., 1., 0., 0., 0., 1., 0., 0., 1., 0., 0.,\n",
       "       1., 0., 1., 0., 0., 1., 1., 1., 0., 1., 1., 1., 0., 1., 0., 1., 1.,\n",
       "       1., 0., 1., 1., 0., 1., 1., 1., 1., 0., 1., 1., 1., 0., 0., 0., 1.,\n",
       "       0., 0., 0., 1., 0., 1., 1., 0., 0., 1., 0., 0., 0., 1., 1., 1., 0.,\n",
       "       0., 0., 0., 1., 1., 1., 1., 0., 0., 0., 1., 0., 1., 0., 0., 0., 0.,\n",
       "       0., 0., 1., 0., 0., 1., 0., 1., 1., 0., 1., 0., 0., 1., 1., 0., 0.,\n",
       "       0., 0., 0., 0., 1., 0., 1., 1., 0., 0., 0., 1., 1., 0., 0., 1., 0.,\n",
       "       0., 1., 0., 1., 0., 0., 0., 0., 0., 0., 0., 1., 1., 1., 0., 0., 0.,\n",
       "       1., 1., 1., 0., 1., 0., 1., 1., 1., 1., 1., 1., 1., 1., 1., 1., 1.,\n",
       "       1., 1., 1., 1., 1., 1., 1., 1., 1., 1., 1., 1., 1., 1., 1., 1., 1.,\n",
       "       1., 1., 1., 1., 1., 1., 1.], dtype=float32)"
      ]
     },
     "execution_count": 52,
     "metadata": {},
     "output_type": "execute_result"
    }
   ],
   "source": [
    "touch_matrix[0]"
   ]
  },
  {
   "cell_type": "code",
   "execution_count": 93,
   "metadata": {},
   "outputs": [],
   "source": [
    "touch_matrix = cle.generate_touch_matrix(ex_im)\n",
    "touch_matrix = np.array(touch_matrix)\n",
    "reduced_touch_matrix = np.array([touch_matrix[i][1:].sum() for i in pos])\n",
    "neighbours_arr = np.asarray(reduced_touch_matrix)[1:, ].sum(axis=0)"
   ]
  },
  {
   "cell_type": "code",
   "execution_count": 103,
   "metadata": {},
   "outputs": [],
   "source": [
    "touch_count_matrix = np.array(cle.generate_touch_count_matrix(im))\n",
    "reduced_count_matrix = np.array([touch_count_matrix[i][1:].sum() for i in pos])\n",
    "#neighbour_touch = reduced_count_matrix[1:,].sum(axis=1)[1:]"
   ]
  },
  {
   "cell_type": "code",
   "execution_count": 104,
   "metadata": {},
   "outputs": [
    {
     "data": {
      "text/plain": [
       "array([  2066,  20616,   4753,  19886,  14389,   5105,   3988,  16037,\n",
       "        20211,  16069,  15444,   7352,   4640,  10263,  16712,  12642,\n",
       "        11408,   2243,  14103,   2636,  21242,   9209,   6230,   4131,\n",
       "         7346,   6111,   3067,   4349,   3852,   1656,  11547,  12847,\n",
       "        23635,  10378,  14102,  13368,  17075,  14573,  10505,  17107,\n",
       "         5451,  33077,  12132,   5257,  41404,  37940,  30793,  18608,\n",
       "         9197,  15386,  24891,   8726,  16723,   8614,  46475,  26416,\n",
       "        18248,    144,  13795,   2293,  15816,   9818,  27222,  14866,\n",
       "        38980,  12106,  16761,  20147,  27094,  18815,  23041,  13980,\n",
       "         2221,  10558,  31172,  13801,  21626,   4611,  10947,  48240,\n",
       "        14219,  11410,  49538,  23154,  12362,  46118,  16580,  38412,\n",
       "        17032,  13760,  12530,  24178,  18268,  13880,   2754,  10590,\n",
       "        18196,  12334,  15653,  30874,  26851,  14742,  16174,   1886,\n",
       "        10152,  16536,  46451,  10270,  24269,   2954,  13801,  16558,\n",
       "         9734,  10093,  14884,  17356,   8040,    736,  13876,   2990,\n",
       "        17613,  39101,    163,  29373,  12151,  14629,  18182,  14330,\n",
       "        26342,  16180,  12280,   1032,  10574,  35254,   6644,  25002,\n",
       "        22802,  10285,  25784,  10881,      0,  22396,  11345,    752,\n",
       "        16464,  11072,  16054,  29370,  12676,  16273,  14271,  12558,\n",
       "        16683,  25762,  14364,  16533,  16524,  11824,  10864,      0,\n",
       "            0,   6580,  11707,  30284,   7523,  21440,  14689,   1383,\n",
       "        14842,  25434,  12048,  18334,  17848,  23241,  12022,  13708,\n",
       "        16966,  15415,  19005,   3443,  51586,  33088,  15197,   6865,\n",
       "         8379,  15964,   8737,  13374,  41642,   1136,  49698,  20804,\n",
       "         3855,  14903,  17968,  28513,  20585,  23862,  42360,  14290,\n",
       "        15040,  13989,  23810,   8660,   6042,   2293,   9840,  10638,\n",
       "         9127,  19107,  16784,  27056,   9979,  13705,  35899,  24267,\n",
       "        10488,  14837,  11052,  15013,  24905,   5249,  23365,  15086,\n",
       "        19572,  11322,   3066,   2752,   2383,  14762,  10881,  11649,\n",
       "        14190,  11805,  22564,  44192,  16733,  14290,  13181,  17579,\n",
       "        14931,  18988,   5515,  19666,  43336,  15810,  13549,  12989,\n",
       "        23352,  43829,   1158,   9634,   9283,  15522,  22240,  14069,\n",
       "         6910,  15104,  20718,  22378,  12972,  16984,   2867,  11975,\n",
       "         8916,  55989,  13024,  17860,  21915,  17280,  12071,   6166,\n",
       "        13806,  14345,   2724,   8544,   7551,   9434,   5980,  26112,\n",
       "        15176,  40091,  11435,  15076,  10044,   9755,   5071, 200039,\n",
       "        17648,  23153,   9366,  10696,  19284,  11563,  12675,  20522,\n",
       "        26977,  14286,  17006,  24622,  18412,  12547,  20078,   9312,\n",
       "        10615,  21510,  12639,  14191,  10808,  19872,  16360,  32291,\n",
       "        17412,  16602,  50254,  17122,  13899,  17595,  15344,   9029,\n",
       "         8427,  18602,   6015,  19541,   8964,   2097,   4774,  43022,\n",
       "        11724,   1398,  12791,   9213,  22718,   9760,  19633,   9445,\n",
       "        19632,  15732,  21896,  10681,  15155,      9,   9296,  13584,\n",
       "         4631,  44913,  44524,  14191,  19552,  14353,  10546,  24336,\n",
       "        10080,  16746,  12980,  20892,  12070,  15124,   2880,  86096,\n",
       "        11509,  13554,  16238,  19164,  20077,  10557,   6155,  21712,\n",
       "        17955,  43027,  23431,  14010,  24312,  11153,   9975,  28486,\n",
       "        14229,  25672,  26370,  15394,  13982,  17122,  17519,   9176,\n",
       "        11278,  21932,   5922,  20852,  11634,   6114,  10099,  14858,\n",
       "        17758,  10395,   9077,   1492,   4240,  10213,  36516,   9970,\n",
       "        24816,  22884,  41492,  16024,  47550,  11650,  23208,  14732,\n",
       "            0,  10100,  11708,  13719,  13177,  17232,  11824,  17282,\n",
       "        22525,  23950,  18026,  15935,  22946,  22636,  15982,   9140,\n",
       "        12660,   6567,  14198,  10257,  25509,   9574,   2892,  17864,\n",
       "        19598,  18029,   9869,  15790,   9888,  19454,  10527,   8145,\n",
       "        39912,  24392,  17114,  17996,  25244,  24476,  17994,   1376,\n",
       "        10835,  16121,   1112,  16066,  18790,  10937,  10178,  19058,\n",
       "        16482,  31833,  11165,   5424,  38476,    270, 171090,   6805,\n",
       "        22504,  15466,  14313,  20788,   8440,  15268,  16840,  54566,\n",
       "        10990,  17223,  12575,  17578,    485,  15218,  48832,   2768,\n",
       "        22458,   5847,  12114,  13789,  23930,  23430,  20114,  27427,\n",
       "        11310,  10696,  12925,  21618,  15117,  16012,   4733,  13094,\n",
       "        17490,  31285,  16378,  16175,    545,  42065,   2066,  12760,\n",
       "        14398,  13689,  23820,  10290,  15378,   9271,   1127,  10009,\n",
       "         9543,  39758,  14966,  18569,  21711,  47997,  42051,   4757,\n",
       "       107722,  37249,  59803,  76015,  12712,  52943,   5274,   9901,\n",
       "        12448,  13929,   3140,   3408,  15778,  17358,  50895,  34148,\n",
       "        10927,  24582,   4702,  11962,  36282,  16240,  15873,   3917,\n",
       "        11992,   8976,  19941,  57825,  15398,  16544,  11366,   9982,\n",
       "        12033,  20762,  14909,  28365,  13526,  16612,  30276,    562,\n",
       "        34454,  44339,  54741,    264,  11253,   7125,  10836,   6306,\n",
       "       115141,   8320,   1442,  26572, 105280,  23618,  45535,   7377,\n",
       "         6509,  34834,  11997,  17830,   5931,  11971,  17952,  16228,\n",
       "        13866,  15120,  19524,  15599,   4621,  10822,  15950,  21352,\n",
       "        14175,  18810,  13279,   6660,   4328,   3106,   4344,  26243,\n",
       "         8280,   5967,   5725,  10922,   3278,   2070,   5915,   5661,\n",
       "         7265,   6316,   2569], dtype=uint64)"
      ]
     },
     "execution_count": 104,
     "metadata": {},
     "output_type": "execute_result"
    }
   ],
   "source": [
    "reduced_count_matrix"
   ]
  },
  {
   "cell_type": "code",
   "execution_count": 28,
   "metadata": {},
   "outputs": [
    {
     "data": {
      "text/plain": [
       "449"
      ]
     },
     "execution_count": 28,
     "metadata": {},
     "output_type": "execute_result"
    }
   ],
   "source": [
    "np.size(reduced_touch_matrix)"
   ]
  },
  {
   "cell_type": "code",
   "execution_count": 46,
   "metadata": {},
   "outputs": [
    {
     "data": {
      "text/plain": [
       "array([448], dtype=uint32)"
      ]
     },
     "execution_count": 46,
     "metadata": {},
     "output_type": "execute_result"
    }
   ],
   "source": [
    "pos"
   ]
  },
  {
   "cell_type": "code",
   "execution_count": 69,
   "metadata": {},
   "outputs": [
    {
     "ename": "NameError",
     "evalue": "name 'touch_count_matrix' is not defined",
     "output_type": "error",
     "traceback": [
      "\u001b[0;31m---------------------------------------------------------------------------\u001b[0m",
      "\u001b[0;31mNameError\u001b[0m                                 Traceback (most recent call last)",
      "Cell \u001b[0;32mIn[69], line 1\u001b[0m\n\u001b[0;32m----> 1\u001b[0m np\u001b[39m.\u001b[39marray([touch_count_matrix[a] \u001b[39mfor\u001b[39;00m a \u001b[39min\u001b[39;00m pos])\n",
      "Cell \u001b[0;32mIn[69], line 1\u001b[0m, in \u001b[0;36m<listcomp>\u001b[0;34m(.0)\u001b[0m\n\u001b[0;32m----> 1\u001b[0m np\u001b[39m.\u001b[39marray([touch_count_matrix[a] \u001b[39mfor\u001b[39;00m a \u001b[39min\u001b[39;00m pos])\n",
      "\u001b[0;31mNameError\u001b[0m: name 'touch_count_matrix' is not defined"
     ]
    }
   ],
   "source": [
    "np.array([touch_count_matrix[a] for a in pos])"
   ]
  },
  {
   "cell_type": "code",
   "execution_count": 71,
   "metadata": {},
   "outputs": [
    {
     "data": {
      "text/plain": [
       "array([  6408,  26712,  19366,   7272,   4860,  19456,  24016,  19384,\n",
       "        20258,  10268,   5410,  15246,  20656,  20244,  15382,   3232,\n",
       "        15308,   3410,  22550,  13046,   8796,   5798,   9308,   8376,\n",
       "         5064,   7882,  11458,   2700,  15074,  16270,  23980,  16002,\n",
       "        23516,  13368,  17924,  17114,  14146,  20334,   8250,  39952,\n",
       "        14230,   8542,  41404,  37958,  35078,  18608,  11602,  15816,\n",
       "        33722,  14876,  16724,  10756,  46502,  28164,  28398,    942,\n",
       "        20308,   3320,  17216,  12422,  30178,  16676,  38980,  14716,\n",
       "        21594,  23198,  27100,  19802,  34166,  15192,   3040,  13178,\n",
       "        31172,  19254,  21762,  12292,  15024,  48240,  15892,  14534,\n",
       "        49822,  23154,  14612,  46118,  25350,  38918,  18652,  15212,\n",
       "        14902,  30720,  19202,  18236,   4026,  13572,  27418,  12334,\n",
       "        20396,  30874,  29564,  14742,  16398,   6896,  14118,  21702,\n",
       "        49064,  14782,  27166,   4938,  18594,  17032,  15514,  14372,\n",
       "        16924,  17356,  12266,    736,  18646,   7250,  18126,  39106,\n",
       "         7764,  30432,  14596,  15808,  18348,  16002,  31190,  19912,\n",
       "        12280,   1648,  13056,  37612,   8738,  25002,  29086,  13812,\n",
       "        25784,  14966,     22,  22396,  14580,   1252,  16464,  14228,\n",
       "        19356,  29370,  17728,  20368,  14356,  16574,  21476,  25762,\n",
       "        14364,  18562,  16524,  14488,  13218,     32,     30,  12418,\n",
       "        16010,  30294,  10284,  21440,  15790,   5724,  18912,  25434,\n",
       "        15944,  18334,  21202,  23244,  13880,  13708,  16966,  18644,\n",
       "        19446,   9774,  51586,  33088,  16048,  10742,  14306,  20890,\n",
       "        12252,  15508,  41642,   8538,  49706,  21538,   5424,  18028,\n",
       "        17968,  28518,  24858,  23862,  42360,  14906,  16478,  15364,\n",
       "        23820,  10424,  12512,   3850,  12434,  14942,  11296,  19266,\n",
       "        16784,  27056,  14178,  15538,  38644,  31408,  12740,  18870,\n",
       "        13752,  20816,  26040,   9314,  31420,  15380,  19572,  13604,\n",
       "         7404,  13554,   2900,  14762,  14780,  12790,  14192,  14006,\n",
       "        22572,  44254,  16736,  14832,  18010,  18044,  14934,  23570,\n",
       "         8790,  19672,  43336,  22378,  14958,  15100,  23352,  43916,\n",
       "         3028,  13296,  13182,  15522,  22240,  14200,  15664,  15104,\n",
       "        20718,  22378,  14238,  16984,   9128,  14864,  15890,  56434,\n",
       "        14508,  17882,  21918,  21282,  14028,   9716,  18240,  17168,\n",
       "         4654,  13880,  11698,  12980,   9072,  26112,  15176,  47294,\n",
       "        14804,  15076,  13988,  14570,  11470, 368982,  17698,  23158,\n",
       "        13236,  14516,  19700,  15812,  17694,  20538,  26980,  15998,\n",
       "        21464,  24622,  21434,  14364,  20078,  11476,  12448,  21510,\n",
       "        16542,  15626,  18714,  19872,  16360,  37300,  24268,  16602,\n",
       "        50262,  17122,  14286,  17730,  16418,  11426,  12642,  18602,\n",
       "         8168,  20624,  14384,   4234,   7000,  69702,  13280,   1398,\n",
       "        14954,  13020,  32628,  12974,  19660,  12854,  19632,  18242,\n",
       "        21896,  14782,  20656,    240,  13438,  16706,   8116,  44924,\n",
       "        44524,  15482,  20412,  15670,  14432,  24336,  13300,  16752,\n",
       "        15540,  25612,  14074,  15124,   4246, 161438,  18956,  13554,\n",
       "        22804,  19164,  20400,  15290,   9116,  21712,  18382,  44908,\n",
       "        23480,  14010,  24312,  14220,  19194,  28486,  17578,  25672,\n",
       "        26370,  17148,  14418,  17122,  17526,  12872,  13982,  29216,\n",
       "         8368,  20852,  13882,   9196,  13386,  14858,  22512,  14966,\n",
       "        13676,   1492,  10112,  14898,  36516,  12882,  24816,  22888,\n",
       "        41492,  16024,  47552,  15706,  24602,  16436,   2696,  12830,\n",
       "        14312,  15178,  14600,  17232,  15720,  19984,  39814,  23950,\n",
       "        18026,  16710,  22946,  22636,  18920,  12236,  12660,  11342,\n",
       "        14198,  12344,  25512,  12508,   7450,  17872,  19598,  20650,\n",
       "        14408,  18220,  12990,  20598,  12400,  11964,  39912,  24392,\n",
       "        17176,  17996,  25244,  24476,  19532,   1376,  14670,  22126,\n",
       "         1112,  17326,  18790,  15426,  13656,  20718,  17636,  39122,\n",
       "        16224,   6594,  38494,    270, 288380,  16858,  22504,  15466,\n",
       "        19426,  20788,  10352,  15268,  16840,  57956,  17596,  17886,\n",
       "        14704,  17578,   1042,  19412,  48832,   3920,  22458,   8612,\n",
       "        15136,  15248,  23930,  23434,  20118,  34778,  14866,  14782,\n",
       "        14456,  28622,  20768,  18552,   6186,  13600,  17490,  32930,\n",
       "        16936,  17672,    676,  42080,   3614,  14472,  22176,  14954,\n",
       "        23820,  11428,  15378,  12924,   1912,  12364,  12462,  39758,\n",
       "        15312,  21008,  30268,  48000,  42066,   6530, 193250,  37256,\n",
       "       102286, 113430,  13556,  52946,   7622,  12852,  12456,  18018,\n",
       "         4518,   4118,  21320,  17358,  50900,  34148,  13398,  30188,\n",
       "         6108,  13110,  36282,  17066,  16610,   6374,  13894,  11334,\n",
       "        20870,  60758,  15398,  16544,  13986,  12392,  12400,  25372,\n",
       "        16040,  42228,  13526,  23762,  30276,    964,  34462,  51340,\n",
       "        55086,    302,  13582,   8986,  13048,   8398, 168930,  16388,\n",
       "         2788,  38784, 156298,  24528,  77852,  11358,  10604,  51136,\n",
       "        14558,  17838,  11576,  17338,  19614,  17226,  16100,  16588,\n",
       "        21420,  15644,   5596,  14846,  16592,  22794,  14824,  21740,\n",
       "        17020,   8830,   7366,   4132,   5938,  31550,  12868,  10818,\n",
       "         7322,  13598,   4044,   2830,   7412,   7082,  12848,  10066,\n",
       "         4822], dtype=uint64)"
      ]
     },
     "execution_count": 71,
     "metadata": {},
     "output_type": "execute_result"
    }
   ],
   "source": [
    "touch_count_matrix = cle.generate_touch_count_matrix(im)\n",
    "\n",
    "reduced_count_matrix = np.array([touch_count_matrix[i] for i in pos])\n",
    "neighbour_touch = reduced_count_matrix[1:,].sum(axis=1)[1:]\n",
    "neighbour_touch"
   ]
  },
  {
   "cell_type": "code",
   "execution_count": 5,
   "metadata": {},
   "outputs": [],
   "source": [
    "regionprops = skimage.measure.regionprops(im)"
   ]
  },
  {
   "cell_type": "code",
   "execution_count": 10,
   "metadata": {},
   "outputs": [
    {
     "data": {
      "text/plain": [
       "134969"
      ]
     },
     "execution_count": 10,
     "metadata": {},
     "output_type": "execute_result"
    }
   ],
   "source": [
    "regionprops[3].area"
   ]
  },
  {
   "cell_type": "code",
   "execution_count": null,
   "metadata": {},
   "outputs": [],
   "source": []
  }
 ],
 "metadata": {
  "kernelspec": {
   "display_name": "napari-env",
   "language": "python",
   "name": "python3"
  },
  "language_info": {
   "codemirror_mode": {
    "name": "ipython",
    "version": 3
   },
   "file_extension": ".py",
   "mimetype": "text/x-python",
   "name": "python",
   "nbconvert_exporter": "python",
   "pygments_lexer": "ipython3",
   "version": "3.9.16"
  },
  "orig_nbformat": 4
 },
 "nbformat": 4,
 "nbformat_minor": 2
}
