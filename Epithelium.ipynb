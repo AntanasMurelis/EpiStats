{
 "cells": [
  {
   "cell_type": "code",
   "execution_count": 7,
   "metadata": {},
   "outputs": [],
   "source": [
    "from EpiStats import obtain_statistics\n",
    "from CubeGen import cube_gen, gen_lattice, cube_filter\n",
    "import numpy as np\n",
    "import napari\n",
    "from PIL import Image as im\n",
    "import pandas as pd\n",
    "import pyclesperanto_prototype as cle\n",
    "import skimage\n",
    "from misc import cube_filter, add_padding\n",
    "import matplotlib.pyplot as plt\n",
    "from PIL import Image"
   ]
  },
  {
   "attachments": {},
   "cell_type": "markdown",
   "metadata": {},
   "source": [
    "##### The epithelium labels (takes a very long time!)"
   ]
  },
  {
   "cell_type": "code",
   "execution_count": null,
   "metadata": {},
   "outputs": [],
   "source": [
    "from skimage import io \n",
    "labels = io.imread('/Volumes/Iber/Projects/Bladder_Cancer/Antanas/Segmentations/Segmentations_Franzi/control/MBC19_S5_St1_final.tiff')\n",
    "obtain_statistics(labels, min_label_vol = 20000)"
   ]
  },
  {
   "attachments": {},
   "cell_type": "markdown",
   "metadata": {},
   "source": [
    "##### The cubes (quick)"
   ]
  },
  {
   "cell_type": "code",
   "execution_count": null,
   "metadata": {},
   "outputs": [],
   "source": [
    "filter = cube_filter()\n",
    "cubes = gen_lattice(x=20, y=10, z=10, \n",
    "                    n_x= 2, n_y=10, n_z=10, \n",
    "                    filter = filter)\n",
    "obtain_statistics(cubes[1], min_label_vol = 100)"
   ]
  },
  {
   "cell_type": "code",
   "execution_count": 54,
   "metadata": {},
   "outputs": [
    {
     "data": {
      "text/plain": [
       "<Surface layer 'Surface' at 0x1978c3490>"
      ]
     },
     "execution_count": 54,
     "metadata": {},
     "output_type": "execute_result"
    }
   ],
   "source": [
    "mesh = skimage.measure.marching_cubes(im*(im==448))\n",
    "viewer = napari.view_image(im*(im==448))\n",
    "viewer.add_surface((mesh[0],mesh[1]))"
   ]
  },
  {
   "attachments": {},
   "cell_type": "markdown",
   "metadata": {},
   "source": [
    "### Rough Work"
   ]
  }
 ],
 "metadata": {
  "kernelspec": {
   "display_name": "napari-env",
   "language": "python",
   "name": "python3"
  },
  "language_info": {
   "codemirror_mode": {
    "name": "ipython",
    "version": 3
   },
   "file_extension": ".py",
   "mimetype": "text/x-python",
   "name": "python",
   "nbconvert_exporter": "python",
   "pygments_lexer": "ipython3",
   "version": "3.9.16"
  },
  "orig_nbformat": 4
 },
 "nbformat": 4,
 "nbformat_minor": 2
}
